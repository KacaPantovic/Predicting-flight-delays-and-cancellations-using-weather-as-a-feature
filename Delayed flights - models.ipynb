{
 "cells": [
  {
   "cell_type": "code",
   "execution_count": 5,
   "metadata": {},
   "outputs": [],
   "source": [
    "import pandas as pd \n",
    "import numpy as np\n",
    "\n",
    "\n",
    "import seaborn as sns\n",
    "import matplotlib.pyplot as plt"
   ]
  },
  {
   "cell_type": "code",
 Jelena_branch
   "execution_count": 2,

   "execution_count": 6,
 main
   "metadata": {},
   "outputs": [],
   "source": [
    "import sklearn\n",
    "from sklearn import preprocessing, linear_model, model_selection, metrics\n"
   ]
  },
  {
   "cell_type": "code",
   "execution_count": 7,
   "metadata": {},
   "outputs": [],
   "source": [
    "df=pd.read_csv('Flight_processed.csv')"
   ]
  },
  {
   "cell_type": "code",
   "execution_count": 8,
   "metadata": {},
   "outputs": [
    {
     "data": {
      "text/html": [
       "<div>\n",
       "<style scoped>\n",
       "    .dataframe tbody tr th:only-of-type {\n",
       "        vertical-align: middle;\n",
       "    }\n",
       "\n",
       "    .dataframe tbody tr th {\n",
       "        vertical-align: top;\n",
       "    }\n",
       "\n",
       "    .dataframe thead th {\n",
       "        text-align: right;\n",
       "    }\n",
       "</style>\n",
       "<table border=\"1\" class=\"dataframe\">\n",
       "  <thead>\n",
       "    <tr style=\"text-align: right;\">\n",
       "      <th></th>\n",
       "      <th>CRSDepTime</th>\n",
       "      <th>ArrTime</th>\n",
       "      <th>CRSArrTime</th>\n",
       "      <th>ActualElapsedTime</th>\n",
       "      <th>ArrDelay</th>\n",
       "      <th>TaxiIn</th>\n",
       "      <th>TaxiOut</th>\n",
       "      <th>CarrierDelay</th>\n",
       "      <th>WeatherDelay</th>\n",
       "      <th>NASDelay</th>\n",
       "      <th>SecurityDelay</th>\n",
       "      <th>LateAircraftDelay</th>\n",
       "      <th>ArrDelay_target</th>\n",
       "      <th>ArrDelay_target2</th>\n",
       "      <th>IsFriday</th>\n",
       "      <th>Is_Feb_Jun_Dec</th>\n",
       "      <th>carrier_avg_delay</th>\n",
       "      <th>origin_avg_delay</th>\n",
       "      <th>dest_avg_delay</th>\n",
       "    </tr>\n",
       "  </thead>\n",
       "  <tbody>\n",
       "    <tr>\n",
       "      <th>0</th>\n",
       "      <td>1955</td>\n",
       "      <td>2211.0</td>\n",
       "      <td>2225</td>\n",
       "      <td>128.0</td>\n",
       "      <td>-14.0</td>\n",
       "      <td>4.0</td>\n",
       "      <td>8.0</td>\n",
       "      <td>19.179399</td>\n",
       "      <td>3.703571</td>\n",
       "      <td>15.021635</td>\n",
       "      <td>0.090137</td>\n",
       "      <td>25.296466</td>\n",
       "      <td>0</td>\n",
       "      <td>0</td>\n",
       "      <td>0.0</td>\n",
       "      <td>0</td>\n",
       "      <td>30.087884</td>\n",
       "      <td>53.531579</td>\n",
       "      <td>35.925260</td>\n",
       "    </tr>\n",
       "    <tr>\n",
       "      <th>1</th>\n",
       "      <td>735</td>\n",
       "      <td>1002.0</td>\n",
       "      <td>1000</td>\n",
       "      <td>128.0</td>\n",
       "      <td>2.0</td>\n",
       "      <td>5.0</td>\n",
       "      <td>10.0</td>\n",
       "      <td>19.179399</td>\n",
       "      <td>3.703571</td>\n",
       "      <td>15.021635</td>\n",
       "      <td>0.090137</td>\n",
       "      <td>25.296466</td>\n",
       "      <td>0</td>\n",
       "      <td>0</td>\n",
       "      <td>0.0</td>\n",
       "      <td>0</td>\n",
       "      <td>30.087884</td>\n",
       "      <td>53.531579</td>\n",
       "      <td>35.925260</td>\n",
       "    </tr>\n",
       "    <tr>\n",
       "      <th>2</th>\n",
       "      <td>620</td>\n",
       "      <td>804.0</td>\n",
       "      <td>750</td>\n",
       "      <td>96.0</td>\n",
       "      <td>14.0</td>\n",
       "      <td>3.0</td>\n",
       "      <td>17.0</td>\n",
       "      <td>19.179399</td>\n",
       "      <td>3.703571</td>\n",
       "      <td>15.021635</td>\n",
       "      <td>0.090137</td>\n",
       "      <td>25.296466</td>\n",
       "      <td>0</td>\n",
       "      <td>0</td>\n",
       "      <td>0.0</td>\n",
       "      <td>0</td>\n",
       "      <td>30.087884</td>\n",
       "      <td>45.835815</td>\n",
       "      <td>35.889979</td>\n",
       "    </tr>\n",
       "    <tr>\n",
       "      <th>3</th>\n",
       "      <td>1755</td>\n",
       "      <td>1959.0</td>\n",
       "      <td>1925</td>\n",
       "      <td>90.0</td>\n",
       "      <td>34.0</td>\n",
       "      <td>3.0</td>\n",
       "      <td>10.0</td>\n",
       "      <td>2.000000</td>\n",
       "      <td>0.000000</td>\n",
       "      <td>0.000000</td>\n",
       "      <td>0.000000</td>\n",
       "      <td>32.000000</td>\n",
       "      <td>1</td>\n",
       "      <td>1</td>\n",
       "      <td>0.0</td>\n",
       "      <td>0</td>\n",
       "      <td>30.087884</td>\n",
       "      <td>45.835815</td>\n",
       "      <td>35.889979</td>\n",
       "    </tr>\n",
       "    <tr>\n",
       "      <th>4</th>\n",
       "      <td>1915</td>\n",
       "      <td>2121.0</td>\n",
       "      <td>2110</td>\n",
       "      <td>101.0</td>\n",
       "      <td>11.0</td>\n",
       "      <td>4.0</td>\n",
       "      <td>10.0</td>\n",
       "      <td>19.179399</td>\n",
       "      <td>3.703571</td>\n",
       "      <td>15.021635</td>\n",
       "      <td>0.090137</td>\n",
       "      <td>25.296466</td>\n",
       "      <td>0</td>\n",
       "      <td>0</td>\n",
       "      <td>0.0</td>\n",
       "      <td>0</td>\n",
       "      <td>30.087884</td>\n",
       "      <td>45.835815</td>\n",
       "      <td>39.358735</td>\n",
       "    </tr>\n",
       "  </tbody>\n",
       "</table>\n",
       "</div>"
      ],
      "text/plain": [
       "   CRSDepTime  ArrTime  CRSArrTime  ActualElapsedTime  ArrDelay  TaxiIn  \\\n",
       "0        1955   2211.0        2225              128.0     -14.0     4.0   \n",
       "1         735   1002.0        1000              128.0       2.0     5.0   \n",
       "2         620    804.0         750               96.0      14.0     3.0   \n",
       "3        1755   1959.0        1925               90.0      34.0     3.0   \n",
       "4        1915   2121.0        2110              101.0      11.0     4.0   \n",
       "\n",
       "   TaxiOut  CarrierDelay  WeatherDelay   NASDelay  SecurityDelay  \\\n",
       "0      8.0     19.179399      3.703571  15.021635       0.090137   \n",
       "1     10.0     19.179399      3.703571  15.021635       0.090137   \n",
       "2     17.0     19.179399      3.703571  15.021635       0.090137   \n",
       "3     10.0      2.000000      0.000000   0.000000       0.000000   \n",
       "4     10.0     19.179399      3.703571  15.021635       0.090137   \n",
       "\n",
       "   LateAircraftDelay  ArrDelay_target  ArrDelay_target2  IsFriday  \\\n",
       "0          25.296466                0                 0       0.0   \n",
       "1          25.296466                0                 0       0.0   \n",
       "2          25.296466                0                 0       0.0   \n",
       "3          32.000000                1                 1       0.0   \n",
       "4          25.296466                0                 0       0.0   \n",
       "\n",
       "   Is_Feb_Jun_Dec  carrier_avg_delay  origin_avg_delay  dest_avg_delay  \n",
       "0               0          30.087884         53.531579       35.925260  \n",
       "1               0          30.087884         53.531579       35.925260  \n",
       "2               0          30.087884         45.835815       35.889979  \n",
       "3               0          30.087884         45.835815       35.889979  \n",
       "4               0          30.087884         45.835815       39.358735  "
      ]
     },
     "execution_count": 8,
     "metadata": {},
     "output_type": "execute_result"
    }
   ],
   "source": [
    "df.head()"
   ]
  },
  {
   "cell_type": "code",
   "execution_count": 9,
   "metadata": {
    "scrolled": true
   },
   "outputs": [
    {
     "data": {
      "text/html": [
       "<div>\n",
       "<style scoped>\n",
       "    .dataframe tbody tr th:only-of-type {\n",
       "        vertical-align: middle;\n",
       "    }\n",
       "\n",
       "    .dataframe tbody tr th {\n",
       "        vertical-align: top;\n",
       "    }\n",
       "\n",
       "    .dataframe thead th {\n",
       "        text-align: right;\n",
       "    }\n",
       "</style>\n",
       "<table border=\"1\" class=\"dataframe\">\n",
       "  <thead>\n",
       "    <tr style=\"text-align: right;\">\n",
       "      <th></th>\n",
       "      <th>CRSDepTime</th>\n",
       "      <th>ArrTime</th>\n",
       "      <th>CRSArrTime</th>\n",
       "      <th>ActualElapsedTime</th>\n",
       "      <th>ArrDelay</th>\n",
       "      <th>TaxiIn</th>\n",
       "      <th>TaxiOut</th>\n",
       "      <th>CarrierDelay</th>\n",
       "      <th>WeatherDelay</th>\n",
       "      <th>NASDelay</th>\n",
       "      <th>SecurityDelay</th>\n",
       "      <th>LateAircraftDelay</th>\n",
       "      <th>ArrDelay_target</th>\n",
       "      <th>ArrDelay_target2</th>\n",
       "      <th>IsFriday</th>\n",
       "      <th>Is_Feb_Jun_Dec</th>\n",
       "      <th>carrier_avg_delay</th>\n",
       "      <th>origin_avg_delay</th>\n",
       "      <th>dest_avg_delay</th>\n",
       "    </tr>\n",
       "  </thead>\n",
       "  <tbody>\n",
       "    <tr>\n",
       "      <th>count</th>\n",
       "      <td>1928368.00</td>\n",
       "      <td>1928368.00</td>\n",
       "      <td>1928368.00</td>\n",
       "      <td>1928368.00</td>\n",
       "      <td>1928368.00</td>\n",
       "      <td>1928368.00</td>\n",
       "      <td>1928368.00</td>\n",
       "      <td>1928368.00</td>\n",
       "      <td>1928368.00</td>\n",
       "      <td>1928368.00</td>\n",
       "      <td>1928368.00</td>\n",
       "      <td>1928368.00</td>\n",
       "      <td>1928368.00</td>\n",
       "      <td>1928368.00</td>\n",
       "      <td>1928368.00</td>\n",
       "      <td>1928368.00</td>\n",
       "      <td>1928368.00</td>\n",
       "      <td>1928368.00</td>\n",
       "      <td>1928368.00</td>\n",
       "    </tr>\n",
       "    <tr>\n",
       "      <th>mean</th>\n",
       "      <td>1467.72</td>\n",
       "      <td>1610.24</td>\n",
       "      <td>1634.20</td>\n",
       "      <td>133.31</td>\n",
       "      <td>42.20</td>\n",
       "      <td>6.81</td>\n",
       "      <td>18.22</td>\n",
       "      <td>19.18</td>\n",
       "      <td>3.70</td>\n",
       "      <td>15.02</td>\n",
       "      <td>0.09</td>\n",
       "      <td>25.30</td>\n",
       "      <td>0.65</td>\n",
       "      <td>0.44</td>\n",
       "      <td>0.17</td>\n",
       "      <td>0.31</td>\n",
       "      <td>42.20</td>\n",
       "      <td>42.20</td>\n",
       "      <td>42.20</td>\n",
       "    </tr>\n",
       "    <tr>\n",
       "      <th>std</th>\n",
       "      <td>424.73</td>\n",
       "      <td>548.00</td>\n",
       "      <td>464.63</td>\n",
       "      <td>72.06</td>\n",
       "      <td>56.78</td>\n",
       "      <td>5.27</td>\n",
       "      <td>14.31</td>\n",
       "      <td>35.02</td>\n",
       "      <td>17.29</td>\n",
       "      <td>27.21</td>\n",
       "      <td>1.63</td>\n",
       "      <td>33.83</td>\n",
       "      <td>0.48</td>\n",
       "      <td>0.50</td>\n",
       "      <td>0.37</td>\n",
       "      <td>0.46</td>\n",
       "      <td>7.66</td>\n",
       "      <td>7.91</td>\n",
       "      <td>8.10</td>\n",
       "    </tr>\n",
       "    <tr>\n",
       "      <th>min</th>\n",
       "      <td>0.00</td>\n",
       "      <td>1.00</td>\n",
       "      <td>0.00</td>\n",
       "      <td>14.00</td>\n",
       "      <td>-109.00</td>\n",
       "      <td>0.00</td>\n",
       "      <td>0.00</td>\n",
       "      <td>0.00</td>\n",
       "      <td>0.00</td>\n",
       "      <td>0.00</td>\n",
       "      <td>0.00</td>\n",
       "      <td>0.00</td>\n",
       "      <td>0.00</td>\n",
       "      <td>0.00</td>\n",
       "      <td>0.00</td>\n",
       "      <td>0.00</td>\n",
       "      <td>21.26</td>\n",
       "      <td>6.00</td>\n",
       "      <td>6.00</td>\n",
       "    </tr>\n",
       "    <tr>\n",
       "      <th>25%</th>\n",
       "      <td>1135.00</td>\n",
       "      <td>1316.00</td>\n",
       "      <td>1325.00</td>\n",
       "      <td>80.00</td>\n",
       "      <td>9.00</td>\n",
       "      <td>4.00</td>\n",
       "      <td>10.00</td>\n",
       "      <td>0.00</td>\n",
       "      <td>0.00</td>\n",
       "      <td>0.00</td>\n",
       "      <td>0.00</td>\n",
       "      <td>0.00</td>\n",
       "      <td>0.00</td>\n",
       "      <td>0.00</td>\n",
       "      <td>0.00</td>\n",
       "      <td>0.00</td>\n",
       "      <td>36.45</td>\n",
       "      <td>36.19</td>\n",
       "      <td>35.91</td>\n",
       "    </tr>\n",
       "    <tr>\n",
       "      <th>50%</th>\n",
       "      <td>1510.00</td>\n",
       "      <td>1715.00</td>\n",
       "      <td>1705.00</td>\n",
       "      <td>116.00</td>\n",
       "      <td>24.00</td>\n",
       "      <td>6.00</td>\n",
       "      <td>14.00</td>\n",
       "      <td>19.18</td>\n",
       "      <td>0.00</td>\n",
       "      <td>15.02</td>\n",
       "      <td>0.00</td>\n",
       "      <td>25.30</td>\n",
       "      <td>1.00</td>\n",
       "      <td>0.00</td>\n",
       "      <td>0.00</td>\n",
       "      <td>0.00</td>\n",
       "      <td>45.30</td>\n",
       "      <td>40.78</td>\n",
       "      <td>40.12</td>\n",
       "    </tr>\n",
       "    <tr>\n",
       "      <th>75%</th>\n",
       "      <td>1815.00</td>\n",
       "      <td>2030.00</td>\n",
       "      <td>2014.00</td>\n",
       "      <td>165.00</td>\n",
       "      <td>56.00</td>\n",
       "      <td>8.00</td>\n",
       "      <td>21.00</td>\n",
       "      <td>19.18</td>\n",
       "      <td>3.70</td>\n",
       "      <td>15.02</td>\n",
       "      <td>0.09</td>\n",
       "      <td>25.30</td>\n",
       "      <td>1.00</td>\n",
       "      <td>1.00</td>\n",
       "      <td>0.00</td>\n",
       "      <td>1.00</td>\n",
       "      <td>47.55</td>\n",
       "      <td>48.28</td>\n",
       "      <td>46.69</td>\n",
       "    </tr>\n",
       "    <tr>\n",
       "      <th>80%</th>\n",
       "      <td>1855.00</td>\n",
       "      <td>2107.00</td>\n",
       "      <td>2049.00</td>\n",
       "      <td>180.00</td>\n",
       "      <td>67.00</td>\n",
       "      <td>9.00</td>\n",
       "      <td>23.00</td>\n",
       "      <td>19.18</td>\n",
       "      <td>3.70</td>\n",
       "      <td>15.02</td>\n",
       "      <td>0.09</td>\n",
       "      <td>26.00</td>\n",
       "      <td>1.00</td>\n",
       "      <td>1.00</td>\n",
       "      <td>0.00</td>\n",
       "      <td>1.00</td>\n",
       "      <td>47.78</td>\n",
       "      <td>50.59</td>\n",
       "      <td>47.90</td>\n",
       "    </tr>\n",
       "    <tr>\n",
       "      <th>90%</th>\n",
       "      <td>2015.00</td>\n",
       "      <td>2226.00</td>\n",
       "      <td>2210.00</td>\n",
       "      <td>233.00</td>\n",
       "      <td>106.00</td>\n",
       "      <td>11.00</td>\n",
       "      <td>32.00</td>\n",
       "      <td>36.00</td>\n",
       "      <td>3.70</td>\n",
       "      <td>27.00</td>\n",
       "      <td>0.09</td>\n",
       "      <td>53.00</td>\n",
       "      <td>1.00</td>\n",
       "      <td>1.00</td>\n",
       "      <td>1.00</td>\n",
       "      <td>1.00</td>\n",
       "      <td>50.18</td>\n",
       "      <td>51.92</td>\n",
       "      <td>57.08</td>\n",
       "    </tr>\n",
       "    <tr>\n",
       "      <th>95%</th>\n",
       "      <td>2115.00</td>\n",
       "      <td>2308.00</td>\n",
       "      <td>2255.00</td>\n",
       "      <td>283.00</td>\n",
       "      <td>148.00</td>\n",
       "      <td>15.00</td>\n",
       "      <td>42.00</td>\n",
       "      <td>65.00</td>\n",
       "      <td>3.70</td>\n",
       "      <td>54.00</td>\n",
       "      <td>0.09</td>\n",
       "      <td>86.00</td>\n",
       "      <td>1.00</td>\n",
       "      <td>1.00</td>\n",
       "      <td>1.00</td>\n",
       "      <td>1.00</td>\n",
       "      <td>55.09</td>\n",
       "      <td>54.27</td>\n",
       "      <td>60.03</td>\n",
       "    </tr>\n",
       "    <tr>\n",
       "      <th>max</th>\n",
       "      <td>2359.00</td>\n",
       "      <td>2400.00</td>\n",
       "      <td>2359.00</td>\n",
       "      <td>1114.00</td>\n",
       "      <td>2461.00</td>\n",
       "      <td>240.00</td>\n",
       "      <td>422.00</td>\n",
       "      <td>2436.00</td>\n",
       "      <td>1352.00</td>\n",
       "      <td>1357.00</td>\n",
       "      <td>392.00</td>\n",
       "      <td>1316.00</td>\n",
       "      <td>1.00</td>\n",
       "      <td>1.00</td>\n",
       "      <td>1.00</td>\n",
       "      <td>1.00</td>\n",
       "      <td>55.29</td>\n",
       "      <td>122.56</td>\n",
       "      <td>77.94</td>\n",
       "    </tr>\n",
       "  </tbody>\n",
       "</table>\n",
       "</div>"
      ],
      "text/plain": [
       "       CRSDepTime     ArrTime  CRSArrTime  ActualElapsedTime    ArrDelay  \\\n",
       "count  1928368.00  1928368.00  1928368.00         1928368.00  1928368.00   \n",
       "mean      1467.72     1610.24     1634.20             133.31       42.20   \n",
       "std        424.73      548.00      464.63              72.06       56.78   \n",
       "min          0.00        1.00        0.00              14.00     -109.00   \n",
       "25%       1135.00     1316.00     1325.00              80.00        9.00   \n",
       "50%       1510.00     1715.00     1705.00             116.00       24.00   \n",
       "75%       1815.00     2030.00     2014.00             165.00       56.00   \n",
       "80%       1855.00     2107.00     2049.00             180.00       67.00   \n",
       "90%       2015.00     2226.00     2210.00             233.00      106.00   \n",
       "95%       2115.00     2308.00     2255.00             283.00      148.00   \n",
       "max       2359.00     2400.00     2359.00            1114.00     2461.00   \n",
       "\n",
       "           TaxiIn     TaxiOut  CarrierDelay  WeatherDelay    NASDelay  \\\n",
       "count  1928368.00  1928368.00    1928368.00    1928368.00  1928368.00   \n",
       "mean         6.81       18.22         19.18          3.70       15.02   \n",
       "std          5.27       14.31         35.02         17.29       27.21   \n",
       "min          0.00        0.00          0.00          0.00        0.00   \n",
       "25%          4.00       10.00          0.00          0.00        0.00   \n",
       "50%          6.00       14.00         19.18          0.00       15.02   \n",
       "75%          8.00       21.00         19.18          3.70       15.02   \n",
       "80%          9.00       23.00         19.18          3.70       15.02   \n",
       "90%         11.00       32.00         36.00          3.70       27.00   \n",
       "95%         15.00       42.00         65.00          3.70       54.00   \n",
       "max        240.00      422.00       2436.00       1352.00     1357.00   \n",
       "\n",
       "       SecurityDelay  LateAircraftDelay  ArrDelay_target  ArrDelay_target2  \\\n",
       "count     1928368.00         1928368.00       1928368.00        1928368.00   \n",
       "mean            0.09              25.30             0.65              0.44   \n",
       "std             1.63              33.83             0.48              0.50   \n",
       "min             0.00               0.00             0.00              0.00   \n",
       "25%             0.00               0.00             0.00              0.00   \n",
       "50%             0.00              25.30             1.00              0.00   \n",
       "75%             0.09              25.30             1.00              1.00   \n",
       "80%             0.09              26.00             1.00              1.00   \n",
       "90%             0.09              53.00             1.00              1.00   \n",
       "95%             0.09              86.00             1.00              1.00   \n",
       "max           392.00            1316.00             1.00              1.00   \n",
       "\n",
       "         IsFriday  Is_Feb_Jun_Dec  carrier_avg_delay  origin_avg_delay  \\\n",
       "count  1928368.00      1928368.00         1928368.00        1928368.00   \n",
       "mean         0.17            0.31              42.20             42.20   \n",
       "std          0.37            0.46               7.66              7.91   \n",
       "min          0.00            0.00              21.26              6.00   \n",
       "25%          0.00            0.00              36.45             36.19   \n",
       "50%          0.00            0.00              45.30             40.78   \n",
       "75%          0.00            1.00              47.55             48.28   \n",
       "80%          0.00            1.00              47.78             50.59   \n",
       "90%          1.00            1.00              50.18             51.92   \n",
       "95%          1.00            1.00              55.09             54.27   \n",
       "max          1.00            1.00              55.29            122.56   \n",
       "\n",
       "       dest_avg_delay  \n",
       "count      1928368.00  \n",
       "mean            42.20  \n",
       "std              8.10  \n",
       "min              6.00  \n",
       "25%             35.91  \n",
       "50%             40.12  \n",
       "75%             46.69  \n",
       "80%             47.90  \n",
       "90%             57.08  \n",
       "95%             60.03  \n",
       "max             77.94  "
      ]
     },
     "execution_count": 9,
     "metadata": {},
     "output_type": "execute_result"
    }
   ],
   "source": [
    "round(df.describe(percentiles=[.25, .5, .75, .8, .9, .95]), 2)"
   ]
  },
  {
   "cell_type": "code",
   "execution_count": 10,
   "metadata": {},
   "outputs": [
    {
     "data": {
      "image/png": "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\n",
      "text/plain": [
       "<Figure size 1080x1080 with 20 Axes>"
      ]
     },
     "metadata": {
      "needs_background": "light"
     },
     "output_type": "display_data"
    }
   ],
   "source": [
    "df.hist(figsize=(15,15))\n",
    "plt.show()"
   ]
  },
  {
   "cell_type": "code",
   "execution_count": 11,
   "metadata": {},
   "outputs": [],
   "source": [
    "### Based on distibution we see that there is:\n",
    "### 1. different range of features\n",
    "### 2. outliers for example carrier_avg_delay, CRSArrTime...\n",
    "\n",
    "### Since there are outliers we will standardize the data between -1 and 1"
   ]
  },
  {
   "cell_type": "markdown",
   "metadata": {},
   "source": [
    "## Linear Regression"
   ]
  },
  {
   "cell_type": "code",
   "execution_count": 12,
   "metadata": {},
   "outputs": [],
   "source": [
    "### Train_test_split"
   ]
  },
  {
   "cell_type": "code",
   "execution_count": 13,
   "metadata": {},
   "outputs": [],
   "source": [
    "x = df.drop(['ArrDelay', 'ArrDelay_target','ArrDelay_target2'], axis=1)\n",
    "\n",
    "y = df['ArrDelay']"
   ]
  },
  {
   "cell_type": "code",
   "execution_count": 14,
   "metadata": {},
   "outputs": [
    {
     "data": {
      "text/html": [
       "<div>\n",
       "<style scoped>\n",
       "    .dataframe tbody tr th:only-of-type {\n",
       "        vertical-align: middle;\n",
       "    }\n",
       "\n",
       "    .dataframe tbody tr th {\n",
       "        vertical-align: top;\n",
       "    }\n",
       "\n",
       "    .dataframe thead th {\n",
       "        text-align: right;\n",
       "    }\n",
       "</style>\n",
       "<table border=\"1\" class=\"dataframe\">\n",
       "  <thead>\n",
       "    <tr style=\"text-align: right;\">\n",
       "      <th></th>\n",
       "      <th>CRSDepTime</th>\n",
       "      <th>ArrTime</th>\n",
       "      <th>CRSArrTime</th>\n",
       "      <th>ActualElapsedTime</th>\n",
       "      <th>TaxiIn</th>\n",
       "      <th>TaxiOut</th>\n",
       "      <th>CarrierDelay</th>\n",
       "      <th>WeatherDelay</th>\n",
       "      <th>NASDelay</th>\n",
       "      <th>SecurityDelay</th>\n",
       "      <th>LateAircraftDelay</th>\n",
       "      <th>IsFriday</th>\n",
       "      <th>Is_Feb_Jun_Dec</th>\n",
       "      <th>carrier_avg_delay</th>\n",
       "      <th>origin_avg_delay</th>\n",
       "      <th>dest_avg_delay</th>\n",
       "    </tr>\n",
       "  </thead>\n",
       "  <tbody>\n",
       "    <tr>\n",
       "      <th>0</th>\n",
       "      <td>1955</td>\n",
       "      <td>2211.0</td>\n",
       "      <td>2225</td>\n",
       "      <td>128.0</td>\n",
       "      <td>4.0</td>\n",
       "      <td>8.0</td>\n",
       "      <td>19.179399</td>\n",
       "      <td>3.703571</td>\n",
       "      <td>15.021635</td>\n",
       "      <td>0.090137</td>\n",
       "      <td>25.296466</td>\n",
       "      <td>0.0</td>\n",
       "      <td>0</td>\n",
       "      <td>30.087884</td>\n",
       "      <td>53.531579</td>\n",
       "      <td>35.925260</td>\n",
       "    </tr>\n",
       "    <tr>\n",
       "      <th>1</th>\n",
       "      <td>735</td>\n",
       "      <td>1002.0</td>\n",
       "      <td>1000</td>\n",
       "      <td>128.0</td>\n",
       "      <td>5.0</td>\n",
       "      <td>10.0</td>\n",
       "      <td>19.179399</td>\n",
       "      <td>3.703571</td>\n",
       "      <td>15.021635</td>\n",
       "      <td>0.090137</td>\n",
       "      <td>25.296466</td>\n",
       "      <td>0.0</td>\n",
       "      <td>0</td>\n",
       "      <td>30.087884</td>\n",
       "      <td>53.531579</td>\n",
       "      <td>35.925260</td>\n",
       "    </tr>\n",
       "    <tr>\n",
       "      <th>2</th>\n",
       "      <td>620</td>\n",
       "      <td>804.0</td>\n",
       "      <td>750</td>\n",
       "      <td>96.0</td>\n",
       "      <td>3.0</td>\n",
       "      <td>17.0</td>\n",
       "      <td>19.179399</td>\n",
       "      <td>3.703571</td>\n",
       "      <td>15.021635</td>\n",
       "      <td>0.090137</td>\n",
       "      <td>25.296466</td>\n",
       "      <td>0.0</td>\n",
       "      <td>0</td>\n",
       "      <td>30.087884</td>\n",
       "      <td>45.835815</td>\n",
       "      <td>35.889979</td>\n",
       "    </tr>\n",
       "    <tr>\n",
       "      <th>3</th>\n",
       "      <td>1755</td>\n",
       "      <td>1959.0</td>\n",
       "      <td>1925</td>\n",
       "      <td>90.0</td>\n",
       "      <td>3.0</td>\n",
       "      <td>10.0</td>\n",
       "      <td>2.000000</td>\n",
       "      <td>0.000000</td>\n",
       "      <td>0.000000</td>\n",
       "      <td>0.000000</td>\n",
       "      <td>32.000000</td>\n",
       "      <td>0.0</td>\n",
       "      <td>0</td>\n",
       "      <td>30.087884</td>\n",
       "      <td>45.835815</td>\n",
       "      <td>35.889979</td>\n",
       "    </tr>\n",
       "    <tr>\n",
       "      <th>4</th>\n",
       "      <td>1915</td>\n",
       "      <td>2121.0</td>\n",
       "      <td>2110</td>\n",
       "      <td>101.0</td>\n",
       "      <td>4.0</td>\n",
       "      <td>10.0</td>\n",
       "      <td>19.179399</td>\n",
       "      <td>3.703571</td>\n",
       "      <td>15.021635</td>\n",
       "      <td>0.090137</td>\n",
       "      <td>25.296466</td>\n",
       "      <td>0.0</td>\n",
       "      <td>0</td>\n",
       "      <td>30.087884</td>\n",
       "      <td>45.835815</td>\n",
       "      <td>39.358735</td>\n",
       "    </tr>\n",
       "  </tbody>\n",
       "</table>\n",
       "</div>"
      ],
      "text/plain": [
       "   CRSDepTime  ArrTime  CRSArrTime  ActualElapsedTime  TaxiIn  TaxiOut  \\\n",
       "0        1955   2211.0        2225              128.0     4.0      8.0   \n",
       "1         735   1002.0        1000              128.0     5.0     10.0   \n",
       "2         620    804.0         750               96.0     3.0     17.0   \n",
       "3        1755   1959.0        1925               90.0     3.0     10.0   \n",
       "4        1915   2121.0        2110              101.0     4.0     10.0   \n",
       "\n",
       "   CarrierDelay  WeatherDelay   NASDelay  SecurityDelay  LateAircraftDelay  \\\n",
       "0     19.179399      3.703571  15.021635       0.090137          25.296466   \n",
       "1     19.179399      3.703571  15.021635       0.090137          25.296466   \n",
       "2     19.179399      3.703571  15.021635       0.090137          25.296466   \n",
       "3      2.000000      0.000000   0.000000       0.000000          32.000000   \n",
       "4     19.179399      3.703571  15.021635       0.090137          25.296466   \n",
       "\n",
       "   IsFriday  Is_Feb_Jun_Dec  carrier_avg_delay  origin_avg_delay  \\\n",
       "0       0.0               0          30.087884         53.531579   \n",
       "1       0.0               0          30.087884         53.531579   \n",
       "2       0.0               0          30.087884         45.835815   \n",
       "3       0.0               0          30.087884         45.835815   \n",
       "4       0.0               0          30.087884         45.835815   \n",
       "\n",
       "   dest_avg_delay  \n",
       "0       35.925260  \n",
       "1       35.925260  \n",
       "2       35.889979  \n",
       "3       35.889979  \n",
       "4       39.358735  "
      ]
     },
     "execution_count": 14,
     "metadata": {},
     "output_type": "execute_result"
    }
   ],
   "source": [
    "x.head()"
   ]
  },
  {
   "cell_type": "code",
   "execution_count": 15,
   "metadata": {},
   "outputs": [
    {
     "data": {
      "text/plain": [
       "0         -14.0\n",
       "1           2.0\n",
       "2          14.0\n",
       "3          34.0\n",
       "4          11.0\n",
       "           ... \n",
       "1928363    25.0\n",
       "1928364    75.0\n",
       "1928365    99.0\n",
       "1928366     9.0\n",
       "1928367    -5.0\n",
       "Name: ArrDelay, Length: 1928368, dtype: float64"
      ]
     },
     "execution_count": 15,
     "metadata": {},
     "output_type": "execute_result"
    }
   ],
   "source": [
    "y"
   ]
  },
  {
   "cell_type": "code",
   "execution_count": 16,
   "metadata": {},
   "outputs": [],
   "source": [
    "### train validation and test set"
   ]
  },
  {
   "cell_type": "code",
   "execution_count": 17,
   "metadata": {},
   "outputs": [],
   "source": [
    "x_train_validation, x_test, y_train_validation, y_test = model_selection.train_test_split(x, y, test_size=0.33, random_state=7)\n",
    "x_train, x_validation, y_train, y_validation = model_selection.train_test_split(x_train_validation, y_train_validation, train_size=0.8, random_state=7)"
   ]
  },
  {
   "cell_type": "code",
   "execution_count": 18,
   "metadata": {},
   "outputs": [],
   "source": [
    "### StandardScaler\n",
    "\n",
 Jelena_branch
    "scaler1=preprocessing.StandardScaler()\n",
    "\n",
    "scaler1.fit(x_train)\n",
    "\n",

    "scaler1=preprocessing.StandardScaler()"
   ]
  },
  {
   "cell_type": "code",
   "execution_count": 19,
   "metadata": {},
   "outputs": [
    {
     "data": {
      "text/plain": [
       "StandardScaler()"
      ]
     },
     "execution_count": 19,
     "metadata": {},
     "output_type": "execute_result"
    }
   ],
   "source": [
    "scaler1.fit(x_train)"
   ]
  },
  {
   "cell_type": "code",
   "execution_count": 20,
   "metadata": {},
   "outputs": [],
   "source": [
 main
    "x_train=scaler1.transform(x_train)\n",
    "x_validation = scaler1.transform(x_validation)\n",
    "x_train_validation = scaler1.transform(x_train_validation)\n",
    "x_test=scaler1.transform(x_test)"
   ]
  },
  {
   "cell_type": "code",
   "execution_count": 21,
   "metadata": {},
   "outputs": [],
   "source": [
    "model = linear_model.Lasso()"
   ]
  },
  {
   "cell_type": "code",
   "execution_count": 22,
   "metadata": {},
   "outputs": [],
   "source": [
    "params = {'alpha': [0.0001, 0.001, 0.01, 0.1, 1, 10, 20, 100]}"
   ]
  },
  {
   "cell_type": "code",
   "execution_count": 23,
   "metadata": {},
   "outputs": [],
   "source": [
    "grid = model_selection.GridSearchCV(model, param_grid=params, cv=10, scoring='r2', return_train_score=True)"
   ]
  },
  {
   "cell_type": "code",
   "execution_count": 24,
   "metadata": {
    "scrolled": true
   },
   "outputs": [
    {
     "data": {
      "text/html": [
       "<style>#sk-container-id-2 {color: black;background-color: white;}#sk-container-id-2 pre{padding: 0;}#sk-container-id-2 div.sk-toggleable {background-color: white;}#sk-container-id-2 label.sk-toggleable__label {cursor: pointer;display: block;width: 100%;margin-bottom: 0;padding: 0.3em;box-sizing: border-box;text-align: center;}#sk-container-id-2 label.sk-toggleable__label-arrow:before {content: \"▸\";float: left;margin-right: 0.25em;color: #696969;}#sk-container-id-2 label.sk-toggleable__label-arrow:hover:before {color: black;}#sk-container-id-2 div.sk-estimator:hover label.sk-toggleable__label-arrow:before {color: black;}#sk-container-id-2 div.sk-toggleable__content {max-height: 0;max-width: 0;overflow: hidden;text-align: left;background-color: #f0f8ff;}#sk-container-id-2 div.sk-toggleable__content pre {margin: 0.2em;color: black;border-radius: 0.25em;background-color: #f0f8ff;}#sk-container-id-2 input.sk-toggleable__control:checked~div.sk-toggleable__content {max-height: 200px;max-width: 100%;overflow: auto;}#sk-container-id-2 input.sk-toggleable__control:checked~label.sk-toggleable__label-arrow:before {content: \"▾\";}#sk-container-id-2 div.sk-estimator input.sk-toggleable__control:checked~label.sk-toggleable__label {background-color: #d4ebff;}#sk-container-id-2 div.sk-label input.sk-toggleable__control:checked~label.sk-toggleable__label {background-color: #d4ebff;}#sk-container-id-2 input.sk-hidden--visually {border: 0;clip: rect(1px 1px 1px 1px);clip: rect(1px, 1px, 1px, 1px);height: 1px;margin: -1px;overflow: hidden;padding: 0;position: absolute;width: 1px;}#sk-container-id-2 div.sk-estimator {font-family: monospace;background-color: #f0f8ff;border: 1px dotted black;border-radius: 0.25em;box-sizing: border-box;margin-bottom: 0.5em;}#sk-container-id-2 div.sk-estimator:hover {background-color: #d4ebff;}#sk-container-id-2 div.sk-parallel-item::after {content: \"\";width: 100%;border-bottom: 1px solid gray;flex-grow: 1;}#sk-container-id-2 div.sk-label:hover label.sk-toggleable__label {background-color: #d4ebff;}#sk-container-id-2 div.sk-serial::before {content: \"\";position: absolute;border-left: 1px solid gray;box-sizing: border-box;top: 0;bottom: 0;left: 50%;z-index: 0;}#sk-container-id-2 div.sk-serial {display: flex;flex-direction: column;align-items: center;background-color: white;padding-right: 0.2em;padding-left: 0.2em;position: relative;}#sk-container-id-2 div.sk-item {position: relative;z-index: 1;}#sk-container-id-2 div.sk-parallel {display: flex;align-items: stretch;justify-content: center;background-color: white;position: relative;}#sk-container-id-2 div.sk-item::before, #sk-container-id-2 div.sk-parallel-item::before {content: \"\";position: absolute;border-left: 1px solid gray;box-sizing: border-box;top: 0;bottom: 0;left: 50%;z-index: -1;}#sk-container-id-2 div.sk-parallel-item {display: flex;flex-direction: column;z-index: 1;position: relative;background-color: white;}#sk-container-id-2 div.sk-parallel-item:first-child::after {align-self: flex-end;width: 50%;}#sk-container-id-2 div.sk-parallel-item:last-child::after {align-self: flex-start;width: 50%;}#sk-container-id-2 div.sk-parallel-item:only-child::after {width: 0;}#sk-container-id-2 div.sk-dashed-wrapped {border: 1px dashed gray;margin: 0 0.4em 0.5em 0.4em;box-sizing: border-box;padding-bottom: 0.4em;background-color: white;}#sk-container-id-2 div.sk-label label {font-family: monospace;font-weight: bold;display: inline-block;line-height: 1.2em;}#sk-container-id-2 div.sk-label-container {text-align: center;}#sk-container-id-2 div.sk-container {/* jupyter's `normalize.less` sets `[hidden] { display: none; }` but bootstrap.min.css set `[hidden] { display: none !important; }` so we also need the `!important` here to be able to override the default hidden behavior on the sphinx rendered scikit-learn.org. See: https://github.com/scikit-learn/scikit-learn/issues/21755 */display: inline-block !important;position: relative;}#sk-container-id-2 div.sk-text-repr-fallback {display: none;}</style><div id=\"sk-container-id-2\" class=\"sk-top-container\"><div class=\"sk-text-repr-fallback\"><pre>GridSearchCV(cv=10, estimator=Lasso(),\n",
       "             param_grid={&#x27;alpha&#x27;: [0.0001, 0.001, 0.01, 0.1, 1, 10, 20, 100]},\n",
       "             return_train_score=True, scoring=&#x27;r2&#x27;)</pre><b>In a Jupyter environment, please rerun this cell to show the HTML representation or trust the notebook. <br />On GitHub, the HTML representation is unable to render, please try loading this page with nbviewer.org.</b></div><div class=\"sk-container\" hidden><div class=\"sk-item sk-dashed-wrapped\"><div class=\"sk-label-container\"><div class=\"sk-label sk-toggleable\"><input class=\"sk-toggleable__control sk-hidden--visually\" id=\"sk-estimator-id-2\" type=\"checkbox\" ><label for=\"sk-estimator-id-2\" class=\"sk-toggleable__label sk-toggleable__label-arrow\">GridSearchCV</label><div class=\"sk-toggleable__content\"><pre>GridSearchCV(cv=10, estimator=Lasso(),\n",
       "             param_grid={&#x27;alpha&#x27;: [0.0001, 0.001, 0.01, 0.1, 1, 10, 20, 100]},\n",
       "             return_train_score=True, scoring=&#x27;r2&#x27;)</pre></div></div></div><div class=\"sk-parallel\"><div class=\"sk-parallel-item\"><div class=\"sk-item\"><div class=\"sk-label-container\"><div class=\"sk-label sk-toggleable\"><input class=\"sk-toggleable__control sk-hidden--visually\" id=\"sk-estimator-id-3\" type=\"checkbox\" ><label for=\"sk-estimator-id-3\" class=\"sk-toggleable__label sk-toggleable__label-arrow\">estimator: Lasso</label><div class=\"sk-toggleable__content\"><pre>Lasso()</pre></div></div></div><div class=\"sk-serial\"><div class=\"sk-item\"><div class=\"sk-estimator sk-toggleable\"><input class=\"sk-toggleable__control sk-hidden--visually\" id=\"sk-estimator-id-4\" type=\"checkbox\" ><label for=\"sk-estimator-id-4\" class=\"sk-toggleable__label sk-toggleable__label-arrow\">Lasso</label><div class=\"sk-toggleable__content\"><pre>Lasso()</pre></div></div></div></div></div></div></div></div></div></div>"
      ],
      "text/plain": [
       "GridSearchCV(cv=10, estimator=Lasso(),\n",
       "             param_grid={'alpha': [0.0001, 0.001, 0.01, 0.1, 1, 10, 20, 100]},\n",
       "             return_train_score=True, scoring='r2')"
      ]
     },
     "execution_count": 24,
     "metadata": {},
     "output_type": "execute_result"
    }
   ],
   "source": [
    "grid.fit(x_train_validation, y_train_validation)"
   ]
  },
  {
   "cell_type": "code",
 Jelena_branch
   "execution_count": null,

   "execution_count": 25,
 main
   "metadata": {},
   "outputs": [],
   "source": [
    "####sklearn.metrics.SCORERS.keys()"
   ]
  },
  {
   "cell_type": "code",
   "execution_count": 26,
   "metadata": {},
   "outputs": [
    {
     "data": {
      "text/plain": [
       "{'alpha': 0.0001}"
      ]
     },
     "execution_count": 26,
     "metadata": {},
     "output_type": "execute_result"
    }
   ],
   "source": [
    "grid.best_params_"
   ]
  },
  {
   "cell_type": "code",
   "execution_count": 27,
   "metadata": {},
   "outputs": [
    {
     "data": {
      "text/plain": [
       "0.7677827930215176"
      ]
     },
     "execution_count": 27,
     "metadata": {},
     "output_type": "execute_result"
    }
   ],
   "source": [
    "grid.best_score_"
   ]
  },
  {
   "cell_type": "code",
   "execution_count": 28,
   "metadata": {},
   "outputs": [],
   "source": [
    "linear_model1 = linear_model.Lasso(alpha=0.0001)"
   ]
  },
  {
   "cell_type": "code",
   "execution_count": 29,
   "metadata": {},
   "outputs": [
    {
     "data": {
      "text/html": [
       "<style>#sk-container-id-3 {color: black;background-color: white;}#sk-container-id-3 pre{padding: 0;}#sk-container-id-3 div.sk-toggleable {background-color: white;}#sk-container-id-3 label.sk-toggleable__label {cursor: pointer;display: block;width: 100%;margin-bottom: 0;padding: 0.3em;box-sizing: border-box;text-align: center;}#sk-container-id-3 label.sk-toggleable__label-arrow:before {content: \"▸\";float: left;margin-right: 0.25em;color: #696969;}#sk-container-id-3 label.sk-toggleable__label-arrow:hover:before {color: black;}#sk-container-id-3 div.sk-estimator:hover label.sk-toggleable__label-arrow:before {color: black;}#sk-container-id-3 div.sk-toggleable__content {max-height: 0;max-width: 0;overflow: hidden;text-align: left;background-color: #f0f8ff;}#sk-container-id-3 div.sk-toggleable__content pre {margin: 0.2em;color: black;border-radius: 0.25em;background-color: #f0f8ff;}#sk-container-id-3 input.sk-toggleable__control:checked~div.sk-toggleable__content {max-height: 200px;max-width: 100%;overflow: auto;}#sk-container-id-3 input.sk-toggleable__control:checked~label.sk-toggleable__label-arrow:before {content: \"▾\";}#sk-container-id-3 div.sk-estimator input.sk-toggleable__control:checked~label.sk-toggleable__label {background-color: #d4ebff;}#sk-container-id-3 div.sk-label input.sk-toggleable__control:checked~label.sk-toggleable__label {background-color: #d4ebff;}#sk-container-id-3 input.sk-hidden--visually {border: 0;clip: rect(1px 1px 1px 1px);clip: rect(1px, 1px, 1px, 1px);height: 1px;margin: -1px;overflow: hidden;padding: 0;position: absolute;width: 1px;}#sk-container-id-3 div.sk-estimator {font-family: monospace;background-color: #f0f8ff;border: 1px dotted black;border-radius: 0.25em;box-sizing: border-box;margin-bottom: 0.5em;}#sk-container-id-3 div.sk-estimator:hover {background-color: #d4ebff;}#sk-container-id-3 div.sk-parallel-item::after {content: \"\";width: 100%;border-bottom: 1px solid gray;flex-grow: 1;}#sk-container-id-3 div.sk-label:hover label.sk-toggleable__label {background-color: #d4ebff;}#sk-container-id-3 div.sk-serial::before {content: \"\";position: absolute;border-left: 1px solid gray;box-sizing: border-box;top: 0;bottom: 0;left: 50%;z-index: 0;}#sk-container-id-3 div.sk-serial {display: flex;flex-direction: column;align-items: center;background-color: white;padding-right: 0.2em;padding-left: 0.2em;position: relative;}#sk-container-id-3 div.sk-item {position: relative;z-index: 1;}#sk-container-id-3 div.sk-parallel {display: flex;align-items: stretch;justify-content: center;background-color: white;position: relative;}#sk-container-id-3 div.sk-item::before, #sk-container-id-3 div.sk-parallel-item::before {content: \"\";position: absolute;border-left: 1px solid gray;box-sizing: border-box;top: 0;bottom: 0;left: 50%;z-index: -1;}#sk-container-id-3 div.sk-parallel-item {display: flex;flex-direction: column;z-index: 1;position: relative;background-color: white;}#sk-container-id-3 div.sk-parallel-item:first-child::after {align-self: flex-end;width: 50%;}#sk-container-id-3 div.sk-parallel-item:last-child::after {align-self: flex-start;width: 50%;}#sk-container-id-3 div.sk-parallel-item:only-child::after {width: 0;}#sk-container-id-3 div.sk-dashed-wrapped {border: 1px dashed gray;margin: 0 0.4em 0.5em 0.4em;box-sizing: border-box;padding-bottom: 0.4em;background-color: white;}#sk-container-id-3 div.sk-label label {font-family: monospace;font-weight: bold;display: inline-block;line-height: 1.2em;}#sk-container-id-3 div.sk-label-container {text-align: center;}#sk-container-id-3 div.sk-container {/* jupyter's `normalize.less` sets `[hidden] { display: none; }` but bootstrap.min.css set `[hidden] { display: none !important; }` so we also need the `!important` here to be able to override the default hidden behavior on the sphinx rendered scikit-learn.org. See: https://github.com/scikit-learn/scikit-learn/issues/21755 */display: inline-block !important;position: relative;}#sk-container-id-3 div.sk-text-repr-fallback {display: none;}</style><div id=\"sk-container-id-3\" class=\"sk-top-container\"><div class=\"sk-text-repr-fallback\"><pre>Lasso(alpha=0.0001)</pre><b>In a Jupyter environment, please rerun this cell to show the HTML representation or trust the notebook. <br />On GitHub, the HTML representation is unable to render, please try loading this page with nbviewer.org.</b></div><div class=\"sk-container\" hidden><div class=\"sk-item\"><div class=\"sk-estimator sk-toggleable\"><input class=\"sk-toggleable__control sk-hidden--visually\" id=\"sk-estimator-id-5\" type=\"checkbox\" checked><label for=\"sk-estimator-id-5\" class=\"sk-toggleable__label sk-toggleable__label-arrow\">Lasso</label><div class=\"sk-toggleable__content\"><pre>Lasso(alpha=0.0001)</pre></div></div></div></div></div>"
      ],
      "text/plain": [
       "Lasso(alpha=0.0001)"
      ]
     },
     "execution_count": 29,
     "metadata": {},
     "output_type": "execute_result"
    }
   ],
   "source": [
    "linear_model1.fit(x_train_validation, y_train_validation)"
   ]
  },
  {
   "cell_type": "code",
   "execution_count": 30,
   "metadata": {},
   "outputs": [],
   "source": [
    "y_test_pred = linear_model1.predict(x_test)\n",
    "y_train_val_pred = linear_model1.predict(x_train_validation)"
   ]
  },
  {
   "cell_type": "code",
   "execution_count": 31,
   "metadata": {},
   "outputs": [
    {
     "data": {
      "text/plain": [
       "0.7638882287803402"
      ]
     },
     "execution_count": 31,
     "metadata": {},
     "output_type": "execute_result"
    }
   ],
   "source": [
    "metrics.r2_score(y_test, y_test_pred)"
   ]
  },
  {
   "cell_type": "code",
   "execution_count": 32,
   "metadata": {},
   "outputs": [
    {
     "data": {
      "text/plain": [
       "0.767809097578347"
      ]
     },
     "execution_count": 32,
     "metadata": {},
     "output_type": "execute_result"
    }
   ],
   "source": [
    "metrics.r2_score(y_train_validation, y_train_val_pred)"
   ]
  },
  {
   "cell_type": "code",
   "execution_count": 33,
   "metadata": {},
   "outputs": [
    {
     "data": {
      "text/plain": [
       "752.6718659692038"
      ]
     },
     "execution_count": 33,
     "metadata": {},
     "output_type": "execute_result"
    }
   ],
   "source": [
    "MSE = metrics.mean_squared_error(y_test, y_test_pred)\n",
    "MSE"
   ]
  },
  {
   "cell_type": "code",
   "execution_count": 34,
   "metadata": {},
   "outputs": [
    {
     "data": {
      "text/plain": [
       "752.8896174816863"
      ]
     },
     "execution_count": 34,
     "metadata": {},
     "output_type": "execute_result"
    }
   ],
   "source": [
    "MSE = metrics.mean_squared_error(y_train_validation, y_train_val_pred)\n",
    "MSE"
   ]
  },
  {
   "cell_type": "code",
   "execution_count": 35,
   "metadata": {},
   "outputs": [
    {
     "data": {
      "text/plain": [
       "2355219173710377.0"
      ]
     },
     "execution_count": 35,
     "metadata": {},
     "output_type": "execute_result"
    }
   ],
   "source": [
    "MAPE = metrics.mean_absolute_percentage_error(y_test, y_test_pred)\n",
    "MAPE"
   ]
  },
  {
   "cell_type": "code",
   "execution_count": 36,
   "metadata": {},
   "outputs": [],
   "source": [
    "### MinMaxScaler\n",
    "\n",
    "scaler2=preprocessing.MinMaxScaler()"
   ]
  },
  {
   "cell_type": "code",
   "execution_count": 37,
   "metadata": {},
   "outputs": [
    {
     "data": {
      "text/html": [
       "<style>#sk-container-id-4 {color: black;background-color: white;}#sk-container-id-4 pre{padding: 0;}#sk-container-id-4 div.sk-toggleable {background-color: white;}#sk-container-id-4 label.sk-toggleable__label {cursor: pointer;display: block;width: 100%;margin-bottom: 0;padding: 0.3em;box-sizing: border-box;text-align: center;}#sk-container-id-4 label.sk-toggleable__label-arrow:before {content: \"▸\";float: left;margin-right: 0.25em;color: #696969;}#sk-container-id-4 label.sk-toggleable__label-arrow:hover:before {color: black;}#sk-container-id-4 div.sk-estimator:hover label.sk-toggleable__label-arrow:before {color: black;}#sk-container-id-4 div.sk-toggleable__content {max-height: 0;max-width: 0;overflow: hidden;text-align: left;background-color: #f0f8ff;}#sk-container-id-4 div.sk-toggleable__content pre {margin: 0.2em;color: black;border-radius: 0.25em;background-color: #f0f8ff;}#sk-container-id-4 input.sk-toggleable__control:checked~div.sk-toggleable__content {max-height: 200px;max-width: 100%;overflow: auto;}#sk-container-id-4 input.sk-toggleable__control:checked~label.sk-toggleable__label-arrow:before {content: \"▾\";}#sk-container-id-4 div.sk-estimator input.sk-toggleable__control:checked~label.sk-toggleable__label {background-color: #d4ebff;}#sk-container-id-4 div.sk-label input.sk-toggleable__control:checked~label.sk-toggleable__label {background-color: #d4ebff;}#sk-container-id-4 input.sk-hidden--visually {border: 0;clip: rect(1px 1px 1px 1px);clip: rect(1px, 1px, 1px, 1px);height: 1px;margin: -1px;overflow: hidden;padding: 0;position: absolute;width: 1px;}#sk-container-id-4 div.sk-estimator {font-family: monospace;background-color: #f0f8ff;border: 1px dotted black;border-radius: 0.25em;box-sizing: border-box;margin-bottom: 0.5em;}#sk-container-id-4 div.sk-estimator:hover {background-color: #d4ebff;}#sk-container-id-4 div.sk-parallel-item::after {content: \"\";width: 100%;border-bottom: 1px solid gray;flex-grow: 1;}#sk-container-id-4 div.sk-label:hover label.sk-toggleable__label {background-color: #d4ebff;}#sk-container-id-4 div.sk-serial::before {content: \"\";position: absolute;border-left: 1px solid gray;box-sizing: border-box;top: 0;bottom: 0;left: 50%;z-index: 0;}#sk-container-id-4 div.sk-serial {display: flex;flex-direction: column;align-items: center;background-color: white;padding-right: 0.2em;padding-left: 0.2em;position: relative;}#sk-container-id-4 div.sk-item {position: relative;z-index: 1;}#sk-container-id-4 div.sk-parallel {display: flex;align-items: stretch;justify-content: center;background-color: white;position: relative;}#sk-container-id-4 div.sk-item::before, #sk-container-id-4 div.sk-parallel-item::before {content: \"\";position: absolute;border-left: 1px solid gray;box-sizing: border-box;top: 0;bottom: 0;left: 50%;z-index: -1;}#sk-container-id-4 div.sk-parallel-item {display: flex;flex-direction: column;z-index: 1;position: relative;background-color: white;}#sk-container-id-4 div.sk-parallel-item:first-child::after {align-self: flex-end;width: 50%;}#sk-container-id-4 div.sk-parallel-item:last-child::after {align-self: flex-start;width: 50%;}#sk-container-id-4 div.sk-parallel-item:only-child::after {width: 0;}#sk-container-id-4 div.sk-dashed-wrapped {border: 1px dashed gray;margin: 0 0.4em 0.5em 0.4em;box-sizing: border-box;padding-bottom: 0.4em;background-color: white;}#sk-container-id-4 div.sk-label label {font-family: monospace;font-weight: bold;display: inline-block;line-height: 1.2em;}#sk-container-id-4 div.sk-label-container {text-align: center;}#sk-container-id-4 div.sk-container {/* jupyter's `normalize.less` sets `[hidden] { display: none; }` but bootstrap.min.css set `[hidden] { display: none !important; }` so we also need the `!important` here to be able to override the default hidden behavior on the sphinx rendered scikit-learn.org. See: https://github.com/scikit-learn/scikit-learn/issues/21755 */display: inline-block !important;position: relative;}#sk-container-id-4 div.sk-text-repr-fallback {display: none;}</style><div id=\"sk-container-id-4\" class=\"sk-top-container\"><div class=\"sk-text-repr-fallback\"><pre>MinMaxScaler()</pre><b>In a Jupyter environment, please rerun this cell to show the HTML representation or trust the notebook. <br />On GitHub, the HTML representation is unable to render, please try loading this page with nbviewer.org.</b></div><div class=\"sk-container\" hidden><div class=\"sk-item\"><div class=\"sk-estimator sk-toggleable\"><input class=\"sk-toggleable__control sk-hidden--visually\" id=\"sk-estimator-id-6\" type=\"checkbox\" checked><label for=\"sk-estimator-id-6\" class=\"sk-toggleable__label sk-toggleable__label-arrow\">MinMaxScaler</label><div class=\"sk-toggleable__content\"><pre>MinMaxScaler()</pre></div></div></div></div></div>"
      ],
      "text/plain": [
       "MinMaxScaler()"
      ]
     },
     "execution_count": 37,
     "metadata": {},
     "output_type": "execute_result"
    }
   ],
   "source": [
    "scaler2.fit(x_train)"
   ]
  },
  {
   "cell_type": "code",
   "execution_count": 38,
   "metadata": {},
   "outputs": [],
   "source": [
    "x_train=scaler2.transform(x_train)\n",
    "x_validation = scaler2.transform(x_validation)\n",
    "x_train_validation = scaler2.transform(x_train_validation)\n",
    "x_test=scaler2.transform(x_test)"
   ]
  },
  {
   "cell_type": "code",
   "execution_count": 39,
   "metadata": {},
   "outputs": [
    {
     "data": {
      "text/html": [
       "<style>#sk-container-id-5 {color: black;background-color: white;}#sk-container-id-5 pre{padding: 0;}#sk-container-id-5 div.sk-toggleable {background-color: white;}#sk-container-id-5 label.sk-toggleable__label {cursor: pointer;display: block;width: 100%;margin-bottom: 0;padding: 0.3em;box-sizing: border-box;text-align: center;}#sk-container-id-5 label.sk-toggleable__label-arrow:before {content: \"▸\";float: left;margin-right: 0.25em;color: #696969;}#sk-container-id-5 label.sk-toggleable__label-arrow:hover:before {color: black;}#sk-container-id-5 div.sk-estimator:hover label.sk-toggleable__label-arrow:before {color: black;}#sk-container-id-5 div.sk-toggleable__content {max-height: 0;max-width: 0;overflow: hidden;text-align: left;background-color: #f0f8ff;}#sk-container-id-5 div.sk-toggleable__content pre {margin: 0.2em;color: black;border-radius: 0.25em;background-color: #f0f8ff;}#sk-container-id-5 input.sk-toggleable__control:checked~div.sk-toggleable__content {max-height: 200px;max-width: 100%;overflow: auto;}#sk-container-id-5 input.sk-toggleable__control:checked~label.sk-toggleable__label-arrow:before {content: \"▾\";}#sk-container-id-5 div.sk-estimator input.sk-toggleable__control:checked~label.sk-toggleable__label {background-color: #d4ebff;}#sk-container-id-5 div.sk-label input.sk-toggleable__control:checked~label.sk-toggleable__label {background-color: #d4ebff;}#sk-container-id-5 input.sk-hidden--visually {border: 0;clip: rect(1px 1px 1px 1px);clip: rect(1px, 1px, 1px, 1px);height: 1px;margin: -1px;overflow: hidden;padding: 0;position: absolute;width: 1px;}#sk-container-id-5 div.sk-estimator {font-family: monospace;background-color: #f0f8ff;border: 1px dotted black;border-radius: 0.25em;box-sizing: border-box;margin-bottom: 0.5em;}#sk-container-id-5 div.sk-estimator:hover {background-color: #d4ebff;}#sk-container-id-5 div.sk-parallel-item::after {content: \"\";width: 100%;border-bottom: 1px solid gray;flex-grow: 1;}#sk-container-id-5 div.sk-label:hover label.sk-toggleable__label {background-color: #d4ebff;}#sk-container-id-5 div.sk-serial::before {content: \"\";position: absolute;border-left: 1px solid gray;box-sizing: border-box;top: 0;bottom: 0;left: 50%;z-index: 0;}#sk-container-id-5 div.sk-serial {display: flex;flex-direction: column;align-items: center;background-color: white;padding-right: 0.2em;padding-left: 0.2em;position: relative;}#sk-container-id-5 div.sk-item {position: relative;z-index: 1;}#sk-container-id-5 div.sk-parallel {display: flex;align-items: stretch;justify-content: center;background-color: white;position: relative;}#sk-container-id-5 div.sk-item::before, #sk-container-id-5 div.sk-parallel-item::before {content: \"\";position: absolute;border-left: 1px solid gray;box-sizing: border-box;top: 0;bottom: 0;left: 50%;z-index: -1;}#sk-container-id-5 div.sk-parallel-item {display: flex;flex-direction: column;z-index: 1;position: relative;background-color: white;}#sk-container-id-5 div.sk-parallel-item:first-child::after {align-self: flex-end;width: 50%;}#sk-container-id-5 div.sk-parallel-item:last-child::after {align-self: flex-start;width: 50%;}#sk-container-id-5 div.sk-parallel-item:only-child::after {width: 0;}#sk-container-id-5 div.sk-dashed-wrapped {border: 1px dashed gray;margin: 0 0.4em 0.5em 0.4em;box-sizing: border-box;padding-bottom: 0.4em;background-color: white;}#sk-container-id-5 div.sk-label label {font-family: monospace;font-weight: bold;display: inline-block;line-height: 1.2em;}#sk-container-id-5 div.sk-label-container {text-align: center;}#sk-container-id-5 div.sk-container {/* jupyter's `normalize.less` sets `[hidden] { display: none; }` but bootstrap.min.css set `[hidden] { display: none !important; }` so we also need the `!important` here to be able to override the default hidden behavior on the sphinx rendered scikit-learn.org. See: https://github.com/scikit-learn/scikit-learn/issues/21755 */display: inline-block !important;position: relative;}#sk-container-id-5 div.sk-text-repr-fallback {display: none;}</style><div id=\"sk-container-id-5\" class=\"sk-top-container\"><div class=\"sk-text-repr-fallback\"><pre>GridSearchCV(cv=10, estimator=Lasso(),\n",
       "             param_grid={&#x27;alpha&#x27;: [0.0001, 0.001, 0.01, 0.1, 1, 10, 20, 100]},\n",
       "             return_train_score=True, scoring=&#x27;r2&#x27;)</pre><b>In a Jupyter environment, please rerun this cell to show the HTML representation or trust the notebook. <br />On GitHub, the HTML representation is unable to render, please try loading this page with nbviewer.org.</b></div><div class=\"sk-container\" hidden><div class=\"sk-item sk-dashed-wrapped\"><div class=\"sk-label-container\"><div class=\"sk-label sk-toggleable\"><input class=\"sk-toggleable__control sk-hidden--visually\" id=\"sk-estimator-id-7\" type=\"checkbox\" ><label for=\"sk-estimator-id-7\" class=\"sk-toggleable__label sk-toggleable__label-arrow\">GridSearchCV</label><div class=\"sk-toggleable__content\"><pre>GridSearchCV(cv=10, estimator=Lasso(),\n",
       "             param_grid={&#x27;alpha&#x27;: [0.0001, 0.001, 0.01, 0.1, 1, 10, 20, 100]},\n",
       "             return_train_score=True, scoring=&#x27;r2&#x27;)</pre></div></div></div><div class=\"sk-parallel\"><div class=\"sk-parallel-item\"><div class=\"sk-item\"><div class=\"sk-label-container\"><div class=\"sk-label sk-toggleable\"><input class=\"sk-toggleable__control sk-hidden--visually\" id=\"sk-estimator-id-8\" type=\"checkbox\" ><label for=\"sk-estimator-id-8\" class=\"sk-toggleable__label sk-toggleable__label-arrow\">estimator: Lasso</label><div class=\"sk-toggleable__content\"><pre>Lasso()</pre></div></div></div><div class=\"sk-serial\"><div class=\"sk-item\"><div class=\"sk-estimator sk-toggleable\"><input class=\"sk-toggleable__control sk-hidden--visually\" id=\"sk-estimator-id-9\" type=\"checkbox\" ><label for=\"sk-estimator-id-9\" class=\"sk-toggleable__label sk-toggleable__label-arrow\">Lasso</label><div class=\"sk-toggleable__content\"><pre>Lasso()</pre></div></div></div></div></div></div></div></div></div></div>"
      ],
      "text/plain": [
       "GridSearchCV(cv=10, estimator=Lasso(),\n",
       "             param_grid={'alpha': [0.0001, 0.001, 0.01, 0.1, 1, 10, 20, 100]},\n",
       "             return_train_score=True, scoring='r2')"
      ]
     },
     "execution_count": 39,
     "metadata": {},
     "output_type": "execute_result"
    }
   ],
   "source": [
    "model = linear_model.Lasso()\n",
    "\n",
    "params = {'alpha': [0.0001, 0.001, 0.01, 0.1, 1, 10, 20, 100]}\n",
    "grid = model_selection.GridSearchCV(model, param_grid=params, cv=10, scoring='r2', return_train_score=True)\n",
    "\n",
    "grid.fit(x_train_validation, y_train_validation)"
   ]
  },
  {
   "cell_type": "code",
   "execution_count": 40,
   "metadata": {},
   "outputs": [
    {
     "data": {
      "text/plain": [
       "{'alpha': 0.0001}"
      ]
     },
     "execution_count": 40,
     "metadata": {},
     "output_type": "execute_result"
    }
   ],
   "source": [
    "grid.best_params_"
   ]
  },
  {
   "cell_type": "code",
   "execution_count": 41,
   "metadata": {},
   "outputs": [
    {
     "data": {
      "text/plain": [
       "0.7677825424305826"
      ]
     },
     "execution_count": 41,
     "metadata": {},
     "output_type": "execute_result"
    }
   ],
   "source": [
    "grid.best_score_"
   ]
  },
  {
   "cell_type": "code",
   "execution_count": 42,
   "metadata": {},
   "outputs": [
    {
     "data": {
      "text/html": [
       "<style>#sk-container-id-6 {color: black;background-color: white;}#sk-container-id-6 pre{padding: 0;}#sk-container-id-6 div.sk-toggleable {background-color: white;}#sk-container-id-6 label.sk-toggleable__label {cursor: pointer;display: block;width: 100%;margin-bottom: 0;padding: 0.3em;box-sizing: border-box;text-align: center;}#sk-container-id-6 label.sk-toggleable__label-arrow:before {content: \"▸\";float: left;margin-right: 0.25em;color: #696969;}#sk-container-id-6 label.sk-toggleable__label-arrow:hover:before {color: black;}#sk-container-id-6 div.sk-estimator:hover label.sk-toggleable__label-arrow:before {color: black;}#sk-container-id-6 div.sk-toggleable__content {max-height: 0;max-width: 0;overflow: hidden;text-align: left;background-color: #f0f8ff;}#sk-container-id-6 div.sk-toggleable__content pre {margin: 0.2em;color: black;border-radius: 0.25em;background-color: #f0f8ff;}#sk-container-id-6 input.sk-toggleable__control:checked~div.sk-toggleable__content {max-height: 200px;max-width: 100%;overflow: auto;}#sk-container-id-6 input.sk-toggleable__control:checked~label.sk-toggleable__label-arrow:before {content: \"▾\";}#sk-container-id-6 div.sk-estimator input.sk-toggleable__control:checked~label.sk-toggleable__label {background-color: #d4ebff;}#sk-container-id-6 div.sk-label input.sk-toggleable__control:checked~label.sk-toggleable__label {background-color: #d4ebff;}#sk-container-id-6 input.sk-hidden--visually {border: 0;clip: rect(1px 1px 1px 1px);clip: rect(1px, 1px, 1px, 1px);height: 1px;margin: -1px;overflow: hidden;padding: 0;position: absolute;width: 1px;}#sk-container-id-6 div.sk-estimator {font-family: monospace;background-color: #f0f8ff;border: 1px dotted black;border-radius: 0.25em;box-sizing: border-box;margin-bottom: 0.5em;}#sk-container-id-6 div.sk-estimator:hover {background-color: #d4ebff;}#sk-container-id-6 div.sk-parallel-item::after {content: \"\";width: 100%;border-bottom: 1px solid gray;flex-grow: 1;}#sk-container-id-6 div.sk-label:hover label.sk-toggleable__label {background-color: #d4ebff;}#sk-container-id-6 div.sk-serial::before {content: \"\";position: absolute;border-left: 1px solid gray;box-sizing: border-box;top: 0;bottom: 0;left: 50%;z-index: 0;}#sk-container-id-6 div.sk-serial {display: flex;flex-direction: column;align-items: center;background-color: white;padding-right: 0.2em;padding-left: 0.2em;position: relative;}#sk-container-id-6 div.sk-item {position: relative;z-index: 1;}#sk-container-id-6 div.sk-parallel {display: flex;align-items: stretch;justify-content: center;background-color: white;position: relative;}#sk-container-id-6 div.sk-item::before, #sk-container-id-6 div.sk-parallel-item::before {content: \"\";position: absolute;border-left: 1px solid gray;box-sizing: border-box;top: 0;bottom: 0;left: 50%;z-index: -1;}#sk-container-id-6 div.sk-parallel-item {display: flex;flex-direction: column;z-index: 1;position: relative;background-color: white;}#sk-container-id-6 div.sk-parallel-item:first-child::after {align-self: flex-end;width: 50%;}#sk-container-id-6 div.sk-parallel-item:last-child::after {align-self: flex-start;width: 50%;}#sk-container-id-6 div.sk-parallel-item:only-child::after {width: 0;}#sk-container-id-6 div.sk-dashed-wrapped {border: 1px dashed gray;margin: 0 0.4em 0.5em 0.4em;box-sizing: border-box;padding-bottom: 0.4em;background-color: white;}#sk-container-id-6 div.sk-label label {font-family: monospace;font-weight: bold;display: inline-block;line-height: 1.2em;}#sk-container-id-6 div.sk-label-container {text-align: center;}#sk-container-id-6 div.sk-container {/* jupyter's `normalize.less` sets `[hidden] { display: none; }` but bootstrap.min.css set `[hidden] { display: none !important; }` so we also need the `!important` here to be able to override the default hidden behavior on the sphinx rendered scikit-learn.org. See: https://github.com/scikit-learn/scikit-learn/issues/21755 */display: inline-block !important;position: relative;}#sk-container-id-6 div.sk-text-repr-fallback {display: none;}</style><div id=\"sk-container-id-6\" class=\"sk-top-container\"><div class=\"sk-text-repr-fallback\"><pre>Lasso(alpha=0.0001)</pre><b>In a Jupyter environment, please rerun this cell to show the HTML representation or trust the notebook. <br />On GitHub, the HTML representation is unable to render, please try loading this page with nbviewer.org.</b></div><div class=\"sk-container\" hidden><div class=\"sk-item\"><div class=\"sk-estimator sk-toggleable\"><input class=\"sk-toggleable__control sk-hidden--visually\" id=\"sk-estimator-id-10\" type=\"checkbox\" checked><label for=\"sk-estimator-id-10\" class=\"sk-toggleable__label sk-toggleable__label-arrow\">Lasso</label><div class=\"sk-toggleable__content\"><pre>Lasso(alpha=0.0001)</pre></div></div></div></div></div>"
      ],
      "text/plain": [
       "Lasso(alpha=0.0001)"
      ]
     },
     "execution_count": 42,
     "metadata": {},
     "output_type": "execute_result"
    }
   ],
   "source": [
    "linear_model2 = linear_model.Lasso(alpha=0.0001)\n",
    "linear_model2.fit(x_train_validation, y_train_validation)"
   ]
  },
  {
   "cell_type": "code",
   "execution_count": 43,
   "metadata": {},
   "outputs": [],
   "source": [
    "y_test_pred2 = linear_model2.predict(x_test)\n",
    "y_train_val_pred2 = linear_model2.predict(x_train_validation)"
   ]
  },
  {
   "cell_type": "code",
   "execution_count": 44,
   "metadata": {},
   "outputs": [
    {
     "data": {
      "text/plain": [
       "0.7638883728173227"
      ]
     },
     "execution_count": 44,
     "metadata": {},
     "output_type": "execute_result"
    }
   ],
   "source": [
    "metrics.r2_score(y_test, y_test_pred2)"
   ]
  },
  {
   "cell_type": "code",
   "execution_count": 45,
   "metadata": {},
   "outputs": [
    {
     "data": {
      "text/plain": [
       "0.7678088490446455"
      ]
     },
     "execution_count": 45,
     "metadata": {},
     "output_type": "execute_result"
    }
   ],
   "source": [
    "metrics.r2_score(y_train_validation, y_train_val_pred2)"
   ]
  },
  {
   "cell_type": "code",
   "execution_count": 46,
   "metadata": {},
   "outputs": [
    {
     "data": {
      "text/plain": [
       "752.6714068113067"
      ]
     },
     "execution_count": 46,
     "metadata": {},
     "output_type": "execute_result"
    }
   ],
   "source": [
    "MSE = metrics.mean_squared_error(y_test, y_test_pred2)\n",
    "MSE"
   ]
  },
  {
   "cell_type": "code",
   "execution_count": 47,
   "metadata": {},
   "outputs": [
    {
     "data": {
      "text/plain": [
       "752.8904233635772"
      ]
     },
     "execution_count": 47,
     "metadata": {},
     "output_type": "execute_result"
    }
   ],
   "source": [
    "MSE = metrics.mean_squared_error(y_train_validation, y_train_val_pred2)\n",
    "MSE"
   ]
  },
  {
   "cell_type": "markdown",
   "metadata": {},
   "source": [
    "## SVM"
   ]
  },
  {
   "cell_type": "code",
   "execution_count": 48,
   "metadata": {},
   "outputs": [],
   "source": [
    "from sklearn.svm import SVC"
   ]
  },
  {
   "cell_type": "code",
   "execution_count": 49,
   "metadata": {},
   "outputs": [],
   "source": [
    "x = df.drop(['ArrDelay', 'ArrDelay_target','ArrDelay_target2'], axis=1)\n",
    "\n",
    "y = df['ArrDelay_target2']  ## classification target variable"
   ]
  },
  {
   "cell_type": "code",
   "execution_count": 75,
   "metadata": {},
   "outputs": [],
   "source": [
    "x_train_validation, x_test, y_train_validation, y_test = model_selection.train_test_split(x, y, test_size=0.33, stratify=y, random_state=7)\n",
    "x_train, x_validation, y_train, y_validation = model_selection.train_test_split(x_train_validation, y_train_validation, train_size=0.8, stratify=y_train_validation, random_state=7)"
   ]
  },
  {
   "cell_type": "code",
   "execution_count": null,
   "metadata": {},
   "outputs": [],
   "source": [
    "Cs = [0.1] #, 10]   #np.array([10**i for i in range(-3, 3)])\n",
    "gammas = [0.001] #, 0.01]  #np.array([10**i for i in range(-2, 2)])\n",
    "\n",
    "\n",
    "best_score = 0\n",
    "best_params = {'C' : 0, 'gamma' : 0}\n",
    "\n",
    "for C in Cs:\n",
    "    for gamma in gammas:\n",
    "        model = SVC(C=C, gamma=gamma)\n",
    "        model.fit(x_train, y_train)\n",
    "        \n",
    "        score = model.score(x_validation, y_validation)\n",
    "        if score > best_score:\n",
    "            best_score = score\n",
    "            best_params['C'] = C\n",
    "            best_params['gamma'] = gamma"
   ]
  },
  {
   "cell_type": "code",
   "execution_count": null,
   "metadata": {},
   "outputs": [],
   "source": [
    "### This way of selection of the model lasts too long"
   ]
  },
  {
   "cell_type": "code",
   "execution_count": null,
   "metadata": {},
   "outputs": [],
   "source": [
    "model = SVC(C=0.1, gamma=0.001)\n",
    "model.fit(x_train_validation, y_train_validation)\n",
    "\n",
    "score = model.score(x_test, y_test)"
   ]
  },
  {
   "cell_type": "code",
   "execution_count": null,
   "metadata": {},
   "outputs": [],
   "source": [
    "best_score\n",
    "best_params"
   ]
  },
  {
   "cell_type": "code",
   "execution_count": null,
   "metadata": {},
   "outputs": [],
   "source": [
    "model = SVC(C=best_params['C'], gamma=best_params['gamma'])"
   ]
  },
  {
   "cell_type": "code",
   "execution_count": null,
   "metadata": {},
   "outputs": [],
   "source": [
    "model.fit(x_train_validation, y_train_validation)"
   ]
  },
  {
   "cell_type": "code",
   "execution_count": null,
   "metadata": {},
   "outputs": [],
   "source": [
    "model.score(x_test, y_test)"
   ]
  },
  {
   "cell_type": "code",
   "execution_count": null,
   "metadata": {},
   "outputs": [],
   "source": [
    "y_test_pred = model.predict(x_test)\n",
    "y_train_val_pred = model.predict(x_train_validation)"
   ]
  },
  {
   "cell_type": "code",
   "execution_count": null,
   "metadata": {},
   "outputs": [],
   "source": [
    "metrics.r2_score(y_test, y_test_pred)  ## test set\n",
    "metrics.r2_score(y_train_validation, y_train_val_pred)  ## train U validation set"
   ]
  },
  {
   "cell_type": "markdown",
   "metadata": {},
   "source": [
    "## XGBoost"
   ]
  },
  {
   "cell_type": "code",
   "execution_count": 73,
   "metadata": {},
   "outputs": [],
   "source": [
    "#pip install xgboost"
   ]
  },
  {
   "cell_type": "code",
   "execution_count": 2,
   "metadata": {},
   "outputs": [],
   "source": [
    "import xgboost"
   ]
  },
  {
   "cell_type": "code",
   "execution_count": 76,
   "metadata": {},
   "outputs": [],
   "source": [
    "model_xgboost = xgboost.XGBClassifier(n_estimators=100, max_depth=3, objective='reg:squarederror')"
   ]
  },
  {
   "cell_type": "code",
   "execution_count": 77,
   "metadata": {},
   "outputs": [
    {
     "data": {
      "text/plain": [
       "XGBClassifier(base_score=0.5, booster='gbtree', callbacks=None,\n",
       "              colsample_bylevel=1, colsample_bynode=1, colsample_bytree=1,\n",
       "              early_stopping_rounds=None, enable_categorical=False,\n",
       "              eval_metric=None, gamma=0, gpu_id=-1, grow_policy='depthwise',\n",
       "              importance_type=None, interaction_constraints='',\n",
       "              learning_rate=0.300000012, max_bin=256, max_cat_to_onehot=4,\n",
       "              max_delta_step=0, max_depth=3, max_leaves=0, min_child_weight=1,\n",
       "              missing=nan, monotone_constraints='()', n_estimators=100,\n",
       "              n_jobs=0, num_parallel_tree=1, objective='reg:squarederror',\n",
       "              predictor='auto', random_state=0, reg_alpha=0, ...)"
      ]
     },
     "execution_count": 77,
     "metadata": {},
     "output_type": "execute_result"
    }
   ],
   "source": [
    "model_xgboost.fit(x_train, y_train)"
   ]
  },
  {
   "cell_type": "code",
   "execution_count": 78,
   "metadata": {},
   "outputs": [],
   "source": [
    "y_test_predicted = model_xgboost.predict(x_test)\n",
    "y_train_predicted = model_xgboost.predict(x_train)"
   ]
  },
  {
   "cell_type": "code",
   "execution_count": 79,
   "metadata": {},
   "outputs": [
    {
     "data": {
      "text/plain": [
       "0.941127783548958"
      ]
     },
     "execution_count": 79,
     "metadata": {},
     "output_type": "execute_result"
    }
   ],
   "source": [
    "metrics.r2_score(y_test, y_test_predicted)"
   ]
  },
  {
   "cell_type": "code",
   "execution_count": 80,
   "metadata": {},
   "outputs": [
    {
     "data": {
      "text/plain": [
       "0.9415637234547227"
      ]
     },
     "execution_count": 80,
     "metadata": {},
     "output_type": "execute_result"
    }
   ],
   "source": [
    "metrics.r2_score(y_train, y_train_predicted)"
   ]
  },
  {
   "cell_type": "code",
   "execution_count": 81,
   "metadata": {},
   "outputs": [
    {
     "name": "stdout",
     "output_type": "stream",
     "text": [
      "Trening skup: \n",
      "\n",
      "Matrica konfuzije\n",
      "        0       1\n",
      "0  577381      75\n",
      "1   14817  441331\n",
      "\n",
      "\n",
      "Preciznost 0.9855921610210486\n",
      "\n",
      "\n",
      "Izvestaj klasifikacije\n",
      "              precision    recall  f1-score   support\n",
      "\n",
      "           0       0.97      1.00      0.99    577456\n",
      "           1       1.00      0.97      0.98    456148\n",
      "\n",
      "    accuracy                           0.99   1033604\n",
      "   macro avg       0.99      0.98      0.99   1033604\n",
      "weighted avg       0.99      0.99      0.99   1033604\n",
      "\n",
      "-----------------------------------------------------\n",
      "\n",
      "Test skup: \n",
      "\n",
      "Matrica konfuzije\n",
      "        0       1\n",
      "0  355475      49\n",
      "1    9188  271650\n",
      "\n",
      "\n",
      "Preciznost 0.9854846769605979\n",
      "\n",
      "\n",
      "Izvestaj klasifikacije\n",
      "              precision    recall  f1-score   support\n",
      "\n",
      "           0       0.97      1.00      0.99    355524\n",
      "           1       1.00      0.97      0.98    280838\n",
      "\n",
      "    accuracy                           0.99    636362\n",
      "   macro avg       0.99      0.98      0.99    636362\n",
      "weighted avg       0.99      0.99      0.99    636362\n",
      "\n"
     ]
    }
   ],
   "source": [
    "print('Trening skup: \\n')\n",
    "cnf_matrix = metrics.confusion_matrix(y_train, y_train_predicted)\n",
    "print(\"Matrica konfuzije\", pd.DataFrame(cnf_matrix, index=model_xgboost.classes_, columns=model_xgboost.classes_), sep=\"\\n\")\n",
    "print(\"\\n\")\n",
    "\n",
    "accuracy = metrics.accuracy_score(y_train, y_train_predicted)\n",
    "print(\"Preciznost\", accuracy)\n",
    "print(\"\\n\")\n",
    "\n",
    "class_report = metrics.classification_report(y_train, y_train_predicted)\n",
    "print(\"Izvestaj klasifikacije\", class_report, sep=\"\\n\")\n",
    "print('-----------------------------------------------------\\n')\n",
    "\n",
    "print('Test skup: \\n')\n",
    "cnf_matrix = metrics.confusion_matrix(y_test, y_test_predicted)\n",
    "print(\"Matrica konfuzije\", pd.DataFrame(cnf_matrix, index=model_xgboost.classes_, columns=model_xgboost.classes_), sep=\"\\n\")\n",
    "print(\"\\n\")\n",
    "\n",
    "accuracy = metrics.accuracy_score(y_test, y_test_predicted)\n",
    "print(\"Preciznost\", accuracy)\n",
    "print(\"\\n\")\n",
    "\n",
    "class_report = metrics.classification_report(y_test, y_test_predicted)\n",
    "print(\"Izvestaj klasifikacije\", class_report, sep=\"\\n\")"
   ]
  },
  {
   "cell_type": "code",
   "execution_count": 83,
   "metadata": {
    "scrolled": true
   },
   "outputs": [
    {
     "data": {
      "image/png": "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\n",
      "text/plain": [
       "<Figure size 432x288 with 1 Axes>"
      ]
     },
     "metadata": {
      "needs_background": "light"
     },
     "output_type": "display_data"
    }
   ],
   "source": [
    "xgboost.plot_importance(model_xgboost)\n",
    "plt.yticks(range(len(x.columns)), x.columns)\n",
    "plt.xlabel('Tezina atibuta')\n",
    "plt.ylabel('')\n",
    "plt.show()"
   ]
  },
  {
   "cell_type": "code",
   "execution_count": 72,
   "metadata": {
    "scrolled": true
   },
   "outputs": [
    {
     "data": {
      "text/plain": [
       "Index(['CRSDepTime', 'ArrTime', 'CRSArrTime', 'ActualElapsedTime', 'TaxiIn',\n",
       "       'TaxiOut', 'CarrierDelay', 'WeatherDelay', 'NASDelay', 'SecurityDelay',\n",
       "       'LateAircraftDelay', 'IsFriday', 'Is_Feb_Jun_Dec', 'carrier_avg_delay',\n",
       "       'origin_avg_delay', 'dest_avg_delay'],\n",
       "      dtype='object')"
      ]
     },
     "execution_count": 72,
     "metadata": {},
     "output_type": "execute_result"
    }
   ],
   "source": [
    "x.columns"
   ]
  },
  {
   "cell_type": "code",
   "execution_count": 82,
   "metadata": {
    "scrolled": true
   },
   "outputs": [
    {
     "data": {
      "text/plain": [
       "array([0.        , 0.        , 0.        , 0.        , 0.        ,\n",
       "       0.00134607, 0.11349294, 0.05263382, 0.07114728, 0.6642774 ,\n",
       "       0.09710249, 0.        , 0.        , 0.        , 0.        ,\n",
       "       0.        ], dtype=float32)"
      ]
     },
     "execution_count": 82,
     "metadata": {},
     "output_type": "execute_result"
    }
   ],
   "source": [
    "model_xgboost.feature_importances_"
   ]
  },
  {
   "cell_type": "code",
   "execution_count": 84,
   "metadata": {
    "scrolled": false
   },
   "outputs": [
    {
     "data": {
      "text/plain": [
       "array(['CRSDepTime', 'ArrTime', 'CRSArrTime', 'ActualElapsedTime',\n",
       "       'TaxiIn', 'TaxiOut', 'CarrierDelay', 'WeatherDelay', 'NASDelay',\n",
       "       'SecurityDelay', 'LateAircraftDelay', 'IsFriday', 'Is_Feb_Jun_Dec',\n",
       "       'carrier_avg_delay', 'origin_avg_delay', 'dest_avg_delay'],\n",
       "      dtype='<U17')"
      ]
     },
     "execution_count": 84,
     "metadata": {},
     "output_type": "execute_result"
    }
   ],
   "source": [
    "model_xgboost.feature_names_in_"
   ]
  },
  {
   "cell_type": "code",
   "execution_count": 86,
   "metadata": {},
   "outputs": [],
   "source": [
    "### Cross validation score"
   ]
  },
  {
   "cell_type": "code",
   "execution_count": 87,
   "metadata": {},
   "outputs": [],
   "source": [
    "n_est=[10, 20, 30,50,60,100]\n",
    "max_depth=[3,4,5,6]"
   ]
  },
  {
   "cell_type": "code",
   "execution_count": 88,
   "metadata": {},
   "outputs": [
    {
     "ename": "KeyboardInterrupt",
     "evalue": "",
     "output_type": "error",
     "traceback": [
      "\u001b[0;31m---------------------------------------------------------------------------\u001b[0m",
      "\u001b[0;31mKeyboardInterrupt\u001b[0m                         Traceback (most recent call last)",
      "\u001b[0;32m<ipython-input-88-c7414f0e1a68>\u001b[0m in \u001b[0;36m<module>\u001b[0;34m\u001b[0m\n\u001b[1;32m      5\u001b[0m     \u001b[0;32mfor\u001b[0m \u001b[0md\u001b[0m \u001b[0;32min\u001b[0m \u001b[0mmax_depth\u001b[0m\u001b[0;34m:\u001b[0m\u001b[0;34m\u001b[0m\u001b[0;34m\u001b[0m\u001b[0m\n\u001b[1;32m      6\u001b[0m         \u001b[0mmodel\u001b[0m \u001b[0;34m=\u001b[0m  \u001b[0mxgboost\u001b[0m\u001b[0;34m.\u001b[0m\u001b[0mXGBClassifier\u001b[0m\u001b[0;34m(\u001b[0m\u001b[0mn_estimators\u001b[0m\u001b[0;34m=\u001b[0m\u001b[0mn\u001b[0m\u001b[0;34m,\u001b[0m \u001b[0mmax_depth\u001b[0m\u001b[0;34m=\u001b[0m\u001b[0md\u001b[0m\u001b[0;34m,\u001b[0m \u001b[0mobjective\u001b[0m\u001b[0;34m=\u001b[0m\u001b[0;34m'reg:squarederror'\u001b[0m\u001b[0;34m)\u001b[0m\u001b[0;34m\u001b[0m\u001b[0;34m\u001b[0m\u001b[0m\n\u001b[0;32m----> 7\u001b[0;31m         \u001b[0mscores\u001b[0m \u001b[0;34m=\u001b[0m \u001b[0mmodel_selection\u001b[0m\u001b[0;34m.\u001b[0m\u001b[0mcross_val_score\u001b[0m\u001b[0;34m(\u001b[0m\u001b[0mmodel\u001b[0m\u001b[0;34m,\u001b[0m \u001b[0mx_train\u001b[0m\u001b[0;34m,\u001b[0m \u001b[0my_train\u001b[0m\u001b[0;34m,\u001b[0m \u001b[0mcv\u001b[0m\u001b[0;34m=\u001b[0m\u001b[0;36m5\u001b[0m\u001b[0;34m,\u001b[0m \u001b[0mscoring\u001b[0m\u001b[0;34m=\u001b[0m\u001b[0;34m'r2'\u001b[0m\u001b[0;34m)\u001b[0m\u001b[0;34m\u001b[0m\u001b[0;34m\u001b[0m\u001b[0m\n\u001b[0m\u001b[1;32m      8\u001b[0m         \u001b[0mscore\u001b[0m \u001b[0;34m=\u001b[0m \u001b[0mscores\u001b[0m\u001b[0;34m.\u001b[0m\u001b[0mmean\u001b[0m\u001b[0;34m(\u001b[0m\u001b[0;34m)\u001b[0m\u001b[0;34m\u001b[0m\u001b[0;34m\u001b[0m\u001b[0m\n\u001b[1;32m      9\u001b[0m \u001b[0;34m\u001b[0m\u001b[0m\n",
      "\u001b[0;32m~/.local/lib/python3.8/site-packages/sklearn/utils/validation.py\u001b[0m in \u001b[0;36minner_f\u001b[0;34m(*args, **kwargs)\u001b[0m\n\u001b[1;32m     61\u001b[0m             \u001b[0mextra_args\u001b[0m \u001b[0;34m=\u001b[0m \u001b[0mlen\u001b[0m\u001b[0;34m(\u001b[0m\u001b[0margs\u001b[0m\u001b[0;34m)\u001b[0m \u001b[0;34m-\u001b[0m \u001b[0mlen\u001b[0m\u001b[0;34m(\u001b[0m\u001b[0mall_args\u001b[0m\u001b[0;34m)\u001b[0m\u001b[0;34m\u001b[0m\u001b[0;34m\u001b[0m\u001b[0m\n\u001b[1;32m     62\u001b[0m             \u001b[0;32mif\u001b[0m \u001b[0mextra_args\u001b[0m \u001b[0;34m<=\u001b[0m \u001b[0;36m0\u001b[0m\u001b[0;34m:\u001b[0m\u001b[0;34m\u001b[0m\u001b[0;34m\u001b[0m\u001b[0m\n\u001b[0;32m---> 63\u001b[0;31m                 \u001b[0;32mreturn\u001b[0m \u001b[0mf\u001b[0m\u001b[0;34m(\u001b[0m\u001b[0;34m*\u001b[0m\u001b[0margs\u001b[0m\u001b[0;34m,\u001b[0m \u001b[0;34m**\u001b[0m\u001b[0mkwargs\u001b[0m\u001b[0;34m)\u001b[0m\u001b[0;34m\u001b[0m\u001b[0;34m\u001b[0m\u001b[0m\n\u001b[0m\u001b[1;32m     64\u001b[0m \u001b[0;34m\u001b[0m\u001b[0m\n\u001b[1;32m     65\u001b[0m             \u001b[0;31m# extra_args > 0\u001b[0m\u001b[0;34m\u001b[0m\u001b[0;34m\u001b[0m\u001b[0;34m\u001b[0m\u001b[0m\n",
      "\u001b[0;32m~/.local/lib/python3.8/site-packages/sklearn/model_selection/_validation.py\u001b[0m in \u001b[0;36mcross_val_score\u001b[0;34m(estimator, X, y, groups, scoring, cv, n_jobs, verbose, fit_params, pre_dispatch, error_score)\u001b[0m\n\u001b[1;32m    438\u001b[0m     \u001b[0mscorer\u001b[0m \u001b[0;34m=\u001b[0m \u001b[0mcheck_scoring\u001b[0m\u001b[0;34m(\u001b[0m\u001b[0mestimator\u001b[0m\u001b[0;34m,\u001b[0m \u001b[0mscoring\u001b[0m\u001b[0;34m=\u001b[0m\u001b[0mscoring\u001b[0m\u001b[0;34m)\u001b[0m\u001b[0;34m\u001b[0m\u001b[0;34m\u001b[0m\u001b[0m\n\u001b[1;32m    439\u001b[0m \u001b[0;34m\u001b[0m\u001b[0m\n\u001b[0;32m--> 440\u001b[0;31m     cv_results = cross_validate(estimator=estimator, X=X, y=y, groups=groups,\n\u001b[0m\u001b[1;32m    441\u001b[0m                                 \u001b[0mscoring\u001b[0m\u001b[0;34m=\u001b[0m\u001b[0;34m{\u001b[0m\u001b[0;34m'score'\u001b[0m\u001b[0;34m:\u001b[0m \u001b[0mscorer\u001b[0m\u001b[0;34m}\u001b[0m\u001b[0;34m,\u001b[0m \u001b[0mcv\u001b[0m\u001b[0;34m=\u001b[0m\u001b[0mcv\u001b[0m\u001b[0;34m,\u001b[0m\u001b[0;34m\u001b[0m\u001b[0;34m\u001b[0m\u001b[0m\n\u001b[1;32m    442\u001b[0m                                 \u001b[0mn_jobs\u001b[0m\u001b[0;34m=\u001b[0m\u001b[0mn_jobs\u001b[0m\u001b[0;34m,\u001b[0m \u001b[0mverbose\u001b[0m\u001b[0;34m=\u001b[0m\u001b[0mverbose\u001b[0m\u001b[0;34m,\u001b[0m\u001b[0;34m\u001b[0m\u001b[0;34m\u001b[0m\u001b[0m\n",
      "\u001b[0;32m~/.local/lib/python3.8/site-packages/sklearn/utils/validation.py\u001b[0m in \u001b[0;36minner_f\u001b[0;34m(*args, **kwargs)\u001b[0m\n\u001b[1;32m     61\u001b[0m             \u001b[0mextra_args\u001b[0m \u001b[0;34m=\u001b[0m \u001b[0mlen\u001b[0m\u001b[0;34m(\u001b[0m\u001b[0margs\u001b[0m\u001b[0;34m)\u001b[0m \u001b[0;34m-\u001b[0m \u001b[0mlen\u001b[0m\u001b[0;34m(\u001b[0m\u001b[0mall_args\u001b[0m\u001b[0;34m)\u001b[0m\u001b[0;34m\u001b[0m\u001b[0;34m\u001b[0m\u001b[0m\n\u001b[1;32m     62\u001b[0m             \u001b[0;32mif\u001b[0m \u001b[0mextra_args\u001b[0m \u001b[0;34m<=\u001b[0m \u001b[0;36m0\u001b[0m\u001b[0;34m:\u001b[0m\u001b[0;34m\u001b[0m\u001b[0;34m\u001b[0m\u001b[0m\n\u001b[0;32m---> 63\u001b[0;31m                 \u001b[0;32mreturn\u001b[0m \u001b[0mf\u001b[0m\u001b[0;34m(\u001b[0m\u001b[0;34m*\u001b[0m\u001b[0margs\u001b[0m\u001b[0;34m,\u001b[0m \u001b[0;34m**\u001b[0m\u001b[0mkwargs\u001b[0m\u001b[0;34m)\u001b[0m\u001b[0;34m\u001b[0m\u001b[0;34m\u001b[0m\u001b[0m\n\u001b[0m\u001b[1;32m     64\u001b[0m \u001b[0;34m\u001b[0m\u001b[0m\n\u001b[1;32m     65\u001b[0m             \u001b[0;31m# extra_args > 0\u001b[0m\u001b[0;34m\u001b[0m\u001b[0;34m\u001b[0m\u001b[0;34m\u001b[0m\u001b[0m\n",
      "\u001b[0;32m~/.local/lib/python3.8/site-packages/sklearn/model_selection/_validation.py\u001b[0m in \u001b[0;36mcross_validate\u001b[0;34m(estimator, X, y, groups, scoring, cv, n_jobs, verbose, fit_params, pre_dispatch, return_train_score, return_estimator, error_score)\u001b[0m\n\u001b[1;32m    244\u001b[0m     parallel = Parallel(n_jobs=n_jobs, verbose=verbose,\n\u001b[1;32m    245\u001b[0m                         pre_dispatch=pre_dispatch)\n\u001b[0;32m--> 246\u001b[0;31m     results = parallel(\n\u001b[0m\u001b[1;32m    247\u001b[0m         delayed(_fit_and_score)(\n\u001b[1;32m    248\u001b[0m             \u001b[0mclone\u001b[0m\u001b[0;34m(\u001b[0m\u001b[0mestimator\u001b[0m\u001b[0;34m)\u001b[0m\u001b[0;34m,\u001b[0m \u001b[0mX\u001b[0m\u001b[0;34m,\u001b[0m \u001b[0my\u001b[0m\u001b[0;34m,\u001b[0m \u001b[0mscorers\u001b[0m\u001b[0;34m,\u001b[0m \u001b[0mtrain\u001b[0m\u001b[0;34m,\u001b[0m \u001b[0mtest\u001b[0m\u001b[0;34m,\u001b[0m \u001b[0mverbose\u001b[0m\u001b[0;34m,\u001b[0m \u001b[0;32mNone\u001b[0m\u001b[0;34m,\u001b[0m\u001b[0;34m\u001b[0m\u001b[0;34m\u001b[0m\u001b[0m\n",
      "\u001b[0;32m~/.local/lib/python3.8/site-packages/joblib/parallel.py\u001b[0m in \u001b[0;36m__call__\u001b[0;34m(self, iterable)\u001b[0m\n\u001b[1;32m   1042\u001b[0m                 \u001b[0mself\u001b[0m\u001b[0;34m.\u001b[0m\u001b[0m_iterating\u001b[0m \u001b[0;34m=\u001b[0m \u001b[0mself\u001b[0m\u001b[0;34m.\u001b[0m\u001b[0m_original_iterator\u001b[0m \u001b[0;32mis\u001b[0m \u001b[0;32mnot\u001b[0m \u001b[0;32mNone\u001b[0m\u001b[0;34m\u001b[0m\u001b[0;34m\u001b[0m\u001b[0m\n\u001b[1;32m   1043\u001b[0m \u001b[0;34m\u001b[0m\u001b[0m\n\u001b[0;32m-> 1044\u001b[0;31m             \u001b[0;32mwhile\u001b[0m \u001b[0mself\u001b[0m\u001b[0;34m.\u001b[0m\u001b[0mdispatch_one_batch\u001b[0m\u001b[0;34m(\u001b[0m\u001b[0miterator\u001b[0m\u001b[0;34m)\u001b[0m\u001b[0;34m:\u001b[0m\u001b[0;34m\u001b[0m\u001b[0;34m\u001b[0m\u001b[0m\n\u001b[0m\u001b[1;32m   1045\u001b[0m                 \u001b[0;32mpass\u001b[0m\u001b[0;34m\u001b[0m\u001b[0;34m\u001b[0m\u001b[0m\n\u001b[1;32m   1046\u001b[0m \u001b[0;34m\u001b[0m\u001b[0m\n",
      "\u001b[0;32m~/.local/lib/python3.8/site-packages/joblib/parallel.py\u001b[0m in \u001b[0;36mdispatch_one_batch\u001b[0;34m(self, iterator)\u001b[0m\n\u001b[1;32m    857\u001b[0m                 \u001b[0;32mreturn\u001b[0m \u001b[0;32mFalse\u001b[0m\u001b[0;34m\u001b[0m\u001b[0;34m\u001b[0m\u001b[0m\n\u001b[1;32m    858\u001b[0m             \u001b[0;32melse\u001b[0m\u001b[0;34m:\u001b[0m\u001b[0;34m\u001b[0m\u001b[0;34m\u001b[0m\u001b[0m\n\u001b[0;32m--> 859\u001b[0;31m                 \u001b[0mself\u001b[0m\u001b[0;34m.\u001b[0m\u001b[0m_dispatch\u001b[0m\u001b[0;34m(\u001b[0m\u001b[0mtasks\u001b[0m\u001b[0;34m)\u001b[0m\u001b[0;34m\u001b[0m\u001b[0;34m\u001b[0m\u001b[0m\n\u001b[0m\u001b[1;32m    860\u001b[0m                 \u001b[0;32mreturn\u001b[0m \u001b[0;32mTrue\u001b[0m\u001b[0;34m\u001b[0m\u001b[0;34m\u001b[0m\u001b[0m\n\u001b[1;32m    861\u001b[0m \u001b[0;34m\u001b[0m\u001b[0m\n",
      "\u001b[0;32m~/.local/lib/python3.8/site-packages/joblib/parallel.py\u001b[0m in \u001b[0;36m_dispatch\u001b[0;34m(self, batch)\u001b[0m\n\u001b[1;32m    775\u001b[0m         \u001b[0;32mwith\u001b[0m \u001b[0mself\u001b[0m\u001b[0;34m.\u001b[0m\u001b[0m_lock\u001b[0m\u001b[0;34m:\u001b[0m\u001b[0;34m\u001b[0m\u001b[0;34m\u001b[0m\u001b[0m\n\u001b[1;32m    776\u001b[0m             \u001b[0mjob_idx\u001b[0m \u001b[0;34m=\u001b[0m \u001b[0mlen\u001b[0m\u001b[0;34m(\u001b[0m\u001b[0mself\u001b[0m\u001b[0;34m.\u001b[0m\u001b[0m_jobs\u001b[0m\u001b[0;34m)\u001b[0m\u001b[0;34m\u001b[0m\u001b[0;34m\u001b[0m\u001b[0m\n\u001b[0;32m--> 777\u001b[0;31m             \u001b[0mjob\u001b[0m \u001b[0;34m=\u001b[0m \u001b[0mself\u001b[0m\u001b[0;34m.\u001b[0m\u001b[0m_backend\u001b[0m\u001b[0;34m.\u001b[0m\u001b[0mapply_async\u001b[0m\u001b[0;34m(\u001b[0m\u001b[0mbatch\u001b[0m\u001b[0;34m,\u001b[0m \u001b[0mcallback\u001b[0m\u001b[0;34m=\u001b[0m\u001b[0mcb\u001b[0m\u001b[0;34m)\u001b[0m\u001b[0;34m\u001b[0m\u001b[0;34m\u001b[0m\u001b[0m\n\u001b[0m\u001b[1;32m    778\u001b[0m             \u001b[0;31m# A job can complete so quickly than its callback is\u001b[0m\u001b[0;34m\u001b[0m\u001b[0;34m\u001b[0m\u001b[0;34m\u001b[0m\u001b[0m\n\u001b[1;32m    779\u001b[0m             \u001b[0;31m# called before we get here, causing self._jobs to\u001b[0m\u001b[0;34m\u001b[0m\u001b[0;34m\u001b[0m\u001b[0;34m\u001b[0m\u001b[0m\n",
      "\u001b[0;32m~/.local/lib/python3.8/site-packages/joblib/_parallel_backends.py\u001b[0m in \u001b[0;36mapply_async\u001b[0;34m(self, func, callback)\u001b[0m\n\u001b[1;32m    206\u001b[0m     \u001b[0;32mdef\u001b[0m \u001b[0mapply_async\u001b[0m\u001b[0;34m(\u001b[0m\u001b[0mself\u001b[0m\u001b[0;34m,\u001b[0m \u001b[0mfunc\u001b[0m\u001b[0;34m,\u001b[0m \u001b[0mcallback\u001b[0m\u001b[0;34m=\u001b[0m\u001b[0;32mNone\u001b[0m\u001b[0;34m)\u001b[0m\u001b[0;34m:\u001b[0m\u001b[0;34m\u001b[0m\u001b[0;34m\u001b[0m\u001b[0m\n\u001b[1;32m    207\u001b[0m         \u001b[0;34m\"\"\"Schedule a func to be run\"\"\"\u001b[0m\u001b[0;34m\u001b[0m\u001b[0;34m\u001b[0m\u001b[0m\n\u001b[0;32m--> 208\u001b[0;31m         \u001b[0mresult\u001b[0m \u001b[0;34m=\u001b[0m \u001b[0mImmediateResult\u001b[0m\u001b[0;34m(\u001b[0m\u001b[0mfunc\u001b[0m\u001b[0;34m)\u001b[0m\u001b[0;34m\u001b[0m\u001b[0;34m\u001b[0m\u001b[0m\n\u001b[0m\u001b[1;32m    209\u001b[0m         \u001b[0;32mif\u001b[0m \u001b[0mcallback\u001b[0m\u001b[0;34m:\u001b[0m\u001b[0;34m\u001b[0m\u001b[0;34m\u001b[0m\u001b[0m\n\u001b[1;32m    210\u001b[0m             \u001b[0mcallback\u001b[0m\u001b[0;34m(\u001b[0m\u001b[0mresult\u001b[0m\u001b[0;34m)\u001b[0m\u001b[0;34m\u001b[0m\u001b[0;34m\u001b[0m\u001b[0m\n",
      "\u001b[0;32m~/.local/lib/python3.8/site-packages/joblib/_parallel_backends.py\u001b[0m in \u001b[0;36m__init__\u001b[0;34m(self, batch)\u001b[0m\n\u001b[1;32m    570\u001b[0m         \u001b[0;31m# Don't delay the application, to avoid keeping the input\u001b[0m\u001b[0;34m\u001b[0m\u001b[0;34m\u001b[0m\u001b[0;34m\u001b[0m\u001b[0m\n\u001b[1;32m    571\u001b[0m         \u001b[0;31m# arguments in memory\u001b[0m\u001b[0;34m\u001b[0m\u001b[0;34m\u001b[0m\u001b[0;34m\u001b[0m\u001b[0m\n\u001b[0;32m--> 572\u001b[0;31m         \u001b[0mself\u001b[0m\u001b[0;34m.\u001b[0m\u001b[0mresults\u001b[0m \u001b[0;34m=\u001b[0m \u001b[0mbatch\u001b[0m\u001b[0;34m(\u001b[0m\u001b[0;34m)\u001b[0m\u001b[0;34m\u001b[0m\u001b[0;34m\u001b[0m\u001b[0m\n\u001b[0m\u001b[1;32m    573\u001b[0m \u001b[0;34m\u001b[0m\u001b[0m\n\u001b[1;32m    574\u001b[0m     \u001b[0;32mdef\u001b[0m \u001b[0mget\u001b[0m\u001b[0;34m(\u001b[0m\u001b[0mself\u001b[0m\u001b[0;34m)\u001b[0m\u001b[0;34m:\u001b[0m\u001b[0;34m\u001b[0m\u001b[0;34m\u001b[0m\u001b[0m\n",
      "\u001b[0;32m~/.local/lib/python3.8/site-packages/joblib/parallel.py\u001b[0m in \u001b[0;36m__call__\u001b[0;34m(self)\u001b[0m\n\u001b[1;32m    260\u001b[0m         \u001b[0;31m# change the default number of processes to -1\u001b[0m\u001b[0;34m\u001b[0m\u001b[0;34m\u001b[0m\u001b[0;34m\u001b[0m\u001b[0m\n\u001b[1;32m    261\u001b[0m         \u001b[0;32mwith\u001b[0m \u001b[0mparallel_backend\u001b[0m\u001b[0;34m(\u001b[0m\u001b[0mself\u001b[0m\u001b[0;34m.\u001b[0m\u001b[0m_backend\u001b[0m\u001b[0;34m,\u001b[0m \u001b[0mn_jobs\u001b[0m\u001b[0;34m=\u001b[0m\u001b[0mself\u001b[0m\u001b[0;34m.\u001b[0m\u001b[0m_n_jobs\u001b[0m\u001b[0;34m)\u001b[0m\u001b[0;34m:\u001b[0m\u001b[0;34m\u001b[0m\u001b[0;34m\u001b[0m\u001b[0m\n\u001b[0;32m--> 262\u001b[0;31m             return [func(*args, **kwargs)\n\u001b[0m\u001b[1;32m    263\u001b[0m                     for func, args, kwargs in self.items]\n\u001b[1;32m    264\u001b[0m \u001b[0;34m\u001b[0m\u001b[0m\n",
      "\u001b[0;32m~/.local/lib/python3.8/site-packages/joblib/parallel.py\u001b[0m in \u001b[0;36m<listcomp>\u001b[0;34m(.0)\u001b[0m\n\u001b[1;32m    260\u001b[0m         \u001b[0;31m# change the default number of processes to -1\u001b[0m\u001b[0;34m\u001b[0m\u001b[0;34m\u001b[0m\u001b[0;34m\u001b[0m\u001b[0m\n\u001b[1;32m    261\u001b[0m         \u001b[0;32mwith\u001b[0m \u001b[0mparallel_backend\u001b[0m\u001b[0;34m(\u001b[0m\u001b[0mself\u001b[0m\u001b[0;34m.\u001b[0m\u001b[0m_backend\u001b[0m\u001b[0;34m,\u001b[0m \u001b[0mn_jobs\u001b[0m\u001b[0;34m=\u001b[0m\u001b[0mself\u001b[0m\u001b[0;34m.\u001b[0m\u001b[0m_n_jobs\u001b[0m\u001b[0;34m)\u001b[0m\u001b[0;34m:\u001b[0m\u001b[0;34m\u001b[0m\u001b[0;34m\u001b[0m\u001b[0m\n\u001b[0;32m--> 262\u001b[0;31m             return [func(*args, **kwargs)\n\u001b[0m\u001b[1;32m    263\u001b[0m                     for func, args, kwargs in self.items]\n\u001b[1;32m    264\u001b[0m \u001b[0;34m\u001b[0m\u001b[0m\n",
      "\u001b[0;32m~/.local/lib/python3.8/site-packages/sklearn/utils/fixes.py\u001b[0m in \u001b[0;36m__call__\u001b[0;34m(self, *args, **kwargs)\u001b[0m\n\u001b[1;32m    220\u001b[0m     \u001b[0;32mdef\u001b[0m \u001b[0m__call__\u001b[0m\u001b[0;34m(\u001b[0m\u001b[0mself\u001b[0m\u001b[0;34m,\u001b[0m \u001b[0;34m*\u001b[0m\u001b[0margs\u001b[0m\u001b[0;34m,\u001b[0m \u001b[0;34m**\u001b[0m\u001b[0mkwargs\u001b[0m\u001b[0;34m)\u001b[0m\u001b[0;34m:\u001b[0m\u001b[0;34m\u001b[0m\u001b[0;34m\u001b[0m\u001b[0m\n\u001b[1;32m    221\u001b[0m         \u001b[0;32mwith\u001b[0m \u001b[0mconfig_context\u001b[0m\u001b[0;34m(\u001b[0m\u001b[0;34m**\u001b[0m\u001b[0mself\u001b[0m\u001b[0;34m.\u001b[0m\u001b[0mconfig\u001b[0m\u001b[0;34m)\u001b[0m\u001b[0;34m:\u001b[0m\u001b[0;34m\u001b[0m\u001b[0;34m\u001b[0m\u001b[0m\n\u001b[0;32m--> 222\u001b[0;31m             \u001b[0;32mreturn\u001b[0m \u001b[0mself\u001b[0m\u001b[0;34m.\u001b[0m\u001b[0mfunction\u001b[0m\u001b[0;34m(\u001b[0m\u001b[0;34m*\u001b[0m\u001b[0margs\u001b[0m\u001b[0;34m,\u001b[0m \u001b[0;34m**\u001b[0m\u001b[0mkwargs\u001b[0m\u001b[0;34m)\u001b[0m\u001b[0;34m\u001b[0m\u001b[0;34m\u001b[0m\u001b[0m\n\u001b[0m",
      "\u001b[0;32m~/.local/lib/python3.8/site-packages/sklearn/model_selection/_validation.py\u001b[0m in \u001b[0;36m_fit_and_score\u001b[0;34m(estimator, X, y, scorer, train, test, verbose, parameters, fit_params, return_train_score, return_parameters, return_n_test_samples, return_times, return_estimator, split_progress, candidate_progress, error_score)\u001b[0m\n\u001b[1;32m    591\u001b[0m             \u001b[0mestimator\u001b[0m\u001b[0;34m.\u001b[0m\u001b[0mfit\u001b[0m\u001b[0;34m(\u001b[0m\u001b[0mX_train\u001b[0m\u001b[0;34m,\u001b[0m \u001b[0;34m**\u001b[0m\u001b[0mfit_params\u001b[0m\u001b[0;34m)\u001b[0m\u001b[0;34m\u001b[0m\u001b[0;34m\u001b[0m\u001b[0m\n\u001b[1;32m    592\u001b[0m         \u001b[0;32melse\u001b[0m\u001b[0;34m:\u001b[0m\u001b[0;34m\u001b[0m\u001b[0;34m\u001b[0m\u001b[0m\n\u001b[0;32m--> 593\u001b[0;31m             \u001b[0mestimator\u001b[0m\u001b[0;34m.\u001b[0m\u001b[0mfit\u001b[0m\u001b[0;34m(\u001b[0m\u001b[0mX_train\u001b[0m\u001b[0;34m,\u001b[0m \u001b[0my_train\u001b[0m\u001b[0;34m,\u001b[0m \u001b[0;34m**\u001b[0m\u001b[0mfit_params\u001b[0m\u001b[0;34m)\u001b[0m\u001b[0;34m\u001b[0m\u001b[0;34m\u001b[0m\u001b[0m\n\u001b[0m\u001b[1;32m    594\u001b[0m \u001b[0;34m\u001b[0m\u001b[0m\n\u001b[1;32m    595\u001b[0m     \u001b[0;32mexcept\u001b[0m \u001b[0mException\u001b[0m \u001b[0;32mas\u001b[0m \u001b[0me\u001b[0m\u001b[0;34m:\u001b[0m\u001b[0;34m\u001b[0m\u001b[0;34m\u001b[0m\u001b[0m\n",
      "\u001b[0;32m~/.local/lib/python3.8/site-packages/xgboost/core.py\u001b[0m in \u001b[0;36minner_f\u001b[0;34m(*args, **kwargs)\u001b[0m\n\u001b[1;32m    530\u001b[0m         \u001b[0;32mfor\u001b[0m \u001b[0mk\u001b[0m\u001b[0;34m,\u001b[0m \u001b[0marg\u001b[0m \u001b[0;32min\u001b[0m \u001b[0mzip\u001b[0m\u001b[0;34m(\u001b[0m\u001b[0msig\u001b[0m\u001b[0;34m.\u001b[0m\u001b[0mparameters\u001b[0m\u001b[0;34m,\u001b[0m \u001b[0margs\u001b[0m\u001b[0;34m)\u001b[0m\u001b[0;34m:\u001b[0m\u001b[0;34m\u001b[0m\u001b[0;34m\u001b[0m\u001b[0m\n\u001b[1;32m    531\u001b[0m             \u001b[0mkwargs\u001b[0m\u001b[0;34m[\u001b[0m\u001b[0mk\u001b[0m\u001b[0;34m]\u001b[0m \u001b[0;34m=\u001b[0m \u001b[0marg\u001b[0m\u001b[0;34m\u001b[0m\u001b[0;34m\u001b[0m\u001b[0m\n\u001b[0;32m--> 532\u001b[0;31m         \u001b[0;32mreturn\u001b[0m \u001b[0mf\u001b[0m\u001b[0;34m(\u001b[0m\u001b[0;34m**\u001b[0m\u001b[0mkwargs\u001b[0m\u001b[0;34m)\u001b[0m\u001b[0;34m\u001b[0m\u001b[0;34m\u001b[0m\u001b[0m\n\u001b[0m\u001b[1;32m    533\u001b[0m \u001b[0;34m\u001b[0m\u001b[0m\n\u001b[1;32m    534\u001b[0m     \u001b[0;32mreturn\u001b[0m \u001b[0minner_f\u001b[0m\u001b[0;34m\u001b[0m\u001b[0;34m\u001b[0m\u001b[0m\n",
      "\u001b[0;32m~/.local/lib/python3.8/site-packages/xgboost/sklearn.py\u001b[0m in \u001b[0;36mfit\u001b[0;34m(self, X, y, sample_weight, base_margin, eval_set, eval_metric, early_stopping_rounds, verbose, xgb_model, sample_weight_eval_set, base_margin_eval_set, feature_weights, callbacks)\u001b[0m\n\u001b[1;32m   1398\u001b[0m         )\n\u001b[1;32m   1399\u001b[0m \u001b[0;34m\u001b[0m\u001b[0m\n\u001b[0;32m-> 1400\u001b[0;31m         self._Booster = train(\n\u001b[0m\u001b[1;32m   1401\u001b[0m             \u001b[0mparams\u001b[0m\u001b[0;34m,\u001b[0m\u001b[0;34m\u001b[0m\u001b[0;34m\u001b[0m\u001b[0m\n\u001b[1;32m   1402\u001b[0m             \u001b[0mtrain_dmatrix\u001b[0m\u001b[0;34m,\u001b[0m\u001b[0;34m\u001b[0m\u001b[0;34m\u001b[0m\u001b[0m\n",
      "\u001b[0;32m~/.local/lib/python3.8/site-packages/xgboost/core.py\u001b[0m in \u001b[0;36minner_f\u001b[0;34m(*args, **kwargs)\u001b[0m\n\u001b[1;32m    530\u001b[0m         \u001b[0;32mfor\u001b[0m \u001b[0mk\u001b[0m\u001b[0;34m,\u001b[0m \u001b[0marg\u001b[0m \u001b[0;32min\u001b[0m \u001b[0mzip\u001b[0m\u001b[0;34m(\u001b[0m\u001b[0msig\u001b[0m\u001b[0;34m.\u001b[0m\u001b[0mparameters\u001b[0m\u001b[0;34m,\u001b[0m \u001b[0margs\u001b[0m\u001b[0;34m)\u001b[0m\u001b[0;34m:\u001b[0m\u001b[0;34m\u001b[0m\u001b[0;34m\u001b[0m\u001b[0m\n\u001b[1;32m    531\u001b[0m             \u001b[0mkwargs\u001b[0m\u001b[0;34m[\u001b[0m\u001b[0mk\u001b[0m\u001b[0;34m]\u001b[0m \u001b[0;34m=\u001b[0m \u001b[0marg\u001b[0m\u001b[0;34m\u001b[0m\u001b[0;34m\u001b[0m\u001b[0m\n\u001b[0;32m--> 532\u001b[0;31m         \u001b[0;32mreturn\u001b[0m \u001b[0mf\u001b[0m\u001b[0;34m(\u001b[0m\u001b[0;34m**\u001b[0m\u001b[0mkwargs\u001b[0m\u001b[0;34m)\u001b[0m\u001b[0;34m\u001b[0m\u001b[0;34m\u001b[0m\u001b[0m\n\u001b[0m\u001b[1;32m    533\u001b[0m \u001b[0;34m\u001b[0m\u001b[0m\n\u001b[1;32m    534\u001b[0m     \u001b[0;32mreturn\u001b[0m \u001b[0minner_f\u001b[0m\u001b[0;34m\u001b[0m\u001b[0;34m\u001b[0m\u001b[0m\n",
      "\u001b[0;32m~/.local/lib/python3.8/site-packages/xgboost/training.py\u001b[0m in \u001b[0;36mtrain\u001b[0;34m(params, dtrain, num_boost_round, evals, obj, feval, maximize, early_stopping_rounds, evals_result, verbose_eval, xgb_model, callbacks, custom_metric)\u001b[0m\n\u001b[1;32m    179\u001b[0m         \u001b[0;32mif\u001b[0m \u001b[0mcb_container\u001b[0m\u001b[0;34m.\u001b[0m\u001b[0mbefore_iteration\u001b[0m\u001b[0;34m(\u001b[0m\u001b[0mbst\u001b[0m\u001b[0;34m,\u001b[0m \u001b[0mi\u001b[0m\u001b[0;34m,\u001b[0m \u001b[0mdtrain\u001b[0m\u001b[0;34m,\u001b[0m \u001b[0mevals\u001b[0m\u001b[0;34m)\u001b[0m\u001b[0;34m:\u001b[0m\u001b[0;34m\u001b[0m\u001b[0;34m\u001b[0m\u001b[0m\n\u001b[1;32m    180\u001b[0m             \u001b[0;32mbreak\u001b[0m\u001b[0;34m\u001b[0m\u001b[0;34m\u001b[0m\u001b[0m\n\u001b[0;32m--> 181\u001b[0;31m         \u001b[0mbst\u001b[0m\u001b[0;34m.\u001b[0m\u001b[0mupdate\u001b[0m\u001b[0;34m(\u001b[0m\u001b[0mdtrain\u001b[0m\u001b[0;34m,\u001b[0m \u001b[0mi\u001b[0m\u001b[0;34m,\u001b[0m \u001b[0mobj\u001b[0m\u001b[0;34m)\u001b[0m\u001b[0;34m\u001b[0m\u001b[0;34m\u001b[0m\u001b[0m\n\u001b[0m\u001b[1;32m    182\u001b[0m         \u001b[0;32mif\u001b[0m \u001b[0mcb_container\u001b[0m\u001b[0;34m.\u001b[0m\u001b[0mafter_iteration\u001b[0m\u001b[0;34m(\u001b[0m\u001b[0mbst\u001b[0m\u001b[0;34m,\u001b[0m \u001b[0mi\u001b[0m\u001b[0;34m,\u001b[0m \u001b[0mdtrain\u001b[0m\u001b[0;34m,\u001b[0m \u001b[0mevals\u001b[0m\u001b[0;34m)\u001b[0m\u001b[0;34m:\u001b[0m\u001b[0;34m\u001b[0m\u001b[0;34m\u001b[0m\u001b[0m\n\u001b[1;32m    183\u001b[0m             \u001b[0;32mbreak\u001b[0m\u001b[0;34m\u001b[0m\u001b[0;34m\u001b[0m\u001b[0m\n",
      "\u001b[0;32m~/.local/lib/python3.8/site-packages/xgboost/core.py\u001b[0m in \u001b[0;36mupdate\u001b[0;34m(self, dtrain, iteration, fobj)\u001b[0m\n\u001b[1;32m   1731\u001b[0m \u001b[0;34m\u001b[0m\u001b[0m\n\u001b[1;32m   1732\u001b[0m         \u001b[0;32mif\u001b[0m \u001b[0mfobj\u001b[0m \u001b[0;32mis\u001b[0m \u001b[0;32mNone\u001b[0m\u001b[0;34m:\u001b[0m\u001b[0;34m\u001b[0m\u001b[0;34m\u001b[0m\u001b[0m\n\u001b[0;32m-> 1733\u001b[0;31m             _check_call(_LIB.XGBoosterUpdateOneIter(self.handle,\n\u001b[0m\u001b[1;32m   1734\u001b[0m                                                     \u001b[0mctypes\u001b[0m\u001b[0;34m.\u001b[0m\u001b[0mc_int\u001b[0m\u001b[0;34m(\u001b[0m\u001b[0miteration\u001b[0m\u001b[0;34m)\u001b[0m\u001b[0;34m,\u001b[0m\u001b[0;34m\u001b[0m\u001b[0;34m\u001b[0m\u001b[0m\n\u001b[1;32m   1735\u001b[0m                                                     dtrain.handle))\n",
      "\u001b[0;31mKeyboardInterrupt\u001b[0m: "
     ]
    }
   ],
   "source": [
    "best_score=0\n",
    "best_params = {'n_estimators' : 0, 'max_depth' : 0}\n",
    "\n",
    "for n in n_est:\n",
    "    for d in max_depth:\n",
    "        model =  xgboost.XGBClassifier(n_estimators=n, max_depth=d, objective='reg:squarederror')\n",
    "        scores = model_selection.cross_val_score(model, x_train, y_train, cv=5, scoring='r2')        \n",
    "        score = scores.mean()\n",
    "        \n",
    "        if score > best_score:\n",
    "            best_score = score\n",
    "            best_params['n_estimators'] = n\n",
    "            best_params['max_depth'] = d"
   ]
  },
  {
   "cell_type": "code",
   "execution_count": null,
   "metadata": {},
   "outputs": [],
   "source": []
  },
  {
   "cell_type": "code",
   "execution_count": 45,
   "metadata": {},
   "outputs": [],
   "source": [
    "### Random forest"
   ]
  },
  {
   "cell_type": "code",
   "execution_count": 46,
   "metadata": {},
   "outputs": [],
   "source": [
    "from sklearn import ensemble"
   ]
  },
  {
   "cell_type": "code",
   "execution_count": 51,
   "metadata": {},
   "outputs": [],
   "source": [
    "x_train, x_test, y_train, y_test = model_selection.train_test_split(x, y, test_size=0.33, random_state=7)\n",
    "#x_train, x_validation, y_train, y_validation = model_selection.train_test_split(x_train_validation, y_train_validation, train_size=0.8, random_state=7)"
   ]
  },
  {
   "cell_type": "code",
   "execution_count": null,
   "metadata": {},
   "outputs": [],
   "source": [
    "#### What is the difference between RF and BaggingClassifier(DT)"
   ]
  },
  {
   "cell_type": "code",
   "execution_count": 52,
   "metadata": {},
   "outputs": [],
   "source": [
    "### StandardScaler\n",
    "\n",
    "scaler1=preprocessing.StandardScaler()\n",
    "\n",
    "scaler1.fit(x_train)\n",
    "\n",
    "x_train=scaler1.transform(x_train)\n",
    "#x_validation = scaler1.transform(x_validation)\n",
    "#x_train_validation = scaler1.transform(x_train_validation)\n",
    "x_test=scaler1.transform(x_test)"
   ]
  },
  {
   "cell_type": "code",
   "execution_count": 72,
   "metadata": {},
   "outputs": [],
   "source": [
    "n_est=[10, 20, 30,50,60,100]\n",
    "max_depth=[3,4,5,6]"
   ]
  },
  {
   "cell_type": "code",
   "execution_count": 73,
   "metadata": {},
   "outputs": [],
   "source": [
    "best_score=0\n",
    "best_params = {'n_estimators' : 0, 'max_depth' : 0}\n",
    "\n",
    "for n in n_est:\n",
    "    for d in max_depth:\n",
    "        model =  ensemble.RandomForestRegressor(n_estimators=n, max_depth=d)\n",
    "        scores = model_selection.cross_val_score(model, x_train, y_train, cv=10, scoring='r2')        \n",
    "        score = scores.mean()\n",
    "        \n",
    "        if score > best_score:\n",
    "            best_score = score\n",
    "            best_params['n_estimators'] = n\n",
    "            best_params['max_depth'] = d"
   ]
  },
  {
   "cell_type": "code",
   "execution_count": null,
   "metadata": {},
   "outputs": [],
   "source": [
    "### the training was not finished even after 48h"
   ]
  },
  {
   "cell_type": "code",
   "execution_count": 60,
   "metadata": {},
   "outputs": [],
   "source": [
    "model =  ensemble.RandomForestRegressor(n_estimators=10, max_depth=6)\n",
    "\n"
   ]
  },
  {
   "cell_type": "code",
   "execution_count": 61,
   "metadata": {},
   "outputs": [
    {
     "data": {
      "text/html": [
       "<style>#sk-container-id-7 {color: black;background-color: white;}#sk-container-id-7 pre{padding: 0;}#sk-container-id-7 div.sk-toggleable {background-color: white;}#sk-container-id-7 label.sk-toggleable__label {cursor: pointer;display: block;width: 100%;margin-bottom: 0;padding: 0.3em;box-sizing: border-box;text-align: center;}#sk-container-id-7 label.sk-toggleable__label-arrow:before {content: \"▸\";float: left;margin-right: 0.25em;color: #696969;}#sk-container-id-7 label.sk-toggleable__label-arrow:hover:before {color: black;}#sk-container-id-7 div.sk-estimator:hover label.sk-toggleable__label-arrow:before {color: black;}#sk-container-id-7 div.sk-toggleable__content {max-height: 0;max-width: 0;overflow: hidden;text-align: left;background-color: #f0f8ff;}#sk-container-id-7 div.sk-toggleable__content pre {margin: 0.2em;color: black;border-radius: 0.25em;background-color: #f0f8ff;}#sk-container-id-7 input.sk-toggleable__control:checked~div.sk-toggleable__content {max-height: 200px;max-width: 100%;overflow: auto;}#sk-container-id-7 input.sk-toggleable__control:checked~label.sk-toggleable__label-arrow:before {content: \"▾\";}#sk-container-id-7 div.sk-estimator input.sk-toggleable__control:checked~label.sk-toggleable__label {background-color: #d4ebff;}#sk-container-id-7 div.sk-label input.sk-toggleable__control:checked~label.sk-toggleable__label {background-color: #d4ebff;}#sk-container-id-7 input.sk-hidden--visually {border: 0;clip: rect(1px 1px 1px 1px);clip: rect(1px, 1px, 1px, 1px);height: 1px;margin: -1px;overflow: hidden;padding: 0;position: absolute;width: 1px;}#sk-container-id-7 div.sk-estimator {font-family: monospace;background-color: #f0f8ff;border: 1px dotted black;border-radius: 0.25em;box-sizing: border-box;margin-bottom: 0.5em;}#sk-container-id-7 div.sk-estimator:hover {background-color: #d4ebff;}#sk-container-id-7 div.sk-parallel-item::after {content: \"\";width: 100%;border-bottom: 1px solid gray;flex-grow: 1;}#sk-container-id-7 div.sk-label:hover label.sk-toggleable__label {background-color: #d4ebff;}#sk-container-id-7 div.sk-serial::before {content: \"\";position: absolute;border-left: 1px solid gray;box-sizing: border-box;top: 0;bottom: 0;left: 50%;z-index: 0;}#sk-container-id-7 div.sk-serial {display: flex;flex-direction: column;align-items: center;background-color: white;padding-right: 0.2em;padding-left: 0.2em;position: relative;}#sk-container-id-7 div.sk-item {position: relative;z-index: 1;}#sk-container-id-7 div.sk-parallel {display: flex;align-items: stretch;justify-content: center;background-color: white;position: relative;}#sk-container-id-7 div.sk-item::before, #sk-container-id-7 div.sk-parallel-item::before {content: \"\";position: absolute;border-left: 1px solid gray;box-sizing: border-box;top: 0;bottom: 0;left: 50%;z-index: -1;}#sk-container-id-7 div.sk-parallel-item {display: flex;flex-direction: column;z-index: 1;position: relative;background-color: white;}#sk-container-id-7 div.sk-parallel-item:first-child::after {align-self: flex-end;width: 50%;}#sk-container-id-7 div.sk-parallel-item:last-child::after {align-self: flex-start;width: 50%;}#sk-container-id-7 div.sk-parallel-item:only-child::after {width: 0;}#sk-container-id-7 div.sk-dashed-wrapped {border: 1px dashed gray;margin: 0 0.4em 0.5em 0.4em;box-sizing: border-box;padding-bottom: 0.4em;background-color: white;}#sk-container-id-7 div.sk-label label {font-family: monospace;font-weight: bold;display: inline-block;line-height: 1.2em;}#sk-container-id-7 div.sk-label-container {text-align: center;}#sk-container-id-7 div.sk-container {/* jupyter's `normalize.less` sets `[hidden] { display: none; }` but bootstrap.min.css set `[hidden] { display: none !important; }` so we also need the `!important` here to be able to override the default hidden behavior on the sphinx rendered scikit-learn.org. See: https://github.com/scikit-learn/scikit-learn/issues/21755 */display: inline-block !important;position: relative;}#sk-container-id-7 div.sk-text-repr-fallback {display: none;}</style><div id=\"sk-container-id-7\" class=\"sk-top-container\"><div class=\"sk-text-repr-fallback\"><pre>RandomForestRegressor(max_depth=6, n_estimators=10)</pre><b>In a Jupyter environment, please rerun this cell to show the HTML representation or trust the notebook. <br />On GitHub, the HTML representation is unable to render, please try loading this page with nbviewer.org.</b></div><div class=\"sk-container\" hidden><div class=\"sk-item\"><div class=\"sk-estimator sk-toggleable\"><input class=\"sk-toggleable__control sk-hidden--visually\" id=\"sk-estimator-id-11\" type=\"checkbox\" checked><label for=\"sk-estimator-id-11\" class=\"sk-toggleable__label sk-toggleable__label-arrow\">RandomForestRegressor</label><div class=\"sk-toggleable__content\"><pre>RandomForestRegressor(max_depth=6, n_estimators=10)</pre></div></div></div></div></div>"
      ],
      "text/plain": [
       "RandomForestRegressor(max_depth=6, n_estimators=10)"
      ]
     },
     "execution_count": 61,
     "metadata": {},
     "output_type": "execute_result"
    }
   ],
   "source": [
    "model.fit(x_train, y_train)"
   ]
  },
  {
   "cell_type": "code",
   "execution_count": 62,
   "metadata": {},
   "outputs": [],
   "source": [
    "y_train_pred=model.predict(x_train)"
   ]
  },
  {
   "cell_type": "code",
   "execution_count": 63,
   "metadata": {
    "scrolled": true
   },
   "outputs": [
    {
     "data": {
      "text/plain": [
       "0.878155851103488"
      ]
     },
     "execution_count": 63,
     "metadata": {},
     "output_type": "execute_result"
    }
   ],
   "source": [
    "metrics.r2_score(y_train, y_train_pred)"
   ]
  },
  {
   "cell_type": "code",
   "execution_count": 64,
   "metadata": {},
   "outputs": [],
   "source": [
    "y_test_pred=model.predict(x_test)"
   ]
  },
  {
   "cell_type": "code",
   "execution_count": 65,
   "metadata": {
    "scrolled": true
   },
   "outputs": [
    {
     "data": {
      "text/plain": [
       "0.8782574851041292"
      ]
     },
     "execution_count": 65,
     "metadata": {},
     "output_type": "execute_result"
    }
   ],
   "source": [
    "metrics.r2_score(y_test, y_test_pred)"
   ]
  },
  {
   "cell_type": "code",
   "execution_count": 74,
   "metadata": {},
   "outputs": [],
   "source": [
    "### training lasted for ~2min"
   ]
  },
  {
   "cell_type": "code",
   "execution_count": 72,
   "metadata": {},
   "outputs": [],
   "source": [
    "n_est=[10]#,100]#,50,60,100]\n",
    "max_depth=[6]#,4,5,6]"
   ]
  },
  {
   "cell_type": "code",
   "execution_count": 73,
   "metadata": {},
   "outputs": [],
   "source": [
    "best_score=0\n",
    "best_params = {'n_estimators' : 0, 'max_depth' : 0}\n",
    "\n",
    "for n in n_est:\n",
    "    for d in max_depth:\n",
    "        model =  ensemble.RandomForestRegressor(n_estimators=n, max_depth=d)\n",
    "        scores = model_selection.cross_val_score(model, x_train, y_train, cv=5, scoring='r2')        \n",
    "        score = scores.mean()\n",
    "        \n",
    "        if score > best_score:\n",
    "            best_score = score\n",
    "            best_params['n_estimators'] = n\n",
    "            best_params['max_depth'] = d"
   ]
  },
  {
   "cell_type": "code",
   "execution_count": 78,
   "metadata": {},
   "outputs": [
    {
     "data": {
      "text/plain": [
       "0.8741093059728682"
      ]
     },
     "execution_count": 78,
     "metadata": {},
     "output_type": "execute_result"
    }
   ],
   "source": [
    "best_score"
   ]
  },
  {
   "cell_type": "code",
   "execution_count": 75,
   "metadata": {},
   "outputs": [],
   "source": [
    "#### cross_val_score is very slow for set of parameters that were trained previously faster (n=10, max=6)"
   ]
  },
  {
   "cell_type": "code",
   "execution_count": 77,
   "metadata": {},
   "outputs": [],
   "source": [
    "n_est=[10,100]\n",
    "max_depth=[6]"
   ]
  },
  {
   "cell_type": "code",
   "execution_count": 79,
   "metadata": {},
   "outputs": [
    {
     "ename": "KeyboardInterrupt",
     "evalue": "",
     "output_type": "error",
     "traceback": [
      "\u001b[1;31m---------------------------------------------------------------------------\u001b[0m",
      "\u001b[1;31mKeyboardInterrupt\u001b[0m                         Traceback (most recent call last)",
      "\u001b[1;32m<ipython-input-79-8699fa8f0a0f>\u001b[0m in \u001b[0;36m<module>\u001b[1;34m\u001b[0m\n\u001b[0;32m      5\u001b[0m     \u001b[1;32mfor\u001b[0m \u001b[0md\u001b[0m \u001b[1;32min\u001b[0m \u001b[0mmax_depth\u001b[0m\u001b[1;33m:\u001b[0m\u001b[1;33m\u001b[0m\u001b[1;33m\u001b[0m\u001b[0m\n\u001b[0;32m      6\u001b[0m         \u001b[0mmodel\u001b[0m \u001b[1;33m=\u001b[0m  \u001b[0mensemble\u001b[0m\u001b[1;33m.\u001b[0m\u001b[0mRandomForestRegressor\u001b[0m\u001b[1;33m(\u001b[0m\u001b[0mn_estimators\u001b[0m\u001b[1;33m=\u001b[0m\u001b[0mn\u001b[0m\u001b[1;33m,\u001b[0m \u001b[0mmax_depth\u001b[0m\u001b[1;33m=\u001b[0m\u001b[0md\u001b[0m\u001b[1;33m)\u001b[0m\u001b[1;33m\u001b[0m\u001b[1;33m\u001b[0m\u001b[0m\n\u001b[1;32m----> 7\u001b[1;33m         \u001b[0mscores\u001b[0m \u001b[1;33m=\u001b[0m \u001b[0mmodel_selection\u001b[0m\u001b[1;33m.\u001b[0m\u001b[0mcross_val_score\u001b[0m\u001b[1;33m(\u001b[0m\u001b[0mmodel\u001b[0m\u001b[1;33m,\u001b[0m \u001b[0mx_train\u001b[0m\u001b[1;33m,\u001b[0m \u001b[0my_train\u001b[0m\u001b[1;33m,\u001b[0m \u001b[0mcv\u001b[0m\u001b[1;33m=\u001b[0m\u001b[1;36m5\u001b[0m\u001b[1;33m,\u001b[0m \u001b[0mscoring\u001b[0m\u001b[1;33m=\u001b[0m\u001b[1;34m'r2'\u001b[0m\u001b[1;33m)\u001b[0m\u001b[1;33m\u001b[0m\u001b[1;33m\u001b[0m\u001b[0m\n\u001b[0m\u001b[0;32m      8\u001b[0m         \u001b[0mscore\u001b[0m \u001b[1;33m=\u001b[0m \u001b[0mscores\u001b[0m\u001b[1;33m.\u001b[0m\u001b[0mmean\u001b[0m\u001b[1;33m(\u001b[0m\u001b[1;33m)\u001b[0m\u001b[1;33m\u001b[0m\u001b[1;33m\u001b[0m\u001b[0m\n\u001b[0;32m      9\u001b[0m \u001b[1;33m\u001b[0m\u001b[0m\n",
      "\u001b[1;32m~\\anaconda3\\lib\\site-packages\\sklearn\\model_selection\\_validation.py\u001b[0m in \u001b[0;36mcross_val_score\u001b[1;34m(estimator, X, y, groups, scoring, cv, n_jobs, verbose, fit_params, pre_dispatch, error_score)\u001b[0m\n\u001b[0;32m    513\u001b[0m     \u001b[0mscorer\u001b[0m \u001b[1;33m=\u001b[0m \u001b[0mcheck_scoring\u001b[0m\u001b[1;33m(\u001b[0m\u001b[0mestimator\u001b[0m\u001b[1;33m,\u001b[0m \u001b[0mscoring\u001b[0m\u001b[1;33m=\u001b[0m\u001b[0mscoring\u001b[0m\u001b[1;33m)\u001b[0m\u001b[1;33m\u001b[0m\u001b[1;33m\u001b[0m\u001b[0m\n\u001b[0;32m    514\u001b[0m \u001b[1;33m\u001b[0m\u001b[0m\n\u001b[1;32m--> 515\u001b[1;33m     cv_results = cross_validate(\n\u001b[0m\u001b[0;32m    516\u001b[0m         \u001b[0mestimator\u001b[0m\u001b[1;33m=\u001b[0m\u001b[0mestimator\u001b[0m\u001b[1;33m,\u001b[0m\u001b[1;33m\u001b[0m\u001b[1;33m\u001b[0m\u001b[0m\n\u001b[0;32m    517\u001b[0m         \u001b[0mX\u001b[0m\u001b[1;33m=\u001b[0m\u001b[0mX\u001b[0m\u001b[1;33m,\u001b[0m\u001b[1;33m\u001b[0m\u001b[1;33m\u001b[0m\u001b[0m\n",
      "\u001b[1;32m~\\anaconda3\\lib\\site-packages\\sklearn\\model_selection\\_validation.py\u001b[0m in \u001b[0;36mcross_validate\u001b[1;34m(estimator, X, y, groups, scoring, cv, n_jobs, verbose, fit_params, pre_dispatch, return_train_score, return_estimator, error_score)\u001b[0m\n\u001b[0;32m    264\u001b[0m     \u001b[1;31m# independent, and that it is pickle-able.\u001b[0m\u001b[1;33m\u001b[0m\u001b[1;33m\u001b[0m\u001b[1;33m\u001b[0m\u001b[0m\n\u001b[0;32m    265\u001b[0m     \u001b[0mparallel\u001b[0m \u001b[1;33m=\u001b[0m \u001b[0mParallel\u001b[0m\u001b[1;33m(\u001b[0m\u001b[0mn_jobs\u001b[0m\u001b[1;33m=\u001b[0m\u001b[0mn_jobs\u001b[0m\u001b[1;33m,\u001b[0m \u001b[0mverbose\u001b[0m\u001b[1;33m=\u001b[0m\u001b[0mverbose\u001b[0m\u001b[1;33m,\u001b[0m \u001b[0mpre_dispatch\u001b[0m\u001b[1;33m=\u001b[0m\u001b[0mpre_dispatch\u001b[0m\u001b[1;33m)\u001b[0m\u001b[1;33m\u001b[0m\u001b[1;33m\u001b[0m\u001b[0m\n\u001b[1;32m--> 266\u001b[1;33m     results = parallel(\n\u001b[0m\u001b[0;32m    267\u001b[0m         delayed(_fit_and_score)(\n\u001b[0;32m    268\u001b[0m             \u001b[0mclone\u001b[0m\u001b[1;33m(\u001b[0m\u001b[0mestimator\u001b[0m\u001b[1;33m)\u001b[0m\u001b[1;33m,\u001b[0m\u001b[1;33m\u001b[0m\u001b[1;33m\u001b[0m\u001b[0m\n",
      "\u001b[1;32m~\\anaconda3\\lib\\site-packages\\joblib\\parallel.py\u001b[0m in \u001b[0;36m__call__\u001b[1;34m(self, iterable)\u001b[0m\n\u001b[0;32m   1044\u001b[0m                 \u001b[0mself\u001b[0m\u001b[1;33m.\u001b[0m\u001b[0m_iterating\u001b[0m \u001b[1;33m=\u001b[0m \u001b[0mself\u001b[0m\u001b[1;33m.\u001b[0m\u001b[0m_original_iterator\u001b[0m \u001b[1;32mis\u001b[0m \u001b[1;32mnot\u001b[0m \u001b[1;32mNone\u001b[0m\u001b[1;33m\u001b[0m\u001b[1;33m\u001b[0m\u001b[0m\n\u001b[0;32m   1045\u001b[0m \u001b[1;33m\u001b[0m\u001b[0m\n\u001b[1;32m-> 1046\u001b[1;33m             \u001b[1;32mwhile\u001b[0m \u001b[0mself\u001b[0m\u001b[1;33m.\u001b[0m\u001b[0mdispatch_one_batch\u001b[0m\u001b[1;33m(\u001b[0m\u001b[0miterator\u001b[0m\u001b[1;33m)\u001b[0m\u001b[1;33m:\u001b[0m\u001b[1;33m\u001b[0m\u001b[1;33m\u001b[0m\u001b[0m\n\u001b[0m\u001b[0;32m   1047\u001b[0m                 \u001b[1;32mpass\u001b[0m\u001b[1;33m\u001b[0m\u001b[1;33m\u001b[0m\u001b[0m\n\u001b[0;32m   1048\u001b[0m \u001b[1;33m\u001b[0m\u001b[0m\n",
      "\u001b[1;32m~\\anaconda3\\lib\\site-packages\\joblib\\parallel.py\u001b[0m in \u001b[0;36mdispatch_one_batch\u001b[1;34m(self, iterator)\u001b[0m\n\u001b[0;32m    859\u001b[0m                 \u001b[1;32mreturn\u001b[0m \u001b[1;32mFalse\u001b[0m\u001b[1;33m\u001b[0m\u001b[1;33m\u001b[0m\u001b[0m\n\u001b[0;32m    860\u001b[0m             \u001b[1;32melse\u001b[0m\u001b[1;33m:\u001b[0m\u001b[1;33m\u001b[0m\u001b[1;33m\u001b[0m\u001b[0m\n\u001b[1;32m--> 861\u001b[1;33m                 \u001b[0mself\u001b[0m\u001b[1;33m.\u001b[0m\u001b[0m_dispatch\u001b[0m\u001b[1;33m(\u001b[0m\u001b[0mtasks\u001b[0m\u001b[1;33m)\u001b[0m\u001b[1;33m\u001b[0m\u001b[1;33m\u001b[0m\u001b[0m\n\u001b[0m\u001b[0;32m    862\u001b[0m                 \u001b[1;32mreturn\u001b[0m \u001b[1;32mTrue\u001b[0m\u001b[1;33m\u001b[0m\u001b[1;33m\u001b[0m\u001b[0m\n\u001b[0;32m    863\u001b[0m \u001b[1;33m\u001b[0m\u001b[0m\n",
      "\u001b[1;32m~\\anaconda3\\lib\\site-packages\\joblib\\parallel.py\u001b[0m in \u001b[0;36m_dispatch\u001b[1;34m(self, batch)\u001b[0m\n\u001b[0;32m    777\u001b[0m         \u001b[1;32mwith\u001b[0m \u001b[0mself\u001b[0m\u001b[1;33m.\u001b[0m\u001b[0m_lock\u001b[0m\u001b[1;33m:\u001b[0m\u001b[1;33m\u001b[0m\u001b[1;33m\u001b[0m\u001b[0m\n\u001b[0;32m    778\u001b[0m             \u001b[0mjob_idx\u001b[0m \u001b[1;33m=\u001b[0m \u001b[0mlen\u001b[0m\u001b[1;33m(\u001b[0m\u001b[0mself\u001b[0m\u001b[1;33m.\u001b[0m\u001b[0m_jobs\u001b[0m\u001b[1;33m)\u001b[0m\u001b[1;33m\u001b[0m\u001b[1;33m\u001b[0m\u001b[0m\n\u001b[1;32m--> 779\u001b[1;33m             \u001b[0mjob\u001b[0m \u001b[1;33m=\u001b[0m \u001b[0mself\u001b[0m\u001b[1;33m.\u001b[0m\u001b[0m_backend\u001b[0m\u001b[1;33m.\u001b[0m\u001b[0mapply_async\u001b[0m\u001b[1;33m(\u001b[0m\u001b[0mbatch\u001b[0m\u001b[1;33m,\u001b[0m \u001b[0mcallback\u001b[0m\u001b[1;33m=\u001b[0m\u001b[0mcb\u001b[0m\u001b[1;33m)\u001b[0m\u001b[1;33m\u001b[0m\u001b[1;33m\u001b[0m\u001b[0m\n\u001b[0m\u001b[0;32m    780\u001b[0m             \u001b[1;31m# A job can complete so quickly than its callback is\u001b[0m\u001b[1;33m\u001b[0m\u001b[1;33m\u001b[0m\u001b[1;33m\u001b[0m\u001b[0m\n\u001b[0;32m    781\u001b[0m             \u001b[1;31m# called before we get here, causing self._jobs to\u001b[0m\u001b[1;33m\u001b[0m\u001b[1;33m\u001b[0m\u001b[1;33m\u001b[0m\u001b[0m\n",
      "\u001b[1;32m~\\anaconda3\\lib\\site-packages\\joblib\\_parallel_backends.py\u001b[0m in \u001b[0;36mapply_async\u001b[1;34m(self, func, callback)\u001b[0m\n\u001b[0;32m    206\u001b[0m     \u001b[1;32mdef\u001b[0m \u001b[0mapply_async\u001b[0m\u001b[1;33m(\u001b[0m\u001b[0mself\u001b[0m\u001b[1;33m,\u001b[0m \u001b[0mfunc\u001b[0m\u001b[1;33m,\u001b[0m \u001b[0mcallback\u001b[0m\u001b[1;33m=\u001b[0m\u001b[1;32mNone\u001b[0m\u001b[1;33m)\u001b[0m\u001b[1;33m:\u001b[0m\u001b[1;33m\u001b[0m\u001b[1;33m\u001b[0m\u001b[0m\n\u001b[0;32m    207\u001b[0m         \u001b[1;34m\"\"\"Schedule a func to be run\"\"\"\u001b[0m\u001b[1;33m\u001b[0m\u001b[1;33m\u001b[0m\u001b[0m\n\u001b[1;32m--> 208\u001b[1;33m         \u001b[0mresult\u001b[0m \u001b[1;33m=\u001b[0m \u001b[0mImmediateResult\u001b[0m\u001b[1;33m(\u001b[0m\u001b[0mfunc\u001b[0m\u001b[1;33m)\u001b[0m\u001b[1;33m\u001b[0m\u001b[1;33m\u001b[0m\u001b[0m\n\u001b[0m\u001b[0;32m    209\u001b[0m         \u001b[1;32mif\u001b[0m \u001b[0mcallback\u001b[0m\u001b[1;33m:\u001b[0m\u001b[1;33m\u001b[0m\u001b[1;33m\u001b[0m\u001b[0m\n\u001b[0;32m    210\u001b[0m             \u001b[0mcallback\u001b[0m\u001b[1;33m(\u001b[0m\u001b[0mresult\u001b[0m\u001b[1;33m)\u001b[0m\u001b[1;33m\u001b[0m\u001b[1;33m\u001b[0m\u001b[0m\n",
      "\u001b[1;32m~\\anaconda3\\lib\\site-packages\\joblib\\_parallel_backends.py\u001b[0m in \u001b[0;36m__init__\u001b[1;34m(self, batch)\u001b[0m\n\u001b[0;32m    570\u001b[0m         \u001b[1;31m# Don't delay the application, to avoid keeping the input\u001b[0m\u001b[1;33m\u001b[0m\u001b[1;33m\u001b[0m\u001b[1;33m\u001b[0m\u001b[0m\n\u001b[0;32m    571\u001b[0m         \u001b[1;31m# arguments in memory\u001b[0m\u001b[1;33m\u001b[0m\u001b[1;33m\u001b[0m\u001b[1;33m\u001b[0m\u001b[0m\n\u001b[1;32m--> 572\u001b[1;33m         \u001b[0mself\u001b[0m\u001b[1;33m.\u001b[0m\u001b[0mresults\u001b[0m \u001b[1;33m=\u001b[0m \u001b[0mbatch\u001b[0m\u001b[1;33m(\u001b[0m\u001b[1;33m)\u001b[0m\u001b[1;33m\u001b[0m\u001b[1;33m\u001b[0m\u001b[0m\n\u001b[0m\u001b[0;32m    573\u001b[0m \u001b[1;33m\u001b[0m\u001b[0m\n\u001b[0;32m    574\u001b[0m     \u001b[1;32mdef\u001b[0m \u001b[0mget\u001b[0m\u001b[1;33m(\u001b[0m\u001b[0mself\u001b[0m\u001b[1;33m)\u001b[0m\u001b[1;33m:\u001b[0m\u001b[1;33m\u001b[0m\u001b[1;33m\u001b[0m\u001b[0m\n",
      "\u001b[1;32m~\\anaconda3\\lib\\site-packages\\joblib\\parallel.py\u001b[0m in \u001b[0;36m__call__\u001b[1;34m(self)\u001b[0m\n\u001b[0;32m    260\u001b[0m         \u001b[1;31m# change the default number of processes to -1\u001b[0m\u001b[1;33m\u001b[0m\u001b[1;33m\u001b[0m\u001b[1;33m\u001b[0m\u001b[0m\n\u001b[0;32m    261\u001b[0m         \u001b[1;32mwith\u001b[0m \u001b[0mparallel_backend\u001b[0m\u001b[1;33m(\u001b[0m\u001b[0mself\u001b[0m\u001b[1;33m.\u001b[0m\u001b[0m_backend\u001b[0m\u001b[1;33m,\u001b[0m \u001b[0mn_jobs\u001b[0m\u001b[1;33m=\u001b[0m\u001b[0mself\u001b[0m\u001b[1;33m.\u001b[0m\u001b[0m_n_jobs\u001b[0m\u001b[1;33m)\u001b[0m\u001b[1;33m:\u001b[0m\u001b[1;33m\u001b[0m\u001b[1;33m\u001b[0m\u001b[0m\n\u001b[1;32m--> 262\u001b[1;33m             return [func(*args, **kwargs)\n\u001b[0m\u001b[0;32m    263\u001b[0m                     for func, args, kwargs in self.items]\n\u001b[0;32m    264\u001b[0m \u001b[1;33m\u001b[0m\u001b[0m\n",
      "\u001b[1;32m~\\anaconda3\\lib\\site-packages\\joblib\\parallel.py\u001b[0m in \u001b[0;36m<listcomp>\u001b[1;34m(.0)\u001b[0m\n\u001b[0;32m    260\u001b[0m         \u001b[1;31m# change the default number of processes to -1\u001b[0m\u001b[1;33m\u001b[0m\u001b[1;33m\u001b[0m\u001b[1;33m\u001b[0m\u001b[0m\n\u001b[0;32m    261\u001b[0m         \u001b[1;32mwith\u001b[0m \u001b[0mparallel_backend\u001b[0m\u001b[1;33m(\u001b[0m\u001b[0mself\u001b[0m\u001b[1;33m.\u001b[0m\u001b[0m_backend\u001b[0m\u001b[1;33m,\u001b[0m \u001b[0mn_jobs\u001b[0m\u001b[1;33m=\u001b[0m\u001b[0mself\u001b[0m\u001b[1;33m.\u001b[0m\u001b[0m_n_jobs\u001b[0m\u001b[1;33m)\u001b[0m\u001b[1;33m:\u001b[0m\u001b[1;33m\u001b[0m\u001b[1;33m\u001b[0m\u001b[0m\n\u001b[1;32m--> 262\u001b[1;33m             return [func(*args, **kwargs)\n\u001b[0m\u001b[0;32m    263\u001b[0m                     for func, args, kwargs in self.items]\n\u001b[0;32m    264\u001b[0m \u001b[1;33m\u001b[0m\u001b[0m\n",
      "\u001b[1;32m~\\anaconda3\\lib\\site-packages\\sklearn\\utils\\fixes.py\u001b[0m in \u001b[0;36m__call__\u001b[1;34m(self, *args, **kwargs)\u001b[0m\n\u001b[0;32m    115\u001b[0m     \u001b[1;32mdef\u001b[0m \u001b[0m__call__\u001b[0m\u001b[1;33m(\u001b[0m\u001b[0mself\u001b[0m\u001b[1;33m,\u001b[0m \u001b[1;33m*\u001b[0m\u001b[0margs\u001b[0m\u001b[1;33m,\u001b[0m \u001b[1;33m**\u001b[0m\u001b[0mkwargs\u001b[0m\u001b[1;33m)\u001b[0m\u001b[1;33m:\u001b[0m\u001b[1;33m\u001b[0m\u001b[1;33m\u001b[0m\u001b[0m\n\u001b[0;32m    116\u001b[0m         \u001b[1;32mwith\u001b[0m \u001b[0mconfig_context\u001b[0m\u001b[1;33m(\u001b[0m\u001b[1;33m**\u001b[0m\u001b[0mself\u001b[0m\u001b[1;33m.\u001b[0m\u001b[0mconfig\u001b[0m\u001b[1;33m)\u001b[0m\u001b[1;33m:\u001b[0m\u001b[1;33m\u001b[0m\u001b[1;33m\u001b[0m\u001b[0m\n\u001b[1;32m--> 117\u001b[1;33m             \u001b[1;32mreturn\u001b[0m \u001b[0mself\u001b[0m\u001b[1;33m.\u001b[0m\u001b[0mfunction\u001b[0m\u001b[1;33m(\u001b[0m\u001b[1;33m*\u001b[0m\u001b[0margs\u001b[0m\u001b[1;33m,\u001b[0m \u001b[1;33m**\u001b[0m\u001b[0mkwargs\u001b[0m\u001b[1;33m)\u001b[0m\u001b[1;33m\u001b[0m\u001b[1;33m\u001b[0m\u001b[0m\n\u001b[0m\u001b[0;32m    118\u001b[0m \u001b[1;33m\u001b[0m\u001b[0m\n\u001b[0;32m    119\u001b[0m \u001b[1;33m\u001b[0m\u001b[0m\n",
      "\u001b[1;32m~\\anaconda3\\lib\\site-packages\\sklearn\\model_selection\\_validation.py\u001b[0m in \u001b[0;36m_fit_and_score\u001b[1;34m(estimator, X, y, scorer, train, test, verbose, parameters, fit_params, return_train_score, return_parameters, return_n_test_samples, return_times, return_estimator, split_progress, candidate_progress, error_score)\u001b[0m\n\u001b[0;32m    684\u001b[0m             \u001b[0mestimator\u001b[0m\u001b[1;33m.\u001b[0m\u001b[0mfit\u001b[0m\u001b[1;33m(\u001b[0m\u001b[0mX_train\u001b[0m\u001b[1;33m,\u001b[0m \u001b[1;33m**\u001b[0m\u001b[0mfit_params\u001b[0m\u001b[1;33m)\u001b[0m\u001b[1;33m\u001b[0m\u001b[1;33m\u001b[0m\u001b[0m\n\u001b[0;32m    685\u001b[0m         \u001b[1;32melse\u001b[0m\u001b[1;33m:\u001b[0m\u001b[1;33m\u001b[0m\u001b[1;33m\u001b[0m\u001b[0m\n\u001b[1;32m--> 686\u001b[1;33m             \u001b[0mestimator\u001b[0m\u001b[1;33m.\u001b[0m\u001b[0mfit\u001b[0m\u001b[1;33m(\u001b[0m\u001b[0mX_train\u001b[0m\u001b[1;33m,\u001b[0m \u001b[0my_train\u001b[0m\u001b[1;33m,\u001b[0m \u001b[1;33m**\u001b[0m\u001b[0mfit_params\u001b[0m\u001b[1;33m)\u001b[0m\u001b[1;33m\u001b[0m\u001b[1;33m\u001b[0m\u001b[0m\n\u001b[0m\u001b[0;32m    687\u001b[0m \u001b[1;33m\u001b[0m\u001b[0m\n\u001b[0;32m    688\u001b[0m     \u001b[1;32mexcept\u001b[0m \u001b[0mException\u001b[0m\u001b[1;33m:\u001b[0m\u001b[1;33m\u001b[0m\u001b[1;33m\u001b[0m\u001b[0m\n",
      "\u001b[1;32m~\\anaconda3\\lib\\site-packages\\sklearn\\ensemble\\_forest.py\u001b[0m in \u001b[0;36mfit\u001b[1;34m(self, X, y, sample_weight)\u001b[0m\n\u001b[0;32m    474\u001b[0m             \u001b[1;31m# parallel_backend contexts set at a higher level,\u001b[0m\u001b[1;33m\u001b[0m\u001b[1;33m\u001b[0m\u001b[1;33m\u001b[0m\u001b[0m\n\u001b[0;32m    475\u001b[0m             \u001b[1;31m# since correctness does not rely on using threads.\u001b[0m\u001b[1;33m\u001b[0m\u001b[1;33m\u001b[0m\u001b[1;33m\u001b[0m\u001b[0m\n\u001b[1;32m--> 476\u001b[1;33m             trees = Parallel(\n\u001b[0m\u001b[0;32m    477\u001b[0m                 \u001b[0mn_jobs\u001b[0m\u001b[1;33m=\u001b[0m\u001b[0mself\u001b[0m\u001b[1;33m.\u001b[0m\u001b[0mn_jobs\u001b[0m\u001b[1;33m,\u001b[0m\u001b[1;33m\u001b[0m\u001b[1;33m\u001b[0m\u001b[0m\n\u001b[0;32m    478\u001b[0m                 \u001b[0mverbose\u001b[0m\u001b[1;33m=\u001b[0m\u001b[0mself\u001b[0m\u001b[1;33m.\u001b[0m\u001b[0mverbose\u001b[0m\u001b[1;33m,\u001b[0m\u001b[1;33m\u001b[0m\u001b[1;33m\u001b[0m\u001b[0m\n",
      "\u001b[1;32m~\\anaconda3\\lib\\site-packages\\joblib\\parallel.py\u001b[0m in \u001b[0;36m__call__\u001b[1;34m(self, iterable)\u001b[0m\n\u001b[0;32m   1044\u001b[0m                 \u001b[0mself\u001b[0m\u001b[1;33m.\u001b[0m\u001b[0m_iterating\u001b[0m \u001b[1;33m=\u001b[0m \u001b[0mself\u001b[0m\u001b[1;33m.\u001b[0m\u001b[0m_original_iterator\u001b[0m \u001b[1;32mis\u001b[0m \u001b[1;32mnot\u001b[0m \u001b[1;32mNone\u001b[0m\u001b[1;33m\u001b[0m\u001b[1;33m\u001b[0m\u001b[0m\n\u001b[0;32m   1045\u001b[0m \u001b[1;33m\u001b[0m\u001b[0m\n\u001b[1;32m-> 1046\u001b[1;33m             \u001b[1;32mwhile\u001b[0m \u001b[0mself\u001b[0m\u001b[1;33m.\u001b[0m\u001b[0mdispatch_one_batch\u001b[0m\u001b[1;33m(\u001b[0m\u001b[0miterator\u001b[0m\u001b[1;33m)\u001b[0m\u001b[1;33m:\u001b[0m\u001b[1;33m\u001b[0m\u001b[1;33m\u001b[0m\u001b[0m\n\u001b[0m\u001b[0;32m   1047\u001b[0m                 \u001b[1;32mpass\u001b[0m\u001b[1;33m\u001b[0m\u001b[1;33m\u001b[0m\u001b[0m\n\u001b[0;32m   1048\u001b[0m \u001b[1;33m\u001b[0m\u001b[0m\n",
      "\u001b[1;32m~\\anaconda3\\lib\\site-packages\\joblib\\parallel.py\u001b[0m in \u001b[0;36mdispatch_one_batch\u001b[1;34m(self, iterator)\u001b[0m\n\u001b[0;32m    859\u001b[0m                 \u001b[1;32mreturn\u001b[0m \u001b[1;32mFalse\u001b[0m\u001b[1;33m\u001b[0m\u001b[1;33m\u001b[0m\u001b[0m\n\u001b[0;32m    860\u001b[0m             \u001b[1;32melse\u001b[0m\u001b[1;33m:\u001b[0m\u001b[1;33m\u001b[0m\u001b[1;33m\u001b[0m\u001b[0m\n\u001b[1;32m--> 861\u001b[1;33m                 \u001b[0mself\u001b[0m\u001b[1;33m.\u001b[0m\u001b[0m_dispatch\u001b[0m\u001b[1;33m(\u001b[0m\u001b[0mtasks\u001b[0m\u001b[1;33m)\u001b[0m\u001b[1;33m\u001b[0m\u001b[1;33m\u001b[0m\u001b[0m\n\u001b[0m\u001b[0;32m    862\u001b[0m                 \u001b[1;32mreturn\u001b[0m \u001b[1;32mTrue\u001b[0m\u001b[1;33m\u001b[0m\u001b[1;33m\u001b[0m\u001b[0m\n\u001b[0;32m    863\u001b[0m \u001b[1;33m\u001b[0m\u001b[0m\n",
      "\u001b[1;32m~\\anaconda3\\lib\\site-packages\\joblib\\parallel.py\u001b[0m in \u001b[0;36m_dispatch\u001b[1;34m(self, batch)\u001b[0m\n\u001b[0;32m    777\u001b[0m         \u001b[1;32mwith\u001b[0m \u001b[0mself\u001b[0m\u001b[1;33m.\u001b[0m\u001b[0m_lock\u001b[0m\u001b[1;33m:\u001b[0m\u001b[1;33m\u001b[0m\u001b[1;33m\u001b[0m\u001b[0m\n\u001b[0;32m    778\u001b[0m             \u001b[0mjob_idx\u001b[0m \u001b[1;33m=\u001b[0m \u001b[0mlen\u001b[0m\u001b[1;33m(\u001b[0m\u001b[0mself\u001b[0m\u001b[1;33m.\u001b[0m\u001b[0m_jobs\u001b[0m\u001b[1;33m)\u001b[0m\u001b[1;33m\u001b[0m\u001b[1;33m\u001b[0m\u001b[0m\n\u001b[1;32m--> 779\u001b[1;33m             \u001b[0mjob\u001b[0m \u001b[1;33m=\u001b[0m \u001b[0mself\u001b[0m\u001b[1;33m.\u001b[0m\u001b[0m_backend\u001b[0m\u001b[1;33m.\u001b[0m\u001b[0mapply_async\u001b[0m\u001b[1;33m(\u001b[0m\u001b[0mbatch\u001b[0m\u001b[1;33m,\u001b[0m \u001b[0mcallback\u001b[0m\u001b[1;33m=\u001b[0m\u001b[0mcb\u001b[0m\u001b[1;33m)\u001b[0m\u001b[1;33m\u001b[0m\u001b[1;33m\u001b[0m\u001b[0m\n\u001b[0m\u001b[0;32m    780\u001b[0m             \u001b[1;31m# A job can complete so quickly than its callback is\u001b[0m\u001b[1;33m\u001b[0m\u001b[1;33m\u001b[0m\u001b[1;33m\u001b[0m\u001b[0m\n\u001b[0;32m    781\u001b[0m             \u001b[1;31m# called before we get here, causing self._jobs to\u001b[0m\u001b[1;33m\u001b[0m\u001b[1;33m\u001b[0m\u001b[1;33m\u001b[0m\u001b[0m\n",
      "\u001b[1;32m~\\anaconda3\\lib\\site-packages\\joblib\\_parallel_backends.py\u001b[0m in \u001b[0;36mapply_async\u001b[1;34m(self, func, callback)\u001b[0m\n\u001b[0;32m    206\u001b[0m     \u001b[1;32mdef\u001b[0m \u001b[0mapply_async\u001b[0m\u001b[1;33m(\u001b[0m\u001b[0mself\u001b[0m\u001b[1;33m,\u001b[0m \u001b[0mfunc\u001b[0m\u001b[1;33m,\u001b[0m \u001b[0mcallback\u001b[0m\u001b[1;33m=\u001b[0m\u001b[1;32mNone\u001b[0m\u001b[1;33m)\u001b[0m\u001b[1;33m:\u001b[0m\u001b[1;33m\u001b[0m\u001b[1;33m\u001b[0m\u001b[0m\n\u001b[0;32m    207\u001b[0m         \u001b[1;34m\"\"\"Schedule a func to be run\"\"\"\u001b[0m\u001b[1;33m\u001b[0m\u001b[1;33m\u001b[0m\u001b[0m\n\u001b[1;32m--> 208\u001b[1;33m         \u001b[0mresult\u001b[0m \u001b[1;33m=\u001b[0m \u001b[0mImmediateResult\u001b[0m\u001b[1;33m(\u001b[0m\u001b[0mfunc\u001b[0m\u001b[1;33m)\u001b[0m\u001b[1;33m\u001b[0m\u001b[1;33m\u001b[0m\u001b[0m\n\u001b[0m\u001b[0;32m    209\u001b[0m         \u001b[1;32mif\u001b[0m \u001b[0mcallback\u001b[0m\u001b[1;33m:\u001b[0m\u001b[1;33m\u001b[0m\u001b[1;33m\u001b[0m\u001b[0m\n\u001b[0;32m    210\u001b[0m             \u001b[0mcallback\u001b[0m\u001b[1;33m(\u001b[0m\u001b[0mresult\u001b[0m\u001b[1;33m)\u001b[0m\u001b[1;33m\u001b[0m\u001b[1;33m\u001b[0m\u001b[0m\n",
      "\u001b[1;32m~\\anaconda3\\lib\\site-packages\\joblib\\_parallel_backends.py\u001b[0m in \u001b[0;36m__init__\u001b[1;34m(self, batch)\u001b[0m\n\u001b[0;32m    570\u001b[0m         \u001b[1;31m# Don't delay the application, to avoid keeping the input\u001b[0m\u001b[1;33m\u001b[0m\u001b[1;33m\u001b[0m\u001b[1;33m\u001b[0m\u001b[0m\n\u001b[0;32m    571\u001b[0m         \u001b[1;31m# arguments in memory\u001b[0m\u001b[1;33m\u001b[0m\u001b[1;33m\u001b[0m\u001b[1;33m\u001b[0m\u001b[0m\n\u001b[1;32m--> 572\u001b[1;33m         \u001b[0mself\u001b[0m\u001b[1;33m.\u001b[0m\u001b[0mresults\u001b[0m \u001b[1;33m=\u001b[0m \u001b[0mbatch\u001b[0m\u001b[1;33m(\u001b[0m\u001b[1;33m)\u001b[0m\u001b[1;33m\u001b[0m\u001b[1;33m\u001b[0m\u001b[0m\n\u001b[0m\u001b[0;32m    573\u001b[0m \u001b[1;33m\u001b[0m\u001b[0m\n\u001b[0;32m    574\u001b[0m     \u001b[1;32mdef\u001b[0m \u001b[0mget\u001b[0m\u001b[1;33m(\u001b[0m\u001b[0mself\u001b[0m\u001b[1;33m)\u001b[0m\u001b[1;33m:\u001b[0m\u001b[1;33m\u001b[0m\u001b[1;33m\u001b[0m\u001b[0m\n",
      "\u001b[1;32m~\\anaconda3\\lib\\site-packages\\joblib\\parallel.py\u001b[0m in \u001b[0;36m__call__\u001b[1;34m(self)\u001b[0m\n\u001b[0;32m    260\u001b[0m         \u001b[1;31m# change the default number of processes to -1\u001b[0m\u001b[1;33m\u001b[0m\u001b[1;33m\u001b[0m\u001b[1;33m\u001b[0m\u001b[0m\n\u001b[0;32m    261\u001b[0m         \u001b[1;32mwith\u001b[0m \u001b[0mparallel_backend\u001b[0m\u001b[1;33m(\u001b[0m\u001b[0mself\u001b[0m\u001b[1;33m.\u001b[0m\u001b[0m_backend\u001b[0m\u001b[1;33m,\u001b[0m \u001b[0mn_jobs\u001b[0m\u001b[1;33m=\u001b[0m\u001b[0mself\u001b[0m\u001b[1;33m.\u001b[0m\u001b[0m_n_jobs\u001b[0m\u001b[1;33m)\u001b[0m\u001b[1;33m:\u001b[0m\u001b[1;33m\u001b[0m\u001b[1;33m\u001b[0m\u001b[0m\n\u001b[1;32m--> 262\u001b[1;33m             return [func(*args, **kwargs)\n\u001b[0m\u001b[0;32m    263\u001b[0m                     for func, args, kwargs in self.items]\n\u001b[0;32m    264\u001b[0m \u001b[1;33m\u001b[0m\u001b[0m\n",
      "\u001b[1;32m~\\anaconda3\\lib\\site-packages\\joblib\\parallel.py\u001b[0m in \u001b[0;36m<listcomp>\u001b[1;34m(.0)\u001b[0m\n\u001b[0;32m    260\u001b[0m         \u001b[1;31m# change the default number of processes to -1\u001b[0m\u001b[1;33m\u001b[0m\u001b[1;33m\u001b[0m\u001b[1;33m\u001b[0m\u001b[0m\n\u001b[0;32m    261\u001b[0m         \u001b[1;32mwith\u001b[0m \u001b[0mparallel_backend\u001b[0m\u001b[1;33m(\u001b[0m\u001b[0mself\u001b[0m\u001b[1;33m.\u001b[0m\u001b[0m_backend\u001b[0m\u001b[1;33m,\u001b[0m \u001b[0mn_jobs\u001b[0m\u001b[1;33m=\u001b[0m\u001b[0mself\u001b[0m\u001b[1;33m.\u001b[0m\u001b[0m_n_jobs\u001b[0m\u001b[1;33m)\u001b[0m\u001b[1;33m:\u001b[0m\u001b[1;33m\u001b[0m\u001b[1;33m\u001b[0m\u001b[0m\n\u001b[1;32m--> 262\u001b[1;33m             return [func(*args, **kwargs)\n\u001b[0m\u001b[0;32m    263\u001b[0m                     for func, args, kwargs in self.items]\n\u001b[0;32m    264\u001b[0m \u001b[1;33m\u001b[0m\u001b[0m\n",
      "\u001b[1;32m~\\anaconda3\\lib\\site-packages\\sklearn\\utils\\fixes.py\u001b[0m in \u001b[0;36m__call__\u001b[1;34m(self, *args, **kwargs)\u001b[0m\n\u001b[0;32m    115\u001b[0m     \u001b[1;32mdef\u001b[0m \u001b[0m__call__\u001b[0m\u001b[1;33m(\u001b[0m\u001b[0mself\u001b[0m\u001b[1;33m,\u001b[0m \u001b[1;33m*\u001b[0m\u001b[0margs\u001b[0m\u001b[1;33m,\u001b[0m \u001b[1;33m**\u001b[0m\u001b[0mkwargs\u001b[0m\u001b[1;33m)\u001b[0m\u001b[1;33m:\u001b[0m\u001b[1;33m\u001b[0m\u001b[1;33m\u001b[0m\u001b[0m\n\u001b[0;32m    116\u001b[0m         \u001b[1;32mwith\u001b[0m \u001b[0mconfig_context\u001b[0m\u001b[1;33m(\u001b[0m\u001b[1;33m**\u001b[0m\u001b[0mself\u001b[0m\u001b[1;33m.\u001b[0m\u001b[0mconfig\u001b[0m\u001b[1;33m)\u001b[0m\u001b[1;33m:\u001b[0m\u001b[1;33m\u001b[0m\u001b[1;33m\u001b[0m\u001b[0m\n\u001b[1;32m--> 117\u001b[1;33m             \u001b[1;32mreturn\u001b[0m \u001b[0mself\u001b[0m\u001b[1;33m.\u001b[0m\u001b[0mfunction\u001b[0m\u001b[1;33m(\u001b[0m\u001b[1;33m*\u001b[0m\u001b[0margs\u001b[0m\u001b[1;33m,\u001b[0m \u001b[1;33m**\u001b[0m\u001b[0mkwargs\u001b[0m\u001b[1;33m)\u001b[0m\u001b[1;33m\u001b[0m\u001b[1;33m\u001b[0m\u001b[0m\n\u001b[0m\u001b[0;32m    118\u001b[0m \u001b[1;33m\u001b[0m\u001b[0m\n\u001b[0;32m    119\u001b[0m \u001b[1;33m\u001b[0m\u001b[0m\n",
      "\u001b[1;32m~\\anaconda3\\lib\\site-packages\\sklearn\\ensemble\\_forest.py\u001b[0m in \u001b[0;36m_parallel_build_trees\u001b[1;34m(tree, bootstrap, X, y, sample_weight, tree_idx, n_trees, verbose, class_weight, n_samples_bootstrap)\u001b[0m\n\u001b[0;32m    187\u001b[0m             \u001b[0mcurr_sample_weight\u001b[0m \u001b[1;33m*=\u001b[0m \u001b[0mcompute_sample_weight\u001b[0m\u001b[1;33m(\u001b[0m\u001b[1;34m\"balanced\"\u001b[0m\u001b[1;33m,\u001b[0m \u001b[0my\u001b[0m\u001b[1;33m,\u001b[0m \u001b[0mindices\u001b[0m\u001b[1;33m=\u001b[0m\u001b[0mindices\u001b[0m\u001b[1;33m)\u001b[0m\u001b[1;33m\u001b[0m\u001b[1;33m\u001b[0m\u001b[0m\n\u001b[0;32m    188\u001b[0m \u001b[1;33m\u001b[0m\u001b[0m\n\u001b[1;32m--> 189\u001b[1;33m         \u001b[0mtree\u001b[0m\u001b[1;33m.\u001b[0m\u001b[0mfit\u001b[0m\u001b[1;33m(\u001b[0m\u001b[0mX\u001b[0m\u001b[1;33m,\u001b[0m \u001b[0my\u001b[0m\u001b[1;33m,\u001b[0m \u001b[0msample_weight\u001b[0m\u001b[1;33m=\u001b[0m\u001b[0mcurr_sample_weight\u001b[0m\u001b[1;33m,\u001b[0m \u001b[0mcheck_input\u001b[0m\u001b[1;33m=\u001b[0m\u001b[1;32mFalse\u001b[0m\u001b[1;33m)\u001b[0m\u001b[1;33m\u001b[0m\u001b[1;33m\u001b[0m\u001b[0m\n\u001b[0m\u001b[0;32m    190\u001b[0m     \u001b[1;32melse\u001b[0m\u001b[1;33m:\u001b[0m\u001b[1;33m\u001b[0m\u001b[1;33m\u001b[0m\u001b[0m\n\u001b[0;32m    191\u001b[0m         \u001b[0mtree\u001b[0m\u001b[1;33m.\u001b[0m\u001b[0mfit\u001b[0m\u001b[1;33m(\u001b[0m\u001b[0mX\u001b[0m\u001b[1;33m,\u001b[0m \u001b[0my\u001b[0m\u001b[1;33m,\u001b[0m \u001b[0msample_weight\u001b[0m\u001b[1;33m=\u001b[0m\u001b[0msample_weight\u001b[0m\u001b[1;33m,\u001b[0m \u001b[0mcheck_input\u001b[0m\u001b[1;33m=\u001b[0m\u001b[1;32mFalse\u001b[0m\u001b[1;33m)\u001b[0m\u001b[1;33m\u001b[0m\u001b[1;33m\u001b[0m\u001b[0m\n",
      "\u001b[1;32m~\\anaconda3\\lib\\site-packages\\sklearn\\tree\\_classes.py\u001b[0m in \u001b[0;36mfit\u001b[1;34m(self, X, y, sample_weight, check_input)\u001b[0m\n\u001b[0;32m   1340\u001b[0m         \"\"\"\n\u001b[0;32m   1341\u001b[0m \u001b[1;33m\u001b[0m\u001b[0m\n\u001b[1;32m-> 1342\u001b[1;33m         super().fit(\n\u001b[0m\u001b[0;32m   1343\u001b[0m             \u001b[0mX\u001b[0m\u001b[1;33m,\u001b[0m\u001b[1;33m\u001b[0m\u001b[1;33m\u001b[0m\u001b[0m\n\u001b[0;32m   1344\u001b[0m             \u001b[0my\u001b[0m\u001b[1;33m,\u001b[0m\u001b[1;33m\u001b[0m\u001b[1;33m\u001b[0m\u001b[0m\n",
      "\u001b[1;32m~\\anaconda3\\lib\\site-packages\\sklearn\\tree\\_classes.py\u001b[0m in \u001b[0;36mfit\u001b[1;34m(self, X, y, sample_weight, check_input)\u001b[0m\n\u001b[0;32m    456\u001b[0m             )\n\u001b[0;32m    457\u001b[0m \u001b[1;33m\u001b[0m\u001b[0m\n\u001b[1;32m--> 458\u001b[1;33m         \u001b[0mbuilder\u001b[0m\u001b[1;33m.\u001b[0m\u001b[0mbuild\u001b[0m\u001b[1;33m(\u001b[0m\u001b[0mself\u001b[0m\u001b[1;33m.\u001b[0m\u001b[0mtree_\u001b[0m\u001b[1;33m,\u001b[0m \u001b[0mX\u001b[0m\u001b[1;33m,\u001b[0m \u001b[0my\u001b[0m\u001b[1;33m,\u001b[0m \u001b[0msample_weight\u001b[0m\u001b[1;33m)\u001b[0m\u001b[1;33m\u001b[0m\u001b[1;33m\u001b[0m\u001b[0m\n\u001b[0m\u001b[0;32m    459\u001b[0m \u001b[1;33m\u001b[0m\u001b[0m\n\u001b[0;32m    460\u001b[0m         \u001b[1;32mif\u001b[0m \u001b[0mself\u001b[0m\u001b[1;33m.\u001b[0m\u001b[0mn_outputs_\u001b[0m \u001b[1;33m==\u001b[0m \u001b[1;36m1\u001b[0m \u001b[1;32mand\u001b[0m \u001b[0mis_classifier\u001b[0m\u001b[1;33m(\u001b[0m\u001b[0mself\u001b[0m\u001b[1;33m)\u001b[0m\u001b[1;33m:\u001b[0m\u001b[1;33m\u001b[0m\u001b[1;33m\u001b[0m\u001b[0m\n",
      "\u001b[1;31mKeyboardInterrupt\u001b[0m: "
     ]
    }
   ],
   "source": [
    "best_score=0\n",
    "best_params = {'n_estimators' : 0, 'max_depth' : 0}\n",
    "\n",
    "for n in n_est:\n",
    "    for d in max_depth:\n",
    "        model =  ensemble.RandomForestRegressor(n_estimators=n, max_depth=d)\n",
    "        scores = model_selection.cross_val_score(model, x_train, y_train, cv=5, scoring='r2')        \n",
    "        score = scores.mean()\n",
    "        \n",
    "        if score > best_score:\n",
    "            best_score = score\n",
    "            best_params['n_estimators'] = n\n",
    "            best_params['max_depth'] = d"
   ]
  },
  {
   "cell_type": "code",
   "execution_count": 80,
   "metadata": {},
   "outputs": [],
   "source": [
    "### 2 sets of parameters doesn't converge"
   ]
  },
  {
   "cell_type": "code",
   "execution_count": 81,
   "metadata": {},
   "outputs": [],
   "source": [
    "params={'n_estimators':[10,100],\n",
    "'max_depth':[6]}"
   ]
  },
  {
   "cell_type": "code",
   "execution_count": 82,
   "metadata": {},
   "outputs": [],
   "source": [
    "model =  ensemble.RandomForestRegressor()"
   ]
  },
  {
   "cell_type": "code",
   "execution_count": 83,
   "metadata": {},
   "outputs": [],
   "source": [
    "grid = model_selection.GridSearchCV(model, param_grid=params, cv=5, scoring='r2', return_train_score=True)"
   ]
  },
  {
   "cell_type": "code",
   "execution_count": 84,
   "metadata": {},
   "outputs": [
    {
     "ename": "KeyboardInterrupt",
     "evalue": "",
     "output_type": "error",
     "traceback": [
      "\u001b[1;31m---------------------------------------------------------------------------\u001b[0m",
      "\u001b[1;31mKeyboardInterrupt\u001b[0m                         Traceback (most recent call last)",
      "\u001b[1;32m<ipython-input-84-34dc3e75ad31>\u001b[0m in \u001b[0;36m<module>\u001b[1;34m\u001b[0m\n\u001b[1;32m----> 1\u001b[1;33m \u001b[0mgrid\u001b[0m\u001b[1;33m.\u001b[0m\u001b[0mfit\u001b[0m\u001b[1;33m(\u001b[0m\u001b[0mx_train\u001b[0m\u001b[1;33m,\u001b[0m \u001b[0my_train\u001b[0m\u001b[1;33m)\u001b[0m\u001b[1;33m\u001b[0m\u001b[1;33m\u001b[0m\u001b[0m\n\u001b[0m",
      "\u001b[1;32m~\\anaconda3\\lib\\site-packages\\sklearn\\model_selection\\_search.py\u001b[0m in \u001b[0;36mfit\u001b[1;34m(self, X, y, groups, **fit_params)\u001b[0m\n\u001b[0;32m    873\u001b[0m                 \u001b[1;32mreturn\u001b[0m \u001b[0mresults\u001b[0m\u001b[1;33m\u001b[0m\u001b[1;33m\u001b[0m\u001b[0m\n\u001b[0;32m    874\u001b[0m \u001b[1;33m\u001b[0m\u001b[0m\n\u001b[1;32m--> 875\u001b[1;33m             \u001b[0mself\u001b[0m\u001b[1;33m.\u001b[0m\u001b[0m_run_search\u001b[0m\u001b[1;33m(\u001b[0m\u001b[0mevaluate_candidates\u001b[0m\u001b[1;33m)\u001b[0m\u001b[1;33m\u001b[0m\u001b[1;33m\u001b[0m\u001b[0m\n\u001b[0m\u001b[0;32m    876\u001b[0m \u001b[1;33m\u001b[0m\u001b[0m\n\u001b[0;32m    877\u001b[0m             \u001b[1;31m# multimetric is determined here because in the case of a callable\u001b[0m\u001b[1;33m\u001b[0m\u001b[1;33m\u001b[0m\u001b[1;33m\u001b[0m\u001b[0m\n",
      "\u001b[1;32m~\\anaconda3\\lib\\site-packages\\sklearn\\model_selection\\_search.py\u001b[0m in \u001b[0;36m_run_search\u001b[1;34m(self, evaluate_candidates)\u001b[0m\n\u001b[0;32m   1373\u001b[0m     \u001b[1;32mdef\u001b[0m \u001b[0m_run_search\u001b[0m\u001b[1;33m(\u001b[0m\u001b[0mself\u001b[0m\u001b[1;33m,\u001b[0m \u001b[0mevaluate_candidates\u001b[0m\u001b[1;33m)\u001b[0m\u001b[1;33m:\u001b[0m\u001b[1;33m\u001b[0m\u001b[1;33m\u001b[0m\u001b[0m\n\u001b[0;32m   1374\u001b[0m         \u001b[1;34m\"\"\"Search all candidates in param_grid\"\"\"\u001b[0m\u001b[1;33m\u001b[0m\u001b[1;33m\u001b[0m\u001b[0m\n\u001b[1;32m-> 1375\u001b[1;33m         \u001b[0mevaluate_candidates\u001b[0m\u001b[1;33m(\u001b[0m\u001b[0mParameterGrid\u001b[0m\u001b[1;33m(\u001b[0m\u001b[0mself\u001b[0m\u001b[1;33m.\u001b[0m\u001b[0mparam_grid\u001b[0m\u001b[1;33m)\u001b[0m\u001b[1;33m)\u001b[0m\u001b[1;33m\u001b[0m\u001b[1;33m\u001b[0m\u001b[0m\n\u001b[0m\u001b[0;32m   1376\u001b[0m \u001b[1;33m\u001b[0m\u001b[0m\n\u001b[0;32m   1377\u001b[0m \u001b[1;33m\u001b[0m\u001b[0m\n",
      "\u001b[1;32m~\\anaconda3\\lib\\site-packages\\sklearn\\model_selection\\_search.py\u001b[0m in \u001b[0;36mevaluate_candidates\u001b[1;34m(candidate_params, cv, more_results)\u001b[0m\n\u001b[0;32m    820\u001b[0m                     )\n\u001b[0;32m    821\u001b[0m \u001b[1;33m\u001b[0m\u001b[0m\n\u001b[1;32m--> 822\u001b[1;33m                 out = parallel(\n\u001b[0m\u001b[0;32m    823\u001b[0m                     delayed(_fit_and_score)(\n\u001b[0;32m    824\u001b[0m                         \u001b[0mclone\u001b[0m\u001b[1;33m(\u001b[0m\u001b[0mbase_estimator\u001b[0m\u001b[1;33m)\u001b[0m\u001b[1;33m,\u001b[0m\u001b[1;33m\u001b[0m\u001b[1;33m\u001b[0m\u001b[0m\n",
      "\u001b[1;32m~\\anaconda3\\lib\\site-packages\\joblib\\parallel.py\u001b[0m in \u001b[0;36m__call__\u001b[1;34m(self, iterable)\u001b[0m\n\u001b[0;32m   1044\u001b[0m                 \u001b[0mself\u001b[0m\u001b[1;33m.\u001b[0m\u001b[0m_iterating\u001b[0m \u001b[1;33m=\u001b[0m \u001b[0mself\u001b[0m\u001b[1;33m.\u001b[0m\u001b[0m_original_iterator\u001b[0m \u001b[1;32mis\u001b[0m \u001b[1;32mnot\u001b[0m \u001b[1;32mNone\u001b[0m\u001b[1;33m\u001b[0m\u001b[1;33m\u001b[0m\u001b[0m\n\u001b[0;32m   1045\u001b[0m \u001b[1;33m\u001b[0m\u001b[0m\n\u001b[1;32m-> 1046\u001b[1;33m             \u001b[1;32mwhile\u001b[0m \u001b[0mself\u001b[0m\u001b[1;33m.\u001b[0m\u001b[0mdispatch_one_batch\u001b[0m\u001b[1;33m(\u001b[0m\u001b[0miterator\u001b[0m\u001b[1;33m)\u001b[0m\u001b[1;33m:\u001b[0m\u001b[1;33m\u001b[0m\u001b[1;33m\u001b[0m\u001b[0m\n\u001b[0m\u001b[0;32m   1047\u001b[0m                 \u001b[1;32mpass\u001b[0m\u001b[1;33m\u001b[0m\u001b[1;33m\u001b[0m\u001b[0m\n\u001b[0;32m   1048\u001b[0m \u001b[1;33m\u001b[0m\u001b[0m\n",
      "\u001b[1;32m~\\anaconda3\\lib\\site-packages\\joblib\\parallel.py\u001b[0m in \u001b[0;36mdispatch_one_batch\u001b[1;34m(self, iterator)\u001b[0m\n\u001b[0;32m    859\u001b[0m                 \u001b[1;32mreturn\u001b[0m \u001b[1;32mFalse\u001b[0m\u001b[1;33m\u001b[0m\u001b[1;33m\u001b[0m\u001b[0m\n\u001b[0;32m    860\u001b[0m             \u001b[1;32melse\u001b[0m\u001b[1;33m:\u001b[0m\u001b[1;33m\u001b[0m\u001b[1;33m\u001b[0m\u001b[0m\n\u001b[1;32m--> 861\u001b[1;33m                 \u001b[0mself\u001b[0m\u001b[1;33m.\u001b[0m\u001b[0m_dispatch\u001b[0m\u001b[1;33m(\u001b[0m\u001b[0mtasks\u001b[0m\u001b[1;33m)\u001b[0m\u001b[1;33m\u001b[0m\u001b[1;33m\u001b[0m\u001b[0m\n\u001b[0m\u001b[0;32m    862\u001b[0m                 \u001b[1;32mreturn\u001b[0m \u001b[1;32mTrue\u001b[0m\u001b[1;33m\u001b[0m\u001b[1;33m\u001b[0m\u001b[0m\n\u001b[0;32m    863\u001b[0m \u001b[1;33m\u001b[0m\u001b[0m\n",
      "\u001b[1;32m~\\anaconda3\\lib\\site-packages\\joblib\\parallel.py\u001b[0m in \u001b[0;36m_dispatch\u001b[1;34m(self, batch)\u001b[0m\n\u001b[0;32m    777\u001b[0m         \u001b[1;32mwith\u001b[0m \u001b[0mself\u001b[0m\u001b[1;33m.\u001b[0m\u001b[0m_lock\u001b[0m\u001b[1;33m:\u001b[0m\u001b[1;33m\u001b[0m\u001b[1;33m\u001b[0m\u001b[0m\n\u001b[0;32m    778\u001b[0m             \u001b[0mjob_idx\u001b[0m \u001b[1;33m=\u001b[0m \u001b[0mlen\u001b[0m\u001b[1;33m(\u001b[0m\u001b[0mself\u001b[0m\u001b[1;33m.\u001b[0m\u001b[0m_jobs\u001b[0m\u001b[1;33m)\u001b[0m\u001b[1;33m\u001b[0m\u001b[1;33m\u001b[0m\u001b[0m\n\u001b[1;32m--> 779\u001b[1;33m             \u001b[0mjob\u001b[0m \u001b[1;33m=\u001b[0m \u001b[0mself\u001b[0m\u001b[1;33m.\u001b[0m\u001b[0m_backend\u001b[0m\u001b[1;33m.\u001b[0m\u001b[0mapply_async\u001b[0m\u001b[1;33m(\u001b[0m\u001b[0mbatch\u001b[0m\u001b[1;33m,\u001b[0m \u001b[0mcallback\u001b[0m\u001b[1;33m=\u001b[0m\u001b[0mcb\u001b[0m\u001b[1;33m)\u001b[0m\u001b[1;33m\u001b[0m\u001b[1;33m\u001b[0m\u001b[0m\n\u001b[0m\u001b[0;32m    780\u001b[0m             \u001b[1;31m# A job can complete so quickly than its callback is\u001b[0m\u001b[1;33m\u001b[0m\u001b[1;33m\u001b[0m\u001b[1;33m\u001b[0m\u001b[0m\n\u001b[0;32m    781\u001b[0m             \u001b[1;31m# called before we get here, causing self._jobs to\u001b[0m\u001b[1;33m\u001b[0m\u001b[1;33m\u001b[0m\u001b[1;33m\u001b[0m\u001b[0m\n",
      "\u001b[1;32m~\\anaconda3\\lib\\site-packages\\joblib\\_parallel_backends.py\u001b[0m in \u001b[0;36mapply_async\u001b[1;34m(self, func, callback)\u001b[0m\n\u001b[0;32m    206\u001b[0m     \u001b[1;32mdef\u001b[0m \u001b[0mapply_async\u001b[0m\u001b[1;33m(\u001b[0m\u001b[0mself\u001b[0m\u001b[1;33m,\u001b[0m \u001b[0mfunc\u001b[0m\u001b[1;33m,\u001b[0m \u001b[0mcallback\u001b[0m\u001b[1;33m=\u001b[0m\u001b[1;32mNone\u001b[0m\u001b[1;33m)\u001b[0m\u001b[1;33m:\u001b[0m\u001b[1;33m\u001b[0m\u001b[1;33m\u001b[0m\u001b[0m\n\u001b[0;32m    207\u001b[0m         \u001b[1;34m\"\"\"Schedule a func to be run\"\"\"\u001b[0m\u001b[1;33m\u001b[0m\u001b[1;33m\u001b[0m\u001b[0m\n\u001b[1;32m--> 208\u001b[1;33m         \u001b[0mresult\u001b[0m \u001b[1;33m=\u001b[0m \u001b[0mImmediateResult\u001b[0m\u001b[1;33m(\u001b[0m\u001b[0mfunc\u001b[0m\u001b[1;33m)\u001b[0m\u001b[1;33m\u001b[0m\u001b[1;33m\u001b[0m\u001b[0m\n\u001b[0m\u001b[0;32m    209\u001b[0m         \u001b[1;32mif\u001b[0m \u001b[0mcallback\u001b[0m\u001b[1;33m:\u001b[0m\u001b[1;33m\u001b[0m\u001b[1;33m\u001b[0m\u001b[0m\n\u001b[0;32m    210\u001b[0m             \u001b[0mcallback\u001b[0m\u001b[1;33m(\u001b[0m\u001b[0mresult\u001b[0m\u001b[1;33m)\u001b[0m\u001b[1;33m\u001b[0m\u001b[1;33m\u001b[0m\u001b[0m\n",
      "\u001b[1;32m~\\anaconda3\\lib\\site-packages\\joblib\\_parallel_backends.py\u001b[0m in \u001b[0;36m__init__\u001b[1;34m(self, batch)\u001b[0m\n\u001b[0;32m    570\u001b[0m         \u001b[1;31m# Don't delay the application, to avoid keeping the input\u001b[0m\u001b[1;33m\u001b[0m\u001b[1;33m\u001b[0m\u001b[1;33m\u001b[0m\u001b[0m\n\u001b[0;32m    571\u001b[0m         \u001b[1;31m# arguments in memory\u001b[0m\u001b[1;33m\u001b[0m\u001b[1;33m\u001b[0m\u001b[1;33m\u001b[0m\u001b[0m\n\u001b[1;32m--> 572\u001b[1;33m         \u001b[0mself\u001b[0m\u001b[1;33m.\u001b[0m\u001b[0mresults\u001b[0m \u001b[1;33m=\u001b[0m \u001b[0mbatch\u001b[0m\u001b[1;33m(\u001b[0m\u001b[1;33m)\u001b[0m\u001b[1;33m\u001b[0m\u001b[1;33m\u001b[0m\u001b[0m\n\u001b[0m\u001b[0;32m    573\u001b[0m \u001b[1;33m\u001b[0m\u001b[0m\n\u001b[0;32m    574\u001b[0m     \u001b[1;32mdef\u001b[0m \u001b[0mget\u001b[0m\u001b[1;33m(\u001b[0m\u001b[0mself\u001b[0m\u001b[1;33m)\u001b[0m\u001b[1;33m:\u001b[0m\u001b[1;33m\u001b[0m\u001b[1;33m\u001b[0m\u001b[0m\n",
      "\u001b[1;32m~\\anaconda3\\lib\\site-packages\\joblib\\parallel.py\u001b[0m in \u001b[0;36m__call__\u001b[1;34m(self)\u001b[0m\n\u001b[0;32m    260\u001b[0m         \u001b[1;31m# change the default number of processes to -1\u001b[0m\u001b[1;33m\u001b[0m\u001b[1;33m\u001b[0m\u001b[1;33m\u001b[0m\u001b[0m\n\u001b[0;32m    261\u001b[0m         \u001b[1;32mwith\u001b[0m \u001b[0mparallel_backend\u001b[0m\u001b[1;33m(\u001b[0m\u001b[0mself\u001b[0m\u001b[1;33m.\u001b[0m\u001b[0m_backend\u001b[0m\u001b[1;33m,\u001b[0m \u001b[0mn_jobs\u001b[0m\u001b[1;33m=\u001b[0m\u001b[0mself\u001b[0m\u001b[1;33m.\u001b[0m\u001b[0m_n_jobs\u001b[0m\u001b[1;33m)\u001b[0m\u001b[1;33m:\u001b[0m\u001b[1;33m\u001b[0m\u001b[1;33m\u001b[0m\u001b[0m\n\u001b[1;32m--> 262\u001b[1;33m             return [func(*args, **kwargs)\n\u001b[0m\u001b[0;32m    263\u001b[0m                     for func, args, kwargs in self.items]\n\u001b[0;32m    264\u001b[0m \u001b[1;33m\u001b[0m\u001b[0m\n",
      "\u001b[1;32m~\\anaconda3\\lib\\site-packages\\joblib\\parallel.py\u001b[0m in \u001b[0;36m<listcomp>\u001b[1;34m(.0)\u001b[0m\n\u001b[0;32m    260\u001b[0m         \u001b[1;31m# change the default number of processes to -1\u001b[0m\u001b[1;33m\u001b[0m\u001b[1;33m\u001b[0m\u001b[1;33m\u001b[0m\u001b[0m\n\u001b[0;32m    261\u001b[0m         \u001b[1;32mwith\u001b[0m \u001b[0mparallel_backend\u001b[0m\u001b[1;33m(\u001b[0m\u001b[0mself\u001b[0m\u001b[1;33m.\u001b[0m\u001b[0m_backend\u001b[0m\u001b[1;33m,\u001b[0m \u001b[0mn_jobs\u001b[0m\u001b[1;33m=\u001b[0m\u001b[0mself\u001b[0m\u001b[1;33m.\u001b[0m\u001b[0m_n_jobs\u001b[0m\u001b[1;33m)\u001b[0m\u001b[1;33m:\u001b[0m\u001b[1;33m\u001b[0m\u001b[1;33m\u001b[0m\u001b[0m\n\u001b[1;32m--> 262\u001b[1;33m             return [func(*args, **kwargs)\n\u001b[0m\u001b[0;32m    263\u001b[0m                     for func, args, kwargs in self.items]\n\u001b[0;32m    264\u001b[0m \u001b[1;33m\u001b[0m\u001b[0m\n",
      "\u001b[1;32m~\\anaconda3\\lib\\site-packages\\sklearn\\utils\\fixes.py\u001b[0m in \u001b[0;36m__call__\u001b[1;34m(self, *args, **kwargs)\u001b[0m\n\u001b[0;32m    115\u001b[0m     \u001b[1;32mdef\u001b[0m \u001b[0m__call__\u001b[0m\u001b[1;33m(\u001b[0m\u001b[0mself\u001b[0m\u001b[1;33m,\u001b[0m \u001b[1;33m*\u001b[0m\u001b[0margs\u001b[0m\u001b[1;33m,\u001b[0m \u001b[1;33m**\u001b[0m\u001b[0mkwargs\u001b[0m\u001b[1;33m)\u001b[0m\u001b[1;33m:\u001b[0m\u001b[1;33m\u001b[0m\u001b[1;33m\u001b[0m\u001b[0m\n\u001b[0;32m    116\u001b[0m         \u001b[1;32mwith\u001b[0m \u001b[0mconfig_context\u001b[0m\u001b[1;33m(\u001b[0m\u001b[1;33m**\u001b[0m\u001b[0mself\u001b[0m\u001b[1;33m.\u001b[0m\u001b[0mconfig\u001b[0m\u001b[1;33m)\u001b[0m\u001b[1;33m:\u001b[0m\u001b[1;33m\u001b[0m\u001b[1;33m\u001b[0m\u001b[0m\n\u001b[1;32m--> 117\u001b[1;33m             \u001b[1;32mreturn\u001b[0m \u001b[0mself\u001b[0m\u001b[1;33m.\u001b[0m\u001b[0mfunction\u001b[0m\u001b[1;33m(\u001b[0m\u001b[1;33m*\u001b[0m\u001b[0margs\u001b[0m\u001b[1;33m,\u001b[0m \u001b[1;33m**\u001b[0m\u001b[0mkwargs\u001b[0m\u001b[1;33m)\u001b[0m\u001b[1;33m\u001b[0m\u001b[1;33m\u001b[0m\u001b[0m\n\u001b[0m\u001b[0;32m    118\u001b[0m \u001b[1;33m\u001b[0m\u001b[0m\n\u001b[0;32m    119\u001b[0m \u001b[1;33m\u001b[0m\u001b[0m\n",
      "\u001b[1;32m~\\anaconda3\\lib\\site-packages\\sklearn\\model_selection\\_validation.py\u001b[0m in \u001b[0;36m_fit_and_score\u001b[1;34m(estimator, X, y, scorer, train, test, verbose, parameters, fit_params, return_train_score, return_parameters, return_n_test_samples, return_times, return_estimator, split_progress, candidate_progress, error_score)\u001b[0m\n\u001b[0;32m    684\u001b[0m             \u001b[0mestimator\u001b[0m\u001b[1;33m.\u001b[0m\u001b[0mfit\u001b[0m\u001b[1;33m(\u001b[0m\u001b[0mX_train\u001b[0m\u001b[1;33m,\u001b[0m \u001b[1;33m**\u001b[0m\u001b[0mfit_params\u001b[0m\u001b[1;33m)\u001b[0m\u001b[1;33m\u001b[0m\u001b[1;33m\u001b[0m\u001b[0m\n\u001b[0;32m    685\u001b[0m         \u001b[1;32melse\u001b[0m\u001b[1;33m:\u001b[0m\u001b[1;33m\u001b[0m\u001b[1;33m\u001b[0m\u001b[0m\n\u001b[1;32m--> 686\u001b[1;33m             \u001b[0mestimator\u001b[0m\u001b[1;33m.\u001b[0m\u001b[0mfit\u001b[0m\u001b[1;33m(\u001b[0m\u001b[0mX_train\u001b[0m\u001b[1;33m,\u001b[0m \u001b[0my_train\u001b[0m\u001b[1;33m,\u001b[0m \u001b[1;33m**\u001b[0m\u001b[0mfit_params\u001b[0m\u001b[1;33m)\u001b[0m\u001b[1;33m\u001b[0m\u001b[1;33m\u001b[0m\u001b[0m\n\u001b[0m\u001b[0;32m    687\u001b[0m \u001b[1;33m\u001b[0m\u001b[0m\n\u001b[0;32m    688\u001b[0m     \u001b[1;32mexcept\u001b[0m \u001b[0mException\u001b[0m\u001b[1;33m:\u001b[0m\u001b[1;33m\u001b[0m\u001b[1;33m\u001b[0m\u001b[0m\n",
      "\u001b[1;32m~\\anaconda3\\lib\\site-packages\\sklearn\\ensemble\\_forest.py\u001b[0m in \u001b[0;36mfit\u001b[1;34m(self, X, y, sample_weight)\u001b[0m\n\u001b[0;32m    474\u001b[0m             \u001b[1;31m# parallel_backend contexts set at a higher level,\u001b[0m\u001b[1;33m\u001b[0m\u001b[1;33m\u001b[0m\u001b[1;33m\u001b[0m\u001b[0m\n\u001b[0;32m    475\u001b[0m             \u001b[1;31m# since correctness does not rely on using threads.\u001b[0m\u001b[1;33m\u001b[0m\u001b[1;33m\u001b[0m\u001b[1;33m\u001b[0m\u001b[0m\n\u001b[1;32m--> 476\u001b[1;33m             trees = Parallel(\n\u001b[0m\u001b[0;32m    477\u001b[0m                 \u001b[0mn_jobs\u001b[0m\u001b[1;33m=\u001b[0m\u001b[0mself\u001b[0m\u001b[1;33m.\u001b[0m\u001b[0mn_jobs\u001b[0m\u001b[1;33m,\u001b[0m\u001b[1;33m\u001b[0m\u001b[1;33m\u001b[0m\u001b[0m\n\u001b[0;32m    478\u001b[0m                 \u001b[0mverbose\u001b[0m\u001b[1;33m=\u001b[0m\u001b[0mself\u001b[0m\u001b[1;33m.\u001b[0m\u001b[0mverbose\u001b[0m\u001b[1;33m,\u001b[0m\u001b[1;33m\u001b[0m\u001b[1;33m\u001b[0m\u001b[0m\n",
      "\u001b[1;32m~\\anaconda3\\lib\\site-packages\\joblib\\parallel.py\u001b[0m in \u001b[0;36m__call__\u001b[1;34m(self, iterable)\u001b[0m\n\u001b[0;32m   1044\u001b[0m                 \u001b[0mself\u001b[0m\u001b[1;33m.\u001b[0m\u001b[0m_iterating\u001b[0m \u001b[1;33m=\u001b[0m \u001b[0mself\u001b[0m\u001b[1;33m.\u001b[0m\u001b[0m_original_iterator\u001b[0m \u001b[1;32mis\u001b[0m \u001b[1;32mnot\u001b[0m \u001b[1;32mNone\u001b[0m\u001b[1;33m\u001b[0m\u001b[1;33m\u001b[0m\u001b[0m\n\u001b[0;32m   1045\u001b[0m \u001b[1;33m\u001b[0m\u001b[0m\n\u001b[1;32m-> 1046\u001b[1;33m             \u001b[1;32mwhile\u001b[0m \u001b[0mself\u001b[0m\u001b[1;33m.\u001b[0m\u001b[0mdispatch_one_batch\u001b[0m\u001b[1;33m(\u001b[0m\u001b[0miterator\u001b[0m\u001b[1;33m)\u001b[0m\u001b[1;33m:\u001b[0m\u001b[1;33m\u001b[0m\u001b[1;33m\u001b[0m\u001b[0m\n\u001b[0m\u001b[0;32m   1047\u001b[0m                 \u001b[1;32mpass\u001b[0m\u001b[1;33m\u001b[0m\u001b[1;33m\u001b[0m\u001b[0m\n\u001b[0;32m   1048\u001b[0m \u001b[1;33m\u001b[0m\u001b[0m\n",
      "\u001b[1;32m~\\anaconda3\\lib\\site-packages\\joblib\\parallel.py\u001b[0m in \u001b[0;36mdispatch_one_batch\u001b[1;34m(self, iterator)\u001b[0m\n\u001b[0;32m    859\u001b[0m                 \u001b[1;32mreturn\u001b[0m \u001b[1;32mFalse\u001b[0m\u001b[1;33m\u001b[0m\u001b[1;33m\u001b[0m\u001b[0m\n\u001b[0;32m    860\u001b[0m             \u001b[1;32melse\u001b[0m\u001b[1;33m:\u001b[0m\u001b[1;33m\u001b[0m\u001b[1;33m\u001b[0m\u001b[0m\n\u001b[1;32m--> 861\u001b[1;33m                 \u001b[0mself\u001b[0m\u001b[1;33m.\u001b[0m\u001b[0m_dispatch\u001b[0m\u001b[1;33m(\u001b[0m\u001b[0mtasks\u001b[0m\u001b[1;33m)\u001b[0m\u001b[1;33m\u001b[0m\u001b[1;33m\u001b[0m\u001b[0m\n\u001b[0m\u001b[0;32m    862\u001b[0m                 \u001b[1;32mreturn\u001b[0m \u001b[1;32mTrue\u001b[0m\u001b[1;33m\u001b[0m\u001b[1;33m\u001b[0m\u001b[0m\n\u001b[0;32m    863\u001b[0m \u001b[1;33m\u001b[0m\u001b[0m\n",
      "\u001b[1;32m~\\anaconda3\\lib\\site-packages\\joblib\\parallel.py\u001b[0m in \u001b[0;36m_dispatch\u001b[1;34m(self, batch)\u001b[0m\n\u001b[0;32m    777\u001b[0m         \u001b[1;32mwith\u001b[0m \u001b[0mself\u001b[0m\u001b[1;33m.\u001b[0m\u001b[0m_lock\u001b[0m\u001b[1;33m:\u001b[0m\u001b[1;33m\u001b[0m\u001b[1;33m\u001b[0m\u001b[0m\n\u001b[0;32m    778\u001b[0m             \u001b[0mjob_idx\u001b[0m \u001b[1;33m=\u001b[0m \u001b[0mlen\u001b[0m\u001b[1;33m(\u001b[0m\u001b[0mself\u001b[0m\u001b[1;33m.\u001b[0m\u001b[0m_jobs\u001b[0m\u001b[1;33m)\u001b[0m\u001b[1;33m\u001b[0m\u001b[1;33m\u001b[0m\u001b[0m\n\u001b[1;32m--> 779\u001b[1;33m             \u001b[0mjob\u001b[0m \u001b[1;33m=\u001b[0m \u001b[0mself\u001b[0m\u001b[1;33m.\u001b[0m\u001b[0m_backend\u001b[0m\u001b[1;33m.\u001b[0m\u001b[0mapply_async\u001b[0m\u001b[1;33m(\u001b[0m\u001b[0mbatch\u001b[0m\u001b[1;33m,\u001b[0m \u001b[0mcallback\u001b[0m\u001b[1;33m=\u001b[0m\u001b[0mcb\u001b[0m\u001b[1;33m)\u001b[0m\u001b[1;33m\u001b[0m\u001b[1;33m\u001b[0m\u001b[0m\n\u001b[0m\u001b[0;32m    780\u001b[0m             \u001b[1;31m# A job can complete so quickly than its callback is\u001b[0m\u001b[1;33m\u001b[0m\u001b[1;33m\u001b[0m\u001b[1;33m\u001b[0m\u001b[0m\n\u001b[0;32m    781\u001b[0m             \u001b[1;31m# called before we get here, causing self._jobs to\u001b[0m\u001b[1;33m\u001b[0m\u001b[1;33m\u001b[0m\u001b[1;33m\u001b[0m\u001b[0m\n",
      "\u001b[1;32m~\\anaconda3\\lib\\site-packages\\joblib\\_parallel_backends.py\u001b[0m in \u001b[0;36mapply_async\u001b[1;34m(self, func, callback)\u001b[0m\n\u001b[0;32m    206\u001b[0m     \u001b[1;32mdef\u001b[0m \u001b[0mapply_async\u001b[0m\u001b[1;33m(\u001b[0m\u001b[0mself\u001b[0m\u001b[1;33m,\u001b[0m \u001b[0mfunc\u001b[0m\u001b[1;33m,\u001b[0m \u001b[0mcallback\u001b[0m\u001b[1;33m=\u001b[0m\u001b[1;32mNone\u001b[0m\u001b[1;33m)\u001b[0m\u001b[1;33m:\u001b[0m\u001b[1;33m\u001b[0m\u001b[1;33m\u001b[0m\u001b[0m\n\u001b[0;32m    207\u001b[0m         \u001b[1;34m\"\"\"Schedule a func to be run\"\"\"\u001b[0m\u001b[1;33m\u001b[0m\u001b[1;33m\u001b[0m\u001b[0m\n\u001b[1;32m--> 208\u001b[1;33m         \u001b[0mresult\u001b[0m \u001b[1;33m=\u001b[0m \u001b[0mImmediateResult\u001b[0m\u001b[1;33m(\u001b[0m\u001b[0mfunc\u001b[0m\u001b[1;33m)\u001b[0m\u001b[1;33m\u001b[0m\u001b[1;33m\u001b[0m\u001b[0m\n\u001b[0m\u001b[0;32m    209\u001b[0m         \u001b[1;32mif\u001b[0m \u001b[0mcallback\u001b[0m\u001b[1;33m:\u001b[0m\u001b[1;33m\u001b[0m\u001b[1;33m\u001b[0m\u001b[0m\n\u001b[0;32m    210\u001b[0m             \u001b[0mcallback\u001b[0m\u001b[1;33m(\u001b[0m\u001b[0mresult\u001b[0m\u001b[1;33m)\u001b[0m\u001b[1;33m\u001b[0m\u001b[1;33m\u001b[0m\u001b[0m\n",
      "\u001b[1;32m~\\anaconda3\\lib\\site-packages\\joblib\\_parallel_backends.py\u001b[0m in \u001b[0;36m__init__\u001b[1;34m(self, batch)\u001b[0m\n\u001b[0;32m    570\u001b[0m         \u001b[1;31m# Don't delay the application, to avoid keeping the input\u001b[0m\u001b[1;33m\u001b[0m\u001b[1;33m\u001b[0m\u001b[1;33m\u001b[0m\u001b[0m\n\u001b[0;32m    571\u001b[0m         \u001b[1;31m# arguments in memory\u001b[0m\u001b[1;33m\u001b[0m\u001b[1;33m\u001b[0m\u001b[1;33m\u001b[0m\u001b[0m\n\u001b[1;32m--> 572\u001b[1;33m         \u001b[0mself\u001b[0m\u001b[1;33m.\u001b[0m\u001b[0mresults\u001b[0m \u001b[1;33m=\u001b[0m \u001b[0mbatch\u001b[0m\u001b[1;33m(\u001b[0m\u001b[1;33m)\u001b[0m\u001b[1;33m\u001b[0m\u001b[1;33m\u001b[0m\u001b[0m\n\u001b[0m\u001b[0;32m    573\u001b[0m \u001b[1;33m\u001b[0m\u001b[0m\n\u001b[0;32m    574\u001b[0m     \u001b[1;32mdef\u001b[0m \u001b[0mget\u001b[0m\u001b[1;33m(\u001b[0m\u001b[0mself\u001b[0m\u001b[1;33m)\u001b[0m\u001b[1;33m:\u001b[0m\u001b[1;33m\u001b[0m\u001b[1;33m\u001b[0m\u001b[0m\n",
      "\u001b[1;32m~\\anaconda3\\lib\\site-packages\\joblib\\parallel.py\u001b[0m in \u001b[0;36m__call__\u001b[1;34m(self)\u001b[0m\n\u001b[0;32m    260\u001b[0m         \u001b[1;31m# change the default number of processes to -1\u001b[0m\u001b[1;33m\u001b[0m\u001b[1;33m\u001b[0m\u001b[1;33m\u001b[0m\u001b[0m\n\u001b[0;32m    261\u001b[0m         \u001b[1;32mwith\u001b[0m \u001b[0mparallel_backend\u001b[0m\u001b[1;33m(\u001b[0m\u001b[0mself\u001b[0m\u001b[1;33m.\u001b[0m\u001b[0m_backend\u001b[0m\u001b[1;33m,\u001b[0m \u001b[0mn_jobs\u001b[0m\u001b[1;33m=\u001b[0m\u001b[0mself\u001b[0m\u001b[1;33m.\u001b[0m\u001b[0m_n_jobs\u001b[0m\u001b[1;33m)\u001b[0m\u001b[1;33m:\u001b[0m\u001b[1;33m\u001b[0m\u001b[1;33m\u001b[0m\u001b[0m\n\u001b[1;32m--> 262\u001b[1;33m             return [func(*args, **kwargs)\n\u001b[0m\u001b[0;32m    263\u001b[0m                     for func, args, kwargs in self.items]\n\u001b[0;32m    264\u001b[0m \u001b[1;33m\u001b[0m\u001b[0m\n",
      "\u001b[1;32m~\\anaconda3\\lib\\site-packages\\joblib\\parallel.py\u001b[0m in \u001b[0;36m<listcomp>\u001b[1;34m(.0)\u001b[0m\n\u001b[0;32m    260\u001b[0m         \u001b[1;31m# change the default number of processes to -1\u001b[0m\u001b[1;33m\u001b[0m\u001b[1;33m\u001b[0m\u001b[1;33m\u001b[0m\u001b[0m\n\u001b[0;32m    261\u001b[0m         \u001b[1;32mwith\u001b[0m \u001b[0mparallel_backend\u001b[0m\u001b[1;33m(\u001b[0m\u001b[0mself\u001b[0m\u001b[1;33m.\u001b[0m\u001b[0m_backend\u001b[0m\u001b[1;33m,\u001b[0m \u001b[0mn_jobs\u001b[0m\u001b[1;33m=\u001b[0m\u001b[0mself\u001b[0m\u001b[1;33m.\u001b[0m\u001b[0m_n_jobs\u001b[0m\u001b[1;33m)\u001b[0m\u001b[1;33m:\u001b[0m\u001b[1;33m\u001b[0m\u001b[1;33m\u001b[0m\u001b[0m\n\u001b[1;32m--> 262\u001b[1;33m             return [func(*args, **kwargs)\n\u001b[0m\u001b[0;32m    263\u001b[0m                     for func, args, kwargs in self.items]\n\u001b[0;32m    264\u001b[0m \u001b[1;33m\u001b[0m\u001b[0m\n",
      "\u001b[1;32m~\\anaconda3\\lib\\site-packages\\sklearn\\utils\\fixes.py\u001b[0m in \u001b[0;36m__call__\u001b[1;34m(self, *args, **kwargs)\u001b[0m\n\u001b[0;32m    115\u001b[0m     \u001b[1;32mdef\u001b[0m \u001b[0m__call__\u001b[0m\u001b[1;33m(\u001b[0m\u001b[0mself\u001b[0m\u001b[1;33m,\u001b[0m \u001b[1;33m*\u001b[0m\u001b[0margs\u001b[0m\u001b[1;33m,\u001b[0m \u001b[1;33m**\u001b[0m\u001b[0mkwargs\u001b[0m\u001b[1;33m)\u001b[0m\u001b[1;33m:\u001b[0m\u001b[1;33m\u001b[0m\u001b[1;33m\u001b[0m\u001b[0m\n\u001b[0;32m    116\u001b[0m         \u001b[1;32mwith\u001b[0m \u001b[0mconfig_context\u001b[0m\u001b[1;33m(\u001b[0m\u001b[1;33m**\u001b[0m\u001b[0mself\u001b[0m\u001b[1;33m.\u001b[0m\u001b[0mconfig\u001b[0m\u001b[1;33m)\u001b[0m\u001b[1;33m:\u001b[0m\u001b[1;33m\u001b[0m\u001b[1;33m\u001b[0m\u001b[0m\n\u001b[1;32m--> 117\u001b[1;33m             \u001b[1;32mreturn\u001b[0m \u001b[0mself\u001b[0m\u001b[1;33m.\u001b[0m\u001b[0mfunction\u001b[0m\u001b[1;33m(\u001b[0m\u001b[1;33m*\u001b[0m\u001b[0margs\u001b[0m\u001b[1;33m,\u001b[0m \u001b[1;33m**\u001b[0m\u001b[0mkwargs\u001b[0m\u001b[1;33m)\u001b[0m\u001b[1;33m\u001b[0m\u001b[1;33m\u001b[0m\u001b[0m\n\u001b[0m\u001b[0;32m    118\u001b[0m \u001b[1;33m\u001b[0m\u001b[0m\n\u001b[0;32m    119\u001b[0m \u001b[1;33m\u001b[0m\u001b[0m\n",
      "\u001b[1;32m~\\anaconda3\\lib\\site-packages\\sklearn\\ensemble\\_forest.py\u001b[0m in \u001b[0;36m_parallel_build_trees\u001b[1;34m(tree, bootstrap, X, y, sample_weight, tree_idx, n_trees, verbose, class_weight, n_samples_bootstrap)\u001b[0m\n\u001b[0;32m    187\u001b[0m             \u001b[0mcurr_sample_weight\u001b[0m \u001b[1;33m*=\u001b[0m \u001b[0mcompute_sample_weight\u001b[0m\u001b[1;33m(\u001b[0m\u001b[1;34m\"balanced\"\u001b[0m\u001b[1;33m,\u001b[0m \u001b[0my\u001b[0m\u001b[1;33m,\u001b[0m \u001b[0mindices\u001b[0m\u001b[1;33m=\u001b[0m\u001b[0mindices\u001b[0m\u001b[1;33m)\u001b[0m\u001b[1;33m\u001b[0m\u001b[1;33m\u001b[0m\u001b[0m\n\u001b[0;32m    188\u001b[0m \u001b[1;33m\u001b[0m\u001b[0m\n\u001b[1;32m--> 189\u001b[1;33m         \u001b[0mtree\u001b[0m\u001b[1;33m.\u001b[0m\u001b[0mfit\u001b[0m\u001b[1;33m(\u001b[0m\u001b[0mX\u001b[0m\u001b[1;33m,\u001b[0m \u001b[0my\u001b[0m\u001b[1;33m,\u001b[0m \u001b[0msample_weight\u001b[0m\u001b[1;33m=\u001b[0m\u001b[0mcurr_sample_weight\u001b[0m\u001b[1;33m,\u001b[0m \u001b[0mcheck_input\u001b[0m\u001b[1;33m=\u001b[0m\u001b[1;32mFalse\u001b[0m\u001b[1;33m)\u001b[0m\u001b[1;33m\u001b[0m\u001b[1;33m\u001b[0m\u001b[0m\n\u001b[0m\u001b[0;32m    190\u001b[0m     \u001b[1;32melse\u001b[0m\u001b[1;33m:\u001b[0m\u001b[1;33m\u001b[0m\u001b[1;33m\u001b[0m\u001b[0m\n\u001b[0;32m    191\u001b[0m         \u001b[0mtree\u001b[0m\u001b[1;33m.\u001b[0m\u001b[0mfit\u001b[0m\u001b[1;33m(\u001b[0m\u001b[0mX\u001b[0m\u001b[1;33m,\u001b[0m \u001b[0my\u001b[0m\u001b[1;33m,\u001b[0m \u001b[0msample_weight\u001b[0m\u001b[1;33m=\u001b[0m\u001b[0msample_weight\u001b[0m\u001b[1;33m,\u001b[0m \u001b[0mcheck_input\u001b[0m\u001b[1;33m=\u001b[0m\u001b[1;32mFalse\u001b[0m\u001b[1;33m)\u001b[0m\u001b[1;33m\u001b[0m\u001b[1;33m\u001b[0m\u001b[0m\n",
      "\u001b[1;32m~\\anaconda3\\lib\\site-packages\\sklearn\\tree\\_classes.py\u001b[0m in \u001b[0;36mfit\u001b[1;34m(self, X, y, sample_weight, check_input)\u001b[0m\n\u001b[0;32m   1340\u001b[0m         \"\"\"\n\u001b[0;32m   1341\u001b[0m \u001b[1;33m\u001b[0m\u001b[0m\n\u001b[1;32m-> 1342\u001b[1;33m         super().fit(\n\u001b[0m\u001b[0;32m   1343\u001b[0m             \u001b[0mX\u001b[0m\u001b[1;33m,\u001b[0m\u001b[1;33m\u001b[0m\u001b[1;33m\u001b[0m\u001b[0m\n\u001b[0;32m   1344\u001b[0m             \u001b[0my\u001b[0m\u001b[1;33m,\u001b[0m\u001b[1;33m\u001b[0m\u001b[1;33m\u001b[0m\u001b[0m\n",
      "\u001b[1;32m~\\anaconda3\\lib\\site-packages\\sklearn\\tree\\_classes.py\u001b[0m in \u001b[0;36mfit\u001b[1;34m(self, X, y, sample_weight, check_input)\u001b[0m\n\u001b[0;32m    456\u001b[0m             )\n\u001b[0;32m    457\u001b[0m \u001b[1;33m\u001b[0m\u001b[0m\n\u001b[1;32m--> 458\u001b[1;33m         \u001b[0mbuilder\u001b[0m\u001b[1;33m.\u001b[0m\u001b[0mbuild\u001b[0m\u001b[1;33m(\u001b[0m\u001b[0mself\u001b[0m\u001b[1;33m.\u001b[0m\u001b[0mtree_\u001b[0m\u001b[1;33m,\u001b[0m \u001b[0mX\u001b[0m\u001b[1;33m,\u001b[0m \u001b[0my\u001b[0m\u001b[1;33m,\u001b[0m \u001b[0msample_weight\u001b[0m\u001b[1;33m)\u001b[0m\u001b[1;33m\u001b[0m\u001b[1;33m\u001b[0m\u001b[0m\n\u001b[0m\u001b[0;32m    459\u001b[0m \u001b[1;33m\u001b[0m\u001b[0m\n\u001b[0;32m    460\u001b[0m         \u001b[1;32mif\u001b[0m \u001b[0mself\u001b[0m\u001b[1;33m.\u001b[0m\u001b[0mn_outputs_\u001b[0m \u001b[1;33m==\u001b[0m \u001b[1;36m1\u001b[0m \u001b[1;32mand\u001b[0m \u001b[0mis_classifier\u001b[0m\u001b[1;33m(\u001b[0m\u001b[0mself\u001b[0m\u001b[1;33m)\u001b[0m\u001b[1;33m:\u001b[0m\u001b[1;33m\u001b[0m\u001b[1;33m\u001b[0m\u001b[0m\n",
      "\u001b[1;31mKeyboardInterrupt\u001b[0m: "
     ]
    }
   ],
   "source": [
    "grid.fit(x_train, y_train)"
   ]
  },
  {
   "cell_type": "code",
   "execution_count": null,
   "metadata": {},
   "outputs": [],
   "source": [
    "model_forest = ensemble.RandomForestRegressor(n_estimators=best_params['n_estimators'], max_depth=best_params['max_depth'], random_state=7)"
   ]
  },
  {
   "cell_type": "code",
   "execution_count": null,
   "metadata": {},
   "outputs": [],
   "source": [
    "y_test_pred=model_forest.predict(x_test)\n",
    "y_train_pred=model_forest.predict(x_train)"
   ]
  },
  {
   "cell_type": "code",
   "execution_count": null,
   "metadata": {},
   "outputs": [],
   "source": [
    "print('Mean Absolute Error (MAE):', metrics.mean_absolute_error(y_test, y_test_pred))\n",
    "print('Mean Squared Error (MSE):', metrics.mean_squared_error(y_test, y_test_pred))\n",
    "print('Root Mean Squared Error (RMSE):', np.sqrt(metrics.mean_squared_error(y_test, y_test_pred)))\n",
    "print('Mean Absolute Percentage Error (MAPE):', metrics.mean_absolute_percentage_error(y_test, y_test_pred))\n",
    "###print('Accuracy:', round(100*(1 - mape), 2))"
   ]
  },
  {
   "cell_type": "code",
   "execution_count": null,
   "metadata": {},
   "outputs": [],
   "source": [
    "print('Mean Absolute Error (MAE):', metrics.mean_absolute_error(y_train, y_train_pred))\n",
    "print('Mean Squared Error (MSE):', metrics.mean_squared_error(y_train, y_train_pred))\n",
    "print('Root Mean Squared Error (RMSE):', np.sqrt(metrics.mean_squared_error(y_train, y_train_pred)))\n",
    "print('Mean Absolute Percentage Error (MAPE):', metrics.mean_absolute_percentage_error(y_train, y_train_pred))\n",
    "###print('Accuracy:', round(100*(1 - mape), 2))"
   ]
  },
  {
   "cell_type": "markdown",
   "metadata": {},
   "source": [
    "### Xgboost"
   ]
  },
  {
   "cell_type": "code",
   "execution_count": 86,
   "metadata": {},
   "outputs": [
    {
     "name": "stdout",
     "output_type": "stream",
     "text": [
      "Collecting xgboostNote: you may need to restart the kernel to use updated packages.\n",
      "  Downloading xgboost-1.6.1-py3-none-win_amd64.whl (125.4 MB)\n",
      "Requirement already satisfied: numpy in c:\\users\\38169\\anaconda3\\lib\\site-packages (from xgboost) (1.18.5)\n",
      "Requirement already satisfied: scipy in c:\\users\\38169\\anaconda3\\lib\\site-packages (from xgboost) (1.5.0)\n",
      "Installing collected packages: xgboost\n",
      "Successfully installed xgboost-1.6.1\n",
      "\n"
     ]
    }
   ],
   "source": [
    "pip install xgboost"
   ]
  },
  {
   "cell_type": "code",
   "execution_count": 87,
   "metadata": {},
   "outputs": [],
   "source": [
    "import xgboost"
   ]
  },
  {
   "cell_type": "code",
   "execution_count": 88,
   "metadata": {},
   "outputs": [],
   "source": [
    "model_xgboost = xgboost.XGBRegressor(n_estimators=100, max_depth=3, objective='reg:squarederror')"
   ]
  },
  {
   "cell_type": "code",
   "execution_count": 89,
   "metadata": {
    "scrolled": true
   },
   "outputs": [
    {
     "data": {
      "text/html": [
       "<style>#sk-container-id-8 {color: black;background-color: white;}#sk-container-id-8 pre{padding: 0;}#sk-container-id-8 div.sk-toggleable {background-color: white;}#sk-container-id-8 label.sk-toggleable__label {cursor: pointer;display: block;width: 100%;margin-bottom: 0;padding: 0.3em;box-sizing: border-box;text-align: center;}#sk-container-id-8 label.sk-toggleable__label-arrow:before {content: \"▸\";float: left;margin-right: 0.25em;color: #696969;}#sk-container-id-8 label.sk-toggleable__label-arrow:hover:before {color: black;}#sk-container-id-8 div.sk-estimator:hover label.sk-toggleable__label-arrow:before {color: black;}#sk-container-id-8 div.sk-toggleable__content {max-height: 0;max-width: 0;overflow: hidden;text-align: left;background-color: #f0f8ff;}#sk-container-id-8 div.sk-toggleable__content pre {margin: 0.2em;color: black;border-radius: 0.25em;background-color: #f0f8ff;}#sk-container-id-8 input.sk-toggleable__control:checked~div.sk-toggleable__content {max-height: 200px;max-width: 100%;overflow: auto;}#sk-container-id-8 input.sk-toggleable__control:checked~label.sk-toggleable__label-arrow:before {content: \"▾\";}#sk-container-id-8 div.sk-estimator input.sk-toggleable__control:checked~label.sk-toggleable__label {background-color: #d4ebff;}#sk-container-id-8 div.sk-label input.sk-toggleable__control:checked~label.sk-toggleable__label {background-color: #d4ebff;}#sk-container-id-8 input.sk-hidden--visually {border: 0;clip: rect(1px 1px 1px 1px);clip: rect(1px, 1px, 1px, 1px);height: 1px;margin: -1px;overflow: hidden;padding: 0;position: absolute;width: 1px;}#sk-container-id-8 div.sk-estimator {font-family: monospace;background-color: #f0f8ff;border: 1px dotted black;border-radius: 0.25em;box-sizing: border-box;margin-bottom: 0.5em;}#sk-container-id-8 div.sk-estimator:hover {background-color: #d4ebff;}#sk-container-id-8 div.sk-parallel-item::after {content: \"\";width: 100%;border-bottom: 1px solid gray;flex-grow: 1;}#sk-container-id-8 div.sk-label:hover label.sk-toggleable__label {background-color: #d4ebff;}#sk-container-id-8 div.sk-serial::before {content: \"\";position: absolute;border-left: 1px solid gray;box-sizing: border-box;top: 0;bottom: 0;left: 50%;z-index: 0;}#sk-container-id-8 div.sk-serial {display: flex;flex-direction: column;align-items: center;background-color: white;padding-right: 0.2em;padding-left: 0.2em;position: relative;}#sk-container-id-8 div.sk-item {position: relative;z-index: 1;}#sk-container-id-8 div.sk-parallel {display: flex;align-items: stretch;justify-content: center;background-color: white;position: relative;}#sk-container-id-8 div.sk-item::before, #sk-container-id-8 div.sk-parallel-item::before {content: \"\";position: absolute;border-left: 1px solid gray;box-sizing: border-box;top: 0;bottom: 0;left: 50%;z-index: -1;}#sk-container-id-8 div.sk-parallel-item {display: flex;flex-direction: column;z-index: 1;position: relative;background-color: white;}#sk-container-id-8 div.sk-parallel-item:first-child::after {align-self: flex-end;width: 50%;}#sk-container-id-8 div.sk-parallel-item:last-child::after {align-self: flex-start;width: 50%;}#sk-container-id-8 div.sk-parallel-item:only-child::after {width: 0;}#sk-container-id-8 div.sk-dashed-wrapped {border: 1px dashed gray;margin: 0 0.4em 0.5em 0.4em;box-sizing: border-box;padding-bottom: 0.4em;background-color: white;}#sk-container-id-8 div.sk-label label {font-family: monospace;font-weight: bold;display: inline-block;line-height: 1.2em;}#sk-container-id-8 div.sk-label-container {text-align: center;}#sk-container-id-8 div.sk-container {/* jupyter's `normalize.less` sets `[hidden] { display: none; }` but bootstrap.min.css set `[hidden] { display: none !important; }` so we also need the `!important` here to be able to override the default hidden behavior on the sphinx rendered scikit-learn.org. See: https://github.com/scikit-learn/scikit-learn/issues/21755 */display: inline-block !important;position: relative;}#sk-container-id-8 div.sk-text-repr-fallback {display: none;}</style><div id=\"sk-container-id-8\" class=\"sk-top-container\"><div class=\"sk-text-repr-fallback\"><pre>XGBRegressor(base_score=0.5, booster=&#x27;gbtree&#x27;, callbacks=None,\n",
       "             colsample_bylevel=1, colsample_bynode=1, colsample_bytree=1,\n",
       "             early_stopping_rounds=None, enable_categorical=False,\n",
       "             eval_metric=None, gamma=0, gpu_id=-1, grow_policy=&#x27;depthwise&#x27;,\n",
       "             importance_type=None, interaction_constraints=&#x27;&#x27;,\n",
       "             learning_rate=0.300000012, max_bin=256, max_cat_to_onehot=4,\n",
       "             max_delta_step=0, max_depth=3, max_leaves=0, min_child_weight=1,\n",
       "             missing=nan, monotone_constraints=&#x27;()&#x27;, n_estimators=100, n_jobs=0,\n",
       "             num_parallel_tree=1, predictor=&#x27;auto&#x27;, random_state=0, reg_alpha=0,\n",
       "             reg_lambda=1, ...)</pre><b>In a Jupyter environment, please rerun this cell to show the HTML representation or trust the notebook. <br />On GitHub, the HTML representation is unable to render, please try loading this page with nbviewer.org.</b></div><div class=\"sk-container\" hidden><div class=\"sk-item\"><div class=\"sk-estimator sk-toggleable\"><input class=\"sk-toggleable__control sk-hidden--visually\" id=\"sk-estimator-id-12\" type=\"checkbox\" checked><label for=\"sk-estimator-id-12\" class=\"sk-toggleable__label sk-toggleable__label-arrow\">XGBRegressor</label><div class=\"sk-toggleable__content\"><pre>XGBRegressor(base_score=0.5, booster=&#x27;gbtree&#x27;, callbacks=None,\n",
       "             colsample_bylevel=1, colsample_bynode=1, colsample_bytree=1,\n",
       "             early_stopping_rounds=None, enable_categorical=False,\n",
       "             eval_metric=None, gamma=0, gpu_id=-1, grow_policy=&#x27;depthwise&#x27;,\n",
       "             importance_type=None, interaction_constraints=&#x27;&#x27;,\n",
       "             learning_rate=0.300000012, max_bin=256, max_cat_to_onehot=4,\n",
       "             max_delta_step=0, max_depth=3, max_leaves=0, min_child_weight=1,\n",
       "             missing=nan, monotone_constraints=&#x27;()&#x27;, n_estimators=100, n_jobs=0,\n",
       "             num_parallel_tree=1, predictor=&#x27;auto&#x27;, random_state=0, reg_alpha=0,\n",
       "             reg_lambda=1, ...)</pre></div></div></div></div></div>"
      ],
      "text/plain": [
       "XGBRegressor(base_score=0.5, booster='gbtree', callbacks=None,\n",
       "             colsample_bylevel=1, colsample_bynode=1, colsample_bytree=1,\n",
       "             early_stopping_rounds=None, enable_categorical=False,\n",
       "             eval_metric=None, gamma=0, gpu_id=-1, grow_policy='depthwise',\n",
       "             importance_type=None, interaction_constraints='',\n",
       "             learning_rate=0.300000012, max_bin=256, max_cat_to_onehot=4,\n",
       "             max_delta_step=0, max_depth=3, max_leaves=0, min_child_weight=1,\n",
       "             missing=nan, monotone_constraints='()', n_estimators=100, n_jobs=0,\n",
       "             num_parallel_tree=1, predictor='auto', random_state=0, reg_alpha=0,\n",
       "             reg_lambda=1, ...)"
      ]
     },
     "execution_count": 89,
     "metadata": {},
     "output_type": "execute_result"
    }
   ],
   "source": [
    "model_xgboost.fit(x_train, y_train)"
   ]
  },
  {
   "cell_type": "code",
   "execution_count": 92,
   "metadata": {},
   "outputs": [],
   "source": [
    "y_test_predicted = model_xgboost.predict(x_test)"
   ]
  },
  {
   "cell_type": "code",
   "execution_count": 93,
   "metadata": {
    "scrolled": false
   },
   "outputs": [
    {
     "data": {
      "text/plain": [
       "31.614357693548996"
      ]
     },
     "execution_count": 93,
     "metadata": {},
     "output_type": "execute_result"
    }
   ],
   "source": [
    "metrics.mean_squared_error(y_test, y_test_predicted)"
   ]
  },
  {
   "cell_type": "code",
   "execution_count": 97,
   "metadata": {
    "scrolled": false
   },
   "outputs": [
    {
     "data": {
      "text/plain": [
       "3.8618484693427417"
      ]
     },
     "execution_count": 97,
     "metadata": {},
     "output_type": "execute_result"
    }
   ],
   "source": [
    "metrics.mean_absolute_error(y_test, y_test_predicted)"
   ]
  },
  {
   "cell_type": "code",
   "execution_count": 100,
   "metadata": {
    "scrolled": false
   },
   "outputs": [
    {
     "data": {
      "text/plain": [
       "0.9900826345071583"
      ]
     },
     "execution_count": 100,
     "metadata": {},
     "output_type": "execute_result"
    }
   ],
   "source": [
    "metrics.r2_score(y_test, y_test_predicted)"
   ]
  },
  {
   "cell_type": "code",
   "execution_count": 94,
   "metadata": {},
   "outputs": [],
   "source": [
    "y_train_predicted = model_xgboost.predict(x_train)"
   ]
  },
  {
   "cell_type": "code",
   "execution_count": 95,
   "metadata": {
    "scrolled": false
   },
   "outputs": [
    {
     "data": {
      "text/plain": [
       "31.087551554465453"
      ]
     },
     "execution_count": 95,
     "metadata": {},
     "output_type": "execute_result"
    }
   ],
   "source": [
    "metrics.mean_squared_error(y_train, y_train_predicted)"
   ]
  },
  {
   "cell_type": "code",
   "execution_count": 98,
   "metadata": {
    "scrolled": false
   },
   "outputs": [
    {
     "data": {
      "text/plain": [
       "3.8512896771065"
      ]
     },
     "execution_count": 98,
     "metadata": {},
     "output_type": "execute_result"
    }
   ],
   "source": [
    "metrics.mean_absolute_error(y_train, y_train_predicted)"
   ]
  },
  {
   "cell_type": "code",
   "execution_count": 99,
   "metadata": {
    "scrolled": true
   },
   "outputs": [
    {
     "data": {
      "text/plain": [
       "0.9904126096549783"
      ]
     },
     "execution_count": 99,
     "metadata": {},
     "output_type": "execute_result"
    }
   ],
   "source": [
    "metrics.r2_score(y_train, y_train_predicted)"
   ]
  },
  {
   "cell_type": "code",
   "execution_count": 96,
   "metadata": {},
   "outputs": [
    {
     "data": {
      "text/plain": [
       "5.5677643628300215"
      ]
     },
     "execution_count": 96,
     "metadata": {},
     "output_type": "execute_result"
    }
   ],
   "source": [
    "np.sqrt(31)"
   ]
  },
  {
   "cell_type": "code",
   "execution_count": 103,
   "metadata": {},
   "outputs": [],
   "source": [
    "model_xgboost2 = xgboost.XGBRegressor(n_estimators=100, max_depth=5, objective='reg:squarederror')"
   ]
  },
  {
   "cell_type": "code",
   "execution_count": 104,
   "metadata": {},
   "outputs": [
    {
     "data": {
      "text/html": [
       "<style>#sk-container-id-9 {color: black;background-color: white;}#sk-container-id-9 pre{padding: 0;}#sk-container-id-9 div.sk-toggleable {background-color: white;}#sk-container-id-9 label.sk-toggleable__label {cursor: pointer;display: block;width: 100%;margin-bottom: 0;padding: 0.3em;box-sizing: border-box;text-align: center;}#sk-container-id-9 label.sk-toggleable__label-arrow:before {content: \"▸\";float: left;margin-right: 0.25em;color: #696969;}#sk-container-id-9 label.sk-toggleable__label-arrow:hover:before {color: black;}#sk-container-id-9 div.sk-estimator:hover label.sk-toggleable__label-arrow:before {color: black;}#sk-container-id-9 div.sk-toggleable__content {max-height: 0;max-width: 0;overflow: hidden;text-align: left;background-color: #f0f8ff;}#sk-container-id-9 div.sk-toggleable__content pre {margin: 0.2em;color: black;border-radius: 0.25em;background-color: #f0f8ff;}#sk-container-id-9 input.sk-toggleable__control:checked~div.sk-toggleable__content {max-height: 200px;max-width: 100%;overflow: auto;}#sk-container-id-9 input.sk-toggleable__control:checked~label.sk-toggleable__label-arrow:before {content: \"▾\";}#sk-container-id-9 div.sk-estimator input.sk-toggleable__control:checked~label.sk-toggleable__label {background-color: #d4ebff;}#sk-container-id-9 div.sk-label input.sk-toggleable__control:checked~label.sk-toggleable__label {background-color: #d4ebff;}#sk-container-id-9 input.sk-hidden--visually {border: 0;clip: rect(1px 1px 1px 1px);clip: rect(1px, 1px, 1px, 1px);height: 1px;margin: -1px;overflow: hidden;padding: 0;position: absolute;width: 1px;}#sk-container-id-9 div.sk-estimator {font-family: monospace;background-color: #f0f8ff;border: 1px dotted black;border-radius: 0.25em;box-sizing: border-box;margin-bottom: 0.5em;}#sk-container-id-9 div.sk-estimator:hover {background-color: #d4ebff;}#sk-container-id-9 div.sk-parallel-item::after {content: \"\";width: 100%;border-bottom: 1px solid gray;flex-grow: 1;}#sk-container-id-9 div.sk-label:hover label.sk-toggleable__label {background-color: #d4ebff;}#sk-container-id-9 div.sk-serial::before {content: \"\";position: absolute;border-left: 1px solid gray;box-sizing: border-box;top: 0;bottom: 0;left: 50%;z-index: 0;}#sk-container-id-9 div.sk-serial {display: flex;flex-direction: column;align-items: center;background-color: white;padding-right: 0.2em;padding-left: 0.2em;position: relative;}#sk-container-id-9 div.sk-item {position: relative;z-index: 1;}#sk-container-id-9 div.sk-parallel {display: flex;align-items: stretch;justify-content: center;background-color: white;position: relative;}#sk-container-id-9 div.sk-item::before, #sk-container-id-9 div.sk-parallel-item::before {content: \"\";position: absolute;border-left: 1px solid gray;box-sizing: border-box;top: 0;bottom: 0;left: 50%;z-index: -1;}#sk-container-id-9 div.sk-parallel-item {display: flex;flex-direction: column;z-index: 1;position: relative;background-color: white;}#sk-container-id-9 div.sk-parallel-item:first-child::after {align-self: flex-end;width: 50%;}#sk-container-id-9 div.sk-parallel-item:last-child::after {align-self: flex-start;width: 50%;}#sk-container-id-9 div.sk-parallel-item:only-child::after {width: 0;}#sk-container-id-9 div.sk-dashed-wrapped {border: 1px dashed gray;margin: 0 0.4em 0.5em 0.4em;box-sizing: border-box;padding-bottom: 0.4em;background-color: white;}#sk-container-id-9 div.sk-label label {font-family: monospace;font-weight: bold;display: inline-block;line-height: 1.2em;}#sk-container-id-9 div.sk-label-container {text-align: center;}#sk-container-id-9 div.sk-container {/* jupyter's `normalize.less` sets `[hidden] { display: none; }` but bootstrap.min.css set `[hidden] { display: none !important; }` so we also need the `!important` here to be able to override the default hidden behavior on the sphinx rendered scikit-learn.org. See: https://github.com/scikit-learn/scikit-learn/issues/21755 */display: inline-block !important;position: relative;}#sk-container-id-9 div.sk-text-repr-fallback {display: none;}</style><div id=\"sk-container-id-9\" class=\"sk-top-container\"><div class=\"sk-text-repr-fallback\"><pre>XGBRegressor(base_score=0.5, booster=&#x27;gbtree&#x27;, callbacks=None,\n",
       "             colsample_bylevel=1, colsample_bynode=1, colsample_bytree=1,\n",
       "             early_stopping_rounds=None, enable_categorical=False,\n",
       "             eval_metric=None, gamma=0, gpu_id=-1, grow_policy=&#x27;depthwise&#x27;,\n",
       "             importance_type=None, interaction_constraints=&#x27;&#x27;,\n",
       "             learning_rate=0.300000012, max_bin=256, max_cat_to_onehot=4,\n",
       "             max_delta_step=0, max_depth=5, max_leaves=0, min_child_weight=1,\n",
       "             missing=nan, monotone_constraints=&#x27;()&#x27;, n_estimators=100, n_jobs=0,\n",
       "             num_parallel_tree=1, predictor=&#x27;auto&#x27;, random_state=0, reg_alpha=0,\n",
       "             reg_lambda=1, ...)</pre><b>In a Jupyter environment, please rerun this cell to show the HTML representation or trust the notebook. <br />On GitHub, the HTML representation is unable to render, please try loading this page with nbviewer.org.</b></div><div class=\"sk-container\" hidden><div class=\"sk-item\"><div class=\"sk-estimator sk-toggleable\"><input class=\"sk-toggleable__control sk-hidden--visually\" id=\"sk-estimator-id-13\" type=\"checkbox\" checked><label for=\"sk-estimator-id-13\" class=\"sk-toggleable__label sk-toggleable__label-arrow\">XGBRegressor</label><div class=\"sk-toggleable__content\"><pre>XGBRegressor(base_score=0.5, booster=&#x27;gbtree&#x27;, callbacks=None,\n",
       "             colsample_bylevel=1, colsample_bynode=1, colsample_bytree=1,\n",
       "             early_stopping_rounds=None, enable_categorical=False,\n",
       "             eval_metric=None, gamma=0, gpu_id=-1, grow_policy=&#x27;depthwise&#x27;,\n",
       "             importance_type=None, interaction_constraints=&#x27;&#x27;,\n",
       "             learning_rate=0.300000012, max_bin=256, max_cat_to_onehot=4,\n",
       "             max_delta_step=0, max_depth=5, max_leaves=0, min_child_weight=1,\n",
       "             missing=nan, monotone_constraints=&#x27;()&#x27;, n_estimators=100, n_jobs=0,\n",
       "             num_parallel_tree=1, predictor=&#x27;auto&#x27;, random_state=0, reg_alpha=0,\n",
       "             reg_lambda=1, ...)</pre></div></div></div></div></div>"
      ],
      "text/plain": [
       "XGBRegressor(base_score=0.5, booster='gbtree', callbacks=None,\n",
       "             colsample_bylevel=1, colsample_bynode=1, colsample_bytree=1,\n",
       "             early_stopping_rounds=None, enable_categorical=False,\n",
       "             eval_metric=None, gamma=0, gpu_id=-1, grow_policy='depthwise',\n",
       "             importance_type=None, interaction_constraints='',\n",
       "             learning_rate=0.300000012, max_bin=256, max_cat_to_onehot=4,\n",
       "             max_delta_step=0, max_depth=5, max_leaves=0, min_child_weight=1,\n",
       "             missing=nan, monotone_constraints='()', n_estimators=100, n_jobs=0,\n",
       "             num_parallel_tree=1, predictor='auto', random_state=0, reg_alpha=0,\n",
       "             reg_lambda=1, ...)"
      ]
     },
     "execution_count": 104,
     "metadata": {},
     "output_type": "execute_result"
    }
   ],
   "source": [
    "model_xgboost2.fit(x_train, y_train)"
   ]
  },
  {
   "cell_type": "code",
   "execution_count": 105,
   "metadata": {},
   "outputs": [],
   "source": [
    "y_test_pred=model_xgboost2.predict(x_test)"
   ]
  },
  {
   "cell_type": "code",
   "execution_count": 106,
   "metadata": {},
   "outputs": [],
   "source": [
    "y_train_pred=model_xgboost2.predict(x_train)"
   ]
  },
  {
   "cell_type": "code",
   "execution_count": 107,
   "metadata": {
    "scrolled": true
   },
   "outputs": [
    {
     "data": {
      "text/plain": [
       "0.9926888718960619"
      ]
     },
     "execution_count": 107,
     "metadata": {},
     "output_type": "execute_result"
    }
   ],
   "source": [
    "metrics.r2_score(y_test, y_test_pred)"
   ]
  },
  {
   "cell_type": "code",
   "execution_count": 108,
   "metadata": {
    "scrolled": true
   },
   "outputs": [
    {
     "data": {
      "text/plain": [
       "0.9934281536497429"
      ]
     },
     "execution_count": 108,
     "metadata": {},
     "output_type": "execute_result"
    }
   ],
   "source": [
    "metrics.r2_score(y_train, y_train_pred)"
   ]
  },
  {
   "cell_type": "code",
   "execution_count": 109,
   "metadata": {},
   "outputs": [
    {
     "data": {
      "text/plain": [
       "23.306251966622792"
      ]
     },
     "execution_count": 109,
     "metadata": {},
     "output_type": "execute_result"
    }
   ],
   "source": [
    "metrics.mean_squared_error(y_test, y_test_pred)"
   ]
  },
  {
   "cell_type": "code",
   "execution_count": 110,
   "metadata": {
    "scrolled": false
   },
   "outputs": [
    {
     "data": {
      "text/plain": [
       "21.309512272828982"
      ]
     },
     "execution_count": 110,
     "metadata": {},
     "output_type": "execute_result"
    }
   ],
   "source": [
    "metrics.mean_squared_error(y_train, y_train_pred)"
   ]
  }
 ],
 "metadata": {
  "kernelspec": {
   "display_name": "Python 3",
   "language": "python",
   "name": "python3"
  },
  "language_info": {
   "codemirror_mode": {
    "name": "ipython",
    "version": 3
   },
   "file_extension": ".py",
   "mimetype": "text/x-python",
   "name": "python",
   "nbconvert_exporter": "python",
   "pygments_lexer": "ipython3",
   "version": "3.8.3"
  }
 },
 "nbformat": 4,
 "nbformat_minor": 4
}
