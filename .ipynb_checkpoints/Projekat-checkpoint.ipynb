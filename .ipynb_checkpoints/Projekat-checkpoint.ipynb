{
 "cells": [
  {
   "cell_type": "code",
   "execution_count": 47,
   "metadata": {},
   "outputs": [],
   "source": [
    "import pandas as pd \n",
    "import numpy as np"
   ]
  },
  {
   "cell_type": "code",
   "execution_count": 48,
   "metadata": {},
   "outputs": [],
   "source": [
    "import seaborn as sns\n",
    "import matplotlib.pyplot as plt"
   ]
  },
  {
   "cell_type": "code",
   "execution_count": 49,
   "metadata": {
    "scrolled": true
   },
   "outputs": [],
   "source": [
    "df=pd.read_csv('DelayedFlights.csv', index_col=0, parse_dates=['DepTime'])"
   ]
  },
  {
   "cell_type": "code",
   "execution_count": 50,
   "metadata": {
    "scrolled": true
   },
   "outputs": [
    {
     "name": "stdout",
     "output_type": "stream",
     "text": [
      "<class 'pandas.core.frame.DataFrame'>\n",
      "Int64Index: 1936758 entries, 0 to 7009727\n",
      "Data columns (total 29 columns):\n",
      "Year                 int64\n",
      "Month                int64\n",
      "DayofMonth           int64\n",
      "DayOfWeek            int64\n",
      "DepTime              object\n",
      "CRSDepTime           int64\n",
      "ArrTime              float64\n",
      "CRSArrTime           int64\n",
      "UniqueCarrier        object\n",
      "FlightNum            int64\n",
      "TailNum              object\n",
      "ActualElapsedTime    float64\n",
      "CRSElapsedTime       float64\n",
      "AirTime              float64\n",
      "ArrDelay             float64\n",
      "DepDelay             float64\n",
      "Origin               object\n",
      "Dest                 object\n",
      "Distance             int64\n",
      "TaxiIn               float64\n",
      "TaxiOut              float64\n",
      "Cancelled            int64\n",
      "CancellationCode     object\n",
      "Diverted             int64\n",
      "CarrierDelay         float64\n",
      "WeatherDelay         float64\n",
      "NASDelay             float64\n",
      "SecurityDelay        float64\n",
      "LateAircraftDelay    float64\n",
      "dtypes: float64(13), int64(10), object(6)\n",
      "memory usage: 443.3+ MB\n"
     ]
    }
   ],
   "source": [
    "df.info()"
   ]
  },
  {
   "cell_type": "code",
   "execution_count": 51,
   "metadata": {
    "scrolled": false
   },
   "outputs": [
    {
     "data": {
      "text/plain": [
       "Year                      0\n",
       "Month                     0\n",
       "DayofMonth                0\n",
       "DayOfWeek                 0\n",
       "DepTime                   0\n",
       "CRSDepTime                0\n",
       "ArrTime                7110\n",
       "CRSArrTime                0\n",
       "UniqueCarrier             0\n",
       "FlightNum                 0\n",
       "TailNum                   5\n",
       "ActualElapsedTime      8387\n",
       "CRSElapsedTime          198\n",
       "AirTime                8387\n",
       "ArrDelay               8387\n",
       "DepDelay                  0\n",
       "Origin                    0\n",
       "Dest                      0\n",
       "Distance                  0\n",
       "TaxiIn                 7110\n",
       "TaxiOut                 455\n",
       "Cancelled                 0\n",
       "CancellationCode          0\n",
       "Diverted                  0\n",
       "CarrierDelay         689270\n",
       "WeatherDelay         689270\n",
       "NASDelay             689270\n",
       "SecurityDelay        689270\n",
       "LateAircraftDelay    689270\n",
       "dtype: int64"
      ]
     },
     "execution_count": 51,
     "metadata": {},
     "output_type": "execute_result"
    }
   ],
   "source": [
    "df.isna().sum()"
   ]
  },
  {
   "cell_type": "code",
   "execution_count": 52,
   "metadata": {},
   "outputs": [
    {
     "data": {
      "text/plain": [
       "N    1936125\n",
       "B        307\n",
       "A        246\n",
       "C         80\n",
       "Name: CancellationCode, dtype: int64"
      ]
     },
     "execution_count": 52,
     "metadata": {},
     "output_type": "execute_result"
    }
   ],
   "source": [
    "### additional analysis of cancellation, cancellationcode and diverted features\n",
    "df['CancellationCode'].value_counts()"
   ]
  },
  {
   "cell_type": "code",
   "execution_count": 53,
   "metadata": {},
   "outputs": [
    {
     "data": {
      "text/plain": [
       "(8387, 29)"
      ]
     },
     "execution_count": 53,
     "metadata": {},
     "output_type": "execute_result"
    }
   ],
   "source": [
    "df[df['ArrDelay'].isna()].shape"
   ]
  },
  {
   "cell_type": "code",
   "execution_count": 54,
   "metadata": {},
   "outputs": [
    {
     "data": {
      "text/html": [
       "<div>\n",
       "<style scoped>\n",
       "    .dataframe tbody tr th:only-of-type {\n",
       "        vertical-align: middle;\n",
       "    }\n",
       "\n",
       "    .dataframe tbody tr th {\n",
       "        vertical-align: top;\n",
       "    }\n",
       "\n",
       "    .dataframe thead th {\n",
       "        text-align: right;\n",
       "    }\n",
       "</style>\n",
       "<table border=\"1\" class=\"dataframe\">\n",
       "  <thead>\n",
       "    <tr style=\"text-align: right;\">\n",
       "      <th>Cancelled</th>\n",
       "      <th>0</th>\n",
       "      <th>1</th>\n",
       "    </tr>\n",
       "    <tr>\n",
       "      <th>CancellationCode</th>\n",
       "      <th></th>\n",
       "      <th></th>\n",
       "    </tr>\n",
       "  </thead>\n",
       "  <tbody>\n",
       "    <tr>\n",
       "      <th>A</th>\n",
       "      <td>0</td>\n",
       "      <td>246</td>\n",
       "    </tr>\n",
       "    <tr>\n",
       "      <th>B</th>\n",
       "      <td>0</td>\n",
       "      <td>307</td>\n",
       "    </tr>\n",
       "    <tr>\n",
       "      <th>C</th>\n",
       "      <td>0</td>\n",
       "      <td>80</td>\n",
       "    </tr>\n",
       "    <tr>\n",
       "      <th>N</th>\n",
       "      <td>7754</td>\n",
       "      <td>0</td>\n",
       "    </tr>\n",
       "  </tbody>\n",
       "</table>\n",
       "</div>"
      ],
      "text/plain": [
       "Cancelled            0    1\n",
       "CancellationCode           \n",
       "A                    0  246\n",
       "B                    0  307\n",
       "C                    0   80\n",
       "N                 7754    0"
      ]
     },
     "execution_count": 54,
     "metadata": {},
     "output_type": "execute_result"
    }
   ],
   "source": [
    "pd.crosstab(df[df['ArrDelay'].isna()]['CancellationCode'],df[df['ArrDelay'].isna()]['Cancelled'])"
   ]
  },
  {
   "cell_type": "code",
   "execution_count": 55,
   "metadata": {},
   "outputs": [
    {
     "data": {
      "text/plain": [
       "1    7754\n",
       "0     633\n",
       "Name: Diverted, dtype: int64"
      ]
     },
     "execution_count": 55,
     "metadata": {},
     "output_type": "execute_result"
    }
   ],
   "source": [
    "df[df['ArrDelay'].isna()]['Diverted'].value_counts()"
   ]
  },
  {
   "cell_type": "code",
   "execution_count": 56,
   "metadata": {},
   "outputs": [
    {
     "data": {
      "text/plain": [
       "Cancelled\n",
       "0    7754\n",
       "1       0\n",
       "Name: Diverted, dtype: int64"
      ]
     },
     "execution_count": 56,
     "metadata": {},
     "output_type": "execute_result"
    }
   ],
   "source": [
    "df[df['ArrDelay'].isna()].groupby(['Cancelled']).sum()['Diverted']"
   ]
  },
  {
   "cell_type": "code",
   "execution_count": 57,
   "metadata": {},
   "outputs": [
    {
     "data": {
      "text/plain": [
       "0    1929004\n",
       "1       7754\n",
       "Name: Diverted, dtype: int64"
      ]
     },
     "execution_count": 57,
     "metadata": {},
     "output_type": "execute_result"
    }
   ],
   "source": [
    "df['Diverted'].value_counts()"
   ]
  },
  {
   "cell_type": "code",
   "execution_count": 58,
   "metadata": {},
   "outputs": [
    {
     "data": {
      "text/plain": [
       "0    1936125\n",
       "1        633\n",
       "Name: Cancelled, dtype: int64"
      ]
     },
     "execution_count": 58,
     "metadata": {},
     "output_type": "execute_result"
    }
   ],
   "source": [
    "df['Cancelled'].value_counts()"
   ]
  },
  {
   "cell_type": "code",
   "execution_count": 59,
   "metadata": {},
   "outputs": [],
   "source": [
    "#### all 'NA' ArrDelay values (8387) can be separated on: \n",
    "### 1. not cancelled flights (7754 of them with cancellation code N, which are actually diverted flights!!!! )\n",
    "### 2. cancelled flights (633 of them with cancellation code A, B or C)"
   ]
  },
  {
   "cell_type": "code",
   "execution_count": 60,
   "metadata": {},
   "outputs": [
    {
     "data": {
      "text/plain": [
       "0          2003.0\n",
       "1           754.0\n",
       "2           628.0\n",
       "4          1829.0\n",
       "5          1940.0\n",
       "            ...  \n",
       "7009710    1250.0\n",
       "7009717     657.0\n",
       "7009718    1007.0\n",
       "7009726    1251.0\n",
       "7009727    1110.0\n",
       "Name: DepTime, Length: 1936758, dtype: object"
      ]
     },
     "execution_count": 60,
     "metadata": {},
     "output_type": "execute_result"
    }
   ],
   "source": [
    "df['DepTime']"
   ]
  },
  {
   "cell_type": "code",
   "execution_count": 61,
   "metadata": {
    "scrolled": true
   },
   "outputs": [
    {
     "data": {
      "text/html": [
       "<div>\n",
       "<style scoped>\n",
       "    .dataframe tbody tr th:only-of-type {\n",
       "        vertical-align: middle;\n",
       "    }\n",
       "\n",
       "    .dataframe tbody tr th {\n",
       "        vertical-align: top;\n",
       "    }\n",
       "\n",
       "    .dataframe thead th {\n",
       "        text-align: right;\n",
       "    }\n",
       "</style>\n",
       "<table border=\"1\" class=\"dataframe\">\n",
       "  <thead>\n",
       "    <tr style=\"text-align: right;\">\n",
       "      <th></th>\n",
       "      <th>Year</th>\n",
       "      <th>Month</th>\n",
       "      <th>DayofMonth</th>\n",
       "      <th>DayOfWeek</th>\n",
       "      <th>DepTime</th>\n",
       "      <th>CRSDepTime</th>\n",
       "      <th>ArrTime</th>\n",
       "      <th>CRSArrTime</th>\n",
       "      <th>UniqueCarrier</th>\n",
       "      <th>FlightNum</th>\n",
       "      <th>...</th>\n",
       "      <th>TaxiIn</th>\n",
       "      <th>TaxiOut</th>\n",
       "      <th>Cancelled</th>\n",
       "      <th>CancellationCode</th>\n",
       "      <th>Diverted</th>\n",
       "      <th>CarrierDelay</th>\n",
       "      <th>WeatherDelay</th>\n",
       "      <th>NASDelay</th>\n",
       "      <th>SecurityDelay</th>\n",
       "      <th>LateAircraftDelay</th>\n",
       "    </tr>\n",
       "  </thead>\n",
       "  <tbody>\n",
       "    <tr>\n",
       "      <th>0</th>\n",
       "      <td>2008</td>\n",
       "      <td>1</td>\n",
       "      <td>3</td>\n",
       "      <td>4</td>\n",
       "      <td>2003.0</td>\n",
       "      <td>1955</td>\n",
       "      <td>2211.0</td>\n",
       "      <td>2225</td>\n",
       "      <td>WN</td>\n",
       "      <td>335</td>\n",
       "      <td>...</td>\n",
       "      <td>4.0</td>\n",
       "      <td>8.0</td>\n",
       "      <td>0</td>\n",
       "      <td>N</td>\n",
       "      <td>0</td>\n",
       "      <td>NaN</td>\n",
       "      <td>NaN</td>\n",
       "      <td>NaN</td>\n",
       "      <td>NaN</td>\n",
       "      <td>NaN</td>\n",
       "    </tr>\n",
       "    <tr>\n",
       "      <th>1</th>\n",
       "      <td>2008</td>\n",
       "      <td>1</td>\n",
       "      <td>3</td>\n",
       "      <td>4</td>\n",
       "      <td>754.0</td>\n",
       "      <td>735</td>\n",
       "      <td>1002.0</td>\n",
       "      <td>1000</td>\n",
       "      <td>WN</td>\n",
       "      <td>3231</td>\n",
       "      <td>...</td>\n",
       "      <td>5.0</td>\n",
       "      <td>10.0</td>\n",
       "      <td>0</td>\n",
       "      <td>N</td>\n",
       "      <td>0</td>\n",
       "      <td>NaN</td>\n",
       "      <td>NaN</td>\n",
       "      <td>NaN</td>\n",
       "      <td>NaN</td>\n",
       "      <td>NaN</td>\n",
       "    </tr>\n",
       "    <tr>\n",
       "      <th>2</th>\n",
       "      <td>2008</td>\n",
       "      <td>1</td>\n",
       "      <td>3</td>\n",
       "      <td>4</td>\n",
       "      <td>628.0</td>\n",
       "      <td>620</td>\n",
       "      <td>804.0</td>\n",
       "      <td>750</td>\n",
       "      <td>WN</td>\n",
       "      <td>448</td>\n",
       "      <td>...</td>\n",
       "      <td>3.0</td>\n",
       "      <td>17.0</td>\n",
       "      <td>0</td>\n",
       "      <td>N</td>\n",
       "      <td>0</td>\n",
       "      <td>NaN</td>\n",
       "      <td>NaN</td>\n",
       "      <td>NaN</td>\n",
       "      <td>NaN</td>\n",
       "      <td>NaN</td>\n",
       "    </tr>\n",
       "    <tr>\n",
       "      <th>4</th>\n",
       "      <td>2008</td>\n",
       "      <td>1</td>\n",
       "      <td>3</td>\n",
       "      <td>4</td>\n",
       "      <td>1829.0</td>\n",
       "      <td>1755</td>\n",
       "      <td>1959.0</td>\n",
       "      <td>1925</td>\n",
       "      <td>WN</td>\n",
       "      <td>3920</td>\n",
       "      <td>...</td>\n",
       "      <td>3.0</td>\n",
       "      <td>10.0</td>\n",
       "      <td>0</td>\n",
       "      <td>N</td>\n",
       "      <td>0</td>\n",
       "      <td>2.0</td>\n",
       "      <td>0.0</td>\n",
       "      <td>0.0</td>\n",
       "      <td>0.0</td>\n",
       "      <td>32.0</td>\n",
       "    </tr>\n",
       "    <tr>\n",
       "      <th>5</th>\n",
       "      <td>2008</td>\n",
       "      <td>1</td>\n",
       "      <td>3</td>\n",
       "      <td>4</td>\n",
       "      <td>1940.0</td>\n",
       "      <td>1915</td>\n",
       "      <td>2121.0</td>\n",
       "      <td>2110</td>\n",
       "      <td>WN</td>\n",
       "      <td>378</td>\n",
       "      <td>...</td>\n",
       "      <td>4.0</td>\n",
       "      <td>10.0</td>\n",
       "      <td>0</td>\n",
       "      <td>N</td>\n",
       "      <td>0</td>\n",
       "      <td>NaN</td>\n",
       "      <td>NaN</td>\n",
       "      <td>NaN</td>\n",
       "      <td>NaN</td>\n",
       "      <td>NaN</td>\n",
       "    </tr>\n",
       "  </tbody>\n",
       "</table>\n",
       "<p>5 rows × 29 columns</p>\n",
       "</div>"
      ],
      "text/plain": [
       "   Year  Month  DayofMonth  DayOfWeek DepTime  CRSDepTime  ArrTime  \\\n",
       "0  2008      1           3          4  2003.0        1955   2211.0   \n",
       "1  2008      1           3          4   754.0         735   1002.0   \n",
       "2  2008      1           3          4   628.0         620    804.0   \n",
       "4  2008      1           3          4  1829.0        1755   1959.0   \n",
       "5  2008      1           3          4  1940.0        1915   2121.0   \n",
       "\n",
       "   CRSArrTime UniqueCarrier  FlightNum  ... TaxiIn  TaxiOut  Cancelled  \\\n",
       "0        2225            WN        335  ...    4.0      8.0          0   \n",
       "1        1000            WN       3231  ...    5.0     10.0          0   \n",
       "2         750            WN        448  ...    3.0     17.0          0   \n",
       "4        1925            WN       3920  ...    3.0     10.0          0   \n",
       "5        2110            WN        378  ...    4.0     10.0          0   \n",
       "\n",
       "   CancellationCode  Diverted  CarrierDelay WeatherDelay NASDelay  \\\n",
       "0                 N         0           NaN          NaN      NaN   \n",
       "1                 N         0           NaN          NaN      NaN   \n",
       "2                 N         0           NaN          NaN      NaN   \n",
       "4                 N         0           2.0          0.0      0.0   \n",
       "5                 N         0           NaN          NaN      NaN   \n",
       "\n",
       "   SecurityDelay  LateAircraftDelay  \n",
       "0            NaN                NaN  \n",
       "1            NaN                NaN  \n",
       "2            NaN                NaN  \n",
       "4            0.0               32.0  \n",
       "5            NaN                NaN  \n",
       "\n",
       "[5 rows x 29 columns]"
      ]
     },
     "execution_count": 61,
     "metadata": {},
     "output_type": "execute_result"
    }
   ],
   "source": [
    "df.head(5)"
   ]
  },
  {
   "cell_type": "code",
   "execution_count": 62,
   "metadata": {},
   "outputs": [
    {
     "data": {
      "text/plain": [
       "(1936758, 29)"
      ]
     },
     "execution_count": 62,
     "metadata": {},
     "output_type": "execute_result"
    }
   ],
   "source": [
    "df.shape"
   ]
  },
  {
   "cell_type": "code",
   "execution_count": 63,
   "metadata": {},
   "outputs": [
    {
     "data": {
      "text/html": [
       "<div>\n",
       "<style scoped>\n",
       "    .dataframe tbody tr th:only-of-type {\n",
       "        vertical-align: middle;\n",
       "    }\n",
       "\n",
       "    .dataframe tbody tr th {\n",
       "        vertical-align: top;\n",
       "    }\n",
       "\n",
       "    .dataframe thead th {\n",
       "        text-align: right;\n",
       "    }\n",
       "</style>\n",
       "<table border=\"1\" class=\"dataframe\">\n",
       "  <thead>\n",
       "    <tr style=\"text-align: right;\">\n",
       "      <th></th>\n",
       "      <th>Year</th>\n",
       "      <th>Month</th>\n",
       "      <th>DayofMonth</th>\n",
       "      <th>DayOfWeek</th>\n",
       "      <th>CRSDepTime</th>\n",
       "      <th>ArrTime</th>\n",
       "      <th>CRSArrTime</th>\n",
       "      <th>FlightNum</th>\n",
       "      <th>ActualElapsedTime</th>\n",
       "      <th>CRSElapsedTime</th>\n",
       "      <th>...</th>\n",
       "      <th>Distance</th>\n",
       "      <th>TaxiIn</th>\n",
       "      <th>TaxiOut</th>\n",
       "      <th>Cancelled</th>\n",
       "      <th>Diverted</th>\n",
       "      <th>CarrierDelay</th>\n",
       "      <th>WeatherDelay</th>\n",
       "      <th>NASDelay</th>\n",
       "      <th>SecurityDelay</th>\n",
       "      <th>LateAircraftDelay</th>\n",
       "    </tr>\n",
       "  </thead>\n",
       "  <tbody>\n",
       "    <tr>\n",
       "      <th>count</th>\n",
       "      <td>1936758.0</td>\n",
       "      <td>1936758.00</td>\n",
       "      <td>1936758.00</td>\n",
       "      <td>1936758.00</td>\n",
       "      <td>1936758.00</td>\n",
       "      <td>1929648.00</td>\n",
       "      <td>1936758.00</td>\n",
       "      <td>1936758.00</td>\n",
       "      <td>1928371.00</td>\n",
       "      <td>1936560.00</td>\n",
       "      <td>...</td>\n",
       "      <td>1936758.00</td>\n",
       "      <td>1929648.00</td>\n",
       "      <td>1936303.00</td>\n",
       "      <td>1936758.00</td>\n",
       "      <td>1936758.00</td>\n",
       "      <td>1247488.00</td>\n",
       "      <td>1247488.00</td>\n",
       "      <td>1247488.00</td>\n",
       "      <td>1247488.00</td>\n",
       "      <td>1247488.00</td>\n",
       "    </tr>\n",
       "    <tr>\n",
       "      <th>mean</th>\n",
       "      <td>2008.0</td>\n",
       "      <td>6.11</td>\n",
       "      <td>15.75</td>\n",
       "      <td>3.98</td>\n",
       "      <td>1467.47</td>\n",
       "      <td>1610.14</td>\n",
       "      <td>1634.22</td>\n",
       "      <td>2184.26</td>\n",
       "      <td>133.31</td>\n",
       "      <td>134.30</td>\n",
       "      <td>...</td>\n",
       "      <td>765.69</td>\n",
       "      <td>6.81</td>\n",
       "      <td>18.23</td>\n",
       "      <td>0.00</td>\n",
       "      <td>0.00</td>\n",
       "      <td>19.18</td>\n",
       "      <td>3.70</td>\n",
       "      <td>15.02</td>\n",
       "      <td>0.09</td>\n",
       "      <td>25.30</td>\n",
       "    </tr>\n",
       "    <tr>\n",
       "      <th>std</th>\n",
       "      <td>0.0</td>\n",
       "      <td>3.48</td>\n",
       "      <td>8.78</td>\n",
       "      <td>2.00</td>\n",
       "      <td>424.77</td>\n",
       "      <td>548.18</td>\n",
       "      <td>464.63</td>\n",
       "      <td>1944.70</td>\n",
       "      <td>72.06</td>\n",
       "      <td>71.34</td>\n",
       "      <td>...</td>\n",
       "      <td>574.48</td>\n",
       "      <td>5.27</td>\n",
       "      <td>14.34</td>\n",
       "      <td>0.02</td>\n",
       "      <td>0.06</td>\n",
       "      <td>43.55</td>\n",
       "      <td>21.49</td>\n",
       "      <td>33.83</td>\n",
       "      <td>2.02</td>\n",
       "      <td>42.05</td>\n",
       "    </tr>\n",
       "    <tr>\n",
       "      <th>min</th>\n",
       "      <td>2008.0</td>\n",
       "      <td>1.00</td>\n",
       "      <td>1.00</td>\n",
       "      <td>1.00</td>\n",
       "      <td>0.00</td>\n",
       "      <td>1.00</td>\n",
       "      <td>0.00</td>\n",
       "      <td>1.00</td>\n",
       "      <td>14.00</td>\n",
       "      <td>-25.00</td>\n",
       "      <td>...</td>\n",
       "      <td>11.00</td>\n",
       "      <td>0.00</td>\n",
       "      <td>0.00</td>\n",
       "      <td>0.00</td>\n",
       "      <td>0.00</td>\n",
       "      <td>0.00</td>\n",
       "      <td>0.00</td>\n",
       "      <td>0.00</td>\n",
       "      <td>0.00</td>\n",
       "      <td>0.00</td>\n",
       "    </tr>\n",
       "    <tr>\n",
       "      <th>25%</th>\n",
       "      <td>2008.0</td>\n",
       "      <td>3.00</td>\n",
       "      <td>8.00</td>\n",
       "      <td>2.00</td>\n",
       "      <td>1135.00</td>\n",
       "      <td>1316.00</td>\n",
       "      <td>1325.00</td>\n",
       "      <td>610.00</td>\n",
       "      <td>80.00</td>\n",
       "      <td>82.00</td>\n",
       "      <td>...</td>\n",
       "      <td>338.00</td>\n",
       "      <td>4.00</td>\n",
       "      <td>10.00</td>\n",
       "      <td>0.00</td>\n",
       "      <td>0.00</td>\n",
       "      <td>0.00</td>\n",
       "      <td>0.00</td>\n",
       "      <td>0.00</td>\n",
       "      <td>0.00</td>\n",
       "      <td>0.00</td>\n",
       "    </tr>\n",
       "    <tr>\n",
       "      <th>50%</th>\n",
       "      <td>2008.0</td>\n",
       "      <td>6.00</td>\n",
       "      <td>16.00</td>\n",
       "      <td>4.00</td>\n",
       "      <td>1510.00</td>\n",
       "      <td>1715.00</td>\n",
       "      <td>1705.00</td>\n",
       "      <td>1543.00</td>\n",
       "      <td>116.00</td>\n",
       "      <td>116.00</td>\n",
       "      <td>...</td>\n",
       "      <td>606.00</td>\n",
       "      <td>6.00</td>\n",
       "      <td>14.00</td>\n",
       "      <td>0.00</td>\n",
       "      <td>0.00</td>\n",
       "      <td>2.00</td>\n",
       "      <td>0.00</td>\n",
       "      <td>2.00</td>\n",
       "      <td>0.00</td>\n",
       "      <td>8.00</td>\n",
       "    </tr>\n",
       "    <tr>\n",
       "      <th>75%</th>\n",
       "      <td>2008.0</td>\n",
       "      <td>9.00</td>\n",
       "      <td>23.00</td>\n",
       "      <td>6.00</td>\n",
       "      <td>1815.00</td>\n",
       "      <td>2030.00</td>\n",
       "      <td>2014.00</td>\n",
       "      <td>3422.00</td>\n",
       "      <td>165.00</td>\n",
       "      <td>165.00</td>\n",
       "      <td>...</td>\n",
       "      <td>998.00</td>\n",
       "      <td>8.00</td>\n",
       "      <td>21.00</td>\n",
       "      <td>0.00</td>\n",
       "      <td>0.00</td>\n",
       "      <td>21.00</td>\n",
       "      <td>0.00</td>\n",
       "      <td>15.00</td>\n",
       "      <td>0.00</td>\n",
       "      <td>33.00</td>\n",
       "    </tr>\n",
       "    <tr>\n",
       "      <th>max</th>\n",
       "      <td>2008.0</td>\n",
       "      <td>12.00</td>\n",
       "      <td>31.00</td>\n",
       "      <td>7.00</td>\n",
       "      <td>2359.00</td>\n",
       "      <td>2400.00</td>\n",
       "      <td>2400.00</td>\n",
       "      <td>9742.00</td>\n",
       "      <td>1114.00</td>\n",
       "      <td>660.00</td>\n",
       "      <td>...</td>\n",
       "      <td>4962.00</td>\n",
       "      <td>240.00</td>\n",
       "      <td>422.00</td>\n",
       "      <td>1.00</td>\n",
       "      <td>1.00</td>\n",
       "      <td>2436.00</td>\n",
       "      <td>1352.00</td>\n",
       "      <td>1357.00</td>\n",
       "      <td>392.00</td>\n",
       "      <td>1316.00</td>\n",
       "    </tr>\n",
       "  </tbody>\n",
       "</table>\n",
       "<p>8 rows × 23 columns</p>\n",
       "</div>"
      ],
      "text/plain": [
       "            Year       Month  DayofMonth   DayOfWeek  CRSDepTime     ArrTime  \\\n",
       "count  1936758.0  1936758.00  1936758.00  1936758.00  1936758.00  1929648.00   \n",
       "mean      2008.0        6.11       15.75        3.98     1467.47     1610.14   \n",
       "std          0.0        3.48        8.78        2.00      424.77      548.18   \n",
       "min       2008.0        1.00        1.00        1.00        0.00        1.00   \n",
       "25%       2008.0        3.00        8.00        2.00     1135.00     1316.00   \n",
       "50%       2008.0        6.00       16.00        4.00     1510.00     1715.00   \n",
       "75%       2008.0        9.00       23.00        6.00     1815.00     2030.00   \n",
       "max       2008.0       12.00       31.00        7.00     2359.00     2400.00   \n",
       "\n",
       "       CRSArrTime   FlightNum  ActualElapsedTime  CRSElapsedTime  ...  \\\n",
       "count  1936758.00  1936758.00         1928371.00      1936560.00  ...   \n",
       "mean      1634.22     2184.26             133.31          134.30  ...   \n",
       "std        464.63     1944.70              72.06           71.34  ...   \n",
       "min          0.00        1.00              14.00          -25.00  ...   \n",
       "25%       1325.00      610.00              80.00           82.00  ...   \n",
       "50%       1705.00     1543.00             116.00          116.00  ...   \n",
       "75%       2014.00     3422.00             165.00          165.00  ...   \n",
       "max       2400.00     9742.00            1114.00          660.00  ...   \n",
       "\n",
       "         Distance      TaxiIn     TaxiOut   Cancelled    Diverted  \\\n",
       "count  1936758.00  1929648.00  1936303.00  1936758.00  1936758.00   \n",
       "mean       765.69        6.81       18.23        0.00        0.00   \n",
       "std        574.48        5.27       14.34        0.02        0.06   \n",
       "min         11.00        0.00        0.00        0.00        0.00   \n",
       "25%        338.00        4.00       10.00        0.00        0.00   \n",
       "50%        606.00        6.00       14.00        0.00        0.00   \n",
       "75%        998.00        8.00       21.00        0.00        0.00   \n",
       "max       4962.00      240.00      422.00        1.00        1.00   \n",
       "\n",
       "       CarrierDelay  WeatherDelay    NASDelay  SecurityDelay  \\\n",
       "count    1247488.00    1247488.00  1247488.00     1247488.00   \n",
       "mean          19.18          3.70       15.02           0.09   \n",
       "std           43.55         21.49       33.83           2.02   \n",
       "min            0.00          0.00        0.00           0.00   \n",
       "25%            0.00          0.00        0.00           0.00   \n",
       "50%            2.00          0.00        2.00           0.00   \n",
       "75%           21.00          0.00       15.00           0.00   \n",
       "max         2436.00       1352.00     1357.00         392.00   \n",
       "\n",
       "       LateAircraftDelay  \n",
       "count         1247488.00  \n",
       "mean               25.30  \n",
       "std                42.05  \n",
       "min                 0.00  \n",
       "25%                 0.00  \n",
       "50%                 8.00  \n",
       "75%                33.00  \n",
       "max              1316.00  \n",
       "\n",
       "[8 rows x 23 columns]"
      ]
     },
     "execution_count": 63,
     "metadata": {},
     "output_type": "execute_result"
    }
   ],
   "source": [
    "round(df.describe(),2)"
   ]
  },
  {
   "cell_type": "markdown",
   "metadata": {},
   "source": [
    "### Sta znace kolone? "
   ]
  },
  {
   "cell_type": "markdown",
   "metadata": {},
   "source": [
    "- Year 2008\n",
    "- Month 1-12\n",
    "- DayofMonth 1-31\n",
    "- DayOfWeek 1 (Monday) - 7 (Sunday)\n",
    "- DepTime actual departure time (local, hhmm)\n",
    "- CRSDepTime scheduled departure time (local, hhmm)\n",
    "- ArrTime actual arrival time (local, hhmm)\n",
    "- CRSArrTime scheduled arrival time (local, hhmm)\n",
    "- UniqueCarrier unique carrier code\n",
    "- FlightNum flight number\n",
    "- TailNum plane tail number: aircraft registration, unique aircraft identifier\n",
    "- ActualElapsedTime in minutes\n",
    "- CRSElapsedTime in minutes\n",
    "- AirTime in minutes\n",
    "- ArrDelay arrival delay, in minutes: A flight is counted as \"on time\" if it operated less than 15 minutes later the scheduled time shown in the carriers' Computerized Reservations Systems (CRS).\n",
    "- DepDelay departure delay, in minutes\n",
    "- Origin origin IATA airport code\n",
    "- Dest destination IATA airport code\n",
    "- Distance in miles\n",
    "- TaxiIn taxi in time, in minutes\n",
    "- TaxiOut taxi out time in minutes\n",
    "- Cancelled was the flight cancelled\n",
    "- CancellationCode reason for cancellation (A = carrier, B = weather, C = NAS, D = security)\n",
    "- Diverted 1 = yes, 0 = no\n",
    "- CarrierDelay in minutes: Carrier delay is within the control of the air carrier. Examples of occurrences that may determine carrier delay are: aircraft cleaning, aircraft damage, awaiting the arrival of connecting passengers or crew, baggage, bird strike, cargo loading, catering, computer, outage-carrier equipment, crew legality (pilot or attendant rest), damage by hazardous goods, engineering inspection, fueling, handling disabled passengers, late crew, lavatory servicing, maintenance, oversales, potable water servicing, removal of unruly passenger, slow boarding or seating, stowing carry-on baggage, weight and balance delays.\n",
    "- WeatherDelay in minutes: Weather delay is caused by extreme or hazardous weather conditions that are forecasted or manifest themselves on point of departure, enroute, or on point of arrival.\n",
    "- NASDelay in minutes: Delay that is within the control of the National Airspace System (NAS) may include: non-extreme weather conditions, airport operations, heavy traffic volume, air traffic control, etc.\n",
    "- SecurityDelay in minutes: Security delay is caused by evacuation of a terminal or concourse, re-boarding of aircraft because of security breach, inoperative screening equipment and/or long lines in excess of 29 minutes at screening areas.\n",
    "- LateAircraftDelay in minutes: Arrival delay at an airport due to the late arrival of the same aircraft at a previous airport. The ripple effect of an earlier delay at downstream airports is referred to as delay propagation."
   ]
  },
  {
   "cell_type": "code",
   "execution_count": 64,
   "metadata": {},
   "outputs": [
    {
     "data": {
      "text/html": [
       "<div>\n",
       "<style scoped>\n",
       "    .dataframe tbody tr th:only-of-type {\n",
       "        vertical-align: middle;\n",
       "    }\n",
       "\n",
       "    .dataframe tbody tr th {\n",
       "        vertical-align: top;\n",
       "    }\n",
       "\n",
       "    .dataframe thead th {\n",
       "        text-align: right;\n",
       "    }\n",
       "</style>\n",
       "<table border=\"1\" class=\"dataframe\">\n",
       "  <thead>\n",
       "    <tr style=\"text-align: right;\">\n",
       "      <th></th>\n",
       "      <th>Year</th>\n",
       "      <th>Month</th>\n",
       "      <th>DayofMonth</th>\n",
       "      <th>DayOfWeek</th>\n",
       "      <th>CRSDepTime</th>\n",
       "      <th>ArrTime</th>\n",
       "      <th>CRSArrTime</th>\n",
       "      <th>FlightNum</th>\n",
       "      <th>ActualElapsedTime</th>\n",
       "      <th>CRSElapsedTime</th>\n",
       "      <th>...</th>\n",
       "      <th>Distance</th>\n",
       "      <th>TaxiIn</th>\n",
       "      <th>TaxiOut</th>\n",
       "      <th>Cancelled</th>\n",
       "      <th>Diverted</th>\n",
       "      <th>CarrierDelay</th>\n",
       "      <th>WeatherDelay</th>\n",
       "      <th>NASDelay</th>\n",
       "      <th>SecurityDelay</th>\n",
       "      <th>LateAircraftDelay</th>\n",
       "    </tr>\n",
       "  </thead>\n",
       "  <tbody>\n",
       "    <tr>\n",
       "      <th>count</th>\n",
       "      <td>1936758.0</td>\n",
       "      <td>1.936758e+06</td>\n",
       "      <td>1.936758e+06</td>\n",
       "      <td>1.936758e+06</td>\n",
       "      <td>1.936758e+06</td>\n",
       "      <td>1.929648e+06</td>\n",
       "      <td>1.936758e+06</td>\n",
       "      <td>1.936758e+06</td>\n",
       "      <td>1.928371e+06</td>\n",
       "      <td>1.936560e+06</td>\n",
       "      <td>...</td>\n",
       "      <td>1.936758e+06</td>\n",
       "      <td>1.929648e+06</td>\n",
       "      <td>1.936303e+06</td>\n",
       "      <td>1.936758e+06</td>\n",
       "      <td>1.936758e+06</td>\n",
       "      <td>1.247488e+06</td>\n",
       "      <td>1.247488e+06</td>\n",
       "      <td>1.247488e+06</td>\n",
       "      <td>1.247488e+06</td>\n",
       "      <td>1.247488e+06</td>\n",
       "    </tr>\n",
       "    <tr>\n",
       "      <th>mean</th>\n",
       "      <td>2008.0</td>\n",
       "      <td>6.111106e+00</td>\n",
       "      <td>1.575347e+01</td>\n",
       "      <td>3.984827e+00</td>\n",
       "      <td>1.467473e+03</td>\n",
       "      <td>1.610141e+03</td>\n",
       "      <td>1.634225e+03</td>\n",
       "      <td>2.184263e+03</td>\n",
       "      <td>1.333059e+02</td>\n",
       "      <td>1.343027e+02</td>\n",
       "      <td>...</td>\n",
       "      <td>7.656862e+02</td>\n",
       "      <td>6.812975e+00</td>\n",
       "      <td>1.823220e+01</td>\n",
       "      <td>3.268348e-04</td>\n",
       "      <td>4.003598e-03</td>\n",
       "      <td>1.917940e+01</td>\n",
       "      <td>3.703571e+00</td>\n",
       "      <td>1.502164e+01</td>\n",
       "      <td>9.013714e-02</td>\n",
       "      <td>2.529647e+01</td>\n",
       "    </tr>\n",
       "    <tr>\n",
       "      <th>std</th>\n",
       "      <td>0.0</td>\n",
       "      <td>3.482546e+00</td>\n",
       "      <td>8.776272e+00</td>\n",
       "      <td>1.995966e+00</td>\n",
       "      <td>4.247668e+02</td>\n",
       "      <td>5.481781e+02</td>\n",
       "      <td>4.646347e+02</td>\n",
       "      <td>1.944702e+03</td>\n",
       "      <td>7.206007e+01</td>\n",
       "      <td>7.134144e+01</td>\n",
       "      <td>...</td>\n",
       "      <td>5.744797e+02</td>\n",
       "      <td>5.273595e+00</td>\n",
       "      <td>1.433853e+01</td>\n",
       "      <td>1.807562e-02</td>\n",
       "      <td>6.314722e-02</td>\n",
       "      <td>4.354621e+01</td>\n",
       "      <td>2.149290e+01</td>\n",
       "      <td>3.383305e+01</td>\n",
       "      <td>2.022714e+00</td>\n",
       "      <td>4.205486e+01</td>\n",
       "    </tr>\n",
       "    <tr>\n",
       "      <th>min</th>\n",
       "      <td>2008.0</td>\n",
       "      <td>1.000000e+00</td>\n",
       "      <td>1.000000e+00</td>\n",
       "      <td>1.000000e+00</td>\n",
       "      <td>0.000000e+00</td>\n",
       "      <td>1.000000e+00</td>\n",
       "      <td>0.000000e+00</td>\n",
       "      <td>1.000000e+00</td>\n",
       "      <td>1.400000e+01</td>\n",
       "      <td>-2.500000e+01</td>\n",
       "      <td>...</td>\n",
       "      <td>1.100000e+01</td>\n",
       "      <td>0.000000e+00</td>\n",
       "      <td>0.000000e+00</td>\n",
       "      <td>0.000000e+00</td>\n",
       "      <td>0.000000e+00</td>\n",
       "      <td>0.000000e+00</td>\n",
       "      <td>0.000000e+00</td>\n",
       "      <td>0.000000e+00</td>\n",
       "      <td>0.000000e+00</td>\n",
       "      <td>0.000000e+00</td>\n",
       "    </tr>\n",
       "    <tr>\n",
       "      <th>25%</th>\n",
       "      <td>2008.0</td>\n",
       "      <td>3.000000e+00</td>\n",
       "      <td>8.000000e+00</td>\n",
       "      <td>2.000000e+00</td>\n",
       "      <td>1.135000e+03</td>\n",
       "      <td>1.316000e+03</td>\n",
       "      <td>1.325000e+03</td>\n",
       "      <td>6.100000e+02</td>\n",
       "      <td>8.000000e+01</td>\n",
       "      <td>8.200000e+01</td>\n",
       "      <td>...</td>\n",
       "      <td>3.380000e+02</td>\n",
       "      <td>4.000000e+00</td>\n",
       "      <td>1.000000e+01</td>\n",
       "      <td>0.000000e+00</td>\n",
       "      <td>0.000000e+00</td>\n",
       "      <td>0.000000e+00</td>\n",
       "      <td>0.000000e+00</td>\n",
       "      <td>0.000000e+00</td>\n",
       "      <td>0.000000e+00</td>\n",
       "      <td>0.000000e+00</td>\n",
       "    </tr>\n",
       "    <tr>\n",
       "      <th>50%</th>\n",
       "      <td>2008.0</td>\n",
       "      <td>6.000000e+00</td>\n",
       "      <td>1.600000e+01</td>\n",
       "      <td>4.000000e+00</td>\n",
       "      <td>1.510000e+03</td>\n",
       "      <td>1.715000e+03</td>\n",
       "      <td>1.705000e+03</td>\n",
       "      <td>1.543000e+03</td>\n",
       "      <td>1.160000e+02</td>\n",
       "      <td>1.160000e+02</td>\n",
       "      <td>...</td>\n",
       "      <td>6.060000e+02</td>\n",
       "      <td>6.000000e+00</td>\n",
       "      <td>1.400000e+01</td>\n",
       "      <td>0.000000e+00</td>\n",
       "      <td>0.000000e+00</td>\n",
       "      <td>2.000000e+00</td>\n",
       "      <td>0.000000e+00</td>\n",
       "      <td>2.000000e+00</td>\n",
       "      <td>0.000000e+00</td>\n",
       "      <td>8.000000e+00</td>\n",
       "    </tr>\n",
       "    <tr>\n",
       "      <th>75%</th>\n",
       "      <td>2008.0</td>\n",
       "      <td>9.000000e+00</td>\n",
       "      <td>2.300000e+01</td>\n",
       "      <td>6.000000e+00</td>\n",
       "      <td>1.815000e+03</td>\n",
       "      <td>2.030000e+03</td>\n",
       "      <td>2.014000e+03</td>\n",
       "      <td>3.422000e+03</td>\n",
       "      <td>1.650000e+02</td>\n",
       "      <td>1.650000e+02</td>\n",
       "      <td>...</td>\n",
       "      <td>9.980000e+02</td>\n",
       "      <td>8.000000e+00</td>\n",
       "      <td>2.100000e+01</td>\n",
       "      <td>0.000000e+00</td>\n",
       "      <td>0.000000e+00</td>\n",
       "      <td>2.100000e+01</td>\n",
       "      <td>0.000000e+00</td>\n",
       "      <td>1.500000e+01</td>\n",
       "      <td>0.000000e+00</td>\n",
       "      <td>3.300000e+01</td>\n",
       "    </tr>\n",
       "    <tr>\n",
       "      <th>max</th>\n",
       "      <td>2008.0</td>\n",
       "      <td>1.200000e+01</td>\n",
       "      <td>3.100000e+01</td>\n",
       "      <td>7.000000e+00</td>\n",
       "      <td>2.359000e+03</td>\n",
       "      <td>2.400000e+03</td>\n",
       "      <td>2.400000e+03</td>\n",
       "      <td>9.742000e+03</td>\n",
       "      <td>1.114000e+03</td>\n",
       "      <td>6.600000e+02</td>\n",
       "      <td>...</td>\n",
       "      <td>4.962000e+03</td>\n",
       "      <td>2.400000e+02</td>\n",
       "      <td>4.220000e+02</td>\n",
       "      <td>1.000000e+00</td>\n",
       "      <td>1.000000e+00</td>\n",
       "      <td>2.436000e+03</td>\n",
       "      <td>1.352000e+03</td>\n",
       "      <td>1.357000e+03</td>\n",
       "      <td>3.920000e+02</td>\n",
       "      <td>1.316000e+03</td>\n",
       "    </tr>\n",
       "  </tbody>\n",
       "</table>\n",
       "<p>8 rows × 23 columns</p>\n",
       "</div>"
      ],
      "text/plain": [
       "            Year         Month    DayofMonth     DayOfWeek    CRSDepTime  \\\n",
       "count  1936758.0  1.936758e+06  1.936758e+06  1.936758e+06  1.936758e+06   \n",
       "mean      2008.0  6.111106e+00  1.575347e+01  3.984827e+00  1.467473e+03   \n",
       "std          0.0  3.482546e+00  8.776272e+00  1.995966e+00  4.247668e+02   \n",
       "min       2008.0  1.000000e+00  1.000000e+00  1.000000e+00  0.000000e+00   \n",
       "25%       2008.0  3.000000e+00  8.000000e+00  2.000000e+00  1.135000e+03   \n",
       "50%       2008.0  6.000000e+00  1.600000e+01  4.000000e+00  1.510000e+03   \n",
       "75%       2008.0  9.000000e+00  2.300000e+01  6.000000e+00  1.815000e+03   \n",
       "max       2008.0  1.200000e+01  3.100000e+01  7.000000e+00  2.359000e+03   \n",
       "\n",
       "            ArrTime    CRSArrTime     FlightNum  ActualElapsedTime  \\\n",
       "count  1.929648e+06  1.936758e+06  1.936758e+06       1.928371e+06   \n",
       "mean   1.610141e+03  1.634225e+03  2.184263e+03       1.333059e+02   \n",
       "std    5.481781e+02  4.646347e+02  1.944702e+03       7.206007e+01   \n",
       "min    1.000000e+00  0.000000e+00  1.000000e+00       1.400000e+01   \n",
       "25%    1.316000e+03  1.325000e+03  6.100000e+02       8.000000e+01   \n",
       "50%    1.715000e+03  1.705000e+03  1.543000e+03       1.160000e+02   \n",
       "75%    2.030000e+03  2.014000e+03  3.422000e+03       1.650000e+02   \n",
       "max    2.400000e+03  2.400000e+03  9.742000e+03       1.114000e+03   \n",
       "\n",
       "       CRSElapsedTime  ...      Distance        TaxiIn       TaxiOut  \\\n",
       "count    1.936560e+06  ...  1.936758e+06  1.929648e+06  1.936303e+06   \n",
       "mean     1.343027e+02  ...  7.656862e+02  6.812975e+00  1.823220e+01   \n",
       "std      7.134144e+01  ...  5.744797e+02  5.273595e+00  1.433853e+01   \n",
       "min     -2.500000e+01  ...  1.100000e+01  0.000000e+00  0.000000e+00   \n",
       "25%      8.200000e+01  ...  3.380000e+02  4.000000e+00  1.000000e+01   \n",
       "50%      1.160000e+02  ...  6.060000e+02  6.000000e+00  1.400000e+01   \n",
       "75%      1.650000e+02  ...  9.980000e+02  8.000000e+00  2.100000e+01   \n",
       "max      6.600000e+02  ...  4.962000e+03  2.400000e+02  4.220000e+02   \n",
       "\n",
       "          Cancelled      Diverted  CarrierDelay  WeatherDelay      NASDelay  \\\n",
       "count  1.936758e+06  1.936758e+06  1.247488e+06  1.247488e+06  1.247488e+06   \n",
       "mean   3.268348e-04  4.003598e-03  1.917940e+01  3.703571e+00  1.502164e+01   \n",
       "std    1.807562e-02  6.314722e-02  4.354621e+01  2.149290e+01  3.383305e+01   \n",
       "min    0.000000e+00  0.000000e+00  0.000000e+00  0.000000e+00  0.000000e+00   \n",
       "25%    0.000000e+00  0.000000e+00  0.000000e+00  0.000000e+00  0.000000e+00   \n",
       "50%    0.000000e+00  0.000000e+00  2.000000e+00  0.000000e+00  2.000000e+00   \n",
       "75%    0.000000e+00  0.000000e+00  2.100000e+01  0.000000e+00  1.500000e+01   \n",
       "max    1.000000e+00  1.000000e+00  2.436000e+03  1.352000e+03  1.357000e+03   \n",
       "\n",
       "       SecurityDelay  LateAircraftDelay  \n",
       "count   1.247488e+06       1.247488e+06  \n",
       "mean    9.013714e-02       2.529647e+01  \n",
       "std     2.022714e+00       4.205486e+01  \n",
       "min     0.000000e+00       0.000000e+00  \n",
       "25%     0.000000e+00       0.000000e+00  \n",
       "50%     0.000000e+00       8.000000e+00  \n",
       "75%     0.000000e+00       3.300000e+01  \n",
       "max     3.920000e+02       1.316000e+03  \n",
       "\n",
       "[8 rows x 23 columns]"
      ]
     },
     "execution_count": 64,
     "metadata": {},
     "output_type": "execute_result"
    }
   ],
   "source": [
    "df.describe()"
   ]
  },
  {
   "cell_type": "code",
   "execution_count": 65,
   "metadata": {},
   "outputs": [
    {
     "data": {
      "text/plain": [
       "['Year',\n",
       " 'Month',\n",
       " 'DayofMonth',\n",
       " 'DayOfWeek',\n",
       " 'DepTime',\n",
       " 'CRSDepTime',\n",
       " 'ArrTime',\n",
       " 'CRSArrTime',\n",
       " 'UniqueCarrier',\n",
       " 'FlightNum',\n",
       " 'TailNum',\n",
       " 'ActualElapsedTime',\n",
       " 'CRSElapsedTime',\n",
       " 'AirTime',\n",
       " 'ArrDelay',\n",
       " 'DepDelay',\n",
       " 'Origin',\n",
       " 'Dest',\n",
       " 'Distance',\n",
       " 'TaxiIn',\n",
       " 'TaxiOut',\n",
       " 'Cancelled',\n",
       " 'CancellationCode',\n",
       " 'Diverted',\n",
       " 'CarrierDelay',\n",
       " 'WeatherDelay',\n",
       " 'NASDelay',\n",
       " 'SecurityDelay',\n",
       " 'LateAircraftDelay']"
      ]
     },
     "execution_count": 65,
     "metadata": {},
     "output_type": "execute_result"
    }
   ],
   "source": [
    "df.columns.to_list()"
   ]
  },
  {
   "cell_type": "code",
   "execution_count": 66,
   "metadata": {},
   "outputs": [
    {
     "data": {
      "text/html": [
       "<div>\n",
       "<style scoped>\n",
       "    .dataframe tbody tr th:only-of-type {\n",
       "        vertical-align: middle;\n",
       "    }\n",
       "\n",
       "    .dataframe tbody tr th {\n",
       "        vertical-align: top;\n",
       "    }\n",
       "\n",
       "    .dataframe thead th {\n",
       "        text-align: right;\n",
       "    }\n",
       "</style>\n",
       "<table border=\"1\" class=\"dataframe\">\n",
       "  <thead>\n",
       "    <tr style=\"text-align: right;\">\n",
       "      <th></th>\n",
       "      <th>CarrierDelay</th>\n",
       "      <th>WeatherDelay</th>\n",
       "      <th>NASDelay</th>\n",
       "      <th>SecurityDelay</th>\n",
       "      <th>LateAircraftDelay</th>\n",
       "    </tr>\n",
       "  </thead>\n",
       "  <tbody>\n",
       "    <tr>\n",
       "      <th>count</th>\n",
       "      <td>1247488.00</td>\n",
       "      <td>1247488.00</td>\n",
       "      <td>1247488.00</td>\n",
       "      <td>1247488.00</td>\n",
       "      <td>1247488.00</td>\n",
       "    </tr>\n",
       "    <tr>\n",
       "      <th>mean</th>\n",
       "      <td>19.18</td>\n",
       "      <td>3.70</td>\n",
       "      <td>15.02</td>\n",
       "      <td>0.09</td>\n",
       "      <td>25.30</td>\n",
       "    </tr>\n",
       "    <tr>\n",
       "      <th>std</th>\n",
       "      <td>43.55</td>\n",
       "      <td>21.49</td>\n",
       "      <td>33.83</td>\n",
       "      <td>2.02</td>\n",
       "      <td>42.05</td>\n",
       "    </tr>\n",
       "    <tr>\n",
       "      <th>min</th>\n",
       "      <td>0.00</td>\n",
       "      <td>0.00</td>\n",
       "      <td>0.00</td>\n",
       "      <td>0.00</td>\n",
       "      <td>0.00</td>\n",
       "    </tr>\n",
       "    <tr>\n",
       "      <th>25%</th>\n",
       "      <td>0.00</td>\n",
       "      <td>0.00</td>\n",
       "      <td>0.00</td>\n",
       "      <td>0.00</td>\n",
       "      <td>0.00</td>\n",
       "    </tr>\n",
       "    <tr>\n",
       "      <th>50%</th>\n",
       "      <td>2.00</td>\n",
       "      <td>0.00</td>\n",
       "      <td>2.00</td>\n",
       "      <td>0.00</td>\n",
       "      <td>8.00</td>\n",
       "    </tr>\n",
       "    <tr>\n",
       "      <th>75%</th>\n",
       "      <td>21.00</td>\n",
       "      <td>0.00</td>\n",
       "      <td>15.00</td>\n",
       "      <td>0.00</td>\n",
       "      <td>33.00</td>\n",
       "    </tr>\n",
       "    <tr>\n",
       "      <th>max</th>\n",
       "      <td>2436.00</td>\n",
       "      <td>1352.00</td>\n",
       "      <td>1357.00</td>\n",
       "      <td>392.00</td>\n",
       "      <td>1316.00</td>\n",
       "    </tr>\n",
       "  </tbody>\n",
       "</table>\n",
       "</div>"
      ],
      "text/plain": [
       "       CarrierDelay  WeatherDelay    NASDelay  SecurityDelay  \\\n",
       "count    1247488.00    1247488.00  1247488.00     1247488.00   \n",
       "mean          19.18          3.70       15.02           0.09   \n",
       "std           43.55         21.49       33.83           2.02   \n",
       "min            0.00          0.00        0.00           0.00   \n",
       "25%            0.00          0.00        0.00           0.00   \n",
       "50%            2.00          0.00        2.00           0.00   \n",
       "75%           21.00          0.00       15.00           0.00   \n",
       "max         2436.00       1352.00     1357.00         392.00   \n",
       "\n",
       "       LateAircraftDelay  \n",
       "count         1247488.00  \n",
       "mean               25.30  \n",
       "std                42.05  \n",
       "min                 0.00  \n",
       "25%                 0.00  \n",
       "50%                 8.00  \n",
       "75%                33.00  \n",
       "max              1316.00  "
      ]
     },
     "execution_count": 66,
     "metadata": {},
     "output_type": "execute_result"
    }
   ],
   "source": [
    "round(df[['CarrierDelay',\n",
    " 'WeatherDelay',\n",
    " 'NASDelay',\n",
    " 'SecurityDelay',\n",
    " 'LateAircraftDelay']].describe(),2)"
   ]
  },
  {
   "cell_type": "code",
   "execution_count": 67,
   "metadata": {
    "scrolled": true
   },
   "outputs": [
    {
     "data": {
      "text/plain": [
       "0.0       1148570\n",
       "10.0         2868\n",
       "6.0          2738\n",
       "15.0         2709\n",
       "7.0          2527\n",
       "           ...   \n",
       "475.0           1\n",
       "750.0           1\n",
       "745.0           1\n",
       "1352.0          1\n",
       "510.0           1\n",
       "Name: WeatherDelay, Length: 599, dtype: int64"
      ]
     },
     "execution_count": 67,
     "metadata": {},
     "output_type": "execute_result"
    }
   ],
   "source": [
    "df['WeatherDelay'].value_counts()"
   ]
  },
  {
   "cell_type": "code",
   "execution_count": 68,
   "metadata": {},
   "outputs": [],
   "source": [
    "### Droping na values for ArrDelay "
   ]
  },
  {
   "cell_type": "code",
   "execution_count": 69,
   "metadata": {},
   "outputs": [],
   "source": [
    "df.dropna(axis=0,subset=['ArrDelay'], inplace=True)"
   ]
  },
  {
   "cell_type": "code",
   "execution_count": 70,
   "metadata": {
    "scrolled": true
   },
   "outputs": [
    {
     "data": {
      "text/plain": [
       "Year                      0\n",
       "Month                     0\n",
       "DayofMonth                0\n",
       "DayOfWeek                 0\n",
       "DepTime                   0\n",
       "CRSDepTime                0\n",
       "ArrTime                   0\n",
       "CRSArrTime                0\n",
       "UniqueCarrier             0\n",
       "FlightNum                 0\n",
       "TailNum                   3\n",
       "ActualElapsedTime         0\n",
       "CRSElapsedTime            0\n",
       "AirTime                   0\n",
       "ArrDelay                  0\n",
       "DepDelay                  0\n",
       "Origin                    0\n",
       "Dest                      0\n",
       "Distance                  0\n",
       "TaxiIn                    0\n",
       "TaxiOut                   0\n",
       "Cancelled                 0\n",
       "CancellationCode          0\n",
       "Diverted                  0\n",
       "CarrierDelay         680883\n",
       "WeatherDelay         680883\n",
       "NASDelay             680883\n",
       "SecurityDelay        680883\n",
       "LateAircraftDelay    680883\n",
       "dtype: int64"
      ]
     },
     "execution_count": 70,
     "metadata": {},
     "output_type": "execute_result"
    }
   ],
   "source": [
    "df.isna().sum()"
   ]
  },
  {
   "cell_type": "code",
   "execution_count": 71,
   "metadata": {},
   "outputs": [
    {
     "data": {
      "text/plain": [
       "3.7035706956700185"
      ]
     },
     "execution_count": 71,
     "metadata": {},
     "output_type": "execute_result"
    }
   ],
   "source": [
    "np.mean(df['WeatherDelay'])"
   ]
  },
  {
   "cell_type": "code",
   "execution_count": 72,
   "metadata": {},
   "outputs": [],
   "source": [
    "df['WeatherDelay']=df['WeatherDelay'].fillna(np.mean(df['WeatherDelay']))"
   ]
  },
  {
   "cell_type": "code",
   "execution_count": 73,
   "metadata": {},
   "outputs": [],
   "source": [
    "df['CarrierDelay']=df['CarrierDelay'].fillna(np.mean(df['CarrierDelay']))"
   ]
  },
  {
   "cell_type": "code",
   "execution_count": 74,
   "metadata": {},
   "outputs": [],
   "source": [
    "df['NASDelay']=df['NASDelay'].fillna(np.mean(df['NASDelay']))"
   ]
  },
  {
   "cell_type": "code",
   "execution_count": 75,
   "metadata": {},
   "outputs": [],
   "source": [
    "df['SecurityDelay']=df['SecurityDelay'].fillna(np.mean(df['SecurityDelay']))"
   ]
  },
  {
   "cell_type": "code",
   "execution_count": 76,
   "metadata": {},
   "outputs": [],
   "source": [
    "df['LateAircraftDelay']=df['LateAircraftDelay'].fillna(np.mean(df['LateAircraftDelay']))"
   ]
  },
  {
   "cell_type": "code",
   "execution_count": 77,
   "metadata": {},
   "outputs": [
    {
     "data": {
      "text/plain": [
       "Year                 0\n",
       "Month                0\n",
       "DayofMonth           0\n",
       "DayOfWeek            0\n",
       "DepTime              0\n",
       "CRSDepTime           0\n",
       "ArrTime              0\n",
       "CRSArrTime           0\n",
       "UniqueCarrier        0\n",
       "FlightNum            0\n",
       "TailNum              3\n",
       "ActualElapsedTime    0\n",
       "CRSElapsedTime       0\n",
       "AirTime              0\n",
       "ArrDelay             0\n",
       "DepDelay             0\n",
       "Origin               0\n",
       "Dest                 0\n",
       "Distance             0\n",
       "TaxiIn               0\n",
       "TaxiOut              0\n",
       "Cancelled            0\n",
       "CancellationCode     0\n",
       "Diverted             0\n",
       "CarrierDelay         0\n",
       "WeatherDelay         0\n",
       "NASDelay             0\n",
       "SecurityDelay        0\n",
       "LateAircraftDelay    0\n",
       "dtype: int64"
      ]
     },
     "execution_count": 77,
     "metadata": {},
     "output_type": "execute_result"
    }
   ],
   "source": [
    "df.isna().sum()"
   ]
  },
  {
   "cell_type": "code",
   "execution_count": 78,
   "metadata": {},
   "outputs": [],
   "source": [
    "df.dropna(axis=0, subset=['TailNum'], inplace=True)"
   ]
  },
  {
   "cell_type": "code",
   "execution_count": 79,
   "metadata": {},
   "outputs": [],
   "source": [
    "### original df shape, before dealing with NA: 1936758"
   ]
  },
  {
   "cell_type": "code",
   "execution_count": 80,
   "metadata": {
    "scrolled": true
   },
   "outputs": [
    {
     "data": {
      "text/plain": [
       "(1928368, 29)"
      ]
     },
     "execution_count": 80,
     "metadata": {},
     "output_type": "execute_result"
    }
   ],
   "source": [
    "df.shape"
   ]
  },
  {
   "cell_type": "code",
   "execution_count": 81,
   "metadata": {},
   "outputs": [],
   "source": [
    "### correlation of attributes "
   ]
  },
  {
   "cell_type": "code",
   "execution_count": 82,
   "metadata": {},
   "outputs": [],
   "source": [
    "correlation_matrix=df.corr()"
   ]
  },
  {
   "cell_type": "code",
   "execution_count": 83,
   "metadata": {},
   "outputs": [
    {
     "data": {
      "image/png": "[encoded data removed]",
      "text/plain": [
       "<Figure size 1080x720 with 2 Axes>"
      ]
     },
     "metadata": {
      "needs_background": "light"
     },
     "output_type": "display_data"
    }
   ],
   "source": [
    "plt.figure(figsize=(15, 10))\n",
    "sns.heatmap(correlation_matrix, annot=True, square=True, fmt='.2f')\n",
    "plt.show()"
   ]
  },
  {
   "cell_type": "code",
   "execution_count": 84,
   "metadata": {
    "scrolled": true
   },
   "outputs": [
    {
     "data": {
      "text/plain": [
       "0    1928368\n",
       "Name: Cancelled, dtype: int64"
      ]
     },
     "execution_count": 84,
     "metadata": {},
     "output_type": "execute_result"
    }
   ],
   "source": [
    "df['Cancelled'].value_counts() \n",
    "### Since we excluded ~8K ArrDelay 'NA' values, we assume that feature 'Cancelled' doesn't have value 1 in the remaining set because \n",
    "### those excluded transaction had exactly value 1 for feature 'Cancelled'; Further, we conclude that for cancelled \n",
    "\n",
    "####flights there is no information about ArrDelay\n",
    " "
   ]
  },
  {
   "cell_type": "code",
   "execution_count": 85,
   "metadata": {
    "scrolled": false
   },
   "outputs": [
    {
     "data": {
      "text/plain": [
       "0    1928368\n",
       "Name: Diverted, dtype: int64"
      ]
     },
     "execution_count": 85,
     "metadata": {},
     "output_type": "execute_result"
    }
   ],
   "source": [
    "df['Diverted'].value_counts()\n",
    "### Similar conclusion can be drawn for attribute 'Diverted'"
   ]
  },
  {
   "cell_type": "code",
   "execution_count": 86,
   "metadata": {},
   "outputs": [
    {
     "data": {
      "text/plain": [
       "N    1928368\n",
       "Name: CancellationCode, dtype: int64"
      ]
     },
     "execution_count": 86,
     "metadata": {},
     "output_type": "execute_result"
    }
   ],
   "source": [
    "df['CancellationCode'].value_counts()"
   ]
  },
  {
   "cell_type": "code",
   "execution_count": 87,
   "metadata": {},
   "outputs": [],
   "source": [
    "### In previous analysis, we mentioned that this set can be separated in three subset based on three different problems : \n",
    "### 1.diverted flights\n",
    "### 2.cancelled flights\n",
    "### 3.delayed flights\n",
    "### We decided to continue investigating delayed flights which are transactions with not 'NA' ArrDelay values "
   ]
  },
  {
   "cell_type": "code",
   "execution_count": 88,
   "metadata": {},
   "outputs": [],
   "source": [
    "### since there is only 633 cancelled and 7754 diverted flights, and we want to predict ArrDelay, we decied to drop these columns"
   ]
  },
  {
   "cell_type": "code",
   "execution_count": 89,
   "metadata": {},
   "outputs": [],
   "source": [
    "df.drop(['Diverted','Cancelled','CancellationCode'], axis=1, inplace=True)"
   ]
  },
  {
   "cell_type": "code",
   "execution_count": 90,
   "metadata": {},
   "outputs": [
    {
     "data": {
      "text/plain": [
       "2008    1928368\n",
       "Name: Year, dtype: int64"
      ]
     },
     "execution_count": 90,
     "metadata": {},
     "output_type": "execute_result"
    }
   ],
   "source": [
    "df['Year'].value_counts()\n",
    "### It needs to be droped because it is constant value"
   ]
  },
  {
   "cell_type": "code",
   "execution_count": 91,
   "metadata": {},
   "outputs": [],
   "source": [
    "df.drop(['Year'], axis=1, inplace=True)"
   ]
  },
  {
   "cell_type": "code",
   "execution_count": 93,
   "metadata": {
    "scrolled": false
   },
   "outputs": [
    {
     "data": {
      "text/html": [
       "<div>\n",
       "<style scoped>\n",
       "    .dataframe tbody tr th:only-of-type {\n",
       "        vertical-align: middle;\n",
       "    }\n",
       "\n",
       "    .dataframe tbody tr th {\n",
       "        vertical-align: top;\n",
       "    }\n",
       "\n",
       "    .dataframe thead th {\n",
       "        text-align: right;\n",
       "    }\n",
       "</style>\n",
       "<table border=\"1\" class=\"dataframe\">\n",
       "  <thead>\n",
       "    <tr style=\"text-align: right;\">\n",
       "      <th></th>\n",
       "      <th>ArrDelay</th>\n",
       "      <th>DepDelay</th>\n",
       "    </tr>\n",
       "  </thead>\n",
       "  <tbody>\n",
       "    <tr>\n",
       "      <th>Month</th>\n",
       "      <td>-0.000896</td>\n",
       "      <td>0.004234</td>\n",
       "    </tr>\n",
       "    <tr>\n",
       "      <th>DayofMonth</th>\n",
       "      <td>0.004124</td>\n",
       "      <td>0.005274</td>\n",
       "    </tr>\n",
       "    <tr>\n",
       "      <th>DayOfWeek</th>\n",
       "      <td>0.006121</td>\n",
       "      <td>0.008717</td>\n",
       "    </tr>\n",
       "    <tr>\n",
       "      <th>CRSDepTime</th>\n",
       "      <td>0.044449</td>\n",
       "      <td>0.059459</td>\n",
       "    </tr>\n",
       "    <tr>\n",
       "      <th>ArrTime</th>\n",
       "      <td>-0.050949</td>\n",
       "      <td>-0.052845</td>\n",
       "    </tr>\n",
       "    <tr>\n",
       "      <th>CRSArrTime</th>\n",
       "      <td>0.043079</td>\n",
       "      <td>0.054123</td>\n",
       "    </tr>\n",
       "    <tr>\n",
       "      <th>FlightNum</th>\n",
       "      <td>0.061263</td>\n",
       "      <td>0.052148</td>\n",
       "    </tr>\n",
       "    <tr>\n",
       "      <th>ActualElapsedTime</th>\n",
       "      <td>0.068130</td>\n",
       "      <td>0.018492</td>\n",
       "    </tr>\n",
       "    <tr>\n",
       "      <th>CRSElapsedTime</th>\n",
       "      <td>-0.015676</td>\n",
       "      <td>0.006836</td>\n",
       "    </tr>\n",
       "    <tr>\n",
       "      <th>AirTime</th>\n",
       "      <td>-0.000188</td>\n",
       "      <td>-0.002752</td>\n",
       "    </tr>\n",
       "    <tr>\n",
       "      <th>ArrDelay</th>\n",
       "      <td>1.000000</td>\n",
       "      <td>0.952926</td>\n",
       "    </tr>\n",
       "    <tr>\n",
       "      <th>DepDelay</th>\n",
       "      <td>0.952926</td>\n",
       "      <td>1.000000</td>\n",
       "    </tr>\n",
       "    <tr>\n",
       "      <th>Distance</th>\n",
       "      <td>-0.029852</td>\n",
       "      <td>-0.007849</td>\n",
       "    </tr>\n",
       "    <tr>\n",
       "      <th>TaxiIn</th>\n",
       "      <td>0.156277</td>\n",
       "      <td>0.074880</td>\n",
       "    </tr>\n",
       "    <tr>\n",
       "      <th>TaxiOut</th>\n",
       "      <td>0.286482</td>\n",
       "      <td>0.078766</td>\n",
       "    </tr>\n",
       "    <tr>\n",
       "      <th>CarrierDelay</th>\n",
       "      <td>0.431795</td>\n",
       "      <td>0.477358</td>\n",
       "    </tr>\n",
       "    <tr>\n",
       "      <th>WeatherDelay</th>\n",
       "      <td>0.227697</td>\n",
       "      <td>0.221000</td>\n",
       "    </tr>\n",
       "    <tr>\n",
       "      <th>NASDelay</th>\n",
       "      <td>0.333549</td>\n",
       "      <td>0.211519</td>\n",
       "    </tr>\n",
       "    <tr>\n",
       "      <th>SecurityDelay</th>\n",
       "      <td>-0.002141</td>\n",
       "      <td>-0.002118</td>\n",
       "    </tr>\n",
       "    <tr>\n",
       "      <th>LateAircraftDelay</th>\n",
       "      <td>0.411444</td>\n",
       "      <td>0.463800</td>\n",
       "    </tr>\n",
       "  </tbody>\n",
       "</table>\n",
       "</div>"
      ],
      "text/plain": [
       "                   ArrDelay  DepDelay\n",
       "Month             -0.000896  0.004234\n",
       "DayofMonth         0.004124  0.005274\n",
       "DayOfWeek          0.006121  0.008717\n",
       "CRSDepTime         0.044449  0.059459\n",
       "ArrTime           -0.050949 -0.052845\n",
       "CRSArrTime         0.043079  0.054123\n",
       "FlightNum          0.061263  0.052148\n",
       "ActualElapsedTime  0.068130  0.018492\n",
       "CRSElapsedTime    -0.015676  0.006836\n",
       "AirTime           -0.000188 -0.002752\n",
       "ArrDelay           1.000000  0.952926\n",
       "DepDelay           0.952926  1.000000\n",
       "Distance          -0.029852 -0.007849\n",
       "TaxiIn             0.156277  0.074880\n",
       "TaxiOut            0.286482  0.078766\n",
       "CarrierDelay       0.431795  0.477358\n",
       "WeatherDelay       0.227697  0.221000\n",
       "NASDelay           0.333549  0.211519\n",
       "SecurityDelay     -0.002141 -0.002118\n",
       "LateAircraftDelay  0.411444  0.463800"
      ]
     },
     "execution_count": 93,
     "metadata": {},
     "output_type": "execute_result"
    }
   ],
   "source": [
    "correlation_matrix[['ArrDelay','DepDelay']]"
   ]
  },
  {
   "cell_type": "code",
   "execution_count": 94,
   "metadata": {
    "scrolled": true
   },
   "outputs": [
    {
     "data": {
      "text/plain": [
       "count    1928368.00\n",
       "mean          -0.89\n",
       "std           17.24\n",
       "min         -181.00\n",
       "25%          -10.00\n",
       "50%           -3.00\n",
       "75%            5.00\n",
       "max          759.00\n",
       "dtype: float64"
      ]
     },
     "execution_count": 94,
     "metadata": {},
     "output_type": "execute_result"
    }
   ],
   "source": [
    "round((df['ActualElapsedTime']-df['CRSElapsedTime']).describe(),2)"
   ]
  },
  {
   "cell_type": "code",
   "execution_count": 95,
   "metadata": {
    "scrolled": true
   },
   "outputs": [
    {
     "data": {
      "text/plain": [
       "count    1928368.00\n",
       "mean          23.95\n",
       "std          447.69\n",
       "min        -2399.00\n",
       "25%          -89.00\n",
       "50%          -30.00\n",
       "75%           -7.00\n",
       "max         2358.00\n",
       "dtype: float64"
      ]
     },
     "execution_count": 95,
     "metadata": {},
     "output_type": "execute_result"
    }
   ],
   "source": [
    "round((df['CRSArrTime']-df['ArrTime']).describe(),2)"
   ]
  },
  {
   "cell_type": "code",
   "execution_count": 96,
   "metadata": {
    "scrolled": false
   },
   "outputs": [
    {
     "data": {
      "text/plain": [
       "count    1928368.00\n",
       "mean          23.95\n",
       "std          447.69\n",
       "min        -2399.00\n",
       "25%          -89.00\n",
       "50%          -30.00\n",
       "75%           -7.00\n",
       "max         2358.00\n",
       "dtype: float64"
      ]
     },
     "execution_count": 96,
     "metadata": {},
     "output_type": "execute_result"
    }
   ],
   "source": [
    "round((df['CRSArrTime']-df['ArrTime']).describe(),2)"
   ]
  },
  {
   "cell_type": "code",
   "execution_count": 97,
   "metadata": {
    "scrolled": false
   },
   "outputs": [
    {
     "data": {
      "text/plain": [
       "count    1928368.00\n",
       "mean          42.20\n",
       "std           56.78\n",
       "min         -109.00\n",
       "25%            9.00\n",
       "50%           24.00\n",
       "75%           56.00\n",
       "max         2461.00\n",
       "Name: ArrDelay, dtype: float64"
      ]
     },
     "execution_count": 97,
     "metadata": {},
     "output_type": "execute_result"
    }
   ],
   "source": [
    "round((df['ArrDelay']).describe(),2)"
   ]
  },
  {
   "cell_type": "code",
   "execution_count": 98,
   "metadata": {},
   "outputs": [],
   "source": [
    "df.drop(['Distance','AirTime'], axis=1, inplace=True)"
   ]
  },
  {
   "cell_type": "code",
   "execution_count": 99,
   "metadata": {},
   "outputs": [],
   "source": [
    "df.drop(['DepDelay'], axis=1, inplace=True)"
   ]
  },
  {
   "cell_type": "code",
   "execution_count": 102,
   "metadata": {},
   "outputs": [],
   "source": [
    "### drop CRSElapsedTime \n",
    "\n",
    "df.drop(['CRSElapsedTime'], axis=1, inplace=True)"
   ]
  },
  {
   "cell_type": "code",
   "execution_count": 103,
   "metadata": {},
   "outputs": [],
   "source": [
    "correlation_matrix=df.corr()"
   ]
  },
  {
   "cell_type": "code",
   "execution_count": 104,
   "metadata": {},
   "outputs": [
    {
     "data": {
      "image/png": "[encoded data removed]",
      "text/plain": [
       "<Figure size 1080x720 with 2 Axes>"
      ]
     },
     "metadata": {
      "needs_background": "light"
     },
     "output_type": "display_data"
    }
   ],
   "source": [
    "plt.figure(figsize=(15, 10))\n",
    "sns.heatmap(correlation_matrix, vmax=.8, annot=True, square=True, fmt='.2f')\n",
    "plt.show()"
   ]
  },
  {
   "cell_type": "markdown",
   "metadata": {},
   "source": [
    "## Classification targets"
   ]
  },
  {
   "cell_type": "code",
   "execution_count": 107,
   "metadata": {},
   "outputs": [],
   "source": [
    "df.loc[ df['ArrDelay'] < 15 ,'ArrDelay_target'] = 0\n",
    "df.loc[ df['ArrDelay'] >= 15 ,'ArrDelay_target'] = 1"
   ]
  },
  {
   "cell_type": "code",
   "execution_count": 108,
   "metadata": {},
   "outputs": [],
   "source": [
    "df['ArrDelay_target'] = df['ArrDelay_target'].astype('int')"
   ]
  },
  {
   "cell_type": "code",
   "execution_count": 109,
   "metadata": {},
   "outputs": [
    {
     "data": {
      "text/plain": [
       "1    1247486\n",
       "0     680882\n",
       "Name: ArrDelay_target, dtype: int64"
      ]
     },
     "execution_count": 109,
     "metadata": {},
     "output_type": "execute_result"
    }
   ],
   "source": [
    "df['ArrDelay_target'].value_counts()"
   ]
  },
  {
   "cell_type": "code",
   "execution_count": 105,
   "metadata": {},
   "outputs": [],
   "source": [
    "### Definig new target variable ArrDelay_target2\n",
    "\n",
    "df.loc[ df['ArrDelay'] < 30 ,'ArrDelay_target2'] = 0\n",
    "df.loc[ df['ArrDelay'] >= 30 ,'ArrDelay_target2'] = 1"
   ]
  },
  {
   "cell_type": "code",
   "execution_count": 112,
   "metadata": {},
   "outputs": [],
   "source": [
    "df['ArrDelay_target2'] = df['ArrDelay_target2'].astype('int')"
   ]
  },
  {
   "cell_type": "code",
   "execution_count": 113,
   "metadata": {},
   "outputs": [
    {
     "data": {
      "text/plain": [
       "1    1247486\n",
       "0     680882\n",
       "Name: ArrDelay_target, dtype: int64"
      ]
     },
     "execution_count": 113,
     "metadata": {},
     "output_type": "execute_result"
    }
   ],
   "source": [
    "df['ArrDelay_target'].value_counts()"
   ]
  },
  {
   "cell_type": "code",
   "execution_count": 114,
   "metadata": {
    "scrolled": true
   },
   "outputs": [
    {
     "data": {
      "text/plain": [
       "0    1077345\n",
       "1     851023\n",
       "Name: ArrDelay_target2, dtype: int64"
      ]
     },
     "execution_count": 114,
     "metadata": {},
     "output_type": "execute_result"
    }
   ],
   "source": [
    "df['ArrDelay_target2'].value_counts()"
   ]
  },
  {
   "cell_type": "markdown",
   "metadata": {},
   "source": [
    "## Histograms"
   ]
  },
  {
   "cell_type": "code",
   "execution_count": 115,
   "metadata": {},
   "outputs": [
    {
     "data": {
      "image/png": "[encoded data removed]",
      "text/plain": [
       "<Figure size 720x576 with 1 Axes>"
      ]
     },
     "metadata": {
      "needs_background": "light"
     },
     "output_type": "display_data"
    }
   ],
   "source": [
    "plt.figure(figsize=(10, 8))\n",
    "sns.histplot(data=df, x=\"DayOfWeek\",bins=7)\n",
    "plt.xticks(range(1,8))\n",
    "plt.show()"
   ]
  },
  {
   "cell_type": "code",
   "execution_count": 67,
   "metadata": {
    "scrolled": false
   },
   "outputs": [
    {
     "data": {
      "image/png": "[encoded data removed]",
      "text/plain": [
       "<Figure size 720x576 with 1 Axes>"
      ]
     },
     "metadata": {
      "needs_background": "light"
     },
     "output_type": "display_data"
    }
   ],
   "source": [
    "plt.figure(figsize=(10, 8))\n",
    "sns.histplot(data=df, x=\"Month\",bins=12)\n",
    "plt.xticks(range(1,13))\n",
    "plt.show()"
   ]
  },
  {
   "cell_type": "code",
   "execution_count": 68,
   "metadata": {},
   "outputs": [
    {
     "data": {
      "image/png": "[encoded data removed]",
      "text/plain": [
       "<Figure size 720x576 with 1 Axes>"
      ]
     },
     "metadata": {
      "needs_background": "light"
     },
     "output_type": "display_data"
    }
   ],
   "source": [
    "plt.figure(figsize=(10, 8))\n",
    "sns.histplot(data=df, x=\"Month\", hue=\"ArrDelay_target\",bins=12, multiple=\"dodge\", shrink=.8)\n",
    "plt.xticks(range(1,13))\n",
    "plt.show()"
   ]
  },
  {
   "cell_type": "code",
   "execution_count": 69,
   "metadata": {},
   "outputs": [
    {
     "data": {
      "image/png": "[encoded data removed]",
      "text/plain": [
       "<Figure size 720x576 with 1 Axes>"
      ]
     },
     "metadata": {
      "needs_background": "light"
     },
     "output_type": "display_data"
    }
   ],
   "source": [
    "plt.figure(figsize=(10, 8))\n",
    "sns.histplot(data=df, x=\"DayOfWeek\", hue=\"ArrDelay_target\",bins=7, multiple=\"dodge\", shrink=.8)\n",
    "plt.xticks(range(1,8))\n",
    "plt.show()"
   ]
  },
  {
   "cell_type": "code",
   "execution_count": 74,
   "metadata": {},
   "outputs": [
    {
     "data": {
      "image/png": "[encoded data removed]",
      "text/plain": [
       "<Figure size 720x576 with 1 Axes>"
      ]
     },
     "metadata": {
      "needs_background": "light"
     },
     "output_type": "display_data"
    }
   ],
   "source": [
    "plt.figure(figsize=(10, 8))\n",
    "sns.histplot(data=df, x=\"Month\", hue=\"ArrDelay_target2\",bins=12, multiple=\"dodge\", shrink=.8)\n",
    "plt.xticks(range(1,13))\n",
    "plt.show()"
   ]
  },
  {
   "cell_type": "code",
   "execution_count": 75,
   "metadata": {},
   "outputs": [
    {
     "data": {
      "image/png": "[encoded data removed]",
      "text/plain": [
       "<Figure size 720x576 with 1 Axes>"
      ]
     },
     "metadata": {
      "needs_background": "light"
     },
     "output_type": "display_data"
    }
   ],
   "source": [
    "plt.figure(figsize=(10, 8))\n",
    "sns.histplot(data=df, x=\"DayOfWeek\", hue=\"ArrDelay_target2\",bins=7, multiple=\"dodge\", shrink=.8)\n",
    "plt.xticks(range(1,8))\n",
    "plt.show()"
   ]
  },
  {
   "cell_type": "code",
   "execution_count": 76,
   "metadata": {},
   "outputs": [
    {
     "data": {
      "image/png": "[encoded data removed]",
      "text/plain": [
       "<Figure size 1080x576 with 1 Axes>"
      ]
     },
     "metadata": {
      "needs_background": "light"
     },
     "output_type": "display_data"
    }
   ],
   "source": [
    "plt.figure(figsize=(15, 8))\n",
    "sns.histplot(data=df, x=\"DayofMonth\", hue=\"ArrDelay_target2\", multiple=\"dodge\", shrink=.8, bins=31)\n",
    "plt.xticks(range(1,32))\n",
    "plt.show()"
   ]
  },
  {
   "cell_type": "code",
   "execution_count": 77,
   "metadata": {},
   "outputs": [],
   "source": [
    "### Feature DayOfMonth not important....\n",
    "### Features Month = 2, 6, 12 have a lot of delays\n",
    "### Feature DayOfWeek = Friday has a lot of delays"
   ]
  },
  {
   "cell_type": "code",
   "execution_count": 78,
   "metadata": {},
   "outputs": [],
   "source": [
    "df.drop(['DayofMonth'], axis=1, inplace=True)"
   ]
  },
  {
   "cell_type": "code",
   "execution_count": 79,
   "metadata": {},
   "outputs": [
    {
     "data": {
      "text/html": [
       "<div>\n",
       "<style scoped>\n",
       "    .dataframe tbody tr th:only-of-type {\n",
       "        vertical-align: middle;\n",
       "    }\n",
       "\n",
       "    .dataframe tbody tr th {\n",
       "        vertical-align: top;\n",
       "    }\n",
       "\n",
       "    .dataframe thead th {\n",
       "        text-align: right;\n",
       "    }\n",
       "</style>\n",
       "<table border=\"1\" class=\"dataframe\">\n",
       "  <thead>\n",
       "    <tr style=\"text-align: right;\">\n",
       "      <th></th>\n",
       "      <th>Month</th>\n",
       "      <th>DayOfWeek</th>\n",
       "      <th>DepTime</th>\n",
       "      <th>CRSDepTime</th>\n",
       "      <th>ArrTime</th>\n",
       "      <th>CRSArrTime</th>\n",
       "      <th>UniqueCarrier</th>\n",
       "      <th>FlightNum</th>\n",
       "      <th>TailNum</th>\n",
       "      <th>ActualElapsedTime</th>\n",
       "      <th>...</th>\n",
       "      <th>Dest</th>\n",
       "      <th>TaxiIn</th>\n",
       "      <th>TaxiOut</th>\n",
       "      <th>CarrierDelay</th>\n",
       "      <th>WeatherDelay</th>\n",
       "      <th>NASDelay</th>\n",
       "      <th>SecurityDelay</th>\n",
       "      <th>LateAircraftDelay</th>\n",
       "      <th>ArrDelay_target</th>\n",
       "      <th>ArrDelay_target2</th>\n",
       "    </tr>\n",
       "  </thead>\n",
       "  <tbody>\n",
       "    <tr>\n",
       "      <th>0</th>\n",
       "      <td>1</td>\n",
       "      <td>4</td>\n",
       "      <td>2003.0</td>\n",
       "      <td>1955</td>\n",
       "      <td>2211.0</td>\n",
       "      <td>2225</td>\n",
       "      <td>WN</td>\n",
       "      <td>335</td>\n",
       "      <td>N712SW</td>\n",
       "      <td>128.0</td>\n",
       "      <td>...</td>\n",
       "      <td>TPA</td>\n",
       "      <td>4.0</td>\n",
       "      <td>8.0</td>\n",
       "      <td>19.179399</td>\n",
       "      <td>3.703571</td>\n",
       "      <td>15.021635</td>\n",
       "      <td>0.090137</td>\n",
       "      <td>25.296466</td>\n",
       "      <td>0</td>\n",
       "      <td>0</td>\n",
       "    </tr>\n",
       "    <tr>\n",
       "      <th>1</th>\n",
       "      <td>1</td>\n",
       "      <td>4</td>\n",
       "      <td>754.0</td>\n",
       "      <td>735</td>\n",
       "      <td>1002.0</td>\n",
       "      <td>1000</td>\n",
       "      <td>WN</td>\n",
       "      <td>3231</td>\n",
       "      <td>N772SW</td>\n",
       "      <td>128.0</td>\n",
       "      <td>...</td>\n",
       "      <td>TPA</td>\n",
       "      <td>5.0</td>\n",
       "      <td>10.0</td>\n",
       "      <td>19.179399</td>\n",
       "      <td>3.703571</td>\n",
       "      <td>15.021635</td>\n",
       "      <td>0.090137</td>\n",
       "      <td>25.296466</td>\n",
       "      <td>0</td>\n",
       "      <td>0</td>\n",
       "    </tr>\n",
       "    <tr>\n",
       "      <th>2</th>\n",
       "      <td>1</td>\n",
       "      <td>4</td>\n",
       "      <td>628.0</td>\n",
       "      <td>620</td>\n",
       "      <td>804.0</td>\n",
       "      <td>750</td>\n",
       "      <td>WN</td>\n",
       "      <td>448</td>\n",
       "      <td>N428WN</td>\n",
       "      <td>96.0</td>\n",
       "      <td>...</td>\n",
       "      <td>BWI</td>\n",
       "      <td>3.0</td>\n",
       "      <td>17.0</td>\n",
       "      <td>19.179399</td>\n",
       "      <td>3.703571</td>\n",
       "      <td>15.021635</td>\n",
       "      <td>0.090137</td>\n",
       "      <td>25.296466</td>\n",
       "      <td>0</td>\n",
       "      <td>0</td>\n",
       "    </tr>\n",
       "    <tr>\n",
       "      <th>4</th>\n",
       "      <td>1</td>\n",
       "      <td>4</td>\n",
       "      <td>1829.0</td>\n",
       "      <td>1755</td>\n",
       "      <td>1959.0</td>\n",
       "      <td>1925</td>\n",
       "      <td>WN</td>\n",
       "      <td>3920</td>\n",
       "      <td>N464WN</td>\n",
       "      <td>90.0</td>\n",
       "      <td>...</td>\n",
       "      <td>BWI</td>\n",
       "      <td>3.0</td>\n",
       "      <td>10.0</td>\n",
       "      <td>2.000000</td>\n",
       "      <td>0.000000</td>\n",
       "      <td>0.000000</td>\n",
       "      <td>0.000000</td>\n",
       "      <td>32.000000</td>\n",
       "      <td>1</td>\n",
       "      <td>1</td>\n",
       "    </tr>\n",
       "    <tr>\n",
       "      <th>5</th>\n",
       "      <td>1</td>\n",
       "      <td>4</td>\n",
       "      <td>1940.0</td>\n",
       "      <td>1915</td>\n",
       "      <td>2121.0</td>\n",
       "      <td>2110</td>\n",
       "      <td>WN</td>\n",
       "      <td>378</td>\n",
       "      <td>N726SW</td>\n",
       "      <td>101.0</td>\n",
       "      <td>...</td>\n",
       "      <td>JAX</td>\n",
       "      <td>4.0</td>\n",
       "      <td>10.0</td>\n",
       "      <td>19.179399</td>\n",
       "      <td>3.703571</td>\n",
       "      <td>15.021635</td>\n",
       "      <td>0.090137</td>\n",
       "      <td>25.296466</td>\n",
       "      <td>0</td>\n",
       "      <td>0</td>\n",
       "    </tr>\n",
       "  </tbody>\n",
       "</table>\n",
       "<p>5 rows × 23 columns</p>\n",
       "</div>"
      ],
      "text/plain": [
       "   Month  DayOfWeek DepTime  CRSDepTime  ArrTime  CRSArrTime UniqueCarrier  \\\n",
       "0      1          4  2003.0        1955   2211.0        2225            WN   \n",
       "1      1          4   754.0         735   1002.0        1000            WN   \n",
       "2      1          4   628.0         620    804.0         750            WN   \n",
       "4      1          4  1829.0        1755   1959.0        1925            WN   \n",
       "5      1          4  1940.0        1915   2121.0        2110            WN   \n",
       "\n",
       "   FlightNum TailNum  ActualElapsedTime  ...  Dest  TaxiIn TaxiOut  \\\n",
       "0        335  N712SW              128.0  ...   TPA     4.0     8.0   \n",
       "1       3231  N772SW              128.0  ...   TPA     5.0    10.0   \n",
       "2        448  N428WN               96.0  ...   BWI     3.0    17.0   \n",
       "4       3920  N464WN               90.0  ...   BWI     3.0    10.0   \n",
       "5        378  N726SW              101.0  ...   JAX     4.0    10.0   \n",
       "\n",
       "  CarrierDelay  WeatherDelay   NASDelay  SecurityDelay  LateAircraftDelay  \\\n",
       "0    19.179399      3.703571  15.021635       0.090137          25.296466   \n",
       "1    19.179399      3.703571  15.021635       0.090137          25.296466   \n",
       "2    19.179399      3.703571  15.021635       0.090137          25.296466   \n",
       "4     2.000000      0.000000   0.000000       0.000000          32.000000   \n",
       "5    19.179399      3.703571  15.021635       0.090137          25.296466   \n",
       "\n",
       "   ArrDelay_target  ArrDelay_target2  \n",
       "0                0                 0  \n",
       "1                0                 0  \n",
       "2                0                 0  \n",
       "4                1                 1  \n",
       "5                0                 0  \n",
       "\n",
       "[5 rows x 23 columns]"
      ]
     },
     "execution_count": 79,
     "metadata": {},
     "output_type": "execute_result"
    }
   ],
   "source": [
    "df.head()"
   ]
  },
  {
   "cell_type": "code",
   "execution_count": 80,
   "metadata": {},
   "outputs": [],
   "source": [
    "df.loc[df['DayOfWeek'] == 5,'IsFriday'] = 1\n",
    "df.loc[df['DayOfWeek'] != 5,'IsFriday'] = 0"
   ]
  },
  {
   "cell_type": "code",
   "execution_count": 81,
   "metadata": {},
   "outputs": [
    {
     "data": {
      "text/plain": [
       "5    321982\n",
       "1    289822\n",
       "4    288343\n",
       "7    284940\n",
       "3    261498\n",
       "2    259583\n",
       "6    222200\n",
       "Name: DayOfWeek, dtype: int64"
      ]
     },
     "execution_count": 81,
     "metadata": {},
     "output_type": "execute_result"
    }
   ],
   "source": [
    "df['DayOfWeek'].value_counts()"
   ]
  },
  {
   "cell_type": "code",
   "execution_count": 82,
   "metadata": {
    "scrolled": true
   },
   "outputs": [
    {
     "data": {
      "text/plain": [
       "0.0    1606386\n",
       "1.0     321982\n",
       "Name: IsFriday, dtype: int64"
      ]
     },
     "execution_count": 82,
     "metadata": {},
     "output_type": "execute_result"
    }
   ],
   "source": [
    "df['IsFriday'].value_counts()"
   ]
  },
  {
   "cell_type": "code",
   "execution_count": 83,
   "metadata": {},
   "outputs": [],
   "source": [
    "df.loc[ df['Month'].isin([2,6,12]),  'Is_Feb_Jun_Dec']=1\n",
    "df.loc[ ~df['Month'].isin([2,6,12]), 'Is_Feb_Jun_Dec']=0"
   ]
  },
  {
   "cell_type": "code",
   "execution_count": 84,
   "metadata": {},
   "outputs": [],
   "source": [
    "df['Is_Feb_Jun_Dec'] = df['Is_Feb_Jun_Dec'].astype('int')"
   ]
  },
  {
   "cell_type": "code",
   "execution_count": 85,
   "metadata": {},
   "outputs": [
    {
     "data": {
      "text/plain": [
       "0    1338347\n",
       "1     590021\n",
       "Name: Is_Feb_Jun_Dec, dtype: int64"
      ]
     },
     "execution_count": 85,
     "metadata": {},
     "output_type": "execute_result"
    }
   ],
   "source": [
    "df[\"Is_Feb_Jun_Dec\"].value_counts()"
   ]
  },
  {
   "cell_type": "code",
   "execution_count": 86,
   "metadata": {},
   "outputs": [
    {
     "data": {
      "text/html": [
       "<div>\n",
       "<style scoped>\n",
       "    .dataframe tbody tr th:only-of-type {\n",
       "        vertical-align: middle;\n",
       "    }\n",
       "\n",
       "    .dataframe tbody tr th {\n",
       "        vertical-align: top;\n",
       "    }\n",
       "\n",
       "    .dataframe thead th {\n",
       "        text-align: right;\n",
       "    }\n",
       "</style>\n",
       "<table border=\"1\" class=\"dataframe\">\n",
       "  <thead>\n",
       "    <tr style=\"text-align: right;\">\n",
       "      <th>ArrDelay_target2</th>\n",
       "      <th>0</th>\n",
       "      <th>1</th>\n",
       "    </tr>\n",
       "    <tr>\n",
       "      <th>Is_Feb_Jun_Dec</th>\n",
       "      <th></th>\n",
       "      <th></th>\n",
       "    </tr>\n",
       "  </thead>\n",
       "  <tbody>\n",
       "    <tr>\n",
       "      <th>0</th>\n",
       "      <td>0.719936</td>\n",
       "      <td>0.661237</td>\n",
       "    </tr>\n",
       "    <tr>\n",
       "      <th>1</th>\n",
       "      <td>0.280064</td>\n",
       "      <td>0.338763</td>\n",
       "    </tr>\n",
       "  </tbody>\n",
       "</table>\n",
       "</div>"
      ],
      "text/plain": [
       "ArrDelay_target2         0         1\n",
       "Is_Feb_Jun_Dec                      \n",
       "0                 0.719936  0.661237\n",
       "1                 0.280064  0.338763"
      ]
     },
     "execution_count": 86,
     "metadata": {},
     "output_type": "execute_result"
    }
   ],
   "source": [
    "pd.crosstab(df[\"Is_Feb_Jun_Dec\"], df[\"ArrDelay_target2\"], normalize='columns')"
   ]
  },
  {
   "cell_type": "code",
   "execution_count": 87,
   "metadata": {},
   "outputs": [],
   "source": [
    "df.drop(['Month','DayOfWeek'], axis=1, inplace=True)"
   ]
  },
  {
   "cell_type": "code",
   "execution_count": 90,
   "metadata": {
    "scrolled": true
   },
   "outputs": [
    {
     "data": {
      "text/html": [
       "<div>\n",
       "<style scoped>\n",
       "    .dataframe tbody tr th:only-of-type {\n",
       "        vertical-align: middle;\n",
       "    }\n",
       "\n",
       "    .dataframe tbody tr th {\n",
       "        vertical-align: top;\n",
       "    }\n",
       "\n",
       "    .dataframe thead th {\n",
       "        text-align: right;\n",
       "    }\n",
       "</style>\n",
       "<table border=\"1\" class=\"dataframe\">\n",
       "  <thead>\n",
       "    <tr style=\"text-align: right;\">\n",
       "      <th></th>\n",
       "      <th>DepTime</th>\n",
       "      <th>CRSDepTime</th>\n",
       "      <th>ArrTime</th>\n",
       "      <th>CRSArrTime</th>\n",
       "      <th>UniqueCarrier</th>\n",
       "      <th>FlightNum</th>\n",
       "      <th>TailNum</th>\n",
       "      <th>ActualElapsedTime</th>\n",
       "      <th>ArrDelay</th>\n",
       "      <th>Origin</th>\n",
       "      <th>...</th>\n",
       "      <th>TaxiOut</th>\n",
       "      <th>CarrierDelay</th>\n",
       "      <th>WeatherDelay</th>\n",
       "      <th>NASDelay</th>\n",
       "      <th>SecurityDelay</th>\n",
       "      <th>LateAircraftDelay</th>\n",
       "      <th>ArrDelay_target</th>\n",
       "      <th>ArrDelay_target2</th>\n",
       "      <th>IsFriday</th>\n",
       "      <th>Is_Feb_Jun_Dec</th>\n",
       "    </tr>\n",
       "  </thead>\n",
       "  <tbody>\n",
       "    <tr>\n",
       "      <th>0</th>\n",
       "      <td>2003.0</td>\n",
       "      <td>1955</td>\n",
       "      <td>2211.0</td>\n",
       "      <td>2225</td>\n",
       "      <td>WN</td>\n",
       "      <td>335</td>\n",
       "      <td>N712SW</td>\n",
       "      <td>128.0</td>\n",
       "      <td>-14.0</td>\n",
       "      <td>IAD</td>\n",
       "      <td>...</td>\n",
       "      <td>8.0</td>\n",
       "      <td>19.179399</td>\n",
       "      <td>3.703571</td>\n",
       "      <td>15.021635</td>\n",
       "      <td>0.090137</td>\n",
       "      <td>25.296466</td>\n",
       "      <td>0</td>\n",
       "      <td>0</td>\n",
       "      <td>0.0</td>\n",
       "      <td>0</td>\n",
       "    </tr>\n",
       "    <tr>\n",
       "      <th>1</th>\n",
       "      <td>754.0</td>\n",
       "      <td>735</td>\n",
       "      <td>1002.0</td>\n",
       "      <td>1000</td>\n",
       "      <td>WN</td>\n",
       "      <td>3231</td>\n",
       "      <td>N772SW</td>\n",
       "      <td>128.0</td>\n",
       "      <td>2.0</td>\n",
       "      <td>IAD</td>\n",
       "      <td>...</td>\n",
       "      <td>10.0</td>\n",
       "      <td>19.179399</td>\n",
       "      <td>3.703571</td>\n",
       "      <td>15.021635</td>\n",
       "      <td>0.090137</td>\n",
       "      <td>25.296466</td>\n",
       "      <td>0</td>\n",
       "      <td>0</td>\n",
       "      <td>0.0</td>\n",
       "      <td>0</td>\n",
       "    </tr>\n",
       "    <tr>\n",
       "      <th>2</th>\n",
       "      <td>628.0</td>\n",
       "      <td>620</td>\n",
       "      <td>804.0</td>\n",
       "      <td>750</td>\n",
       "      <td>WN</td>\n",
       "      <td>448</td>\n",
       "      <td>N428WN</td>\n",
       "      <td>96.0</td>\n",
       "      <td>14.0</td>\n",
       "      <td>IND</td>\n",
       "      <td>...</td>\n",
       "      <td>17.0</td>\n",
       "      <td>19.179399</td>\n",
       "      <td>3.703571</td>\n",
       "      <td>15.021635</td>\n",
       "      <td>0.090137</td>\n",
       "      <td>25.296466</td>\n",
       "      <td>0</td>\n",
       "      <td>0</td>\n",
       "      <td>0.0</td>\n",
       "      <td>0</td>\n",
       "    </tr>\n",
       "    <tr>\n",
       "      <th>4</th>\n",
       "      <td>1829.0</td>\n",
       "      <td>1755</td>\n",
       "      <td>1959.0</td>\n",
       "      <td>1925</td>\n",
       "      <td>WN</td>\n",
       "      <td>3920</td>\n",
       "      <td>N464WN</td>\n",
       "      <td>90.0</td>\n",
       "      <td>34.0</td>\n",
       "      <td>IND</td>\n",
       "      <td>...</td>\n",
       "      <td>10.0</td>\n",
       "      <td>2.000000</td>\n",
       "      <td>0.000000</td>\n",
       "      <td>0.000000</td>\n",
       "      <td>0.000000</td>\n",
       "      <td>32.000000</td>\n",
       "      <td>1</td>\n",
       "      <td>1</td>\n",
       "      <td>0.0</td>\n",
       "      <td>0</td>\n",
       "    </tr>\n",
       "    <tr>\n",
       "      <th>5</th>\n",
       "      <td>1940.0</td>\n",
       "      <td>1915</td>\n",
       "      <td>2121.0</td>\n",
       "      <td>2110</td>\n",
       "      <td>WN</td>\n",
       "      <td>378</td>\n",
       "      <td>N726SW</td>\n",
       "      <td>101.0</td>\n",
       "      <td>11.0</td>\n",
       "      <td>IND</td>\n",
       "      <td>...</td>\n",
       "      <td>10.0</td>\n",
       "      <td>19.179399</td>\n",
       "      <td>3.703571</td>\n",
       "      <td>15.021635</td>\n",
       "      <td>0.090137</td>\n",
       "      <td>25.296466</td>\n",
       "      <td>0</td>\n",
       "      <td>0</td>\n",
       "      <td>0.0</td>\n",
       "      <td>0</td>\n",
       "    </tr>\n",
       "  </tbody>\n",
       "</table>\n",
       "<p>5 rows × 22 columns</p>\n",
       "</div>"
      ],
      "text/plain": [
       "  DepTime  CRSDepTime  ArrTime  CRSArrTime UniqueCarrier  FlightNum TailNum  \\\n",
       "0  2003.0        1955   2211.0        2225            WN        335  N712SW   \n",
       "1   754.0         735   1002.0        1000            WN       3231  N772SW   \n",
       "2   628.0         620    804.0         750            WN        448  N428WN   \n",
       "4  1829.0        1755   1959.0        1925            WN       3920  N464WN   \n",
       "5  1940.0        1915   2121.0        2110            WN        378  N726SW   \n",
       "\n",
       "   ActualElapsedTime  ArrDelay Origin  ... TaxiOut  CarrierDelay  \\\n",
       "0              128.0     -14.0    IAD  ...     8.0     19.179399   \n",
       "1              128.0       2.0    IAD  ...    10.0     19.179399   \n",
       "2               96.0      14.0    IND  ...    17.0     19.179399   \n",
       "4               90.0      34.0    IND  ...    10.0      2.000000   \n",
       "5              101.0      11.0    IND  ...    10.0     19.179399   \n",
       "\n",
       "   WeatherDelay   NASDelay  SecurityDelay  LateAircraftDelay  ArrDelay_target  \\\n",
       "0      3.703571  15.021635       0.090137          25.296466                0   \n",
       "1      3.703571  15.021635       0.090137          25.296466                0   \n",
       "2      3.703571  15.021635       0.090137          25.296466                0   \n",
       "4      0.000000   0.000000       0.000000          32.000000                1   \n",
       "5      3.703571  15.021635       0.090137          25.296466                0   \n",
       "\n",
       "   ArrDelay_target2  IsFriday  Is_Feb_Jun_Dec  \n",
       "0                 0       0.0               0  \n",
       "1                 0       0.0               0  \n",
       "2                 0       0.0               0  \n",
       "4                 1       0.0               0  \n",
       "5                 0       0.0               0  \n",
       "\n",
       "[5 rows x 22 columns]"
      ]
     },
     "execution_count": 90,
     "metadata": {},
     "output_type": "execute_result"
    }
   ],
   "source": [
    "df.head()"
   ]
  },
  {
   "cell_type": "code",
   "execution_count": 91,
   "metadata": {},
   "outputs": [
    {
     "name": "stdout",
     "output_type": "stream",
     "text": [
      "<class 'pandas.core.frame.DataFrame'>\n",
      "Int64Index: 1928368 entries, 0 to 7009727\n",
      "Data columns (total 22 columns):\n",
      " #   Column             Dtype  \n",
      "---  ------             -----  \n",
      " 0   DepTime            object \n",
      " 1   CRSDepTime         int64  \n",
      " 2   ArrTime            float64\n",
      " 3   CRSArrTime         int64  \n",
      " 4   UniqueCarrier      object \n",
      " 5   FlightNum          int64  \n",
      " 6   TailNum            object \n",
      " 7   ActualElapsedTime  float64\n",
      " 8   ArrDelay           float64\n",
      " 9   Origin             object \n",
      " 10  Dest               object \n",
      " 11  TaxiIn             float64\n",
      " 12  TaxiOut            float64\n",
      " 13  CarrierDelay       float64\n",
      " 14  WeatherDelay       float64\n",
      " 15  NASDelay           float64\n",
      " 16  SecurityDelay      float64\n",
      " 17  LateAircraftDelay  float64\n",
      " 18  ArrDelay_target    int32  \n",
      " 19  ArrDelay_target2   int32  \n",
      " 20  IsFriday           float64\n",
      " 21  Is_Feb_Jun_Dec     int32  \n",
      "dtypes: float64(11), int32(3), int64(3), object(5)\n",
      "memory usage: 316.3+ MB\n"
     ]
    }
   ],
   "source": [
    "df.info()"
   ]
  },
  {
   "cell_type": "code",
   "execution_count": 92,
   "metadata": {},
   "outputs": [
    {
     "data": {
      "text/html": [
       "<div>\n",
       "<style scoped>\n",
       "    .dataframe tbody tr th:only-of-type {\n",
       "        vertical-align: middle;\n",
       "    }\n",
       "\n",
       "    .dataframe tbody tr th {\n",
       "        vertical-align: top;\n",
       "    }\n",
       "\n",
       "    .dataframe thead th {\n",
       "        text-align: right;\n",
       "    }\n",
       "</style>\n",
       "<table border=\"1\" class=\"dataframe\">\n",
       "  <thead>\n",
       "    <tr style=\"text-align: right;\">\n",
       "      <th></th>\n",
       "      <th>FlightNum</th>\n",
       "      <th>TailNum</th>\n",
       "      <th>UniqueCarrier</th>\n",
       "      <th>Dest</th>\n",
       "      <th>Origin</th>\n",
       "    </tr>\n",
       "  </thead>\n",
       "  <tbody>\n",
       "    <tr>\n",
       "      <th>0</th>\n",
       "      <td>335</td>\n",
       "      <td>N712SW</td>\n",
       "      <td>WN</td>\n",
       "      <td>TPA</td>\n",
       "      <td>IAD</td>\n",
       "    </tr>\n",
       "    <tr>\n",
       "      <th>1</th>\n",
       "      <td>3231</td>\n",
       "      <td>N772SW</td>\n",
       "      <td>WN</td>\n",
       "      <td>TPA</td>\n",
       "      <td>IAD</td>\n",
       "    </tr>\n",
       "    <tr>\n",
       "      <th>2</th>\n",
       "      <td>448</td>\n",
       "      <td>N428WN</td>\n",
       "      <td>WN</td>\n",
       "      <td>BWI</td>\n",
       "      <td>IND</td>\n",
       "    </tr>\n",
       "    <tr>\n",
       "      <th>4</th>\n",
       "      <td>3920</td>\n",
       "      <td>N464WN</td>\n",
       "      <td>WN</td>\n",
       "      <td>BWI</td>\n",
       "      <td>IND</td>\n",
       "    </tr>\n",
       "    <tr>\n",
       "      <th>5</th>\n",
       "      <td>378</td>\n",
       "      <td>N726SW</td>\n",
       "      <td>WN</td>\n",
       "      <td>JAX</td>\n",
       "      <td>IND</td>\n",
       "    </tr>\n",
       "    <tr>\n",
       "      <th>...</th>\n",
       "      <td>...</td>\n",
       "      <td>...</td>\n",
       "      <td>...</td>\n",
       "      <td>...</td>\n",
       "      <td>...</td>\n",
       "    </tr>\n",
       "    <tr>\n",
       "      <th>7009710</th>\n",
       "      <td>1621</td>\n",
       "      <td>N938DL</td>\n",
       "      <td>DL</td>\n",
       "      <td>ATL</td>\n",
       "      <td>MSP</td>\n",
       "    </tr>\n",
       "    <tr>\n",
       "      <th>7009717</th>\n",
       "      <td>1631</td>\n",
       "      <td>N3743H</td>\n",
       "      <td>DL</td>\n",
       "      <td>ATL</td>\n",
       "      <td>RIC</td>\n",
       "    </tr>\n",
       "    <tr>\n",
       "      <th>7009718</th>\n",
       "      <td>1631</td>\n",
       "      <td>N909DA</td>\n",
       "      <td>DL</td>\n",
       "      <td>IAH</td>\n",
       "      <td>ATL</td>\n",
       "    </tr>\n",
       "    <tr>\n",
       "      <th>7009726</th>\n",
       "      <td>1639</td>\n",
       "      <td>N646DL</td>\n",
       "      <td>DL</td>\n",
       "      <td>ATL</td>\n",
       "      <td>IAD</td>\n",
       "    </tr>\n",
       "    <tr>\n",
       "      <th>7009727</th>\n",
       "      <td>1641</td>\n",
       "      <td>N908DL</td>\n",
       "      <td>DL</td>\n",
       "      <td>ATL</td>\n",
       "      <td>SAT</td>\n",
       "    </tr>\n",
       "  </tbody>\n",
       "</table>\n",
       "<p>1928368 rows × 5 columns</p>\n",
       "</div>"
      ],
      "text/plain": [
       "         FlightNum TailNum UniqueCarrier Dest Origin\n",
       "0              335  N712SW            WN  TPA    IAD\n",
       "1             3231  N772SW            WN  TPA    IAD\n",
       "2              448  N428WN            WN  BWI    IND\n",
       "4             3920  N464WN            WN  BWI    IND\n",
       "5              378  N726SW            WN  JAX    IND\n",
       "...            ...     ...           ...  ...    ...\n",
       "7009710       1621  N938DL            DL  ATL    MSP\n",
       "7009717       1631  N3743H            DL  ATL    RIC\n",
       "7009718       1631  N909DA            DL  IAH    ATL\n",
       "7009726       1639  N646DL            DL  ATL    IAD\n",
       "7009727       1641  N908DL            DL  ATL    SAT\n",
       "\n",
       "[1928368 rows x 5 columns]"
      ]
     },
     "execution_count": 92,
     "metadata": {},
     "output_type": "execute_result"
    }
   ],
   "source": [
    "df[['FlightNum','TailNum','UniqueCarrier','Dest','Origin']]"
   ]
  },
  {
   "cell_type": "code",
   "execution_count": 93,
   "metadata": {},
   "outputs": [
    {
     "data": {
      "text/plain": [
       "7498"
      ]
     },
     "execution_count": 93,
     "metadata": {},
     "output_type": "execute_result"
    }
   ],
   "source": [
    "df[\"FlightNum\"].nunique()"
   ]
  },
  {
   "cell_type": "code",
   "execution_count": 94,
   "metadata": {},
   "outputs": [
    {
     "data": {
      "text/plain": [
       "5360"
      ]
     },
     "execution_count": 94,
     "metadata": {},
     "output_type": "execute_result"
    }
   ],
   "source": [
    "df['TailNum'].nunique()"
   ]
  },
  {
   "cell_type": "code",
   "execution_count": 95,
   "metadata": {},
   "outputs": [
    {
     "data": {
      "text/plain": [
       "20"
      ]
     },
     "execution_count": 95,
     "metadata": {},
     "output_type": "execute_result"
    }
   ],
   "source": [
    "df['UniqueCarrier'].nunique()"
   ]
  },
  {
   "cell_type": "code",
   "execution_count": 96,
   "metadata": {},
   "outputs": [
    {
     "data": {
      "image/png": "[encoded data removed]",
      "text/plain": [
       "<Figure size 1080x576 with 1 Axes>"
      ]
     },
     "metadata": {
      "needs_background": "light"
     },
     "output_type": "display_data"
    }
   ],
   "source": [
    "plt.figure(figsize=(15, 8))\n",
    "sns.histplot(data=df, x=\"UniqueCarrier\", hue=\"ArrDelay_target2\", multiple=\"dodge\", shrink=.8, bins=20)\n",
    "plt.xticks(range(1,21))\n",
    "plt.show()"
   ]
  },
  {
   "cell_type": "code",
   "execution_count": 97,
   "metadata": {},
   "outputs": [
    {
     "data": {
      "text/plain": [
       "WN    376201\n",
       "AA    190910\n",
       "MQ    141223\n",
       "UA    140904\n",
       "OO    131780\n",
       "DL    113728\n",
       "XE    103147\n",
       "CO     99731\n",
       "US     98007\n",
       "EV     81762\n",
       "NW     78843\n",
       "FL     70969\n",
       "YV     66769\n",
       "B6     54925\n",
       "OH     52451\n",
       "9E     51568\n",
       "AS     39010\n",
       "F9     28224\n",
       "HA      7472\n",
       "AQ       744\n",
       "Name: UniqueCarrier, dtype: int64"
      ]
     },
     "execution_count": 97,
     "metadata": {},
     "output_type": "execute_result"
    }
   ],
   "source": [
    "df['UniqueCarrier'].value_counts()"
   ]
  },
  {
   "cell_type": "code",
   "execution_count": 98,
   "metadata": {},
   "outputs": [],
   "source": [
    "ct=pd.crosstab(df[\"UniqueCarrier\"], df[\"ArrDelay_target2\"], normalize='columns')*100"
   ]
  },
  {
   "cell_type": "code",
   "execution_count": 109,
   "metadata": {},
   "outputs": [
    {
     "data": {
      "text/html": [
       "<div>\n",
       "<style scoped>\n",
       "    .dataframe tbody tr th:only-of-type {\n",
       "        vertical-align: middle;\n",
       "    }\n",
       "\n",
       "    .dataframe tbody tr th {\n",
       "        vertical-align: top;\n",
       "    }\n",
       "\n",
       "    .dataframe thead th {\n",
       "        text-align: right;\n",
       "    }\n",
       "</style>\n",
       "<table border=\"1\" class=\"dataframe\">\n",
       "  <thead>\n",
       "    <tr style=\"text-align: right;\">\n",
       "      <th>ArrDelay_target2</th>\n",
       "      <th>0</th>\n",
       "      <th>1</th>\n",
       "    </tr>\n",
       "    <tr>\n",
       "      <th>UniqueCarrier</th>\n",
       "      <th></th>\n",
       "      <th></th>\n",
       "    </tr>\n",
       "  </thead>\n",
       "  <tbody>\n",
       "    <tr>\n",
       "      <th>WN</th>\n",
       "      <td>23.395198</td>\n",
       "      <td>14.588795</td>\n",
       "    </tr>\n",
       "    <tr>\n",
       "      <th>AA</th>\n",
       "      <td>8.950893</td>\n",
       "      <td>11.101698</td>\n",
       "    </tr>\n",
       "    <tr>\n",
       "      <th>UA</th>\n",
       "      <td>6.618029</td>\n",
       "      <td>8.178980</td>\n",
       "    </tr>\n",
       "    <tr>\n",
       "      <th>MQ</th>\n",
       "      <td>6.780372</td>\n",
       "      <td>8.010947</td>\n",
       "    </tr>\n",
       "    <tr>\n",
       "      <th>OO</th>\n",
       "      <td>6.490864</td>\n",
       "      <td>7.267841</td>\n",
       "    </tr>\n",
       "    <tr>\n",
       "      <th>XE</th>\n",
       "      <td>4.767832</td>\n",
       "      <td>6.084559</td>\n",
       "    </tr>\n",
       "    <tr>\n",
       "      <th>DL</th>\n",
       "      <td>6.182885</td>\n",
       "      <td>5.536513</td>\n",
       "    </tr>\n",
       "    <tr>\n",
       "      <th>CO</th>\n",
       "      <td>5.408388</td>\n",
       "      <td>4.872254</td>\n",
       "    </tr>\n",
       "    <tr>\n",
       "      <th>EV</th>\n",
       "      <td>3.901721</td>\n",
       "      <td>4.668146</td>\n",
       "    </tr>\n",
       "    <tr>\n",
       "      <th>US</th>\n",
       "      <td>5.439205</td>\n",
       "      <td>4.630662</td>\n",
       "    </tr>\n",
       "    <tr>\n",
       "      <th>YV</th>\n",
       "      <td>2.811820</td>\n",
       "      <td>4.286136</td>\n",
       "    </tr>\n",
       "    <tr>\n",
       "      <th>NW</th>\n",
       "      <td>3.935415</td>\n",
       "      <td>4.282493</td>\n",
       "    </tr>\n",
       "    <tr>\n",
       "      <th>FL</th>\n",
       "      <td>3.667163</td>\n",
       "      <td>3.696845</td>\n",
       "    </tr>\n",
       "    <tr>\n",
       "      <th>B6</th>\n",
       "      <td>2.380574</td>\n",
       "      <td>3.440330</td>\n",
       "    </tr>\n",
       "    <tr>\n",
       "      <th>OH</th>\n",
       "      <td>2.251646</td>\n",
       "      <td>3.312836</td>\n",
       "    </tr>\n",
       "    <tr>\n",
       "      <th>9E</th>\n",
       "      <td>2.448241</td>\n",
       "      <td>2.960202</td>\n",
       "    </tr>\n",
       "    <tr>\n",
       "      <th>AS</th>\n",
       "      <td>2.193169</td>\n",
       "      <td>1.807472</td>\n",
       "    </tr>\n",
       "    <tr>\n",
       "      <th>F9</th>\n",
       "      <td>1.841193</td>\n",
       "      <td>0.985637</td>\n",
       "    </tr>\n",
       "    <tr>\n",
       "      <th>HA</th>\n",
       "      <td>0.482390</td>\n",
       "      <td>0.267325</td>\n",
       "    </tr>\n",
       "    <tr>\n",
       "      <th>AQ</th>\n",
       "      <td>0.053001</td>\n",
       "      <td>0.020328</td>\n",
       "    </tr>\n",
       "  </tbody>\n",
       "</table>\n",
       "</div>"
      ],
      "text/plain": [
       "ArrDelay_target2          0          1\n",
       "UniqueCarrier                         \n",
       "WN                23.395198  14.588795\n",
       "AA                 8.950893  11.101698\n",
       "UA                 6.618029   8.178980\n",
       "MQ                 6.780372   8.010947\n",
       "OO                 6.490864   7.267841\n",
       "XE                 4.767832   6.084559\n",
       "DL                 6.182885   5.536513\n",
       "CO                 5.408388   4.872254\n",
       "EV                 3.901721   4.668146\n",
       "US                 5.439205   4.630662\n",
       "YV                 2.811820   4.286136\n",
       "NW                 3.935415   4.282493\n",
       "FL                 3.667163   3.696845\n",
       "B6                 2.380574   3.440330\n",
       "OH                 2.251646   3.312836\n",
       "9E                 2.448241   2.960202\n",
       "AS                 2.193169   1.807472\n",
       "F9                 1.841193   0.985637\n",
       "HA                 0.482390   0.267325\n",
       "AQ                 0.053001   0.020328"
      ]
     },
     "execution_count": 109,
     "metadata": {},
     "output_type": "execute_result"
    }
   ],
   "source": [
    "ct.sort_values(by=1, ascending=False)"
   ]
  },
  {
   "cell_type": "code",
   "execution_count": 100,
   "metadata": {},
   "outputs": [
    {
     "data": {
      "text/plain": [
       "UniqueCarrier\n",
       "YV    55.287049\n",
       "B6    55.088739\n",
       "OH    51.013250\n",
       "XE    50.181217\n",
       "UA    47.784399\n",
       "EV    47.554255\n",
       "9E    46.936453\n",
       "AA    46.561553\n",
       "OO    45.370587\n",
       "MQ    45.295058\n",
       "NW    43.911000\n",
       "FL    43.683157\n",
       "CO    40.568449\n",
       "DL    39.881507\n",
       "US    36.445019\n",
       "AS    36.060882\n",
       "HA    34.209449\n",
       "WN    30.087884\n",
       "F9    27.938953\n",
       "AQ    21.255376\n",
       "Name: ArrDelay, dtype: float64"
      ]
     },
     "execution_count": 100,
     "metadata": {},
     "output_type": "execute_result"
    }
   ],
   "source": [
    "df.groupby('UniqueCarrier')['ArrDelay'].mean().sort_values(ascending=False)"
   ]
  },
  {
   "cell_type": "code",
   "execution_count": 101,
   "metadata": {},
   "outputs": [
    {
     "data": {
      "text/plain": [
       "UniqueCarrier\n",
       "YV    33.177529\n",
       "HA    27.624273\n",
       "EV    26.491763\n",
       "OH    25.265137\n",
       "NW    24.611587\n",
       "9E    23.545421\n",
       "AQ    21.626985\n",
       "AA    20.673806\n",
       "AS    19.724881\n",
       "DL    19.403355\n",
       "US    18.725955\n",
       "OO    18.700928\n",
       "UA    18.392968\n",
       "B6    18.139057\n",
       "MQ    18.005544\n",
       "CO    17.829588\n",
       "XE    17.598537\n",
       "F9    17.144478\n",
       "WN    14.811688\n",
       "FL    12.660875\n",
       "Name: CarrierDelay, dtype: float64"
      ]
     },
     "execution_count": 101,
     "metadata": {},
     "output_type": "execute_result"
    }
   ],
   "source": [
    "df.groupby('UniqueCarrier')['CarrierDelay'].mean().sort_values(ascending=False)"
   ]
  },
  {
   "cell_type": "code",
   "execution_count": 102,
   "metadata": {},
   "outputs": [
    {
     "data": {
      "text/plain": [
       "UniqueCarrier\n",
       "OH    13.730173\n",
       "EV     8.043907\n",
       "NW     5.052311\n",
       "MQ     4.099166\n",
       "9E     4.039278\n",
       "YV     3.668734\n",
       "CO     3.522352\n",
       "XE     3.517422\n",
       "OO     3.459296\n",
       "AA     3.330902\n",
       "WN     3.057028\n",
       "DL     2.820179\n",
       "AQ     2.802745\n",
       "UA     2.714036\n",
       "AS     2.639763\n",
       "US     2.488524\n",
       "F9     2.356564\n",
       "HA     2.155398\n",
       "B6     2.130955\n",
       "FL     1.769071\n",
       "Name: WeatherDelay, dtype: float64"
      ]
     },
     "execution_count": 102,
     "metadata": {},
     "output_type": "execute_result"
    }
   ],
   "source": [
    "df.groupby('UniqueCarrier')['WeatherDelay'].mean().sort_values(ascending=False)"
   ]
  },
  {
   "cell_type": "code",
   "execution_count": 103,
   "metadata": {},
   "outputs": [
    {
     "name": "stderr",
     "output_type": "stream",
     "text": [
      "<ipython-input-103-bd5f8e20a10e>:1: FutureWarning: Indexing with multiple keys (implicitly converted to a tuple of keys) will be deprecated, use a list instead.\n",
      "  df.groupby('UniqueCarrier')['TailNum','FlightNum'].nunique().sort_values(by='FlightNum',ascending=False)\n"
     ]
    },
    {
     "data": {
      "text/html": [
       "<div>\n",
       "<style scoped>\n",
       "    .dataframe tbody tr th:only-of-type {\n",
       "        vertical-align: middle;\n",
       "    }\n",
       "\n",
       "    .dataframe tbody tr th {\n",
       "        vertical-align: top;\n",
       "    }\n",
       "\n",
       "    .dataframe thead th {\n",
       "        text-align: right;\n",
       "    }\n",
       "</style>\n",
       "<table border=\"1\" class=\"dataframe\">\n",
       "  <thead>\n",
       "    <tr style=\"text-align: right;\">\n",
       "      <th></th>\n",
       "      <th>TailNum</th>\n",
       "      <th>FlightNum</th>\n",
       "    </tr>\n",
       "    <tr>\n",
       "      <th>UniqueCarrier</th>\n",
       "      <th></th>\n",
       "      <th></th>\n",
       "    </tr>\n",
       "  </thead>\n",
       "  <tbody>\n",
       "    <tr>\n",
       "      <th>WN</th>\n",
       "      <td>552</td>\n",
       "      <td>3973</td>\n",
       "    </tr>\n",
       "    <tr>\n",
       "      <th>OO</th>\n",
       "      <td>284</td>\n",
       "      <td>2609</td>\n",
       "    </tr>\n",
       "    <tr>\n",
       "      <th>AA</th>\n",
       "      <td>655</td>\n",
       "      <td>1936</td>\n",
       "    </tr>\n",
       "    <tr>\n",
       "      <th>US</th>\n",
       "      <td>373</td>\n",
       "      <td>1696</td>\n",
       "    </tr>\n",
       "    <tr>\n",
       "      <th>DL</th>\n",
       "      <td>460</td>\n",
       "      <td>1694</td>\n",
       "    </tr>\n",
       "    <tr>\n",
       "      <th>MQ</th>\n",
       "      <td>490</td>\n",
       "      <td>1683</td>\n",
       "    </tr>\n",
       "    <tr>\n",
       "      <th>EV</th>\n",
       "      <td>162</td>\n",
       "      <td>1588</td>\n",
       "    </tr>\n",
       "    <tr>\n",
       "      <th>OH</th>\n",
       "      <td>137</td>\n",
       "      <td>1553</td>\n",
       "    </tr>\n",
       "    <tr>\n",
       "      <th>XE</th>\n",
       "      <td>274</td>\n",
       "      <td>1547</td>\n",
       "    </tr>\n",
       "    <tr>\n",
       "      <th>UA</th>\n",
       "      <td>460</td>\n",
       "      <td>1507</td>\n",
       "    </tr>\n",
       "    <tr>\n",
       "      <th>NW</th>\n",
       "      <td>322</td>\n",
       "      <td>1389</td>\n",
       "    </tr>\n",
       "    <tr>\n",
       "      <th>9E</th>\n",
       "      <td>155</td>\n",
       "      <td>1328</td>\n",
       "    </tr>\n",
       "    <tr>\n",
       "      <th>CO</th>\n",
       "      <td>377</td>\n",
       "      <td>1200</td>\n",
       "    </tr>\n",
       "    <tr>\n",
       "      <th>FL</th>\n",
       "      <td>142</td>\n",
       "      <td>994</td>\n",
       "    </tr>\n",
       "    <tr>\n",
       "      <th>YV</th>\n",
       "      <td>126</td>\n",
       "      <td>886</td>\n",
       "    </tr>\n",
       "    <tr>\n",
       "      <th>B6</th>\n",
       "      <td>153</td>\n",
       "      <td>854</td>\n",
       "    </tr>\n",
       "    <tr>\n",
       "      <th>AS</th>\n",
       "      <td>126</td>\n",
       "      <td>644</td>\n",
       "    </tr>\n",
       "    <tr>\n",
       "      <th>F9</th>\n",
       "      <td>62</td>\n",
       "      <td>433</td>\n",
       "    </tr>\n",
       "    <tr>\n",
       "      <th>HA</th>\n",
       "      <td>32</td>\n",
       "      <td>251</td>\n",
       "    </tr>\n",
       "    <tr>\n",
       "      <th>AQ</th>\n",
       "      <td>20</td>\n",
       "      <td>98</td>\n",
       "    </tr>\n",
       "  </tbody>\n",
       "</table>\n",
       "</div>"
      ],
      "text/plain": [
       "               TailNum  FlightNum\n",
       "UniqueCarrier                    \n",
       "WN                 552       3973\n",
       "OO                 284       2609\n",
       "AA                 655       1936\n",
       "US                 373       1696\n",
       "DL                 460       1694\n",
       "MQ                 490       1683\n",
       "EV                 162       1588\n",
       "OH                 137       1553\n",
       "XE                 274       1547\n",
       "UA                 460       1507\n",
       "NW                 322       1389\n",
       "9E                 155       1328\n",
       "CO                 377       1200\n",
       "FL                 142        994\n",
       "YV                 126        886\n",
       "B6                 153        854\n",
       "AS                 126        644\n",
       "F9                  62        433\n",
       "HA                  32        251\n",
       "AQ                  20         98"
      ]
     },
     "execution_count": 103,
     "metadata": {},
     "output_type": "execute_result"
    }
   ],
   "source": [
    "df.groupby('UniqueCarrier')['TailNum','FlightNum'].nunique().sort_values(by='FlightNum',ascending=False)"
   ]
  },
  {
   "cell_type": "code",
   "execution_count": 104,
   "metadata": {},
   "outputs": [
    {
     "data": {
      "text/plain": [
       "16      1575\n",
       "50      1539\n",
       "40      1499\n",
       "15      1464\n",
       "44      1440\n",
       "        ... \n",
       "6914       1\n",
       "6249       1\n",
       "7458       1\n",
       "6204       1\n",
       "7688       1\n",
       "Name: FlightNum, Length: 7498, dtype: int64"
      ]
     },
     "execution_count": 104,
     "metadata": {},
     "output_type": "execute_result"
    }
   ],
   "source": [
    "df['FlightNum'].value_counts()"
   ]
  },
  {
   "cell_type": "code",
   "execution_count": 105,
   "metadata": {},
   "outputs": [
    {
     "data": {
      "text/plain": [
       "WN    365\n",
       "CO    197\n",
       "US    195\n",
       "AA    176\n",
       "B6    159\n",
       "DL    142\n",
       "HA    101\n",
       "AS     89\n",
       "FL     66\n",
       "UA     45\n",
       "XE     40\n",
       "Name: UniqueCarrier, dtype: int64"
      ]
     },
     "execution_count": 105,
     "metadata": {},
     "output_type": "execute_result"
    }
   ],
   "source": [
    "df[df['FlightNum']==16]['UniqueCarrier'].value_counts()"
   ]
  },
  {
   "cell_type": "code",
   "execution_count": 107,
   "metadata": {},
   "outputs": [
    {
     "data": {
      "text/plain": [
       "UniqueCarrier\n",
       "AA    655\n",
       "WN    552\n",
       "MQ    490\n",
       "DL    460\n",
       "UA    460\n",
       "CO    377\n",
       "US    373\n",
       "NW    322\n",
       "OO    284\n",
       "XE    274\n",
       "EV    162\n",
       "9E    155\n",
       "B6    153\n",
       "FL    142\n",
       "OH    137\n",
       "AS    126\n",
       "YV    126\n",
       "F9     62\n",
       "HA     32\n",
       "AQ     20\n",
       "Name: TailNum, dtype: int64"
      ]
     },
     "execution_count": 107,
     "metadata": {},
     "output_type": "execute_result"
    }
   ],
   "source": [
    "df.groupby('UniqueCarrier')['TailNum'].nunique().sort_values(ascending=False)"
   ]
  },
  {
   "cell_type": "code",
   "execution_count": 111,
   "metadata": {},
   "outputs": [],
   "source": [
    "df.drop(['TailNum','FlightNum'], axis=1, inplace=True)"
   ]
  },
  {
   "cell_type": "code",
   "execution_count": 128,
   "metadata": {},
   "outputs": [
    {
     "data": {
      "text/plain": [
       "Origin\n",
       "ORD    67551\n",
       "ATL    57650\n",
       "DFW    40617\n",
       "DEN    30014\n",
       "EWR    27401\n",
       "IAH    21748\n",
       "SFO    21725\n",
       "LAX    21383\n",
       "DTW    21230\n",
       "LAS    19240\n",
       "PHX    19006\n",
       "JFK    18606\n",
       "LGA    17314\n",
       "CLT    15804\n",
       "MCO    15241\n",
       "MSP    14877\n",
       "BOS    14824\n",
       "PHL    14411\n",
       "BWI    11536\n",
       "IAD    11511\n",
       "Name: ArrDelay_target2, dtype: int32"
      ]
     },
     "execution_count": 128,
     "metadata": {},
     "output_type": "execute_result"
    }
   ],
   "source": [
    "df.groupby(['Origin'])['ArrDelay_target2'].sum().sort_values(ascending=False)[:20]"
   ]
  },
  {
   "cell_type": "code",
   "execution_count": 129,
   "metadata": {},
   "outputs": [
    {
     "data": {
      "text/plain": [
       "303"
      ]
     },
     "execution_count": 129,
     "metadata": {},
     "output_type": "execute_result"
    }
   ],
   "source": [
    "df['Origin'].nunique()"
   ]
  },
  {
   "cell_type": "code",
   "execution_count": 130,
   "metadata": {},
   "outputs": [
    {
     "data": {
      "text/plain": [
       "302"
      ]
     },
     "execution_count": 130,
     "metadata": {},
     "output_type": "execute_result"
    }
   ],
   "source": [
    "df['Dest'].nunique()"
   ]
  },
  {
   "cell_type": "code",
   "execution_count": 122,
   "metadata": {
    "scrolled": true
   },
   "outputs": [
    {
     "data": {
      "text/plain": [
       "Dest\n",
       "ORD    62559\n",
       "ATL    50007\n",
       "EWR    32753\n",
       "DFW    31106\n",
       "SFO    25211\n",
       "       ...  \n",
       "INL        6\n",
       "BJI        4\n",
       "BLI        2\n",
       "PIR        1\n",
       "TUP        0\n",
       "Name: ArrDelay_target2, Length: 302, dtype: int32"
      ]
     },
     "execution_count": 122,
     "metadata": {},
     "output_type": "execute_result"
    }
   ],
   "source": [
    "df.groupby(['Dest'])['ArrDelay_target2'].sum().sort_values(ascending=False)"
   ]
  },
  {
   "cell_type": "code",
   "execution_count": 153,
   "metadata": {},
   "outputs": [],
   "source": [
    "carrier_avg_delay = df['ArrDelay'].groupby(df['UniqueCarrier']).mean()"
   ]
  },
  {
   "cell_type": "code",
   "execution_count": 154,
   "metadata": {},
   "outputs": [
    {
     "data": {
      "text/plain": [
       "UniqueCarrier\n",
       "9E    46.936453\n",
       "AA    46.561553\n",
       "AQ    21.255376\n",
       "AS    36.060882\n",
       "B6    55.088739\n",
       "CO    40.568449\n",
       "DL    39.881507\n",
       "EV    47.554255\n",
       "F9    27.938953\n",
       "FL    43.683157\n",
       "HA    34.209449\n",
       "MQ    45.295058\n",
       "NW    43.911000\n",
       "OH    51.013250\n",
       "OO    45.370587\n",
       "UA    47.784399\n",
       "US    36.445019\n",
       "WN    30.087884\n",
       "XE    50.181217\n",
       "YV    55.287049\n",
       "Name: ArrDelay, dtype: float64"
      ]
     },
     "execution_count": 154,
     "metadata": {},
     "output_type": "execute_result"
    }
   ],
   "source": [
    "carrier_avg_delay"
   ]
  },
  {
   "cell_type": "code",
   "execution_count": 155,
   "metadata": {},
   "outputs": [],
   "source": [
    "for carrier, delay in zip(carrier_avg_delay.index, carrier_avg_delay.values):\n",
    "    df.loc[df['UniqueCarrier']==carrier,'carrier_avg_delay']=delay"
   ]
  },
  {
   "cell_type": "code",
   "execution_count": 156,
   "metadata": {},
   "outputs": [
    {
     "data": {
      "text/plain": [
       "30.087884    376201\n",
       "46.561553    190910\n",
       "45.295058    141223\n",
       "47.784399    140904\n",
       "45.370587    131780\n",
       "39.881507    113728\n",
       "50.181217    103147\n",
       "40.568449     99731\n",
       "36.445019     98007\n",
       "47.554255     81762\n",
       "43.911000     78843\n",
       "43.683157     70969\n",
       "55.287049     66769\n",
       "55.088739     54925\n",
       "51.013250     52451\n",
       "46.936453     51568\n",
       "36.060882     39010\n",
       "27.938953     28224\n",
       "34.209449      7472\n",
       "21.255376       744\n",
       "Name: carrier_avg_delay, dtype: int64"
      ]
     },
     "execution_count": 156,
     "metadata": {},
     "output_type": "execute_result"
    }
   ],
   "source": [
    "df['carrier_avg_delay'].value_counts()"
   ]
  },
  {
   "cell_type": "code",
   "execution_count": 139,
   "metadata": {},
   "outputs": [
    {
     "data": {
      "text/plain": [
       "array(['WN', 'XE', 'YV', 'OH', 'OO', 'UA', 'US', 'DL', 'EV', 'F9', 'FL',\n",
       "       'HA', 'MQ', 'NW', '9E', 'AA', 'AQ', 'AS', 'B6', 'CO'], dtype=object)"
      ]
     },
     "execution_count": 139,
     "metadata": {},
     "output_type": "execute_result"
    }
   ],
   "source": [
    "df['UniqueCarrier'].unique()"
   ]
  },
  {
   "cell_type": "code",
   "execution_count": 146,
   "metadata": {},
   "outputs": [
    {
     "data": {
      "text/plain": [
       "4.0      323278\n",
       "5.0      313896\n",
       "6.0      239536\n",
       "3.0      234561\n",
       "7.0      177783\n",
       "          ...  \n",
       "184.0         1\n",
       "149.0         1\n",
       "150.0         1\n",
       "176.0         1\n",
       "186.0         1\n",
       "Name: TaxiIn, Length: 180, dtype: int64"
      ]
     },
     "execution_count": 146,
     "metadata": {},
     "output_type": "execute_result"
    }
   ],
   "source": [
    "df['TaxiIn'].value_counts()"
   ]
  },
  {
   "cell_type": "code",
   "execution_count": 147,
   "metadata": {},
   "outputs": [
    {
     "data": {
      "text/plain": [
       "ATL    131213\n",
       "ORD    125451\n",
       "DFW     95058\n",
       "DEN     74033\n",
       "LAX     58545\n",
       "        ...  \n",
       "BJI         4\n",
       "PIR         3\n",
       "PUB         2\n",
       "INL         1\n",
       "TUP         1\n",
       "Name: Origin, Length: 303, dtype: int64"
      ]
     },
     "execution_count": 147,
     "metadata": {},
     "output_type": "execute_result"
    }
   ],
   "source": [
    "df['Origin'].value_counts()"
   ]
  },
  {
   "cell_type": "code",
   "execution_count": 157,
   "metadata": {},
   "outputs": [],
   "source": [
    "origin_avg_delay=df['ArrDelay'].groupby(df['Origin']).mean()"
   ]
  },
  {
   "cell_type": "code",
   "execution_count": 159,
   "metadata": {},
   "outputs": [],
   "source": [
    "dest_avg_delay=df['ArrDelay'].groupby(df['Dest']).mean()"
   ]
  },
  {
   "cell_type": "code",
   "execution_count": 160,
   "metadata": {},
   "outputs": [
    {
     "data": {
      "text/plain": [
       "Dest\n",
       "ABE    48.837262\n",
       "ABI    36.634409\n",
       "ABQ    32.134128\n",
       "ABY    46.761006\n",
       "ACK    59.167742\n",
       "         ...    \n",
       "WYS    23.741935\n",
       "XNA    46.788195\n",
       "YAK    53.007968\n",
       "YKM    26.744681\n",
       "YUM    35.625767\n",
       "Name: ArrDelay, Length: 302, dtype: float64"
      ]
     },
     "execution_count": 160,
     "metadata": {},
     "output_type": "execute_result"
    }
   ],
   "source": [
    "dest_avg_delay"
   ]
  },
  {
   "cell_type": "code",
   "execution_count": 158,
   "metadata": {},
   "outputs": [
    {
     "data": {
      "text/plain": [
       "Origin\n",
       "ABE    60.820404\n",
       "ABI    66.369898\n",
       "ABQ    33.597238\n",
       "ABY    50.907534\n",
       "ACK    66.040816\n",
       "         ...    \n",
       "WYS    18.300000\n",
       "XNA    57.084927\n",
       "YAK    54.879397\n",
       "YKM    25.581818\n",
       "YUM    34.467249\n",
       "Name: ArrDelay, Length: 303, dtype: float64"
      ]
     },
     "execution_count": 158,
     "metadata": {},
     "output_type": "execute_result"
    }
   ],
   "source": [
    "origin_avg_delay"
   ]
  },
  {
   "cell_type": "code",
   "execution_count": 161,
   "metadata": {},
   "outputs": [],
   "source": [
    "for origin, delay in zip(origin_avg_delay.index, origin_avg_delay.values):\n",
    "    df.loc[df['Origin']==origin,'origin_avg_delay']=delay"
   ]
  },
  {
   "cell_type": "code",
   "execution_count": 162,
   "metadata": {},
   "outputs": [],
   "source": [
    "for dest, delay in zip(dest_avg_delay.index, dest_avg_delay.values):\n",
    "    df.loc[df['Dest']==dest,'dest_avg_delay']=delay"
   ]
  },
  {
   "cell_type": "code",
   "execution_count": 163,
   "metadata": {
    "scrolled": true
   },
   "outputs": [
    {
     "data": {
      "text/plain": [
       "40.782994    131213\n",
       "50.954747    125451\n",
       "37.757864     95058\n",
       "36.191617     74033\n",
       "33.849671     58545\n",
       "              ...  \n",
       "33.000000         4\n",
       "39.333333         3\n",
       "74.000000         2\n",
       "15.000000         1\n",
       "6.000000          1\n",
       "Name: origin_avg_delay, Length: 303, dtype: int64"
      ]
     },
     "execution_count": 163,
     "metadata": {},
     "output_type": "execute_result"
    }
   ],
   "source": [
    "df['origin_avg_delay'].value_counts()"
   ]
  },
  {
   "cell_type": "code",
   "execution_count": 165,
   "metadata": {
    "scrolled": true
   },
   "outputs": [
    {
     "data": {
      "text/plain": [
       "ATL    131213\n",
       "ORD    125451\n",
       "DFW     95058\n",
       "DEN     74033\n",
       "LAX     58545\n",
       "        ...  \n",
       "BJI         4\n",
       "PIR         3\n",
       "PUB         2\n",
       "INL         1\n",
       "TUP         1\n",
       "Name: Origin, Length: 303, dtype: int64"
      ]
     },
     "execution_count": 165,
     "metadata": {},
     "output_type": "execute_result"
    }
   ],
   "source": [
    "df['Origin'].value_counts()"
   ]
  },
  {
   "cell_type": "code",
   "execution_count": 164,
   "metadata": {},
   "outputs": [
    {
     "data": {
      "text/plain": [
       "60.028153    108265\n",
       "47.898827    106540\n",
       "43.166398     70181\n",
       "37.506698     62850\n",
       "36.752268     59843\n",
       "              ...  \n",
       "22.846154        13\n",
       "20.666667        12\n",
       "66.777778         9\n",
       "15.000000         3\n",
       "6.000000          1\n",
       "Name: dest_avg_delay, Length: 302, dtype: int64"
      ]
     },
     "execution_count": 164,
     "metadata": {},
     "output_type": "execute_result"
    }
   ],
   "source": [
    "df['dest_avg_delay'].value_counts()"
   ]
  },
  {
   "cell_type": "code",
   "execution_count": 166,
   "metadata": {
    "scrolled": true
   },
   "outputs": [
    {
     "name": "stdout",
     "output_type": "stream",
     "text": [
      "<class 'pandas.core.frame.DataFrame'>\n",
      "Int64Index: 1928368 entries, 0 to 7009727\n",
      "Data columns (total 23 columns):\n",
      " #   Column             Dtype  \n",
      "---  ------             -----  \n",
      " 0   DepTime            object \n",
      " 1   CRSDepTime         int64  \n",
      " 2   ArrTime            float64\n",
      " 3   CRSArrTime         int64  \n",
      " 4   UniqueCarrier      object \n",
      " 5   ActualElapsedTime  float64\n",
      " 6   ArrDelay           float64\n",
      " 7   Origin             object \n",
      " 8   Dest               object \n",
      " 9   TaxiIn             float64\n",
      " 10  TaxiOut            float64\n",
      " 11  CarrierDelay       float64\n",
      " 12  WeatherDelay       float64\n",
      " 13  NASDelay           float64\n",
      " 14  SecurityDelay      float64\n",
      " 15  LateAircraftDelay  float64\n",
      " 16  ArrDelay_target    int32  \n",
      " 17  ArrDelay_target2   int32  \n",
      " 18  IsFriday           float64\n",
      " 19  Is_Feb_Jun_Dec     int32  \n",
      " 20  carrier_avg_delay  float64\n",
      " 21  origin_avg_delay   float64\n",
      " 22  dest_avg_delay     float64\n",
      "dtypes: float64(14), int32(3), int64(2), object(4)\n",
      "memory usage: 331.0+ MB\n"
     ]
    }
   ],
   "source": [
    "df.info()"
   ]
  },
  {
   "cell_type": "code",
   "execution_count": 167,
   "metadata": {},
   "outputs": [],
   "source": [
    "df.drop(['UniqueCarrier','Origin','Dest'], axis=1, inplace=True)"
   ]
  },
  {
   "cell_type": "code",
   "execution_count": 168,
   "metadata": {},
   "outputs": [
    {
     "data": {
      "text/plain": [
       "(1928368, 20)"
      ]
     },
     "execution_count": 168,
     "metadata": {},
     "output_type": "execute_result"
    }
   ],
   "source": [
    "df.shape"
   ]
  },
  {
   "cell_type": "code",
   "execution_count": 169,
   "metadata": {},
   "outputs": [
    {
     "name": "stdout",
     "output_type": "stream",
     "text": [
      "<class 'pandas.core.frame.DataFrame'>\n",
      "Int64Index: 1928368 entries, 0 to 7009727\n",
      "Data columns (total 20 columns):\n",
      " #   Column             Dtype  \n",
      "---  ------             -----  \n",
      " 0   DepTime            object \n",
      " 1   CRSDepTime         int64  \n",
      " 2   ArrTime            float64\n",
      " 3   CRSArrTime         int64  \n",
      " 4   ActualElapsedTime  float64\n",
      " 5   ArrDelay           float64\n",
      " 6   TaxiIn             float64\n",
      " 7   TaxiOut            float64\n",
      " 8   CarrierDelay       float64\n",
      " 9   WeatherDelay       float64\n",
      " 10  NASDelay           float64\n",
      " 11  SecurityDelay      float64\n",
      " 12  LateAircraftDelay  float64\n",
      " 13  ArrDelay_target    int32  \n",
      " 14  ArrDelay_target2   int32  \n",
      " 15  IsFriday           float64\n",
      " 16  Is_Feb_Jun_Dec     int32  \n",
      " 17  carrier_avg_delay  float64\n",
      " 18  origin_avg_delay   float64\n",
      " 19  dest_avg_delay     float64\n",
      "dtypes: float64(14), int32(3), int64(2), object(1)\n",
      "memory usage: 286.9+ MB\n"
     ]
    }
   ],
   "source": [
    "df.info()"
   ]
  },
  {
   "cell_type": "code",
   "execution_count": 172,
   "metadata": {},
   "outputs": [],
   "source": [
    "df.drop('DepTime', axis=1, inplace=True)"
   ]
  }
 ],
 "metadata": {
  "kernelspec": {
   "display_name": "Python 3",
   "language": "python",
   "name": "python3"
  },
  "language_info": {
   "codemirror_mode": {
    "name": "ipython",
    "version": 3
   },
   "file_extension": ".py",
   "mimetype": "text/x-python",
   "name": "python",
   "nbconvert_exporter": "python",
   "pygments_lexer": "ipython3",
   "version": "3.8.10"
  }
 },
 "nbformat": 4,
 "nbformat_minor": 4
}
