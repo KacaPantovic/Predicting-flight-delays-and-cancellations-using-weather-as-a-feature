{
 "cells": [
  {
   "cell_type": "code",
   "execution_count": 1,
   "metadata": {},
   "outputs": [],
   "source": [
    "import pandas as pd \n",
    "import numpy as np\n",
    "\n",
    "\n",
    "import seaborn as sns\n",
    "import matplotlib.pyplot as plt"
   ]
  },
  {
   "cell_type": "code",
   "execution_count": 2,
   "metadata": {},
   "outputs": [],
   "source": [
    "import sklearn\n",
    "from sklearn import preprocessing, linear_model, model_selection, metrics"
   ]
  },
  {
   "cell_type": "code",
   "execution_count": 3,
   "metadata": {},
   "outputs": [],
   "source": [
    "df=pd.read_csv('Flight_processed.csv')"
   ]
  },
  {
   "cell_type": "code",
   "execution_count": 4,
   "metadata": {},
   "outputs": [
    {
     "data": {
      "text/html": [
       "<div>\n",
       "<style scoped>\n",
       "    .dataframe tbody tr th:only-of-type {\n",
       "        vertical-align: middle;\n",
       "    }\n",
       "\n",
       "    .dataframe tbody tr th {\n",
       "        vertical-align: top;\n",
       "    }\n",
       "\n",
       "    .dataframe thead th {\n",
       "        text-align: right;\n",
       "    }\n",
       "</style>\n",
       "<table border=\"1\" class=\"dataframe\">\n",
       "  <thead>\n",
       "    <tr style=\"text-align: right;\">\n",
       "      <th></th>\n",
       "      <th>CRSDepTime</th>\n",
       "      <th>ArrTime</th>\n",
       "      <th>CRSArrTime</th>\n",
       "      <th>ActualElapsedTime</th>\n",
       "      <th>ArrDelay</th>\n",
       "      <th>TaxiIn</th>\n",
       "      <th>TaxiOut</th>\n",
       "      <th>CarrierDelay</th>\n",
       "      <th>WeatherDelay</th>\n",
       "      <th>NASDelay</th>\n",
       "      <th>SecurityDelay</th>\n",
       "      <th>LateAircraftDelay</th>\n",
       "      <th>ArrDelay_target</th>\n",
       "      <th>ArrDelay_target2</th>\n",
       "      <th>IsFriday</th>\n",
       "      <th>Is_Feb_Jun_Dec</th>\n",
       "      <th>carrier_avg_delay</th>\n",
       "      <th>origin_avg_delay</th>\n",
       "      <th>dest_avg_delay</th>\n",
       "    </tr>\n",
       "  </thead>\n",
       "  <tbody>\n",
       "    <tr>\n",
       "      <th>0</th>\n",
       "      <td>1955</td>\n",
       "      <td>2211.0</td>\n",
       "      <td>2225</td>\n",
       "      <td>128.0</td>\n",
       "      <td>-14.0</td>\n",
       "      <td>4.0</td>\n",
       "      <td>8.0</td>\n",
       "      <td>19.179399</td>\n",
       "      <td>3.703571</td>\n",
       "      <td>15.021635</td>\n",
       "      <td>0.090137</td>\n",
       "      <td>25.296466</td>\n",
       "      <td>0</td>\n",
       "      <td>0</td>\n",
       "      <td>0.0</td>\n",
       "      <td>0</td>\n",
       "      <td>30.087884</td>\n",
       "      <td>53.531579</td>\n",
       "      <td>35.925260</td>\n",
       "    </tr>\n",
       "    <tr>\n",
       "      <th>1</th>\n",
       "      <td>735</td>\n",
       "      <td>1002.0</td>\n",
       "      <td>1000</td>\n",
       "      <td>128.0</td>\n",
       "      <td>2.0</td>\n",
       "      <td>5.0</td>\n",
       "      <td>10.0</td>\n",
       "      <td>19.179399</td>\n",
       "      <td>3.703571</td>\n",
       "      <td>15.021635</td>\n",
       "      <td>0.090137</td>\n",
       "      <td>25.296466</td>\n",
       "      <td>0</td>\n",
       "      <td>0</td>\n",
       "      <td>0.0</td>\n",
       "      <td>0</td>\n",
       "      <td>30.087884</td>\n",
       "      <td>53.531579</td>\n",
       "      <td>35.925260</td>\n",
       "    </tr>\n",
       "    <tr>\n",
       "      <th>2</th>\n",
       "      <td>620</td>\n",
       "      <td>804.0</td>\n",
       "      <td>750</td>\n",
       "      <td>96.0</td>\n",
       "      <td>14.0</td>\n",
       "      <td>3.0</td>\n",
       "      <td>17.0</td>\n",
       "      <td>19.179399</td>\n",
       "      <td>3.703571</td>\n",
       "      <td>15.021635</td>\n",
       "      <td>0.090137</td>\n",
       "      <td>25.296466</td>\n",
       "      <td>0</td>\n",
       "      <td>0</td>\n",
       "      <td>0.0</td>\n",
       "      <td>0</td>\n",
       "      <td>30.087884</td>\n",
       "      <td>45.835815</td>\n",
       "      <td>35.889979</td>\n",
       "    </tr>\n",
       "    <tr>\n",
       "      <th>3</th>\n",
       "      <td>1755</td>\n",
       "      <td>1959.0</td>\n",
       "      <td>1925</td>\n",
       "      <td>90.0</td>\n",
       "      <td>34.0</td>\n",
       "      <td>3.0</td>\n",
       "      <td>10.0</td>\n",
       "      <td>2.000000</td>\n",
       "      <td>0.000000</td>\n",
       "      <td>0.000000</td>\n",
       "      <td>0.000000</td>\n",
       "      <td>32.000000</td>\n",
       "      <td>1</td>\n",
       "      <td>1</td>\n",
       "      <td>0.0</td>\n",
       "      <td>0</td>\n",
       "      <td>30.087884</td>\n",
       "      <td>45.835815</td>\n",
       "      <td>35.889979</td>\n",
       "    </tr>\n",
       "    <tr>\n",
       "      <th>4</th>\n",
       "      <td>1915</td>\n",
       "      <td>2121.0</td>\n",
       "      <td>2110</td>\n",
       "      <td>101.0</td>\n",
       "      <td>11.0</td>\n",
       "      <td>4.0</td>\n",
       "      <td>10.0</td>\n",
       "      <td>19.179399</td>\n",
       "      <td>3.703571</td>\n",
       "      <td>15.021635</td>\n",
       "      <td>0.090137</td>\n",
       "      <td>25.296466</td>\n",
       "      <td>0</td>\n",
       "      <td>0</td>\n",
       "      <td>0.0</td>\n",
       "      <td>0</td>\n",
       "      <td>30.087884</td>\n",
       "      <td>45.835815</td>\n",
       "      <td>39.358735</td>\n",
       "    </tr>\n",
       "  </tbody>\n",
       "</table>\n",
       "</div>"
      ],
      "text/plain": [
       "   CRSDepTime  ArrTime  CRSArrTime  ActualElapsedTime  ArrDelay  TaxiIn  \\\n",
       "0        1955   2211.0        2225              128.0     -14.0     4.0   \n",
       "1         735   1002.0        1000              128.0       2.0     5.0   \n",
       "2         620    804.0         750               96.0      14.0     3.0   \n",
       "3        1755   1959.0        1925               90.0      34.0     3.0   \n",
       "4        1915   2121.0        2110              101.0      11.0     4.0   \n",
       "\n",
       "   TaxiOut  CarrierDelay  WeatherDelay   NASDelay  SecurityDelay  \\\n",
       "0      8.0     19.179399      3.703571  15.021635       0.090137   \n",
       "1     10.0     19.179399      3.703571  15.021635       0.090137   \n",
       "2     17.0     19.179399      3.703571  15.021635       0.090137   \n",
       "3     10.0      2.000000      0.000000   0.000000       0.000000   \n",
       "4     10.0     19.179399      3.703571  15.021635       0.090137   \n",
       "\n",
       "   LateAircraftDelay  ArrDelay_target  ArrDelay_target2  IsFriday  \\\n",
       "0          25.296466                0                 0       0.0   \n",
       "1          25.296466                0                 0       0.0   \n",
       "2          25.296466                0                 0       0.0   \n",
       "3          32.000000                1                 1       0.0   \n",
       "4          25.296466                0                 0       0.0   \n",
       "\n",
       "   Is_Feb_Jun_Dec  carrier_avg_delay  origin_avg_delay  dest_avg_delay  \n",
       "0               0          30.087884         53.531579       35.925260  \n",
       "1               0          30.087884         53.531579       35.925260  \n",
       "2               0          30.087884         45.835815       35.889979  \n",
       "3               0          30.087884         45.835815       35.889979  \n",
       "4               0          30.087884         45.835815       39.358735  "
      ]
     },
     "execution_count": 4,
     "metadata": {},
     "output_type": "execute_result"
    }
   ],
   "source": [
    "df.head()"
   ]
  },
  {
   "cell_type": "code",
   "execution_count": 5,
   "metadata": {},
   "outputs": [
    {
     "data": {
      "text/html": [
       "<div>\n",
       "<style scoped>\n",
       "    .dataframe tbody tr th:only-of-type {\n",
       "        vertical-align: middle;\n",
       "    }\n",
       "\n",
       "    .dataframe tbody tr th {\n",
       "        vertical-align: top;\n",
       "    }\n",
       "\n",
       "    .dataframe thead th {\n",
       "        text-align: right;\n",
       "    }\n",
       "</style>\n",
       "<table border=\"1\" class=\"dataframe\">\n",
       "  <thead>\n",
       "    <tr style=\"text-align: right;\">\n",
       "      <th></th>\n",
       "      <th>CRSDepTime</th>\n",
       "      <th>ArrTime</th>\n",
       "      <th>CRSArrTime</th>\n",
       "      <th>ActualElapsedTime</th>\n",
       "      <th>ArrDelay</th>\n",
       "      <th>TaxiIn</th>\n",
       "      <th>TaxiOut</th>\n",
       "      <th>CarrierDelay</th>\n",
       "      <th>WeatherDelay</th>\n",
       "      <th>NASDelay</th>\n",
       "      <th>SecurityDelay</th>\n",
       "      <th>LateAircraftDelay</th>\n",
       "      <th>ArrDelay_target</th>\n",
       "      <th>ArrDelay_target2</th>\n",
       "      <th>IsFriday</th>\n",
       "      <th>Is_Feb_Jun_Dec</th>\n",
       "      <th>carrier_avg_delay</th>\n",
       "      <th>origin_avg_delay</th>\n",
       "      <th>dest_avg_delay</th>\n",
       "    </tr>\n",
       "  </thead>\n",
       "  <tbody>\n",
       "    <tr>\n",
       "      <th>count</th>\n",
       "      <td>1928368.00</td>\n",
       "      <td>1928368.00</td>\n",
       "      <td>1928368.00</td>\n",
       "      <td>1928368.00</td>\n",
       "      <td>1928368.00</td>\n",
       "      <td>1928368.00</td>\n",
       "      <td>1928368.00</td>\n",
       "      <td>1928368.00</td>\n",
       "      <td>1928368.00</td>\n",
       "      <td>1928368.00</td>\n",
       "      <td>1928368.00</td>\n",
       "      <td>1928368.00</td>\n",
       "      <td>1928368.00</td>\n",
       "      <td>1928368.00</td>\n",
       "      <td>1928368.00</td>\n",
       "      <td>1928368.00</td>\n",
       "      <td>1928368.00</td>\n",
       "      <td>1928368.00</td>\n",
       "      <td>1928368.00</td>\n",
       "    </tr>\n",
       "    <tr>\n",
       "      <th>mean</th>\n",
       "      <td>1467.72</td>\n",
       "      <td>1610.24</td>\n",
       "      <td>1634.20</td>\n",
       "      <td>133.31</td>\n",
       "      <td>42.20</td>\n",
       "      <td>6.81</td>\n",
       "      <td>18.22</td>\n",
       "      <td>19.18</td>\n",
       "      <td>3.70</td>\n",
       "      <td>15.02</td>\n",
       "      <td>0.09</td>\n",
       "      <td>25.30</td>\n",
       "      <td>0.65</td>\n",
       "      <td>0.44</td>\n",
       "      <td>0.17</td>\n",
       "      <td>0.31</td>\n",
       "      <td>42.20</td>\n",
       "      <td>42.20</td>\n",
       "      <td>42.20</td>\n",
       "    </tr>\n",
       "    <tr>\n",
       "      <th>std</th>\n",
       "      <td>424.73</td>\n",
       "      <td>548.00</td>\n",
       "      <td>464.63</td>\n",
       "      <td>72.06</td>\n",
       "      <td>56.78</td>\n",
       "      <td>5.27</td>\n",
       "      <td>14.31</td>\n",
       "      <td>35.02</td>\n",
       "      <td>17.29</td>\n",
       "      <td>27.21</td>\n",
       "      <td>1.63</td>\n",
       "      <td>33.83</td>\n",
       "      <td>0.48</td>\n",
       "      <td>0.50</td>\n",
       "      <td>0.37</td>\n",
       "      <td>0.46</td>\n",
       "      <td>7.66</td>\n",
       "      <td>7.91</td>\n",
       "      <td>8.10</td>\n",
       "    </tr>\n",
       "    <tr>\n",
       "      <th>min</th>\n",
       "      <td>0.00</td>\n",
       "      <td>1.00</td>\n",
       "      <td>0.00</td>\n",
       "      <td>14.00</td>\n",
       "      <td>-109.00</td>\n",
       "      <td>0.00</td>\n",
       "      <td>0.00</td>\n",
       "      <td>0.00</td>\n",
       "      <td>0.00</td>\n",
       "      <td>0.00</td>\n",
       "      <td>0.00</td>\n",
       "      <td>0.00</td>\n",
       "      <td>0.00</td>\n",
       "      <td>0.00</td>\n",
       "      <td>0.00</td>\n",
       "      <td>0.00</td>\n",
       "      <td>21.26</td>\n",
       "      <td>6.00</td>\n",
       "      <td>6.00</td>\n",
       "    </tr>\n",
       "    <tr>\n",
       "      <th>25%</th>\n",
       "      <td>1135.00</td>\n",
       "      <td>1316.00</td>\n",
       "      <td>1325.00</td>\n",
       "      <td>80.00</td>\n",
       "      <td>9.00</td>\n",
       "      <td>4.00</td>\n",
       "      <td>10.00</td>\n",
       "      <td>0.00</td>\n",
       "      <td>0.00</td>\n",
       "      <td>0.00</td>\n",
       "      <td>0.00</td>\n",
       "      <td>0.00</td>\n",
       "      <td>0.00</td>\n",
       "      <td>0.00</td>\n",
       "      <td>0.00</td>\n",
       "      <td>0.00</td>\n",
       "      <td>36.45</td>\n",
       "      <td>36.19</td>\n",
       "      <td>35.91</td>\n",
       "    </tr>\n",
       "    <tr>\n",
       "      <th>50%</th>\n",
       "      <td>1510.00</td>\n",
       "      <td>1715.00</td>\n",
       "      <td>1705.00</td>\n",
       "      <td>116.00</td>\n",
       "      <td>24.00</td>\n",
       "      <td>6.00</td>\n",
       "      <td>14.00</td>\n",
       "      <td>19.18</td>\n",
       "      <td>0.00</td>\n",
       "      <td>15.02</td>\n",
       "      <td>0.00</td>\n",
       "      <td>25.30</td>\n",
       "      <td>1.00</td>\n",
       "      <td>0.00</td>\n",
       "      <td>0.00</td>\n",
       "      <td>0.00</td>\n",
       "      <td>45.30</td>\n",
       "      <td>40.78</td>\n",
       "      <td>40.12</td>\n",
       "    </tr>\n",
       "    <tr>\n",
       "      <th>75%</th>\n",
       "      <td>1815.00</td>\n",
       "      <td>2030.00</td>\n",
       "      <td>2014.00</td>\n",
       "      <td>165.00</td>\n",
       "      <td>56.00</td>\n",
       "      <td>8.00</td>\n",
       "      <td>21.00</td>\n",
       "      <td>19.18</td>\n",
       "      <td>3.70</td>\n",
       "      <td>15.02</td>\n",
       "      <td>0.09</td>\n",
       "      <td>25.30</td>\n",
       "      <td>1.00</td>\n",
       "      <td>1.00</td>\n",
       "      <td>0.00</td>\n",
       "      <td>1.00</td>\n",
       "      <td>47.55</td>\n",
       "      <td>48.28</td>\n",
       "      <td>46.69</td>\n",
       "    </tr>\n",
       "    <tr>\n",
       "      <th>80%</th>\n",
       "      <td>1855.00</td>\n",
       "      <td>2107.00</td>\n",
       "      <td>2049.00</td>\n",
       "      <td>180.00</td>\n",
       "      <td>67.00</td>\n",
       "      <td>9.00</td>\n",
       "      <td>23.00</td>\n",
       "      <td>19.18</td>\n",
       "      <td>3.70</td>\n",
       "      <td>15.02</td>\n",
       "      <td>0.09</td>\n",
       "      <td>26.00</td>\n",
       "      <td>1.00</td>\n",
       "      <td>1.00</td>\n",
       "      <td>0.00</td>\n",
       "      <td>1.00</td>\n",
       "      <td>47.78</td>\n",
       "      <td>50.59</td>\n",
       "      <td>47.90</td>\n",
       "    </tr>\n",
       "    <tr>\n",
       "      <th>90%</th>\n",
       "      <td>2015.00</td>\n",
       "      <td>2226.00</td>\n",
       "      <td>2210.00</td>\n",
       "      <td>233.00</td>\n",
       "      <td>106.00</td>\n",
       "      <td>11.00</td>\n",
       "      <td>32.00</td>\n",
       "      <td>36.00</td>\n",
       "      <td>3.70</td>\n",
       "      <td>27.00</td>\n",
       "      <td>0.09</td>\n",
       "      <td>53.00</td>\n",
       "      <td>1.00</td>\n",
       "      <td>1.00</td>\n",
       "      <td>1.00</td>\n",
       "      <td>1.00</td>\n",
       "      <td>50.18</td>\n",
       "      <td>51.92</td>\n",
       "      <td>57.08</td>\n",
       "    </tr>\n",
       "    <tr>\n",
       "      <th>95%</th>\n",
       "      <td>2115.00</td>\n",
       "      <td>2308.00</td>\n",
       "      <td>2255.00</td>\n",
       "      <td>283.00</td>\n",
       "      <td>148.00</td>\n",
       "      <td>15.00</td>\n",
       "      <td>42.00</td>\n",
       "      <td>65.00</td>\n",
       "      <td>3.70</td>\n",
       "      <td>54.00</td>\n",
       "      <td>0.09</td>\n",
       "      <td>86.00</td>\n",
       "      <td>1.00</td>\n",
       "      <td>1.00</td>\n",
       "      <td>1.00</td>\n",
       "      <td>1.00</td>\n",
       "      <td>55.09</td>\n",
       "      <td>54.27</td>\n",
       "      <td>60.03</td>\n",
       "    </tr>\n",
       "    <tr>\n",
       "      <th>max</th>\n",
       "      <td>2359.00</td>\n",
       "      <td>2400.00</td>\n",
       "      <td>2359.00</td>\n",
       "      <td>1114.00</td>\n",
       "      <td>2461.00</td>\n",
       "      <td>240.00</td>\n",
       "      <td>422.00</td>\n",
       "      <td>2436.00</td>\n",
       "      <td>1352.00</td>\n",
       "      <td>1357.00</td>\n",
       "      <td>392.00</td>\n",
       "      <td>1316.00</td>\n",
       "      <td>1.00</td>\n",
       "      <td>1.00</td>\n",
       "      <td>1.00</td>\n",
       "      <td>1.00</td>\n",
       "      <td>55.29</td>\n",
       "      <td>122.56</td>\n",
       "      <td>77.94</td>\n",
       "    </tr>\n",
       "  </tbody>\n",
       "</table>\n",
       "</div>"
      ],
      "text/plain": [
       "       CRSDepTime     ArrTime  CRSArrTime  ActualElapsedTime    ArrDelay  \\\n",
       "count  1928368.00  1928368.00  1928368.00         1928368.00  1928368.00   \n",
       "mean      1467.72     1610.24     1634.20             133.31       42.20   \n",
       "std        424.73      548.00      464.63              72.06       56.78   \n",
       "min          0.00        1.00        0.00              14.00     -109.00   \n",
       "25%       1135.00     1316.00     1325.00              80.00        9.00   \n",
       "50%       1510.00     1715.00     1705.00             116.00       24.00   \n",
       "75%       1815.00     2030.00     2014.00             165.00       56.00   \n",
       "80%       1855.00     2107.00     2049.00             180.00       67.00   \n",
       "90%       2015.00     2226.00     2210.00             233.00      106.00   \n",
       "95%       2115.00     2308.00     2255.00             283.00      148.00   \n",
       "max       2359.00     2400.00     2359.00            1114.00     2461.00   \n",
       "\n",
       "           TaxiIn     TaxiOut  CarrierDelay  WeatherDelay    NASDelay  \\\n",
       "count  1928368.00  1928368.00    1928368.00    1928368.00  1928368.00   \n",
       "mean         6.81       18.22         19.18          3.70       15.02   \n",
       "std          5.27       14.31         35.02         17.29       27.21   \n",
       "min          0.00        0.00          0.00          0.00        0.00   \n",
       "25%          4.00       10.00          0.00          0.00        0.00   \n",
       "50%          6.00       14.00         19.18          0.00       15.02   \n",
       "75%          8.00       21.00         19.18          3.70       15.02   \n",
       "80%          9.00       23.00         19.18          3.70       15.02   \n",
       "90%         11.00       32.00         36.00          3.70       27.00   \n",
       "95%         15.00       42.00         65.00          3.70       54.00   \n",
       "max        240.00      422.00       2436.00       1352.00     1357.00   \n",
       "\n",
       "       SecurityDelay  LateAircraftDelay  ArrDelay_target  ArrDelay_target2  \\\n",
       "count     1928368.00         1928368.00       1928368.00        1928368.00   \n",
       "mean            0.09              25.30             0.65              0.44   \n",
       "std             1.63              33.83             0.48              0.50   \n",
       "min             0.00               0.00             0.00              0.00   \n",
       "25%             0.00               0.00             0.00              0.00   \n",
       "50%             0.00              25.30             1.00              0.00   \n",
       "75%             0.09              25.30             1.00              1.00   \n",
       "80%             0.09              26.00             1.00              1.00   \n",
       "90%             0.09              53.00             1.00              1.00   \n",
       "95%             0.09              86.00             1.00              1.00   \n",
       "max           392.00            1316.00             1.00              1.00   \n",
       "\n",
       "         IsFriday  Is_Feb_Jun_Dec  carrier_avg_delay  origin_avg_delay  \\\n",
       "count  1928368.00      1928368.00         1928368.00        1928368.00   \n",
       "mean         0.17            0.31              42.20             42.20   \n",
       "std          0.37            0.46               7.66              7.91   \n",
       "min          0.00            0.00              21.26              6.00   \n",
       "25%          0.00            0.00              36.45             36.19   \n",
       "50%          0.00            0.00              45.30             40.78   \n",
       "75%          0.00            1.00              47.55             48.28   \n",
       "80%          0.00            1.00              47.78             50.59   \n",
       "90%          1.00            1.00              50.18             51.92   \n",
       "95%          1.00            1.00              55.09             54.27   \n",
       "max          1.00            1.00              55.29            122.56   \n",
       "\n",
       "       dest_avg_delay  \n",
       "count      1928368.00  \n",
       "mean            42.20  \n",
       "std              8.10  \n",
       "min              6.00  \n",
       "25%             35.91  \n",
       "50%             40.12  \n",
       "75%             46.69  \n",
       "80%             47.90  \n",
       "90%             57.08  \n",
       "95%             60.03  \n",
       "max             77.94  "
      ]
     },
     "execution_count": 5,
     "metadata": {},
     "output_type": "execute_result"
    }
   ],
   "source": [
    "round(df.describe(percentiles=[.25, .5, .75, .8, .9, .95]), 2)"
   ]
  },
  {
   "cell_type": "code",
   "execution_count": 6,
   "metadata": {},
   "outputs": [
    {
     "data": {
      "image/png": "[encoded data removed]",
      "text/plain": [
       "<Figure size 1080x1080 with 20 Axes>"
      ]
     },
     "metadata": {
      "needs_background": "light"
     },
     "output_type": "display_data"
    }
   ],
   "source": [
    "df.hist(figsize=(15,15))\n",
    "plt.show()"
   ]
  },
  {
   "cell_type": "code",
   "execution_count": 7,
   "metadata": {},
   "outputs": [],
   "source": [
    "### Based on distibution we see that there is:\n",
    "### 1. different range of features\n",
    "### 2. outliers for example carrier_avg_delay, CRSArrTime...\n",
    "\n",
    "### Since there are outliers we will standardize the data between -1 and 1"
   ]
  },
  {
   "cell_type": "markdown",
   "metadata": {},
   "source": [
    "## Linear Regression"
   ]
  },
  {
   "cell_type": "code",
   "execution_count": 8,
   "metadata": {},
   "outputs": [],
   "source": [
    "### Train_test_split"
   ]
  },
  {
   "cell_type": "code",
   "execution_count": 9,
   "metadata": {},
   "outputs": [],
   "source": [
    "x = df.drop(['ArrDelay', 'ArrDelay_target','ArrDelay_target2'], axis=1)\n",
    "\n",
    "y = df['ArrDelay']"
   ]
  },
  {
   "cell_type": "code",
   "execution_count": 10,
   "metadata": {},
   "outputs": [
    {
     "data": {
      "text/html": [
       "<div>\n",
       "<style scoped>\n",
       "    .dataframe tbody tr th:only-of-type {\n",
       "        vertical-align: middle;\n",
       "    }\n",
       "\n",
       "    .dataframe tbody tr th {\n",
       "        vertical-align: top;\n",
       "    }\n",
       "\n",
       "    .dataframe thead th {\n",
       "        text-align: right;\n",
       "    }\n",
       "</style>\n",
       "<table border=\"1\" class=\"dataframe\">\n",
       "  <thead>\n",
       "    <tr style=\"text-align: right;\">\n",
       "      <th></th>\n",
       "      <th>CRSDepTime</th>\n",
       "      <th>ArrTime</th>\n",
       "      <th>CRSArrTime</th>\n",
       "      <th>ActualElapsedTime</th>\n",
       "      <th>TaxiIn</th>\n",
       "      <th>TaxiOut</th>\n",
       "      <th>CarrierDelay</th>\n",
       "      <th>WeatherDelay</th>\n",
       "      <th>NASDelay</th>\n",
       "      <th>SecurityDelay</th>\n",
       "      <th>LateAircraftDelay</th>\n",
       "      <th>IsFriday</th>\n",
       "      <th>Is_Feb_Jun_Dec</th>\n",
       "      <th>carrier_avg_delay</th>\n",
       "      <th>origin_avg_delay</th>\n",
       "      <th>dest_avg_delay</th>\n",
       "    </tr>\n",
       "  </thead>\n",
       "  <tbody>\n",
       "    <tr>\n",
       "      <th>0</th>\n",
       "      <td>1955</td>\n",
       "      <td>2211.0</td>\n",
       "      <td>2225</td>\n",
       "      <td>128.0</td>\n",
       "      <td>4.0</td>\n",
       "      <td>8.0</td>\n",
       "      <td>19.179399</td>\n",
       "      <td>3.703571</td>\n",
       "      <td>15.021635</td>\n",
       "      <td>0.090137</td>\n",
       "      <td>25.296466</td>\n",
       "      <td>0.0</td>\n",
       "      <td>0</td>\n",
       "      <td>30.087884</td>\n",
       "      <td>53.531579</td>\n",
       "      <td>35.925260</td>\n",
       "    </tr>\n",
       "    <tr>\n",
       "      <th>1</th>\n",
       "      <td>735</td>\n",
       "      <td>1002.0</td>\n",
       "      <td>1000</td>\n",
       "      <td>128.0</td>\n",
       "      <td>5.0</td>\n",
       "      <td>10.0</td>\n",
       "      <td>19.179399</td>\n",
       "      <td>3.703571</td>\n",
       "      <td>15.021635</td>\n",
       "      <td>0.090137</td>\n",
       "      <td>25.296466</td>\n",
       "      <td>0.0</td>\n",
       "      <td>0</td>\n",
       "      <td>30.087884</td>\n",
       "      <td>53.531579</td>\n",
       "      <td>35.925260</td>\n",
       "    </tr>\n",
       "    <tr>\n",
       "      <th>2</th>\n",
       "      <td>620</td>\n",
       "      <td>804.0</td>\n",
       "      <td>750</td>\n",
       "      <td>96.0</td>\n",
       "      <td>3.0</td>\n",
       "      <td>17.0</td>\n",
       "      <td>19.179399</td>\n",
       "      <td>3.703571</td>\n",
       "      <td>15.021635</td>\n",
       "      <td>0.090137</td>\n",
       "      <td>25.296466</td>\n",
       "      <td>0.0</td>\n",
       "      <td>0</td>\n",
       "      <td>30.087884</td>\n",
       "      <td>45.835815</td>\n",
       "      <td>35.889979</td>\n",
       "    </tr>\n",
       "    <tr>\n",
       "      <th>3</th>\n",
       "      <td>1755</td>\n",
       "      <td>1959.0</td>\n",
       "      <td>1925</td>\n",
       "      <td>90.0</td>\n",
       "      <td>3.0</td>\n",
       "      <td>10.0</td>\n",
       "      <td>2.000000</td>\n",
       "      <td>0.000000</td>\n",
       "      <td>0.000000</td>\n",
       "      <td>0.000000</td>\n",
       "      <td>32.000000</td>\n",
       "      <td>0.0</td>\n",
       "      <td>0</td>\n",
       "      <td>30.087884</td>\n",
       "      <td>45.835815</td>\n",
       "      <td>35.889979</td>\n",
       "    </tr>\n",
       "    <tr>\n",
       "      <th>4</th>\n",
       "      <td>1915</td>\n",
       "      <td>2121.0</td>\n",
       "      <td>2110</td>\n",
       "      <td>101.0</td>\n",
       "      <td>4.0</td>\n",
       "      <td>10.0</td>\n",
       "      <td>19.179399</td>\n",
       "      <td>3.703571</td>\n",
       "      <td>15.021635</td>\n",
       "      <td>0.090137</td>\n",
       "      <td>25.296466</td>\n",
       "      <td>0.0</td>\n",
       "      <td>0</td>\n",
       "      <td>30.087884</td>\n",
       "      <td>45.835815</td>\n",
       "      <td>39.358735</td>\n",
       "    </tr>\n",
       "  </tbody>\n",
       "</table>\n",
       "</div>"
      ],
      "text/plain": [
       "   CRSDepTime  ArrTime  CRSArrTime  ActualElapsedTime  TaxiIn  TaxiOut  \\\n",
       "0        1955   2211.0        2225              128.0     4.0      8.0   \n",
       "1         735   1002.0        1000              128.0     5.0     10.0   \n",
       "2         620    804.0         750               96.0     3.0     17.0   \n",
       "3        1755   1959.0        1925               90.0     3.0     10.0   \n",
       "4        1915   2121.0        2110              101.0     4.0     10.0   \n",
       "\n",
       "   CarrierDelay  WeatherDelay   NASDelay  SecurityDelay  LateAircraftDelay  \\\n",
       "0     19.179399      3.703571  15.021635       0.090137          25.296466   \n",
       "1     19.179399      3.703571  15.021635       0.090137          25.296466   \n",
       "2     19.179399      3.703571  15.021635       0.090137          25.296466   \n",
       "3      2.000000      0.000000   0.000000       0.000000          32.000000   \n",
       "4     19.179399      3.703571  15.021635       0.090137          25.296466   \n",
       "\n",
       "   IsFriday  Is_Feb_Jun_Dec  carrier_avg_delay  origin_avg_delay  \\\n",
       "0       0.0               0          30.087884         53.531579   \n",
       "1       0.0               0          30.087884         53.531579   \n",
       "2       0.0               0          30.087884         45.835815   \n",
       "3       0.0               0          30.087884         45.835815   \n",
       "4       0.0               0          30.087884         45.835815   \n",
       "\n",
       "   dest_avg_delay  \n",
       "0       35.925260  \n",
       "1       35.925260  \n",
       "2       35.889979  \n",
       "3       35.889979  \n",
       "4       39.358735  "
      ]
     },
     "execution_count": 10,
     "metadata": {},
     "output_type": "execute_result"
    }
   ],
   "source": [
    "x.head()"
   ]
  },
  {
   "cell_type": "code",
   "execution_count": 11,
   "metadata": {},
   "outputs": [
    {
     "data": {
      "text/plain": [
       "0         -14.0\n",
       "1           2.0\n",
       "2          14.0\n",
       "3          34.0\n",
       "4          11.0\n",
       "           ... \n",
       "1928363    25.0\n",
       "1928364    75.0\n",
       "1928365    99.0\n",
       "1928366     9.0\n",
       "1928367    -5.0\n",
       "Name: ArrDelay, Length: 1928368, dtype: float64"
      ]
     },
     "execution_count": 11,
     "metadata": {},
     "output_type": "execute_result"
    }
   ],
   "source": [
    "y"
   ]
  },
  {
   "cell_type": "code",
   "execution_count": 12,
   "metadata": {},
   "outputs": [],
   "source": [
    "### train validation and test set"
   ]
  },
  {
   "cell_type": "code",
   "execution_count": 13,
   "metadata": {},
   "outputs": [],
   "source": [
    "x_train_validation, x_test, y_train_validation, y_test = model_selection.train_test_split(x, y, test_size=0.33, random_state=7)\n",
    "x_train, x_validation, y_train, y_validation = model_selection.train_test_split(x_train_validation, y_train_validation, train_size=0.8, random_state=7)"
   ]
  },
  {
   "cell_type": "code",
   "execution_count": 14,
   "metadata": {},
   "outputs": [],
   "source": [
    "### StandardScaler\n",
    "\n",
    "scaler1=preprocessing.StandardScaler()"
   ]
  },
  {
   "cell_type": "code",
   "execution_count": 15,
   "metadata": {},
   "outputs": [
    {
     "data": {
      "text/plain": [
       "StandardScaler()"
      ]
     },
     "execution_count": 15,
     "metadata": {},
     "output_type": "execute_result"
    }
   ],
   "source": [
    "scaler1.fit(x_train)"
   ]
  },
  {
   "cell_type": "code",
   "execution_count": 16,
   "metadata": {},
   "outputs": [],
   "source": [
    "x_train=scaler1.transform(x_train)\n",
    "x_validation = scaler1.transform(x_validation)\n",
    "x_train_validation = scaler1.transform(x_train_validation)\n",
    "x_test=scaler1.transform(x_test)"
   ]
  },
  {
   "cell_type": "code",
   "execution_count": 17,
   "metadata": {},
   "outputs": [],
   "source": [
    "model = linear_model.Lasso()"
   ]
  },
  {
   "cell_type": "code",
   "execution_count": 18,
   "metadata": {},
   "outputs": [],
   "source": [
    "params = {'alpha': [0.0001, 0.001, 0.01, 0.1, 1, 10, 20, 100]}"
   ]
  },
  {
   "cell_type": "code",
   "execution_count": 19,
   "metadata": {},
   "outputs": [],
   "source": [
    "grid = model_selection.GridSearchCV(model, param_grid=params, cv=10, scoring='r2', return_train_score=True)"
   ]
  },
  {
   "cell_type": "code",
   "execution_count": 20,
   "metadata": {
    "scrolled": true
   },
   "outputs": [
    {
     "data": {
      "text/plain": [
       "GridSearchCV(cv=10, estimator=Lasso(),\n",
       "             param_grid={'alpha': [0.0001, 0.001, 0.01, 0.1, 1, 10, 20, 100]},\n",
       "             return_train_score=True, scoring='r2')"
      ]
     },
     "execution_count": 20,
     "metadata": {},
     "output_type": "execute_result"
    }
   ],
   "source": [
    "grid.fit(x_train_validation, y_train_validation)"
   ]
  },
  {
   "cell_type": "code",
   "execution_count": 21,
   "metadata": {},
   "outputs": [],
   "source": [
    "### sklearn.metrics.SCORERS.keys()"
   ]
  },
  {
   "cell_type": "code",
   "execution_count": 22,
   "metadata": {},
   "outputs": [
    {
     "data": {
      "text/plain": [
       "{'alpha': 0.0001}"
      ]
     },
     "execution_count": 22,
     "metadata": {},
     "output_type": "execute_result"
    }
   ],
   "source": [
    "grid.best_params_"
   ]
  },
  {
   "cell_type": "code",
   "execution_count": 23,
   "metadata": {},
   "outputs": [
    {
     "data": {
      "text/plain": [
       "0.7677827930215178"
      ]
     },
     "execution_count": 23,
     "metadata": {},
     "output_type": "execute_result"
    }
   ],
   "source": [
    "grid.best_score_"
   ]
  },
  {
   "cell_type": "code",
   "execution_count": 24,
   "metadata": {},
   "outputs": [],
   "source": [
    "linear_model1 = linear_model.Lasso(alpha=0.0001)"
   ]
  },
  {
   "cell_type": "code",
   "execution_count": 25,
   "metadata": {},
   "outputs": [
    {
     "data": {
      "text/plain": [
       "Lasso(alpha=0.0001)"
      ]
     },
     "execution_count": 25,
     "metadata": {},
     "output_type": "execute_result"
    }
   ],
   "source": [
    "linear_model1.fit(x_train_validation, y_train_validation)"
   ]
  },
  {
   "cell_type": "code",
   "execution_count": 26,
   "metadata": {},
   "outputs": [],
   "source": [
    "y_test_pred = linear_model1.predict(x_test)\n",
    "y_train_val_pred = linear_model1.predict(x_train_validation)"
   ]
  },
  {
   "cell_type": "code",
   "execution_count": 27,
   "metadata": {},
   "outputs": [
    {
     "data": {
      "text/plain": [
       "0.7638882287803402"
      ]
     },
     "execution_count": 27,
     "metadata": {},
     "output_type": "execute_result"
    }
   ],
   "source": [
    "metrics.r2_score(y_test, y_test_pred)"
   ]
  },
  {
   "cell_type": "code",
   "execution_count": 28,
   "metadata": {},
   "outputs": [
    {
     "data": {
      "text/plain": [
       "0.7678090975783471"
      ]
     },
     "execution_count": 28,
     "metadata": {},
     "output_type": "execute_result"
    }
   ],
   "source": [
    "metrics.r2_score(y_train_validation, y_train_val_pred)"
   ]
  },
  {
   "cell_type": "code",
   "execution_count": 29,
   "metadata": {},
   "outputs": [
    {
     "data": {
      "text/plain": [
       "752.6718659692038"
      ]
     },
     "execution_count": 29,
     "metadata": {},
     "output_type": "execute_result"
    }
   ],
   "source": [
    "MSE = metrics.mean_squared_error(y_test, y_test_pred)\n",
    "MSE"
   ]
  },
  {
   "cell_type": "code",
   "execution_count": 30,
   "metadata": {},
   "outputs": [
    {
     "data": {
      "text/plain": [
       "752.8896174816861"
      ]
     },
     "execution_count": 30,
     "metadata": {},
     "output_type": "execute_result"
    }
   ],
   "source": [
    "MSE = metrics.mean_squared_error(y_train_validation, y_train_val_pred)\n",
    "MSE"
   ]
  },
  {
   "cell_type": "code",
   "execution_count": 31,
   "metadata": {},
   "outputs": [
    {
     "data": {
      "text/plain": [
       "2355219173710366.5"
      ]
     },
     "execution_count": 31,
     "metadata": {},
     "output_type": "execute_result"
    }
   ],
   "source": [
    "MAPE = metrics.mean_absolute_percentage_error(y_test, y_test_pred)\n",
    "MAPE"
   ]
  },
  {
   "cell_type": "code",
   "execution_count": 32,
   "metadata": {},
   "outputs": [],
   "source": [
    "### MinMaxScaler\n",
    "\n",
    "scaler2=preprocessing.MinMaxScaler()"
   ]
  },
  {
   "cell_type": "code",
   "execution_count": 33,
   "metadata": {},
   "outputs": [
    {
     "data": {
      "text/plain": [
       "MinMaxScaler()"
      ]
     },
     "execution_count": 33,
     "metadata": {},
     "output_type": "execute_result"
    }
   ],
   "source": [
    "scaler2.fit(x_train)"
   ]
  },
  {
   "cell_type": "code",
   "execution_count": 34,
   "metadata": {},
   "outputs": [],
   "source": [
    "x_train=scaler2.transform(x_train)\n",
    "x_validation = scaler2.transform(x_validation)\n",
    "x_train_validation = scaler2.transform(x_train_validation)\n",
    "x_test=scaler2.transform(x_test)"
   ]
  },
  {
   "cell_type": "code",
   "execution_count": 35,
   "metadata": {},
   "outputs": [
    {
     "data": {
      "text/plain": [
       "GridSearchCV(cv=10, estimator=Lasso(),\n",
       "             param_grid={'alpha': [0.0001, 0.001, 0.01, 0.1, 1, 10, 20, 100]},\n",
       "             return_train_score=True, scoring='r2')"
      ]
     },
     "execution_count": 35,
     "metadata": {},
     "output_type": "execute_result"
    }
   ],
   "source": [
    "model = linear_model.Lasso()\n",
    "\n",
    "params = {'alpha': [0.0001, 0.001, 0.01, 0.1, 1, 10, 20, 100]}\n",
    "grid = model_selection.GridSearchCV(model, param_grid=params, cv=10, scoring='r2', return_train_score=True)\n",
    "\n",
    "grid.fit(x_train_validation, y_train_validation)"
   ]
  },
  {
   "cell_type": "code",
   "execution_count": 36,
   "metadata": {},
   "outputs": [
    {
     "data": {
      "text/plain": [
       "{'alpha': 0.0001}"
      ]
     },
     "execution_count": 36,
     "metadata": {},
     "output_type": "execute_result"
    }
   ],
   "source": [
    "grid.best_params_"
   ]
  },
  {
   "cell_type": "code",
   "execution_count": 37,
   "metadata": {},
   "outputs": [
    {
     "data": {
      "text/plain": [
       "0.7677825424305826"
      ]
     },
     "execution_count": 37,
     "metadata": {},
     "output_type": "execute_result"
    }
   ],
   "source": [
    "grid.best_score_"
   ]
  },
  {
   "cell_type": "code",
   "execution_count": 38,
   "metadata": {},
   "outputs": [
    {
     "data": {
      "text/plain": [
       "Lasso(alpha=0.0001)"
      ]
     },
     "execution_count": 38,
     "metadata": {},
     "output_type": "execute_result"
    }
   ],
   "source": [
    "linear_model2 = linear_model.Lasso(alpha=0.0001)\n",
    "linear_model2.fit(x_train_validation, y_train_validation)"
   ]
  },
  {
   "cell_type": "code",
   "execution_count": 39,
   "metadata": {},
   "outputs": [],
   "source": [
    "y_test_pred2 = linear_model2.predict(x_test)\n",
    "y_train_val_pred2 = linear_model2.predict(x_train_validation)"
   ]
  },
  {
   "cell_type": "code",
   "execution_count": 40,
   "metadata": {},
   "outputs": [
    {
     "data": {
      "text/plain": [
       "0.7638883728173227"
      ]
     },
     "execution_count": 40,
     "metadata": {},
     "output_type": "execute_result"
    }
   ],
   "source": [
    "metrics.r2_score(y_test, y_test_pred2)"
   ]
  },
  {
   "cell_type": "code",
   "execution_count": 41,
   "metadata": {},
   "outputs": [
    {
     "data": {
      "text/plain": [
       "0.7678088490446455"
      ]
     },
     "execution_count": 41,
     "metadata": {},
     "output_type": "execute_result"
    }
   ],
   "source": [
    "metrics.r2_score(y_train_validation, y_train_val_pred2)"
   ]
  },
  {
   "cell_type": "code",
   "execution_count": 42,
   "metadata": {},
   "outputs": [
    {
     "data": {
      "text/plain": [
       "752.6714068113067"
      ]
     },
     "execution_count": 42,
     "metadata": {},
     "output_type": "execute_result"
    }
   ],
   "source": [
    "MSE = metrics.mean_squared_error(y_test, y_test_pred2)\n",
    "MSE"
   ]
  },
  {
   "cell_type": "code",
   "execution_count": 43,
   "metadata": {},
   "outputs": [
    {
     "data": {
      "text/plain": [
       "752.890423363577"
      ]
     },
     "execution_count": 43,
     "metadata": {},
     "output_type": "execute_result"
    }
   ],
   "source": [
    "MSE = metrics.mean_squared_error(y_train_validation, y_train_val_pred2)\n",
    "MSE"
   ]
  },
  {
   "cell_type": "markdown",
   "metadata": {},
   "source": [
    "## SVM"
   ]
  },
  {
   "cell_type": "code",
   "execution_count": 44,
   "metadata": {},
   "outputs": [],
   "source": [
    "from sklearn.svm import SVC"
   ]
  },
  {
   "cell_type": "code",
   "execution_count": 45,
   "metadata": {},
   "outputs": [],
   "source": [
    "x = df.drop(['ArrDelay', 'ArrDelay_target','ArrDelay_target2'], axis=1)\n",
    "\n",
    "y = df['ArrDelay_target2']  ## classification target variable"
   ]
  },
  {
   "cell_type": "code",
   "execution_count": 46,
   "metadata": {},
   "outputs": [],
   "source": [
    "x_train_validation, x_test, y_train_validation, y_test = model_selection.train_test_split(x, y, test_size=0.33, random_state=7)\n",
    "x_train, x_validation, y_train, y_validation = model_selection.train_test_split(x_train_validation, y_train_validation, train_size=0.8, random_state=7)"
   ]
  },
  {
   "cell_type": "code",
   "execution_count": null,
   "metadata": {},
   "outputs": [],
   "source": [
    "Cs = [0.1, 1, 10]   #np.array([10**i for i in range(-3, 3)])\n",
    "gammas = [0.001, 0.01]  #np.array([10**i for i in range(-2, 2)])\n",
    "\n",
    "\n",
    "best_score = 0\n",
    "best_params = {'C' : 0, 'gamma' : 0}\n",
    "\n",
    "for C in Cs:\n",
    "    for gamma in gammas:\n",
    "        model = SVC(C=C, gamma=gamma)\n",
    "        model.fit(x_train, y_train)\n",
    "        \n",
    "        score = model.score(x_validation, y_validation)\n",
    "        if score > best_score:\n",
    "            best_score = score\n",
    "            best_params['C'] = C\n",
    "            best_params['gamma'] = gamma"
   ]
  },
  {
   "cell_type": "code",
   "execution_count": null,
   "metadata": {},
   "outputs": [],
   "source": [
    "best_score\n",
    "best_params"
   ]
  },
  {
   "cell_type": "code",
   "execution_count": null,
   "metadata": {},
   "outputs": [],
   "source": [
    "# Za dobijene vrednosti metaparametara obucavamo model na uniji skupova za treniranje i validaciju,\n",
    "# a zatim ga evaluiramo na skupu za testiranje. \n",
    "model = SVC(C=best_params['C'], gamma=best_params['gamma'])"
   ]
  },
  {
   "cell_type": "code",
   "execution_count": null,
   "metadata": {},
   "outputs": [],
   "source": [
    "model.fit(x_train_validation, y_train_validation)"
   ]
  },
  {
   "cell_type": "code",
   "execution_count": null,
   "metadata": {},
   "outputs": [],
   "source": [
    "model.score(x_test, y_test)"
   ]
  },
  {
   "cell_type": "code",
   "execution_count": null,
   "metadata": {},
   "outputs": [],
   "source": [
    "y_test_pred = model.predict(x_test)\n",
    "y_train_val_pred = model.predict(x_train_validation)"
   ]
  },
  {
   "cell_type": "code",
   "execution_count": null,
   "metadata": {},
   "outputs": [],
   "source": [
    "metrics.r2_score(y_test, y_test_pred)  ## test set\n",
    "metrics.r2_score(y_train_validation, y_train_val_pred)  ## train U validation set"
   ]
  }
 ],
 "metadata": {
  "kernelspec": {
   "display_name": "Python 3",
   "language": "python",
   "name": "python3"
  },
  "language_info": {
   "codemirror_mode": {
    "name": "ipython",
    "version": 3
   },
   "file_extension": ".py",
   "mimetype": "text/x-python",
   "name": "python",
   "nbconvert_exporter": "python",
   "pygments_lexer": "ipython3",
   "version": "3.8.10"
  }
 },
 "nbformat": 4,
 "nbformat_minor": 4
}
